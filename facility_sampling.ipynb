{
 "cells": [
  {
   "cell_type": "markdown",
   "metadata": {},
   "source": [
    "# Introduction"
   ]
  },
  {
   "cell_type": "markdown",
   "metadata": {},
   "source": [
    "This notebook demostrates the use of PAM to undertake facility sampling."
   ]
  },
  {
   "cell_type": "markdown",
   "metadata": {},
   "source": [
    "> Facility sampling allows us to convert activity locations from a zone- to point-basis, compatible with agent-based models' requirements. It allows us to stochastically distribute demand across appropriate candidate locations (typically extracted from OSM), following a set of rules such as land use and supply or cost weights."
   ]
  },
  {
   "cell_type": "code",
   "execution_count": 1,
   "metadata": {
    "ExecuteTime": {
     "end_time": "2021-01-26T10:50:01.994006Z",
     "start_time": "2021-01-26T10:50:00.941819Z"
    }
   },
   "outputs": [],
   "source": [
    "import pandas as pd\n",
    "import numpy as np\n",
    "import os\n",
    "import geopandas as gp\n",
    "import matplotlib.pyplot as plt\n",
    "from shapely.geometry import Polygon, Point"
   ]
  },
  {
   "cell_type": "code",
   "execution_count": 2,
   "metadata": {
    "ExecuteTime": {
     "end_time": "2021-01-26T10:50:02.089681Z",
     "start_time": "2021-01-26T10:50:01.994927Z"
    }
   },
   "outputs": [],
   "source": [
    "%load_ext autoreload\n",
    "%autoreload 2"
   ]
  },
  {
   "cell_type": "code",
   "execution_count": 3,
   "metadata": {
    "ExecuteTime": {
     "end_time": "2021-01-26T10:50:02.270194Z",
     "start_time": "2021-01-26T10:50:02.091708Z"
    }
   },
   "outputs": [],
   "source": [
    "import pam\n",
    "\n",
    "from pam.samplers import facility"
   ]
  },
  {
   "cell_type": "markdown",
   "metadata": {},
   "source": [
    "# Data"
   ]
  },
  {
   "cell_type": "markdown",
   "metadata": {},
   "source": [
    "## Population"
   ]
  },
  {
   "cell_type": "markdown",
   "metadata": {},
   "source": [
    "Load a dummy population to PAM:"
   ]
  },
  {
   "cell_type": "code",
   "execution_count": 4,
   "metadata": {
    "ExecuteTime": {
     "end_time": "2021-01-26T10:50:04.833385Z",
     "start_time": "2021-01-26T10:50:02.272208Z"
    }
   },
   "outputs": [],
   "source": [
    "from pam import read"
   ]
  },
  {
   "cell_type": "code",
   "execution_count": 5,
   "metadata": {
    "ExecuteTime": {
     "end_time": "2021-01-26T10:50:05.041971Z",
     "start_time": "2021-01-26T10:50:04.834334Z"
    }
   },
   "outputs": [],
   "source": [
    "# trips = pd.read_csv('example_data/example_travel_diaries.csv')\n",
    "# attributes = pd.read_csv('example_data/example_attributes.csv')\n",
    "# population = read.load_travel_diary(trips, attributes)"
   ]
  },
  {
   "cell_type": "code",
   "execution_count": 6,
   "metadata": {
    "ExecuteTime": {
     "end_time": "2021-01-26T10:50:05.309582Z",
     "start_time": "2021-01-26T10:50:05.042905Z"
    }
   },
   "outputs": [],
   "source": [
    "trips = pd.read_csv('tests/test_data/simple_travel_diaries.csv')\n",
    "attributes = pd.read_csv('tests/test_data/simple_persons_data.csv')\n",
    "population = read.load_travel_diary(trips, attributes)"
   ]
  },
  {
   "cell_type": "code",
   "execution_count": 7,
   "metadata": {
    "ExecuteTime": {
     "end_time": "2021-01-26T10:50:05.507722Z",
     "start_time": "2021-01-26T10:50:05.311245Z"
    }
   },
   "outputs": [
    {
     "name": "stdout",
     "output_type": "stream",
     "text": [
      "Population: 23 people in 20 households.\n"
     ]
    }
   ],
   "source": [
    "print(population)"
   ]
  },
  {
   "cell_type": "code",
   "execution_count": 8,
   "metadata": {
    "ExecuteTime": {
     "end_time": "2021-01-26T10:50:05.700211Z",
     "start_time": "2021-01-26T10:50:05.510716Z"
    }
   },
   "outputs": [],
   "source": [
    "# population = read.load_travel_diary(\n",
    "#     trip_diary=trips,\n",
    "#     person_attributes=people_expanded,\n",
    "#     hh_attributes=hhs_expanded\n",
    "# )"
   ]
  },
  {
   "cell_type": "code",
   "execution_count": 9,
   "metadata": {
    "ExecuteTime": {
     "end_time": "2021-01-26T10:50:05.895722Z",
     "start_time": "2021-01-26T10:50:05.702204Z"
    }
   },
   "outputs": [
    {
     "data": {
      "text/html": [
       "<div>\n",
       "<style scoped>\n",
       "    .dataframe tbody tr th:only-of-type {\n",
       "        vertical-align: middle;\n",
       "    }\n",
       "\n",
       "    .dataframe tbody tr th {\n",
       "        vertical-align: top;\n",
       "    }\n",
       "\n",
       "    .dataframe thead th {\n",
       "        text-align: right;\n",
       "    }\n",
       "</style>\n",
       "<table border=\"1\" class=\"dataframe\">\n",
       "  <thead>\n",
       "    <tr style=\"text-align: right;\">\n",
       "      <th></th>\n",
       "      <th>pid</th>\n",
       "      <th>hid</th>\n",
       "      <th>seq</th>\n",
       "      <th>hzone</th>\n",
       "      <th>ozone</th>\n",
       "      <th>dzone</th>\n",
       "      <th>purp</th>\n",
       "      <th>mode</th>\n",
       "      <th>tst</th>\n",
       "      <th>tet</th>\n",
       "      <th>freq</th>\n",
       "    </tr>\n",
       "  </thead>\n",
       "  <tbody>\n",
       "    <tr>\n",
       "      <th>0</th>\n",
       "      <td>0</td>\n",
       "      <td>0</td>\n",
       "      <td>1</td>\n",
       "      <td>a</td>\n",
       "      <td>a</td>\n",
       "      <td>b</td>\n",
       "      <td>work</td>\n",
       "      <td>car</td>\n",
       "      <td>500</td>\n",
       "      <td>530</td>\n",
       "      <td>10</td>\n",
       "    </tr>\n",
       "    <tr>\n",
       "      <th>1</th>\n",
       "      <td>0</td>\n",
       "      <td>0</td>\n",
       "      <td>2</td>\n",
       "      <td>a</td>\n",
       "      <td>b</td>\n",
       "      <td>a</td>\n",
       "      <td>work</td>\n",
       "      <td>car</td>\n",
       "      <td>1000</td>\n",
       "      <td>1030</td>\n",
       "      <td>10</td>\n",
       "    </tr>\n",
       "    <tr>\n",
       "      <th>2</th>\n",
       "      <td>1</td>\n",
       "      <td>0</td>\n",
       "      <td>1</td>\n",
       "      <td>a</td>\n",
       "      <td>a</td>\n",
       "      <td>b</td>\n",
       "      <td>work</td>\n",
       "      <td>car</td>\n",
       "      <td>500</td>\n",
       "      <td>530</td>\n",
       "      <td>10</td>\n",
       "    </tr>\n",
       "    <tr>\n",
       "      <th>3</th>\n",
       "      <td>1</td>\n",
       "      <td>0</td>\n",
       "      <td>2</td>\n",
       "      <td>a</td>\n",
       "      <td>b</td>\n",
       "      <td>a</td>\n",
       "      <td>work</td>\n",
       "      <td>car</td>\n",
       "      <td>800</td>\n",
       "      <td>830</td>\n",
       "      <td>10</td>\n",
       "    </tr>\n",
       "    <tr>\n",
       "      <th>4</th>\n",
       "      <td>1</td>\n",
       "      <td>0</td>\n",
       "      <td>3</td>\n",
       "      <td>a</td>\n",
       "      <td>a</td>\n",
       "      <td>c</td>\n",
       "      <td>other</td>\n",
       "      <td>car</td>\n",
       "      <td>1000</td>\n",
       "      <td>1030</td>\n",
       "      <td>10</td>\n",
       "    </tr>\n",
       "  </tbody>\n",
       "</table>\n",
       "</div>"
      ],
      "text/plain": [
       "   pid  hid  seq hzone ozone dzone   purp mode   tst   tet  freq\n",
       "0    0    0    1     a     a     b   work  car   500   530    10\n",
       "1    0    0    2     a     b     a   work  car  1000  1030    10\n",
       "2    1    0    1     a     a     b   work  car   500   530    10\n",
       "3    1    0    2     a     b     a   work  car   800   830    10\n",
       "4    1    0    3     a     a     c  other  car  1000  1030    10"
      ]
     },
     "execution_count": 9,
     "metadata": {},
     "output_type": "execute_result"
    }
   ],
   "source": [
    "trips.head()"
   ]
  },
  {
   "cell_type": "code",
   "execution_count": 10,
   "metadata": {
    "ExecuteTime": {
     "end_time": "2021-01-26T10:50:06.086214Z",
     "start_time": "2021-01-26T10:50:05.896718Z"
    }
   },
   "outputs": [
    {
     "data": {
      "text/html": [
       "<div>\n",
       "<style scoped>\n",
       "    .dataframe tbody tr th:only-of-type {\n",
       "        vertical-align: middle;\n",
       "    }\n",
       "\n",
       "    .dataframe tbody tr th {\n",
       "        vertical-align: top;\n",
       "    }\n",
       "\n",
       "    .dataframe thead th {\n",
       "        text-align: right;\n",
       "    }\n",
       "</style>\n",
       "<table border=\"1\" class=\"dataframe\">\n",
       "  <thead>\n",
       "    <tr style=\"text-align: right;\">\n",
       "      <th></th>\n",
       "      <th>pid</th>\n",
       "      <th>hsize</th>\n",
       "      <th>car</th>\n",
       "      <th>inc</th>\n",
       "      <th>hstr</th>\n",
       "      <th>gender</th>\n",
       "      <th>age</th>\n",
       "      <th>race</th>\n",
       "      <th>license</th>\n",
       "      <th>job</th>\n",
       "      <th>occ</th>\n",
       "    </tr>\n",
       "  </thead>\n",
       "  <tbody>\n",
       "    <tr>\n",
       "      <th>0</th>\n",
       "      <td>0</td>\n",
       "      <td>3</td>\n",
       "      <td>car1</td>\n",
       "      <td>inc56</td>\n",
       "      <td>unknown</td>\n",
       "      <td>male</td>\n",
       "      <td>10</td>\n",
       "      <td>unknown</td>\n",
       "      <td>pdlcar</td>\n",
       "      <td>ft</td>\n",
       "      <td>occ1</td>\n",
       "    </tr>\n",
       "    <tr>\n",
       "      <th>1</th>\n",
       "      <td>1</td>\n",
       "      <td>3</td>\n",
       "      <td>car1</td>\n",
       "      <td>inc56</td>\n",
       "      <td>unknown</td>\n",
       "      <td>female</td>\n",
       "      <td>20</td>\n",
       "      <td>unknown</td>\n",
       "      <td>pdlcar</td>\n",
       "      <td>ft</td>\n",
       "      <td>occ2</td>\n",
       "    </tr>\n",
       "    <tr>\n",
       "      <th>2</th>\n",
       "      <td>2</td>\n",
       "      <td>3</td>\n",
       "      <td>car1</td>\n",
       "      <td>inc56</td>\n",
       "      <td>unknown</td>\n",
       "      <td>male</td>\n",
       "      <td>&lt;10</td>\n",
       "      <td>unknown</td>\n",
       "      <td>pdlcar</td>\n",
       "      <td>ft</td>\n",
       "      <td>occ3</td>\n",
       "    </tr>\n",
       "    <tr>\n",
       "      <th>3</th>\n",
       "      <td>3</td>\n",
       "      <td>2</td>\n",
       "      <td>car0</td>\n",
       "      <td>inc34</td>\n",
       "      <td>2</td>\n",
       "      <td>unknown</td>\n",
       "      <td>30</td>\n",
       "      <td>unknown</td>\n",
       "      <td>other</td>\n",
       "      <td>pt</td>\n",
       "      <td>unknown</td>\n",
       "    </tr>\n",
       "    <tr>\n",
       "      <th>4</th>\n",
       "      <td>4</td>\n",
       "      <td>2</td>\n",
       "      <td>car0</td>\n",
       "      <td>inc34</td>\n",
       "      <td>2</td>\n",
       "      <td>female</td>\n",
       "      <td>30</td>\n",
       "      <td>white</td>\n",
       "      <td>other</td>\n",
       "      <td>ft</td>\n",
       "      <td>occ4</td>\n",
       "    </tr>\n",
       "  </tbody>\n",
       "</table>\n",
       "</div>"
      ],
      "text/plain": [
       "   pid  hsize   car    inc     hstr   gender  age     race license job  \\\n",
       "0    0      3  car1  inc56  unknown     male   10  unknown  pdlcar  ft   \n",
       "1    1      3  car1  inc56  unknown   female   20  unknown  pdlcar  ft   \n",
       "2    2      3  car1  inc56  unknown     male  <10  unknown  pdlcar  ft   \n",
       "3    3      2  car0  inc34        2  unknown   30  unknown   other  pt   \n",
       "4    4      2  car0  inc34        2   female   30    white   other  ft   \n",
       "\n",
       "       occ  \n",
       "0     occ1  \n",
       "1     occ2  \n",
       "2     occ3  \n",
       "3  unknown  \n",
       "4     occ4  "
      ]
     },
     "execution_count": 10,
     "metadata": {},
     "output_type": "execute_result"
    }
   ],
   "source": [
    "attributes.head()"
   ]
  },
  {
   "cell_type": "code",
   "execution_count": 11,
   "metadata": {
    "ExecuteTime": {
     "end_time": "2021-01-26T10:50:06.276935Z",
     "start_time": "2021-01-26T10:50:06.087210Z"
    }
   },
   "outputs": [],
   "source": [
    "# from pam.plot.stats import plot_activity_times, plot_leg_times\n",
    "# plot_activity_times(population)"
   ]
  },
  {
   "cell_type": "code",
   "execution_count": 12,
   "metadata": {
    "ExecuteTime": {
     "end_time": "2021-01-26T10:50:06.461259Z",
     "start_time": "2021-01-26T10:50:06.278701Z"
    }
   },
   "outputs": [
    {
     "data": {
      "text/plain": [
       "[<pam.activity.Activity at 0x1e9f6cf95c0>,\n",
       " <pam.activity.Leg at 0x1e9f6cf96a0>,\n",
       " <pam.activity.Activity at 0x1e9f6cf9748>,\n",
       " <pam.activity.Leg at 0x1e9f6cf9828>,\n",
       " <pam.activity.Activity at 0x1e9f6cf98d0>,\n",
       " <pam.activity.Leg at 0x1e9f6cf99b0>,\n",
       " <pam.activity.Activity at 0x1e9f6cf9a58>]"
      ]
     },
     "execution_count": 12,
     "metadata": {},
     "output_type": "execute_result"
    }
   ],
   "source": [
    "[x for x in population.random_person().plan]"
   ]
  },
  {
   "cell_type": "code",
   "execution_count": 13,
   "metadata": {
    "ExecuteTime": {
     "end_time": "2021-01-26T10:50:06.652705Z",
     "start_time": "2021-01-26T10:50:06.462212Z"
    }
   },
   "outputs": [
    {
     "name": "stdout",
     "output_type": "stream",
     "text": [
      "Activity(0 act:shop, location:b, time:00:00:00 --> 08:20:00, duration:8:20:00)\n",
      "Activity(1 act:other, location:c, time:08:50:00 --> 13:20:00, duration:4:30:00)\n",
      "Activity(2 act:home, location:a, time:13:50:00 --> 00:00:00, duration:10:10:00)\n"
     ]
    }
   ],
   "source": [
    "for act in population.random_person().plan.activities:\n",
    "    print(act)"
   ]
  },
  {
   "cell_type": "code",
   "execution_count": 14,
   "metadata": {
    "ExecuteTime": {
     "end_time": "2021-01-26T10:50:06.839209Z",
     "start_time": "2021-01-26T10:50:06.654700Z"
    }
   },
   "outputs": [
    {
     "name": "stdout",
     "output_type": "stream",
     "text": [
      "Activity(0 act:escort, location:b, time:00:00:00 --> 08:20:00, duration:8:20:00)\n",
      "Leg(0 mode:car, area:b --> b, time:08:20:00 --> 08:50:00, duration:0:30:00)\n",
      "Activity(1 act:shop, location:b, time:08:50:00 --> 13:20:00, duration:4:30:00)\n",
      "Leg(1 mode:car, area:b --> a, time:13:20:00 --> 13:50:00, duration:0:30:00)\n",
      "Activity(2 act:home, location:a, time:13:50:00 --> 15:00:00, duration:1:10:00)\n",
      "Leg(2 mode:car, area:a --> b, time:15:00:00 --> 15:30:00, duration:0:30:00)\n",
      "Activity(3 act:escort, location:b, time:15:30:00 --> 00:00:00, duration:8:30:00)\n"
     ]
    }
   ],
   "source": [
    "for i in population.random_person().plan:\n",
    "    print(i)"
   ]
  },
  {
   "cell_type": "code",
   "execution_count": 15,
   "metadata": {
    "ExecuteTime": {
     "end_time": "2021-01-26T10:50:07.030725Z",
     "start_time": "2021-01-26T10:50:06.840216Z"
    }
   },
   "outputs": [
    {
     "name": "stdout",
     "output_type": "stream",
     "text": [
      "Activity(0 act:work, location:b, time:00:00:00 --> 08:20:00, duration:8:20:00)\n",
      "Activity(1 act:shop, location:b, time:08:50:00 --> 13:20:00, duration:4:30:00)\n",
      "Activity(2 act:home, location:a, time:13:50:00 --> 15:00:00, duration:1:10:00)\n",
      "Activity(3 act:work, location:b, time:15:30:00 --> 00:00:00, duration:8:30:00)\n"
     ]
    },
    {
     "data": {
      "text/plain": [
       "[None, None, None, None]"
      ]
     },
     "execution_count": 15,
     "metadata": {},
     "output_type": "execute_result"
    }
   ],
   "source": [
    "[print(x) for x in population.random_person().plan.activities]"
   ]
  },
  {
   "cell_type": "code",
   "execution_count": 16,
   "metadata": {
    "ExecuteTime": {
     "end_time": "2021-01-26T10:50:07.214215Z",
     "start_time": "2021-01-26T10:50:07.032696Z"
    }
   },
   "outputs": [
    {
     "name": "stdout",
     "output_type": "stream",
     "text": [
      "<generator object activities at 0x000001E9F6CFD048>\n"
     ]
    }
   ],
   "source": [
    "print(population.random_person().plan.activities)"
   ]
  },
  {
   "cell_type": "code",
   "execution_count": 17,
   "metadata": {
    "ExecuteTime": {
     "end_time": "2021-01-26T10:50:07.406699Z",
     "start_time": "2021-01-26T10:50:07.216205Z"
    }
   },
   "outputs": [
    {
     "name": "stdout",
     "output_type": "stream",
     "text": [
      "<pam.activity.Plan object at 0x000001E9F6CEE9E8>\n"
     ]
    }
   ],
   "source": [
    "print(population.random_person().plan)"
   ]
  },
  {
   "cell_type": "markdown",
   "metadata": {},
   "source": [
    "## Facilities"
   ]
  },
  {
   "cell_type": "code",
   "execution_count": 18,
   "metadata": {
    "ExecuteTime": {
     "end_time": "2021-01-26T10:50:07.708579Z",
     "start_time": "2021-01-26T10:50:07.407695Z"
    }
   },
   "outputs": [],
   "source": [
    "facilities = gp.read_file(os.path.join('sandbox','dummy_facilities.geojson'))\n",
    "facilities['activity'] = ['home','home','work']\n",
    "\n",
    "zones = gp.read_file(os.path.join('sandbox','dummy_zones.geojson'))\n",
    "zones.set_index('zone', inplace = True)\n"
   ]
  },
  {
   "cell_type": "code",
   "execution_count": 19,
   "metadata": {
    "ExecuteTime": {
     "end_time": "2021-01-26T10:50:07.901292Z",
     "start_time": "2021-01-26T10:50:07.709239Z"
    }
   },
   "outputs": [
    {
     "data": {
      "text/html": [
       "<div>\n",
       "<style scoped>\n",
       "    .dataframe tbody tr th:only-of-type {\n",
       "        vertical-align: middle;\n",
       "    }\n",
       "\n",
       "    .dataframe tbody tr th {\n",
       "        vertical-align: top;\n",
       "    }\n",
       "\n",
       "    .dataframe thead th {\n",
       "        text-align: right;\n",
       "    }\n",
       "</style>\n",
       "<table border=\"1\" class=\"dataframe\">\n",
       "  <thead>\n",
       "    <tr style=\"text-align: right;\">\n",
       "      <th></th>\n",
       "      <th>id</th>\n",
       "      <th>tags</th>\n",
       "      <th>features</th>\n",
       "      <th>geometry</th>\n",
       "      <th>activity</th>\n",
       "    </tr>\n",
       "  </thead>\n",
       "  <tbody>\n",
       "    <tr>\n",
       "      <th>0</th>\n",
       "      <td>0</td>\n",
       "      <td>building:house</td>\n",
       "      <td>{'acts': ['home'], 'units': 1, 'floors': 2, 'a...</td>\n",
       "      <td>POINT (1.00000 1.00000)</td>\n",
       "      <td>home</td>\n",
       "    </tr>\n",
       "    <tr>\n",
       "      <th>1</th>\n",
       "      <td>7</td>\n",
       "      <td>building:yes,landuse:residential</td>\n",
       "      <td>{'acts': ['home'], 'units': 20, 'floors': 2, '...</td>\n",
       "      <td>POINT (0.50000 0.50000)</td>\n",
       "      <td>home</td>\n",
       "    </tr>\n",
       "    <tr>\n",
       "      <th>2</th>\n",
       "      <td>19</td>\n",
       "      <td>building:yes,building:hospital,amenity:hospita...</td>\n",
       "      <td>{'acts': ['work', 'health', 'food_shop'], 'flo...</td>\n",
       "      <td>POINT (2.50000 2.50000)</td>\n",
       "      <td>work</td>\n",
       "    </tr>\n",
       "  </tbody>\n",
       "</table>\n",
       "</div>"
      ],
      "text/plain": [
       "   id                                               tags  \\\n",
       "0   0                                     building:house   \n",
       "1   7                   building:yes,landuse:residential   \n",
       "2  19  building:yes,building:hospital,amenity:hospita...   \n",
       "\n",
       "                                            features                 geometry  \\\n",
       "0  {'acts': ['home'], 'units': 1, 'floors': 2, 'a...  POINT (1.00000 1.00000)   \n",
       "1  {'acts': ['home'], 'units': 20, 'floors': 2, '...  POINT (0.50000 0.50000)   \n",
       "2  {'acts': ['work', 'health', 'food_shop'], 'flo...  POINT (2.50000 2.50000)   \n",
       "\n",
       "  activity  \n",
       "0     home  \n",
       "1     home  \n",
       "2     work  "
      ]
     },
     "execution_count": 19,
     "metadata": {},
     "output_type": "execute_result"
    }
   ],
   "source": [
    "facilities"
   ]
  },
  {
   "cell_type": "code",
   "execution_count": 20,
   "metadata": {
    "ExecuteTime": {
     "end_time": "2021-01-26T10:50:08.088769Z",
     "start_time": "2021-01-26T10:50:07.903262Z"
    }
   },
   "outputs": [
    {
     "data": {
      "text/html": [
       "<div>\n",
       "<style scoped>\n",
       "    .dataframe tbody tr th:only-of-type {\n",
       "        vertical-align: middle;\n",
       "    }\n",
       "\n",
       "    .dataframe tbody tr th {\n",
       "        vertical-align: top;\n",
       "    }\n",
       "\n",
       "    .dataframe thead th {\n",
       "        text-align: right;\n",
       "    }\n",
       "</style>\n",
       "<table border=\"1\" class=\"dataframe\">\n",
       "  <thead>\n",
       "    <tr style=\"text-align: right;\">\n",
       "      <th></th>\n",
       "      <th>id</th>\n",
       "      <th>geometry</th>\n",
       "    </tr>\n",
       "    <tr>\n",
       "      <th>zone</th>\n",
       "      <th></th>\n",
       "      <th></th>\n",
       "    </tr>\n",
       "  </thead>\n",
       "  <tbody>\n",
       "    <tr>\n",
       "      <th>a</th>\n",
       "      <td>1</td>\n",
       "      <td>MULTIPOLYGON (((1.11538 -0.59699, -0.58974 0.2...</td>\n",
       "    </tr>\n",
       "    <tr>\n",
       "      <th>b</th>\n",
       "      <td>2</td>\n",
       "      <td>MULTIPOLYGON (((1.74359 3.18122, 3.63718 3.279...</td>\n",
       "    </tr>\n",
       "  </tbody>\n",
       "</table>\n",
       "</div>"
      ],
      "text/plain": [
       "      id                                           geometry\n",
       "zone                                                       \n",
       "a      1  MULTIPOLYGON (((1.11538 -0.59699, -0.58974 0.2...\n",
       "b      2  MULTIPOLYGON (((1.74359 3.18122, 3.63718 3.279..."
      ]
     },
     "execution_count": 20,
     "metadata": {},
     "output_type": "execute_result"
    }
   ],
   "source": [
    "zones"
   ]
  },
  {
   "cell_type": "code",
   "execution_count": 21,
   "metadata": {
    "ExecuteTime": {
     "end_time": "2021-01-26T10:50:08.283642Z",
     "start_time": "2021-01-26T10:50:08.089765Z"
    }
   },
   "outputs": [
    {
     "data": {
      "text/html": [
       "<div>\n",
       "<style scoped>\n",
       "    .dataframe tbody tr th:only-of-type {\n",
       "        vertical-align: middle;\n",
       "    }\n",
       "\n",
       "    .dataframe tbody tr th {\n",
       "        vertical-align: top;\n",
       "    }\n",
       "\n",
       "    .dataframe thead th {\n",
       "        text-align: right;\n",
       "    }\n",
       "</style>\n",
       "<table border=\"1\" class=\"dataframe\">\n",
       "  <thead>\n",
       "    <tr style=\"text-align: right;\">\n",
       "      <th></th>\n",
       "      <th>pid</th>\n",
       "      <th>hid</th>\n",
       "      <th>seq</th>\n",
       "      <th>hzone</th>\n",
       "      <th>ozone</th>\n",
       "      <th>dzone</th>\n",
       "      <th>purp</th>\n",
       "      <th>mode</th>\n",
       "      <th>tst</th>\n",
       "      <th>tet</th>\n",
       "      <th>freq</th>\n",
       "    </tr>\n",
       "  </thead>\n",
       "  <tbody>\n",
       "    <tr>\n",
       "      <th>0</th>\n",
       "      <td>0</td>\n",
       "      <td>0</td>\n",
       "      <td>1</td>\n",
       "      <td>a</td>\n",
       "      <td>a</td>\n",
       "      <td>b</td>\n",
       "      <td>work</td>\n",
       "      <td>car</td>\n",
       "      <td>500</td>\n",
       "      <td>530</td>\n",
       "      <td>10</td>\n",
       "    </tr>\n",
       "    <tr>\n",
       "      <th>1</th>\n",
       "      <td>0</td>\n",
       "      <td>0</td>\n",
       "      <td>2</td>\n",
       "      <td>a</td>\n",
       "      <td>b</td>\n",
       "      <td>a</td>\n",
       "      <td>work</td>\n",
       "      <td>car</td>\n",
       "      <td>1000</td>\n",
       "      <td>1030</td>\n",
       "      <td>10</td>\n",
       "    </tr>\n",
       "    <tr>\n",
       "      <th>2</th>\n",
       "      <td>1</td>\n",
       "      <td>0</td>\n",
       "      <td>1</td>\n",
       "      <td>a</td>\n",
       "      <td>a</td>\n",
       "      <td>b</td>\n",
       "      <td>work</td>\n",
       "      <td>car</td>\n",
       "      <td>500</td>\n",
       "      <td>530</td>\n",
       "      <td>10</td>\n",
       "    </tr>\n",
       "    <tr>\n",
       "      <th>3</th>\n",
       "      <td>1</td>\n",
       "      <td>0</td>\n",
       "      <td>2</td>\n",
       "      <td>a</td>\n",
       "      <td>b</td>\n",
       "      <td>a</td>\n",
       "      <td>work</td>\n",
       "      <td>car</td>\n",
       "      <td>800</td>\n",
       "      <td>830</td>\n",
       "      <td>10</td>\n",
       "    </tr>\n",
       "    <tr>\n",
       "      <th>4</th>\n",
       "      <td>1</td>\n",
       "      <td>0</td>\n",
       "      <td>3</td>\n",
       "      <td>a</td>\n",
       "      <td>a</td>\n",
       "      <td>c</td>\n",
       "      <td>other</td>\n",
       "      <td>car</td>\n",
       "      <td>1000</td>\n",
       "      <td>1030</td>\n",
       "      <td>10</td>\n",
       "    </tr>\n",
       "    <tr>\n",
       "      <th>...</th>\n",
       "      <td>...</td>\n",
       "      <td>...</td>\n",
       "      <td>...</td>\n",
       "      <td>...</td>\n",
       "      <td>...</td>\n",
       "      <td>...</td>\n",
       "      <td>...</td>\n",
       "      <td>...</td>\n",
       "      <td>...</td>\n",
       "      <td>...</td>\n",
       "      <td>...</td>\n",
       "    </tr>\n",
       "    <tr>\n",
       "      <th>57</th>\n",
       "      <td>21</td>\n",
       "      <td>18</td>\n",
       "      <td>1</td>\n",
       "      <td>a</td>\n",
       "      <td>b</td>\n",
       "      <td>c</td>\n",
       "      <td>work</td>\n",
       "      <td>car</td>\n",
       "      <td>500</td>\n",
       "      <td>1000</td>\n",
       "      <td>10</td>\n",
       "    </tr>\n",
       "    <tr>\n",
       "      <th>58</th>\n",
       "      <td>21</td>\n",
       "      <td>18</td>\n",
       "      <td>2</td>\n",
       "      <td>a</td>\n",
       "      <td>c</td>\n",
       "      <td>d</td>\n",
       "      <td>work</td>\n",
       "      <td>car</td>\n",
       "      <td>1100</td>\n",
       "      <td>1200</td>\n",
       "      <td>10</td>\n",
       "    </tr>\n",
       "    <tr>\n",
       "      <th>59</th>\n",
       "      <td>22</td>\n",
       "      <td>19</td>\n",
       "      <td>1</td>\n",
       "      <td>a</td>\n",
       "      <td>a</td>\n",
       "      <td>a</td>\n",
       "      <td>shop</td>\n",
       "      <td>car</td>\n",
       "      <td>500</td>\n",
       "      <td>530</td>\n",
       "      <td>10</td>\n",
       "    </tr>\n",
       "    <tr>\n",
       "      <th>60</th>\n",
       "      <td>22</td>\n",
       "      <td>19</td>\n",
       "      <td>2</td>\n",
       "      <td>a</td>\n",
       "      <td>a</td>\n",
       "      <td>b</td>\n",
       "      <td>work</td>\n",
       "      <td>car</td>\n",
       "      <td>600</td>\n",
       "      <td>630</td>\n",
       "      <td>10</td>\n",
       "    </tr>\n",
       "    <tr>\n",
       "      <th>61</th>\n",
       "      <td>22</td>\n",
       "      <td>19</td>\n",
       "      <td>3</td>\n",
       "      <td>a</td>\n",
       "      <td>b</td>\n",
       "      <td>a</td>\n",
       "      <td>work</td>\n",
       "      <td>car</td>\n",
       "      <td>900</td>\n",
       "      <td>945</td>\n",
       "      <td>10</td>\n",
       "    </tr>\n",
       "  </tbody>\n",
       "</table>\n",
       "<p>62 rows × 11 columns</p>\n",
       "</div>"
      ],
      "text/plain": [
       "    pid  hid  seq hzone ozone dzone   purp mode   tst   tet  freq\n",
       "0     0    0    1     a     a     b   work  car   500   530    10\n",
       "1     0    0    2     a     b     a   work  car  1000  1030    10\n",
       "2     1    0    1     a     a     b   work  car   500   530    10\n",
       "3     1    0    2     a     b     a   work  car   800   830    10\n",
       "4     1    0    3     a     a     c  other  car  1000  1030    10\n",
       "..  ...  ...  ...   ...   ...   ...    ...  ...   ...   ...   ...\n",
       "57   21   18    1     a     b     c   work  car   500  1000    10\n",
       "58   21   18    2     a     c     d   work  car  1100  1200    10\n",
       "59   22   19    1     a     a     a   shop  car   500   530    10\n",
       "60   22   19    2     a     a     b   work  car   600   630    10\n",
       "61   22   19    3     a     b     a   work  car   900   945    10\n",
       "\n",
       "[62 rows x 11 columns]"
      ]
     },
     "execution_count": 21,
     "metadata": {},
     "output_type": "execute_result"
    }
   ],
   "source": [
    "trips"
   ]
  },
  {
   "cell_type": "code",
   "execution_count": 22,
   "metadata": {
    "ExecuteTime": {
     "end_time": "2021-01-26T10:50:08.476129Z",
     "start_time": "2021-01-26T10:50:08.285637Z"
    }
   },
   "outputs": [
    {
     "data": {
      "text/plain": [
       "array(['work', 'other', 'shop', 'escort'], dtype=object)"
      ]
     },
     "execution_count": 22,
     "metadata": {},
     "output_type": "execute_result"
    }
   ],
   "source": [
    "trips.purp.unique()"
   ]
  },
  {
   "cell_type": "code",
   "execution_count": 23,
   "metadata": {
    "ExecuteTime": {
     "end_time": "2021-01-26T10:50:08.839904Z",
     "start_time": "2021-01-26T10:50:08.480119Z"
    }
   },
   "outputs": [
    {
     "data": {
      "image/png": "[encoded data removed]",
      "text/plain": [
       "<Figure size 432x288 with 1 Axes>"
      ]
     },
     "metadata": {
      "needs_background": "light"
     },
     "output_type": "display_data"
    }
   ],
   "source": [
    "# plot facilities\n",
    "fig, ax = plt.subplots(1,1)\n",
    "zones.boundary.plot(ax=ax)\n",
    "facilities.plot(ax=ax)\n",
    "plt.show()"
   ]
  },
  {
   "cell_type": "code",
   "execution_count": 24,
   "metadata": {
    "ExecuteTime": {
     "end_time": "2021-01-26T10:50:09.033363Z",
     "start_time": "2021-01-26T10:50:08.840875Z"
    }
   },
   "outputs": [
    {
     "data": {
      "text/html": [
       "<div>\n",
       "<style scoped>\n",
       "    .dataframe tbody tr th:only-of-type {\n",
       "        vertical-align: middle;\n",
       "    }\n",
       "\n",
       "    .dataframe tbody tr th {\n",
       "        vertical-align: top;\n",
       "    }\n",
       "\n",
       "    .dataframe thead th {\n",
       "        text-align: right;\n",
       "    }\n",
       "</style>\n",
       "<table border=\"1\" class=\"dataframe\">\n",
       "  <thead>\n",
       "    <tr style=\"text-align: right;\">\n",
       "      <th></th>\n",
       "      <th>id</th>\n",
       "      <th>geometry</th>\n",
       "    </tr>\n",
       "    <tr>\n",
       "      <th>zone</th>\n",
       "      <th></th>\n",
       "      <th></th>\n",
       "    </tr>\n",
       "  </thead>\n",
       "  <tbody>\n",
       "    <tr>\n",
       "      <th>a</th>\n",
       "      <td>1</td>\n",
       "      <td>MULTIPOLYGON (((1.11538 -0.59699, -0.58974 0.2...</td>\n",
       "    </tr>\n",
       "    <tr>\n",
       "      <th>b</th>\n",
       "      <td>2</td>\n",
       "      <td>MULTIPOLYGON (((1.74359 3.18122, 3.63718 3.279...</td>\n",
       "    </tr>\n",
       "  </tbody>\n",
       "</table>\n",
       "</div>"
      ],
      "text/plain": [
       "      id                                           geometry\n",
       "zone                                                       \n",
       "a      1  MULTIPOLYGON (((1.11538 -0.59699, -0.58974 0.2...\n",
       "b      2  MULTIPOLYGON (((1.74359 3.18122, 3.63718 3.279..."
      ]
     },
     "execution_count": 24,
     "metadata": {},
     "output_type": "execute_result"
    }
   ],
   "source": [
    "zones"
   ]
  },
  {
   "cell_type": "markdown",
   "metadata": {},
   "source": [
    "## Generate spatial data"
   ]
  },
  {
   "cell_type": "code",
   "execution_count": 25,
   "metadata": {
    "ExecuteTime": {
     "end_time": "2021-01-26T10:50:09.238842Z",
     "start_time": "2021-01-26T10:50:09.036361Z"
    }
   },
   "outputs": [
    {
     "data": {
      "text/html": [
       "<div>\n",
       "<style scoped>\n",
       "    .dataframe tbody tr th:only-of-type {\n",
       "        vertical-align: middle;\n",
       "    }\n",
       "\n",
       "    .dataframe tbody tr th {\n",
       "        vertical-align: top;\n",
       "    }\n",
       "\n",
       "    .dataframe thead th {\n",
       "        text-align: right;\n",
       "    }\n",
       "</style>\n",
       "<table border=\"1\" class=\"dataframe\">\n",
       "  <thead>\n",
       "    <tr style=\"text-align: right;\">\n",
       "      <th></th>\n",
       "      <th>pid</th>\n",
       "      <th>hid</th>\n",
       "      <th>seq</th>\n",
       "      <th>hzone</th>\n",
       "      <th>ozone</th>\n",
       "      <th>dzone</th>\n",
       "      <th>purp</th>\n",
       "      <th>mode</th>\n",
       "      <th>tst</th>\n",
       "      <th>tet</th>\n",
       "      <th>freq</th>\n",
       "    </tr>\n",
       "  </thead>\n",
       "  <tbody>\n",
       "    <tr>\n",
       "      <th>0</th>\n",
       "      <td>0</td>\n",
       "      <td>0</td>\n",
       "      <td>1</td>\n",
       "      <td>a</td>\n",
       "      <td>a</td>\n",
       "      <td>b</td>\n",
       "      <td>work</td>\n",
       "      <td>car</td>\n",
       "      <td>500</td>\n",
       "      <td>530</td>\n",
       "      <td>10</td>\n",
       "    </tr>\n",
       "    <tr>\n",
       "      <th>1</th>\n",
       "      <td>0</td>\n",
       "      <td>0</td>\n",
       "      <td>2</td>\n",
       "      <td>a</td>\n",
       "      <td>b</td>\n",
       "      <td>a</td>\n",
       "      <td>work</td>\n",
       "      <td>car</td>\n",
       "      <td>1000</td>\n",
       "      <td>1030</td>\n",
       "      <td>10</td>\n",
       "    </tr>\n",
       "    <tr>\n",
       "      <th>2</th>\n",
       "      <td>1</td>\n",
       "      <td>0</td>\n",
       "      <td>1</td>\n",
       "      <td>a</td>\n",
       "      <td>a</td>\n",
       "      <td>b</td>\n",
       "      <td>work</td>\n",
       "      <td>car</td>\n",
       "      <td>500</td>\n",
       "      <td>530</td>\n",
       "      <td>10</td>\n",
       "    </tr>\n",
       "    <tr>\n",
       "      <th>3</th>\n",
       "      <td>1</td>\n",
       "      <td>0</td>\n",
       "      <td>2</td>\n",
       "      <td>a</td>\n",
       "      <td>b</td>\n",
       "      <td>a</td>\n",
       "      <td>work</td>\n",
       "      <td>car</td>\n",
       "      <td>800</td>\n",
       "      <td>830</td>\n",
       "      <td>10</td>\n",
       "    </tr>\n",
       "    <tr>\n",
       "      <th>4</th>\n",
       "      <td>1</td>\n",
       "      <td>0</td>\n",
       "      <td>3</td>\n",
       "      <td>a</td>\n",
       "      <td>a</td>\n",
       "      <td>c</td>\n",
       "      <td>other</td>\n",
       "      <td>car</td>\n",
       "      <td>1000</td>\n",
       "      <td>1030</td>\n",
       "      <td>10</td>\n",
       "    </tr>\n",
       "    <tr>\n",
       "      <th>...</th>\n",
       "      <td>...</td>\n",
       "      <td>...</td>\n",
       "      <td>...</td>\n",
       "      <td>...</td>\n",
       "      <td>...</td>\n",
       "      <td>...</td>\n",
       "      <td>...</td>\n",
       "      <td>...</td>\n",
       "      <td>...</td>\n",
       "      <td>...</td>\n",
       "      <td>...</td>\n",
       "    </tr>\n",
       "    <tr>\n",
       "      <th>57</th>\n",
       "      <td>21</td>\n",
       "      <td>18</td>\n",
       "      <td>1</td>\n",
       "      <td>a</td>\n",
       "      <td>b</td>\n",
       "      <td>c</td>\n",
       "      <td>work</td>\n",
       "      <td>car</td>\n",
       "      <td>500</td>\n",
       "      <td>1000</td>\n",
       "      <td>10</td>\n",
       "    </tr>\n",
       "    <tr>\n",
       "      <th>58</th>\n",
       "      <td>21</td>\n",
       "      <td>18</td>\n",
       "      <td>2</td>\n",
       "      <td>a</td>\n",
       "      <td>c</td>\n",
       "      <td>d</td>\n",
       "      <td>work</td>\n",
       "      <td>car</td>\n",
       "      <td>1100</td>\n",
       "      <td>1200</td>\n",
       "      <td>10</td>\n",
       "    </tr>\n",
       "    <tr>\n",
       "      <th>59</th>\n",
       "      <td>22</td>\n",
       "      <td>19</td>\n",
       "      <td>1</td>\n",
       "      <td>a</td>\n",
       "      <td>a</td>\n",
       "      <td>a</td>\n",
       "      <td>shop</td>\n",
       "      <td>car</td>\n",
       "      <td>500</td>\n",
       "      <td>530</td>\n",
       "      <td>10</td>\n",
       "    </tr>\n",
       "    <tr>\n",
       "      <th>60</th>\n",
       "      <td>22</td>\n",
       "      <td>19</td>\n",
       "      <td>2</td>\n",
       "      <td>a</td>\n",
       "      <td>a</td>\n",
       "      <td>b</td>\n",
       "      <td>work</td>\n",
       "      <td>car</td>\n",
       "      <td>600</td>\n",
       "      <td>630</td>\n",
       "      <td>10</td>\n",
       "    </tr>\n",
       "    <tr>\n",
       "      <th>61</th>\n",
       "      <td>22</td>\n",
       "      <td>19</td>\n",
       "      <td>3</td>\n",
       "      <td>a</td>\n",
       "      <td>b</td>\n",
       "      <td>a</td>\n",
       "      <td>work</td>\n",
       "      <td>car</td>\n",
       "      <td>900</td>\n",
       "      <td>945</td>\n",
       "      <td>10</td>\n",
       "    </tr>\n",
       "  </tbody>\n",
       "</table>\n",
       "<p>62 rows × 11 columns</p>\n",
       "</div>"
      ],
      "text/plain": [
       "    pid  hid  seq hzone ozone dzone   purp mode   tst   tet  freq\n",
       "0     0    0    1     a     a     b   work  car   500   530    10\n",
       "1     0    0    2     a     b     a   work  car  1000  1030    10\n",
       "2     1    0    1     a     a     b   work  car   500   530    10\n",
       "3     1    0    2     a     b     a   work  car   800   830    10\n",
       "4     1    0    3     a     a     c  other  car  1000  1030    10\n",
       "..  ...  ...  ...   ...   ...   ...    ...  ...   ...   ...   ...\n",
       "57   21   18    1     a     b     c   work  car   500  1000    10\n",
       "58   21   18    2     a     c     d   work  car  1100  1200    10\n",
       "59   22   19    1     a     a     a   shop  car   500   530    10\n",
       "60   22   19    2     a     a     b   work  car   600   630    10\n",
       "61   22   19    3     a     b     a   work  car   900   945    10\n",
       "\n",
       "[62 rows x 11 columns]"
      ]
     },
     "execution_count": 25,
     "metadata": {},
     "output_type": "execute_result"
    }
   ],
   "source": [
    "trips"
   ]
  },
  {
   "cell_type": "code",
   "execution_count": 26,
   "metadata": {
    "ExecuteTime": {
     "end_time": "2021-01-26T10:50:09.427349Z",
     "start_time": "2021-01-26T10:50:09.239840Z"
    }
   },
   "outputs": [
    {
     "data": {
      "text/plain": [
       "array(['work', 'other', 'shop', 'escort'], dtype=object)"
      ]
     },
     "execution_count": 26,
     "metadata": {},
     "output_type": "execute_result"
    }
   ],
   "source": [
    "trips.purp.unique()"
   ]
  },
  {
   "cell_type": "code",
   "execution_count": 27,
   "metadata": {
    "ExecuteTime": {
     "end_time": "2021-01-26T10:50:09.619844Z",
     "start_time": "2021-01-26T10:50:09.429337Z"
    }
   },
   "outputs": [],
   "source": [
    "zone_list = ['a','b','c','d','e','f','g','h','i']\n",
    "activities_list = ['home','work', 'other', 'shop', 'escort']"
   ]
  },
  {
   "cell_type": "code",
   "execution_count": 28,
   "metadata": {
    "ExecuteTime": {
     "end_time": "2021-01-26T10:50:09.811341Z",
     "start_time": "2021-01-26T10:50:09.621823Z"
    }
   },
   "outputs": [
    {
     "data": {
      "text/html": [
       "<div>\n",
       "<style scoped>\n",
       "    .dataframe tbody tr th:only-of-type {\n",
       "        vertical-align: middle;\n",
       "    }\n",
       "\n",
       "    .dataframe tbody tr th {\n",
       "        vertical-align: top;\n",
       "    }\n",
       "\n",
       "    .dataframe thead th {\n",
       "        text-align: right;\n",
       "    }\n",
       "</style>\n",
       "<table border=\"1\" class=\"dataframe\">\n",
       "  <thead>\n",
       "    <tr style=\"text-align: right;\">\n",
       "      <th></th>\n",
       "      <th>id</th>\n",
       "      <th>tags</th>\n",
       "      <th>features</th>\n",
       "      <th>geometry</th>\n",
       "      <th>activity</th>\n",
       "    </tr>\n",
       "  </thead>\n",
       "  <tbody>\n",
       "    <tr>\n",
       "      <th>0</th>\n",
       "      <td>0</td>\n",
       "      <td>building:house</td>\n",
       "      <td>{'acts': ['home'], 'units': 1, 'floors': 2, 'a...</td>\n",
       "      <td>POINT (1.00000 1.00000)</td>\n",
       "      <td>home</td>\n",
       "    </tr>\n",
       "    <tr>\n",
       "      <th>1</th>\n",
       "      <td>7</td>\n",
       "      <td>building:yes,landuse:residential</td>\n",
       "      <td>{'acts': ['home'], 'units': 20, 'floors': 2, '...</td>\n",
       "      <td>POINT (0.50000 0.50000)</td>\n",
       "      <td>home</td>\n",
       "    </tr>\n",
       "    <tr>\n",
       "      <th>2</th>\n",
       "      <td>19</td>\n",
       "      <td>building:yes,building:hospital,amenity:hospita...</td>\n",
       "      <td>{'acts': ['work', 'health', 'food_shop'], 'flo...</td>\n",
       "      <td>POINT (2.50000 2.50000)</td>\n",
       "      <td>work</td>\n",
       "    </tr>\n",
       "  </tbody>\n",
       "</table>\n",
       "</div>"
      ],
      "text/plain": [
       "   id                                               tags  \\\n",
       "0   0                                     building:house   \n",
       "1   7                   building:yes,landuse:residential   \n",
       "2  19  building:yes,building:hospital,amenity:hospita...   \n",
       "\n",
       "                                            features                 geometry  \\\n",
       "0  {'acts': ['home'], 'units': 1, 'floors': 2, 'a...  POINT (1.00000 1.00000)   \n",
       "1  {'acts': ['home'], 'units': 20, 'floors': 2, '...  POINT (0.50000 0.50000)   \n",
       "2  {'acts': ['work', 'health', 'food_shop'], 'flo...  POINT (2.50000 2.50000)   \n",
       "\n",
       "  activity  \n",
       "0     home  \n",
       "1     home  \n",
       "2     work  "
      ]
     },
     "execution_count": 28,
     "metadata": {},
     "output_type": "execute_result"
    }
   ],
   "source": [
    "facilities"
   ]
  },
  {
   "cell_type": "code",
   "execution_count": 29,
   "metadata": {
    "ExecuteTime": {
     "end_time": "2021-01-26T10:50:10.008814Z",
     "start_time": "2021-01-26T10:50:09.813336Z"
    }
   },
   "outputs": [
    {
     "data": {
      "text/plain": [
       "3"
      ]
     },
     "execution_count": 29,
     "metadata": {},
     "output_type": "execute_result"
    }
   ],
   "source": [
    "np.random.randint(1,4)"
   ]
  },
  {
   "cell_type": "code",
   "execution_count": 30,
   "metadata": {
    "ExecuteTime": {
     "end_time": "2021-01-26T10:50:10.190330Z",
     "start_time": "2021-01-26T10:50:10.010812Z"
    }
   },
   "outputs": [
    {
     "data": {
      "text/plain": [
       "{'acts': ['home'], 'units': 1, 'floors': 2, 'area': 47}"
      ]
     },
     "execution_count": 30,
     "metadata": {},
     "output_type": "execute_result"
    }
   ],
   "source": [
    "facilities.features[0]"
   ]
  },
  {
   "cell_type": "code",
   "execution_count": 31,
   "metadata": {
    "ExecuteTime": {
     "end_time": "2021-01-26T10:50:10.622657Z",
     "start_time": "2021-01-26T10:50:10.191344Z"
    }
   },
   "outputs": [
    {
     "data": {
      "image/png": "[encoded data removed]",
      "text/plain": [
       "<Figure size 720x504 with 1 Axes>"
      ]
     },
     "metadata": {
      "needs_background": "light"
     },
     "output_type": "display_data"
    }
   ],
   "source": [
    "# create random spatial data\n",
    "\n",
    "# create zones\n",
    "l = 30\n",
    "polygon_list = []\n",
    "\n",
    "for y in [2*l,l,0]:\n",
    "    for x in [0,l,2*l]:\n",
    "        polygon_list.append(Polygon([[x,y],[x+l,y],[x+l,y+l],[x,y+l],[x,y]]))\n",
    "        \n",
    "zones = gp.GeoDataFrame(geometry = polygon_list)\n",
    "zones['zone'] = zone_list\n",
    "zones.set_index('zone', inplace = True)\n",
    "# print(zones)\n",
    "\n",
    "\n",
    "# create points\n",
    "point_list = []\n",
    "for activity in activities_list:\n",
    "    for i in range(200):\n",
    "        point = Point(np.random.rand() * 3 * l, np.random.rand() * 3 * l)\n",
    "        point_list.append({'activity':activity,\n",
    "                           'floors': np.random.randint(1,4),\n",
    "                           'units': np.random.randint(1,20),\n",
    "                           'area': np.random.randint(1,100),\n",
    "                           'transit': np.random.randint(1,10000),                           \n",
    "                           'geometry':point})\n",
    "            \n",
    "points = gp.GeoDataFrame(point_list)\n",
    "points = gp.sjoin(points, zones.reset_index()).drop(columns='index_right')\n",
    "\n",
    "# print(points)\n",
    "\n",
    "# plot\n",
    "fig, ax = plt.subplots(1,1, figsize = (10,7))\n",
    "zones.boundary.plot(ax = ax)\n",
    "points.plot(ax=ax, markersize=2, color='purple')\n",
    "for zone, centroid in zip(zones.index, zones.centroid):\n",
    "    ax.annotate(zone, xy = (centroid.x, centroid.y), size = 15)\n",
    "ax.axis('off')\n",
    "plt.show()"
   ]
  },
  {
   "cell_type": "code",
   "execution_count": 32,
   "metadata": {
    "ExecuteTime": {
     "end_time": "2021-01-26T10:50:10.805195Z",
     "start_time": "2021-01-26T10:50:10.623618Z"
    }
   },
   "outputs": [],
   "source": [
    "# create facility points"
   ]
  },
  {
   "cell_type": "code",
   "execution_count": 33,
   "metadata": {
    "ExecuteTime": {
     "end_time": "2021-01-26T10:50:11.012302Z",
     "start_time": "2021-01-26T10:50:10.807153Z"
    }
   },
   "outputs": [
    {
     "data": {
      "text/html": [
       "<div>\n",
       "<style scoped>\n",
       "    .dataframe tbody tr th:only-of-type {\n",
       "        vertical-align: middle;\n",
       "    }\n",
       "\n",
       "    .dataframe tbody tr th {\n",
       "        vertical-align: top;\n",
       "    }\n",
       "\n",
       "    .dataframe thead th {\n",
       "        text-align: right;\n",
       "    }\n",
       "</style>\n",
       "<table border=\"1\" class=\"dataframe\">\n",
       "  <thead>\n",
       "    <tr style=\"text-align: right;\">\n",
       "      <th></th>\n",
       "      <th>act</th>\n",
       "      <th>area</th>\n",
       "    </tr>\n",
       "  </thead>\n",
       "  <tbody>\n",
       "    <tr>\n",
       "      <th>0</th>\n",
       "      <td>home</td>\n",
       "      <td>47.000000</td>\n",
       "    </tr>\n",
       "    <tr>\n",
       "      <th>1</th>\n",
       "      <td>home</td>\n",
       "      <td>800.000000</td>\n",
       "    </tr>\n",
       "    <tr>\n",
       "      <th>2</th>\n",
       "      <td>work</td>\n",
       "      <td>66.666667</td>\n",
       "    </tr>\n",
       "    <tr>\n",
       "      <th>3</th>\n",
       "      <td>health</td>\n",
       "      <td>66.666667</td>\n",
       "    </tr>\n",
       "    <tr>\n",
       "      <th>4</th>\n",
       "      <td>food_shop</td>\n",
       "      <td>66.666667</td>\n",
       "    </tr>\n",
       "  </tbody>\n",
       "</table>\n",
       "</div>"
      ],
      "text/plain": [
       "         act        area\n",
       "0       home   47.000000\n",
       "1       home  800.000000\n",
       "2       work   66.666667\n",
       "3     health   66.666667\n",
       "4  food_shop   66.666667"
      ]
     },
     "execution_count": 33,
     "metadata": {},
     "output_type": "execute_result"
    }
   ],
   "source": [
    "# expand facilities\n",
    "facilities_expanded = []\n",
    "for i, irow in facilities.iterrows():\n",
    "    no_acts = len(irow.features['acts'])\n",
    "    for act in irow.features['acts']:\n",
    "        facilities_expanded.append({\n",
    "            'act': act,\n",
    "            'area' : irow.features['area'] / no_acts\n",
    "        })\n",
    "facilities_expanded = pd.DataFrame(facilities_expanded)\n",
    "facilities_expanded"
   ]
  },
  {
   "cell_type": "code",
   "execution_count": null,
   "metadata": {},
   "outputs": [],
   "source": []
  },
  {
   "cell_type": "markdown",
   "metadata": {},
   "source": [
    "# Tabular Sampling"
   ]
  },
  {
   "cell_type": "code",
   "execution_count": 34,
   "metadata": {
    "ExecuteTime": {
     "end_time": "2021-01-26T10:50:11.205747Z",
     "start_time": "2021-01-26T10:50:11.013257Z"
    }
   },
   "outputs": [
    {
     "data": {
      "text/plain": [
       "'escort'"
      ]
     },
     "execution_count": 34,
     "metadata": {},
     "output_type": "execute_result"
    }
   ],
   "source": [
    "activity"
   ]
  },
  {
   "cell_type": "code",
   "execution_count": null,
   "metadata": {},
   "outputs": [],
   "source": []
  },
  {
   "cell_type": "code",
   "execution_count": 35,
   "metadata": {
    "ExecuteTime": {
     "end_time": "2021-01-26T10:50:11.460201Z",
     "start_time": "2021-01-26T10:50:11.207740Z"
    }
   },
   "outputs": [
    {
     "data": {
      "text/html": [
       "<div>\n",
       "<style scoped>\n",
       "    .dataframe tbody tr th:only-of-type {\n",
       "        vertical-align: middle;\n",
       "    }\n",
       "\n",
       "    .dataframe tbody tr th {\n",
       "        vertical-align: top;\n",
       "    }\n",
       "\n",
       "    .dataframe thead th {\n",
       "        text-align: right;\n",
       "    }\n",
       "</style>\n",
       "<table border=\"1\" class=\"dataframe\">\n",
       "  <thead>\n",
       "    <tr style=\"text-align: right;\">\n",
       "      <th></th>\n",
       "      <th></th>\n",
       "      <th>activity</th>\n",
       "      <th>floors</th>\n",
       "      <th>units</th>\n",
       "      <th>area</th>\n",
       "      <th>transit</th>\n",
       "      <th>geometry</th>\n",
       "      <th>zone</th>\n",
       "    </tr>\n",
       "    <tr>\n",
       "      <th>zone</th>\n",
       "      <th></th>\n",
       "      <th></th>\n",
       "      <th></th>\n",
       "      <th></th>\n",
       "      <th></th>\n",
       "      <th></th>\n",
       "      <th></th>\n",
       "      <th></th>\n",
       "    </tr>\n",
       "  </thead>\n",
       "  <tbody>\n",
       "    <tr>\n",
       "      <th rowspan=\"5\" valign=\"top\">a</th>\n",
       "      <th>830</th>\n",
       "      <td>escort</td>\n",
       "      <td>3</td>\n",
       "      <td>14</td>\n",
       "      <td>5</td>\n",
       "      <td>4051</td>\n",
       "      <td>POINT (22.63945 88.39586)</td>\n",
       "      <td>a</td>\n",
       "    </tr>\n",
       "    <tr>\n",
       "      <th>468</th>\n",
       "      <td>other</td>\n",
       "      <td>3</td>\n",
       "      <td>9</td>\n",
       "      <td>45</td>\n",
       "      <td>1381</td>\n",
       "      <td>POINT (16.10867 63.44523)</td>\n",
       "      <td>a</td>\n",
       "    </tr>\n",
       "    <tr>\n",
       "      <th>891</th>\n",
       "      <td>escort</td>\n",
       "      <td>1</td>\n",
       "      <td>12</td>\n",
       "      <td>19</td>\n",
       "      <td>1422</td>\n",
       "      <td>POINT (1.93630 71.36279)</td>\n",
       "      <td>a</td>\n",
       "    </tr>\n",
       "    <tr>\n",
       "      <th>730</th>\n",
       "      <td>shop</td>\n",
       "      <td>1</td>\n",
       "      <td>17</td>\n",
       "      <td>51</td>\n",
       "      <td>3373</td>\n",
       "      <td>POINT (12.30325 88.39470)</td>\n",
       "      <td>a</td>\n",
       "    </tr>\n",
       "    <tr>\n",
       "      <th>669</th>\n",
       "      <td>shop</td>\n",
       "      <td>2</td>\n",
       "      <td>6</td>\n",
       "      <td>23</td>\n",
       "      <td>96</td>\n",
       "      <td>POINT (7.71153 67.56657)</td>\n",
       "      <td>a</td>\n",
       "    </tr>\n",
       "    <tr>\n",
       "      <th>...</th>\n",
       "      <th>...</th>\n",
       "      <td>...</td>\n",
       "      <td>...</td>\n",
       "      <td>...</td>\n",
       "      <td>...</td>\n",
       "      <td>...</td>\n",
       "      <td>...</td>\n",
       "      <td>...</td>\n",
       "    </tr>\n",
       "    <tr>\n",
       "      <th rowspan=\"5\" valign=\"top\">i</th>\n",
       "      <th>413</th>\n",
       "      <td>other</td>\n",
       "      <td>3</td>\n",
       "      <td>15</td>\n",
       "      <td>70</td>\n",
       "      <td>5405</td>\n",
       "      <td>POINT (67.32865 20.54444)</td>\n",
       "      <td>i</td>\n",
       "    </tr>\n",
       "    <tr>\n",
       "      <th>541</th>\n",
       "      <td>other</td>\n",
       "      <td>1</td>\n",
       "      <td>19</td>\n",
       "      <td>49</td>\n",
       "      <td>7423</td>\n",
       "      <td>POINT (71.80680 29.17439)</td>\n",
       "      <td>i</td>\n",
       "    </tr>\n",
       "    <tr>\n",
       "      <th>563</th>\n",
       "      <td>other</td>\n",
       "      <td>2</td>\n",
       "      <td>2</td>\n",
       "      <td>80</td>\n",
       "      <td>6231</td>\n",
       "      <td>POINT (72.26837 26.42227)</td>\n",
       "      <td>i</td>\n",
       "    </tr>\n",
       "    <tr>\n",
       "      <th>443</th>\n",
       "      <td>other</td>\n",
       "      <td>2</td>\n",
       "      <td>17</td>\n",
       "      <td>13</td>\n",
       "      <td>7650</td>\n",
       "      <td>POINT (70.03533 25.36353)</td>\n",
       "      <td>i</td>\n",
       "    </tr>\n",
       "    <tr>\n",
       "      <th>711</th>\n",
       "      <td>shop</td>\n",
       "      <td>1</td>\n",
       "      <td>8</td>\n",
       "      <td>3</td>\n",
       "      <td>7692</td>\n",
       "      <td>POINT (73.99010 12.02159)</td>\n",
       "      <td>i</td>\n",
       "    </tr>\n",
       "  </tbody>\n",
       "</table>\n",
       "<p>90 rows × 7 columns</p>\n",
       "</div>"
      ],
      "text/plain": [
       "         activity  floors  units  area  transit                   geometry  \\\n",
       "zone                                                                         \n",
       "a    830   escort       3     14     5     4051  POINT (22.63945 88.39586)   \n",
       "     468    other       3      9    45     1381  POINT (16.10867 63.44523)   \n",
       "     891   escort       1     12    19     1422   POINT (1.93630 71.36279)   \n",
       "     730     shop       1     17    51     3373  POINT (12.30325 88.39470)   \n",
       "     669     shop       2      6    23       96   POINT (7.71153 67.56657)   \n",
       "...           ...     ...    ...   ...      ...                        ...   \n",
       "i    413    other       3     15    70     5405  POINT (67.32865 20.54444)   \n",
       "     541    other       1     19    49     7423  POINT (71.80680 29.17439)   \n",
       "     563    other       2      2    80     6231  POINT (72.26837 26.42227)   \n",
       "     443    other       2     17    13     7650  POINT (70.03533 25.36353)   \n",
       "     711     shop       1      8     3     7692  POINT (73.99010 12.02159)   \n",
       "\n",
       "         zone  \n",
       "zone           \n",
       "a    830    a  \n",
       "     468    a  \n",
       "     891    a  \n",
       "     730    a  \n",
       "     669    a  \n",
       "...       ...  \n",
       "i    413    i  \n",
       "     541    i  \n",
       "     563    i  \n",
       "     443    i  \n",
       "     711    i  \n",
       "\n",
       "[90 rows x 7 columns]"
      ]
     },
     "execution_count": 35,
     "metadata": {},
     "output_type": "execute_result"
    }
   ],
   "source": [
    "def df_sample(x):\n",
    "    return x.sample(10, weights = x.area + 0.001)\n",
    "\n",
    "points.groupby('zone').apply(df_sample)"
   ]
  },
  {
   "cell_type": "code",
   "execution_count": 36,
   "metadata": {
    "ExecuteTime": {
     "end_time": "2021-01-26T10:50:11.657627Z",
     "start_time": "2021-01-26T10:50:11.462148Z"
    }
   },
   "outputs": [
    {
     "data": {
      "text/html": [
       "<div>\n",
       "<style scoped>\n",
       "    .dataframe tbody tr th:only-of-type {\n",
       "        vertical-align: middle;\n",
       "    }\n",
       "\n",
       "    .dataframe tbody tr th {\n",
       "        vertical-align: top;\n",
       "    }\n",
       "\n",
       "    .dataframe thead th {\n",
       "        text-align: right;\n",
       "    }\n",
       "</style>\n",
       "<table border=\"1\" class=\"dataframe\">\n",
       "  <thead>\n",
       "    <tr style=\"text-align: right;\">\n",
       "      <th></th>\n",
       "      <th>activity</th>\n",
       "      <th>floors</th>\n",
       "      <th>units</th>\n",
       "      <th>area</th>\n",
       "      <th>transit</th>\n",
       "      <th>geometry</th>\n",
       "      <th>zone</th>\n",
       "    </tr>\n",
       "  </thead>\n",
       "  <tbody>\n",
       "    <tr>\n",
       "      <th>1</th>\n",
       "      <td>home</td>\n",
       "      <td>1</td>\n",
       "      <td>11</td>\n",
       "      <td>98</td>\n",
       "      <td>9836</td>\n",
       "      <td>POINT (7.41548 72.31658)</td>\n",
       "      <td>a</td>\n",
       "    </tr>\n",
       "    <tr>\n",
       "      <th>8</th>\n",
       "      <td>home</td>\n",
       "      <td>2</td>\n",
       "      <td>12</td>\n",
       "      <td>31</td>\n",
       "      <td>6196</td>\n",
       "      <td>POINT (5.64507 85.03755)</td>\n",
       "      <td>a</td>\n",
       "    </tr>\n",
       "    <tr>\n",
       "      <th>37</th>\n",
       "      <td>home</td>\n",
       "      <td>3</td>\n",
       "      <td>2</td>\n",
       "      <td>89</td>\n",
       "      <td>5977</td>\n",
       "      <td>POINT (24.13406 61.56106)</td>\n",
       "      <td>a</td>\n",
       "    </tr>\n",
       "    <tr>\n",
       "      <th>47</th>\n",
       "      <td>home</td>\n",
       "      <td>3</td>\n",
       "      <td>8</td>\n",
       "      <td>29</td>\n",
       "      <td>8852</td>\n",
       "      <td>POINT (27.76352 73.58084)</td>\n",
       "      <td>a</td>\n",
       "    </tr>\n",
       "    <tr>\n",
       "      <th>48</th>\n",
       "      <td>home</td>\n",
       "      <td>3</td>\n",
       "      <td>10</td>\n",
       "      <td>50</td>\n",
       "      <td>8565</td>\n",
       "      <td>POINT (8.19527 63.31716)</td>\n",
       "      <td>a</td>\n",
       "    </tr>\n",
       "    <tr>\n",
       "      <th>62</th>\n",
       "      <td>home</td>\n",
       "      <td>2</td>\n",
       "      <td>2</td>\n",
       "      <td>20</td>\n",
       "      <td>4160</td>\n",
       "      <td>POINT (15.73319 65.94636)</td>\n",
       "      <td>a</td>\n",
       "    </tr>\n",
       "    <tr>\n",
       "      <th>67</th>\n",
       "      <td>home</td>\n",
       "      <td>2</td>\n",
       "      <td>6</td>\n",
       "      <td>44</td>\n",
       "      <td>6482</td>\n",
       "      <td>POINT (11.05986 86.03223)</td>\n",
       "      <td>a</td>\n",
       "    </tr>\n",
       "    <tr>\n",
       "      <th>91</th>\n",
       "      <td>home</td>\n",
       "      <td>1</td>\n",
       "      <td>7</td>\n",
       "      <td>2</td>\n",
       "      <td>7228</td>\n",
       "      <td>POINT (25.26849 79.00136)</td>\n",
       "      <td>a</td>\n",
       "    </tr>\n",
       "    <tr>\n",
       "      <th>95</th>\n",
       "      <td>home</td>\n",
       "      <td>2</td>\n",
       "      <td>6</td>\n",
       "      <td>50</td>\n",
       "      <td>1196</td>\n",
       "      <td>POINT (5.15340 88.39901)</td>\n",
       "      <td>a</td>\n",
       "    </tr>\n",
       "    <tr>\n",
       "      <th>98</th>\n",
       "      <td>home</td>\n",
       "      <td>2</td>\n",
       "      <td>7</td>\n",
       "      <td>2</td>\n",
       "      <td>5339</td>\n",
       "      <td>POINT (2.72608 72.55226)</td>\n",
       "      <td>a</td>\n",
       "    </tr>\n",
       "    <tr>\n",
       "      <th>126</th>\n",
       "      <td>home</td>\n",
       "      <td>1</td>\n",
       "      <td>13</td>\n",
       "      <td>76</td>\n",
       "      <td>9250</td>\n",
       "      <td>POINT (13.59340 73.06044)</td>\n",
       "      <td>a</td>\n",
       "    </tr>\n",
       "    <tr>\n",
       "      <th>138</th>\n",
       "      <td>home</td>\n",
       "      <td>3</td>\n",
       "      <td>17</td>\n",
       "      <td>47</td>\n",
       "      <td>4903</td>\n",
       "      <td>POINT (7.59631 68.15947)</td>\n",
       "      <td>a</td>\n",
       "    </tr>\n",
       "    <tr>\n",
       "      <th>148</th>\n",
       "      <td>home</td>\n",
       "      <td>3</td>\n",
       "      <td>5</td>\n",
       "      <td>72</td>\n",
       "      <td>2343</td>\n",
       "      <td>POINT (16.92506 65.84540)</td>\n",
       "      <td>a</td>\n",
       "    </tr>\n",
       "    <tr>\n",
       "      <th>150</th>\n",
       "      <td>home</td>\n",
       "      <td>2</td>\n",
       "      <td>7</td>\n",
       "      <td>72</td>\n",
       "      <td>5751</td>\n",
       "      <td>POINT (12.24031 69.66784)</td>\n",
       "      <td>a</td>\n",
       "    </tr>\n",
       "    <tr>\n",
       "      <th>160</th>\n",
       "      <td>home</td>\n",
       "      <td>1</td>\n",
       "      <td>4</td>\n",
       "      <td>80</td>\n",
       "      <td>5070</td>\n",
       "      <td>POINT (3.02193 85.31834)</td>\n",
       "      <td>a</td>\n",
       "    </tr>\n",
       "    <tr>\n",
       "      <th>171</th>\n",
       "      <td>home</td>\n",
       "      <td>2</td>\n",
       "      <td>11</td>\n",
       "      <td>57</td>\n",
       "      <td>374</td>\n",
       "      <td>POINT (15.85724 62.60303)</td>\n",
       "      <td>a</td>\n",
       "    </tr>\n",
       "    <tr>\n",
       "      <th>183</th>\n",
       "      <td>home</td>\n",
       "      <td>2</td>\n",
       "      <td>1</td>\n",
       "      <td>86</td>\n",
       "      <td>6378</td>\n",
       "      <td>POINT (15.35121 81.34697)</td>\n",
       "      <td>a</td>\n",
       "    </tr>\n",
       "    <tr>\n",
       "      <th>190</th>\n",
       "      <td>home</td>\n",
       "      <td>1</td>\n",
       "      <td>10</td>\n",
       "      <td>43</td>\n",
       "      <td>7754</td>\n",
       "      <td>POINT (0.93706 77.83128)</td>\n",
       "      <td>a</td>\n",
       "    </tr>\n",
       "    <tr>\n",
       "      <th>193</th>\n",
       "      <td>home</td>\n",
       "      <td>3</td>\n",
       "      <td>10</td>\n",
       "      <td>73</td>\n",
       "      <td>8779</td>\n",
       "      <td>POINT (22.01211 72.00948)</td>\n",
       "      <td>a</td>\n",
       "    </tr>\n",
       "  </tbody>\n",
       "</table>\n",
       "</div>"
      ],
      "text/plain": [
       "    activity  floors  units  area  transit                   geometry zone\n",
       "1       home       1     11    98     9836   POINT (7.41548 72.31658)    a\n",
       "8       home       2     12    31     6196   POINT (5.64507 85.03755)    a\n",
       "37      home       3      2    89     5977  POINT (24.13406 61.56106)    a\n",
       "47      home       3      8    29     8852  POINT (27.76352 73.58084)    a\n",
       "48      home       3     10    50     8565   POINT (8.19527 63.31716)    a\n",
       "62      home       2      2    20     4160  POINT (15.73319 65.94636)    a\n",
       "67      home       2      6    44     6482  POINT (11.05986 86.03223)    a\n",
       "91      home       1      7     2     7228  POINT (25.26849 79.00136)    a\n",
       "95      home       2      6    50     1196   POINT (5.15340 88.39901)    a\n",
       "98      home       2      7     2     5339   POINT (2.72608 72.55226)    a\n",
       "126     home       1     13    76     9250  POINT (13.59340 73.06044)    a\n",
       "138     home       3     17    47     4903   POINT (7.59631 68.15947)    a\n",
       "148     home       3      5    72     2343  POINT (16.92506 65.84540)    a\n",
       "150     home       2      7    72     5751  POINT (12.24031 69.66784)    a\n",
       "160     home       1      4    80     5070   POINT (3.02193 85.31834)    a\n",
       "171     home       2     11    57      374  POINT (15.85724 62.60303)    a\n",
       "183     home       2      1    86     6378  POINT (15.35121 81.34697)    a\n",
       "190     home       1     10    43     7754   POINT (0.93706 77.83128)    a\n",
       "193     home       3     10    73     8779  POINT (22.01211 72.00948)    a"
      ]
     },
     "execution_count": 36,
     "metadata": {},
     "output_type": "execute_result"
    }
   ],
   "source": [
    "points[(points.zone=='a') & (points.activity=='home')]"
   ]
  },
  {
   "cell_type": "code",
   "execution_count": 37,
   "metadata": {
    "ExecuteTime": {
     "end_time": "2021-01-26T10:50:11.911950Z",
     "start_time": "2021-01-26T10:50:11.659621Z"
    }
   },
   "outputs": [
    {
     "data": {
      "text/html": [
       "<div>\n",
       "<style scoped>\n",
       "    .dataframe tbody tr th:only-of-type {\n",
       "        vertical-align: middle;\n",
       "    }\n",
       "\n",
       "    .dataframe tbody tr th {\n",
       "        vertical-align: top;\n",
       "    }\n",
       "\n",
       "    .dataframe thead th {\n",
       "        text-align: right;\n",
       "    }\n",
       "</style>\n",
       "<table border=\"1\" class=\"dataframe\">\n",
       "  <thead>\n",
       "    <tr style=\"text-align: right;\">\n",
       "      <th></th>\n",
       "      <th></th>\n",
       "      <th>hid</th>\n",
       "      <th>hzone</th>\n",
       "      <th>activity</th>\n",
       "      <th>floors</th>\n",
       "      <th>units</th>\n",
       "      <th>area</th>\n",
       "      <th>transit</th>\n",
       "      <th>geometry</th>\n",
       "      <th>zone</th>\n",
       "    </tr>\n",
       "    <tr>\n",
       "      <th>hid</th>\n",
       "      <th></th>\n",
       "      <th></th>\n",
       "      <th></th>\n",
       "      <th></th>\n",
       "      <th></th>\n",
       "      <th></th>\n",
       "      <th></th>\n",
       "      <th></th>\n",
       "      <th></th>\n",
       "      <th></th>\n",
       "    </tr>\n",
       "  </thead>\n",
       "  <tbody>\n",
       "    <tr>\n",
       "      <th>0</th>\n",
       "      <th>16</th>\n",
       "      <td>0</td>\n",
       "      <td>a</td>\n",
       "      <td>home</td>\n",
       "      <td>2</td>\n",
       "      <td>1</td>\n",
       "      <td>86</td>\n",
       "      <td>6378</td>\n",
       "      <td>POINT (15.35121 81.34697)</td>\n",
       "      <td>a</td>\n",
       "    </tr>\n",
       "    <tr>\n",
       "      <th>1</th>\n",
       "      <th>367</th>\n",
       "      <td>1</td>\n",
       "      <td>b</td>\n",
       "      <td>home</td>\n",
       "      <td>1</td>\n",
       "      <td>6</td>\n",
       "      <td>87</td>\n",
       "      <td>2493</td>\n",
       "      <td>POINT (37.06396 84.84169)</td>\n",
       "      <td>b</td>\n",
       "    </tr>\n",
       "    <tr>\n",
       "      <th>2</th>\n",
       "      <th>27</th>\n",
       "      <td>2</td>\n",
       "      <td>a</td>\n",
       "      <td>home</td>\n",
       "      <td>2</td>\n",
       "      <td>6</td>\n",
       "      <td>50</td>\n",
       "      <td>1196</td>\n",
       "      <td>POINT (5.15340 88.39901)</td>\n",
       "      <td>a</td>\n",
       "    </tr>\n",
       "    <tr>\n",
       "      <th>3</th>\n",
       "      <th>40</th>\n",
       "      <td>3</td>\n",
       "      <td>a</td>\n",
       "      <td>home</td>\n",
       "      <td>3</td>\n",
       "      <td>2</td>\n",
       "      <td>89</td>\n",
       "      <td>5977</td>\n",
       "      <td>POINT (24.13406 61.56106)</td>\n",
       "      <td>a</td>\n",
       "    </tr>\n",
       "    <tr>\n",
       "      <th>4</th>\n",
       "      <th>58</th>\n",
       "      <td>4</td>\n",
       "      <td>a</td>\n",
       "      <td>home</td>\n",
       "      <td>2</td>\n",
       "      <td>12</td>\n",
       "      <td>31</td>\n",
       "      <td>6196</td>\n",
       "      <td>POINT (5.64507 85.03755)</td>\n",
       "      <td>a</td>\n",
       "    </tr>\n",
       "    <tr>\n",
       "      <th>5</th>\n",
       "      <th>76</th>\n",
       "      <td>5</td>\n",
       "      <td>a</td>\n",
       "      <td>home</td>\n",
       "      <td>1</td>\n",
       "      <td>11</td>\n",
       "      <td>98</td>\n",
       "      <td>9836</td>\n",
       "      <td>POINT (7.41548 72.31658)</td>\n",
       "      <td>a</td>\n",
       "    </tr>\n",
       "    <tr>\n",
       "      <th>6</th>\n",
       "      <th>112</th>\n",
       "      <td>6</td>\n",
       "      <td>a</td>\n",
       "      <td>home</td>\n",
       "      <td>1</td>\n",
       "      <td>10</td>\n",
       "      <td>43</td>\n",
       "      <td>7754</td>\n",
       "      <td>POINT (0.93706 77.83128)</td>\n",
       "      <td>a</td>\n",
       "    </tr>\n",
       "    <tr>\n",
       "      <th>7</th>\n",
       "      <th>116</th>\n",
       "      <td>7</td>\n",
       "      <td>a</td>\n",
       "      <td>home</td>\n",
       "      <td>3</td>\n",
       "      <td>2</td>\n",
       "      <td>89</td>\n",
       "      <td>5977</td>\n",
       "      <td>POINT (24.13406 61.56106)</td>\n",
       "      <td>a</td>\n",
       "    </tr>\n",
       "    <tr>\n",
       "      <th>8</th>\n",
       "      <th>137</th>\n",
       "      <td>8</td>\n",
       "      <td>a</td>\n",
       "      <td>home</td>\n",
       "      <td>3</td>\n",
       "      <td>10</td>\n",
       "      <td>50</td>\n",
       "      <td>8565</td>\n",
       "      <td>POINT (8.19527 63.31716)</td>\n",
       "      <td>a</td>\n",
       "    </tr>\n",
       "    <tr>\n",
       "      <th>9</th>\n",
       "      <th>168</th>\n",
       "      <td>9</td>\n",
       "      <td>a</td>\n",
       "      <td>home</td>\n",
       "      <td>2</td>\n",
       "      <td>1</td>\n",
       "      <td>86</td>\n",
       "      <td>6378</td>\n",
       "      <td>POINT (15.35121 81.34697)</td>\n",
       "      <td>a</td>\n",
       "    </tr>\n",
       "    <tr>\n",
       "      <th>10</th>\n",
       "      <th>183</th>\n",
       "      <td>10</td>\n",
       "      <td>a</td>\n",
       "      <td>home</td>\n",
       "      <td>3</td>\n",
       "      <td>5</td>\n",
       "      <td>72</td>\n",
       "      <td>2343</td>\n",
       "      <td>POINT (16.92506 65.84540)</td>\n",
       "      <td>a</td>\n",
       "    </tr>\n",
       "    <tr>\n",
       "      <th>11</th>\n",
       "      <th>194</th>\n",
       "      <td>11</td>\n",
       "      <td>a</td>\n",
       "      <td>home</td>\n",
       "      <td>3</td>\n",
       "      <td>10</td>\n",
       "      <td>50</td>\n",
       "      <td>8565</td>\n",
       "      <td>POINT (8.19527 63.31716)</td>\n",
       "      <td>a</td>\n",
       "    </tr>\n",
       "    <tr>\n",
       "      <th>12</th>\n",
       "      <th>214</th>\n",
       "      <td>12</td>\n",
       "      <td>a</td>\n",
       "      <td>home</td>\n",
       "      <td>2</td>\n",
       "      <td>2</td>\n",
       "      <td>20</td>\n",
       "      <td>4160</td>\n",
       "      <td>POINT (15.73319 65.94636)</td>\n",
       "      <td>a</td>\n",
       "    </tr>\n",
       "    <tr>\n",
       "      <th>13</th>\n",
       "      <th>240</th>\n",
       "      <td>13</td>\n",
       "      <td>a</td>\n",
       "      <td>home</td>\n",
       "      <td>3</td>\n",
       "      <td>5</td>\n",
       "      <td>72</td>\n",
       "      <td>2343</td>\n",
       "      <td>POINT (16.92506 65.84540)</td>\n",
       "      <td>a</td>\n",
       "    </tr>\n",
       "    <tr>\n",
       "      <th>14</th>\n",
       "      <th>264</th>\n",
       "      <td>14</td>\n",
       "      <td>a</td>\n",
       "      <td>home</td>\n",
       "      <td>1</td>\n",
       "      <td>10</td>\n",
       "      <td>43</td>\n",
       "      <td>7754</td>\n",
       "      <td>POINT (0.93706 77.83128)</td>\n",
       "      <td>a</td>\n",
       "    </tr>\n",
       "    <tr>\n",
       "      <th>15</th>\n",
       "      <th>280</th>\n",
       "      <td>15</td>\n",
       "      <td>a</td>\n",
       "      <td>home</td>\n",
       "      <td>1</td>\n",
       "      <td>4</td>\n",
       "      <td>80</td>\n",
       "      <td>5070</td>\n",
       "      <td>POINT (3.02193 85.31834)</td>\n",
       "      <td>a</td>\n",
       "    </tr>\n",
       "    <tr>\n",
       "      <th>16</th>\n",
       "      <th>298</th>\n",
       "      <td>16</td>\n",
       "      <td>a</td>\n",
       "      <td>home</td>\n",
       "      <td>2</td>\n",
       "      <td>7</td>\n",
       "      <td>72</td>\n",
       "      <td>5751</td>\n",
       "      <td>POINT (12.24031 69.66784)</td>\n",
       "      <td>a</td>\n",
       "    </tr>\n",
       "    <tr>\n",
       "      <th>17</th>\n",
       "      <th>316</th>\n",
       "      <td>17</td>\n",
       "      <td>a</td>\n",
       "      <td>home</td>\n",
       "      <td>3</td>\n",
       "      <td>5</td>\n",
       "      <td>72</td>\n",
       "      <td>2343</td>\n",
       "      <td>POINT (16.92506 65.84540)</td>\n",
       "      <td>a</td>\n",
       "    </tr>\n",
       "    <tr>\n",
       "      <th>18</th>\n",
       "      <th>327</th>\n",
       "      <td>18</td>\n",
       "      <td>a</td>\n",
       "      <td>home</td>\n",
       "      <td>3</td>\n",
       "      <td>10</td>\n",
       "      <td>50</td>\n",
       "      <td>8565</td>\n",
       "      <td>POINT (8.19527 63.31716)</td>\n",
       "      <td>a</td>\n",
       "    </tr>\n",
       "    <tr>\n",
       "      <th>19</th>\n",
       "      <th>343</th>\n",
       "      <td>19</td>\n",
       "      <td>a</td>\n",
       "      <td>home</td>\n",
       "      <td>2</td>\n",
       "      <td>12</td>\n",
       "      <td>31</td>\n",
       "      <td>6196</td>\n",
       "      <td>POINT (5.64507 85.03755)</td>\n",
       "      <td>a</td>\n",
       "    </tr>\n",
       "  </tbody>\n",
       "</table>\n",
       "</div>"
      ],
      "text/plain": [
       "         hid hzone activity  floors  units  area  transit  \\\n",
       "hid                                                         \n",
       "0   16     0     a     home       2      1    86     6378   \n",
       "1   367    1     b     home       1      6    87     2493   \n",
       "2   27     2     a     home       2      6    50     1196   \n",
       "3   40     3     a     home       3      2    89     5977   \n",
       "4   58     4     a     home       2     12    31     6196   \n",
       "5   76     5     a     home       1     11    98     9836   \n",
       "6   112    6     a     home       1     10    43     7754   \n",
       "7   116    7     a     home       3      2    89     5977   \n",
       "8   137    8     a     home       3     10    50     8565   \n",
       "9   168    9     a     home       2      1    86     6378   \n",
       "10  183   10     a     home       3      5    72     2343   \n",
       "11  194   11     a     home       3     10    50     8565   \n",
       "12  214   12     a     home       2      2    20     4160   \n",
       "13  240   13     a     home       3      5    72     2343   \n",
       "14  264   14     a     home       1     10    43     7754   \n",
       "15  280   15     a     home       1      4    80     5070   \n",
       "16  298   16     a     home       2      7    72     5751   \n",
       "17  316   17     a     home       3      5    72     2343   \n",
       "18  327   18     a     home       3     10    50     8565   \n",
       "19  343   19     a     home       2     12    31     6196   \n",
       "\n",
       "                          geometry zone  \n",
       "hid                                      \n",
       "0   16   POINT (15.35121 81.34697)    a  \n",
       "1   367  POINT (37.06396 84.84169)    b  \n",
       "2   27    POINT (5.15340 88.39901)    a  \n",
       "3   40   POINT (24.13406 61.56106)    a  \n",
       "4   58    POINT (5.64507 85.03755)    a  \n",
       "5   76    POINT (7.41548 72.31658)    a  \n",
       "6   112   POINT (0.93706 77.83128)    a  \n",
       "7   116  POINT (24.13406 61.56106)    a  \n",
       "8   137   POINT (8.19527 63.31716)    a  \n",
       "9   168  POINT (15.35121 81.34697)    a  \n",
       "10  183  POINT (16.92506 65.84540)    a  \n",
       "11  194   POINT (8.19527 63.31716)    a  \n",
       "12  214  POINT (15.73319 65.94636)    a  \n",
       "13  240  POINT (16.92506 65.84540)    a  \n",
       "14  264   POINT (0.93706 77.83128)    a  \n",
       "15  280   POINT (3.02193 85.31834)    a  \n",
       "16  298  POINT (12.24031 69.66784)    a  \n",
       "17  316  POINT (16.92506 65.84540)    a  \n",
       "18  327   POINT (8.19527 63.31716)    a  \n",
       "19  343   POINT (5.64507 85.03755)    a  "
      ]
     },
     "execution_count": 37,
     "metadata": {},
     "output_type": "execute_result"
    }
   ],
   "source": [
    "# first, sample household locations\n",
    "hh_locs = trips[['hid','hzone']].drop_duplicates()\n",
    "hh_locs = pd.merge(hh_locs, points[points.activity=='home'], left_on='hzone',right_on='zone')\n",
    "hh_locs = hh_locs.groupby('hid').apply(lambda x: x.sample(1, weights = x.area))\n",
    "\n",
    "hh_locs"
   ]
  },
  {
   "cell_type": "code",
   "execution_count": 38,
   "metadata": {
    "ExecuteTime": {
     "end_time": "2021-01-26T10:50:12.108464Z",
     "start_time": "2021-01-26T10:50:11.913945Z"
    }
   },
   "outputs": [
    {
     "data": {
      "text/html": [
       "<div>\n",
       "<style scoped>\n",
       "    .dataframe tbody tr th:only-of-type {\n",
       "        vertical-align: middle;\n",
       "    }\n",
       "\n",
       "    .dataframe tbody tr th {\n",
       "        vertical-align: top;\n",
       "    }\n",
       "\n",
       "    .dataframe thead th {\n",
       "        text-align: right;\n",
       "    }\n",
       "</style>\n",
       "<table border=\"1\" class=\"dataframe\">\n",
       "  <thead>\n",
       "    <tr style=\"text-align: right;\">\n",
       "      <th></th>\n",
       "      <th>pid</th>\n",
       "      <th>hid</th>\n",
       "      <th>seq</th>\n",
       "      <th>hzone</th>\n",
       "      <th>ozone</th>\n",
       "      <th>dzone</th>\n",
       "      <th>purp</th>\n",
       "      <th>mode</th>\n",
       "      <th>tst</th>\n",
       "      <th>tet</th>\n",
       "      <th>freq</th>\n",
       "    </tr>\n",
       "  </thead>\n",
       "  <tbody>\n",
       "    <tr>\n",
       "      <th>0</th>\n",
       "      <td>0</td>\n",
       "      <td>0</td>\n",
       "      <td>1</td>\n",
       "      <td>a</td>\n",
       "      <td>a</td>\n",
       "      <td>b</td>\n",
       "      <td>work</td>\n",
       "      <td>car</td>\n",
       "      <td>500</td>\n",
       "      <td>530</td>\n",
       "      <td>10</td>\n",
       "    </tr>\n",
       "    <tr>\n",
       "      <th>1</th>\n",
       "      <td>0</td>\n",
       "      <td>0</td>\n",
       "      <td>2</td>\n",
       "      <td>a</td>\n",
       "      <td>b</td>\n",
       "      <td>a</td>\n",
       "      <td>work</td>\n",
       "      <td>car</td>\n",
       "      <td>1000</td>\n",
       "      <td>1030</td>\n",
       "      <td>10</td>\n",
       "    </tr>\n",
       "    <tr>\n",
       "      <th>2</th>\n",
       "      <td>1</td>\n",
       "      <td>0</td>\n",
       "      <td>1</td>\n",
       "      <td>a</td>\n",
       "      <td>a</td>\n",
       "      <td>b</td>\n",
       "      <td>work</td>\n",
       "      <td>car</td>\n",
       "      <td>500</td>\n",
       "      <td>530</td>\n",
       "      <td>10</td>\n",
       "    </tr>\n",
       "    <tr>\n",
       "      <th>3</th>\n",
       "      <td>1</td>\n",
       "      <td>0</td>\n",
       "      <td>2</td>\n",
       "      <td>a</td>\n",
       "      <td>b</td>\n",
       "      <td>a</td>\n",
       "      <td>work</td>\n",
       "      <td>car</td>\n",
       "      <td>800</td>\n",
       "      <td>830</td>\n",
       "      <td>10</td>\n",
       "    </tr>\n",
       "    <tr>\n",
       "      <th>4</th>\n",
       "      <td>1</td>\n",
       "      <td>0</td>\n",
       "      <td>3</td>\n",
       "      <td>a</td>\n",
       "      <td>a</td>\n",
       "      <td>c</td>\n",
       "      <td>other</td>\n",
       "      <td>car</td>\n",
       "      <td>1000</td>\n",
       "      <td>1030</td>\n",
       "      <td>10</td>\n",
       "    </tr>\n",
       "    <tr>\n",
       "      <th>...</th>\n",
       "      <td>...</td>\n",
       "      <td>...</td>\n",
       "      <td>...</td>\n",
       "      <td>...</td>\n",
       "      <td>...</td>\n",
       "      <td>...</td>\n",
       "      <td>...</td>\n",
       "      <td>...</td>\n",
       "      <td>...</td>\n",
       "      <td>...</td>\n",
       "      <td>...</td>\n",
       "    </tr>\n",
       "    <tr>\n",
       "      <th>57</th>\n",
       "      <td>21</td>\n",
       "      <td>18</td>\n",
       "      <td>1</td>\n",
       "      <td>a</td>\n",
       "      <td>b</td>\n",
       "      <td>c</td>\n",
       "      <td>work</td>\n",
       "      <td>car</td>\n",
       "      <td>500</td>\n",
       "      <td>1000</td>\n",
       "      <td>10</td>\n",
       "    </tr>\n",
       "    <tr>\n",
       "      <th>58</th>\n",
       "      <td>21</td>\n",
       "      <td>18</td>\n",
       "      <td>2</td>\n",
       "      <td>a</td>\n",
       "      <td>c</td>\n",
       "      <td>d</td>\n",
       "      <td>work</td>\n",
       "      <td>car</td>\n",
       "      <td>1100</td>\n",
       "      <td>1200</td>\n",
       "      <td>10</td>\n",
       "    </tr>\n",
       "    <tr>\n",
       "      <th>59</th>\n",
       "      <td>22</td>\n",
       "      <td>19</td>\n",
       "      <td>1</td>\n",
       "      <td>a</td>\n",
       "      <td>a</td>\n",
       "      <td>a</td>\n",
       "      <td>shop</td>\n",
       "      <td>car</td>\n",
       "      <td>500</td>\n",
       "      <td>530</td>\n",
       "      <td>10</td>\n",
       "    </tr>\n",
       "    <tr>\n",
       "      <th>60</th>\n",
       "      <td>22</td>\n",
       "      <td>19</td>\n",
       "      <td>2</td>\n",
       "      <td>a</td>\n",
       "      <td>a</td>\n",
       "      <td>b</td>\n",
       "      <td>work</td>\n",
       "      <td>car</td>\n",
       "      <td>600</td>\n",
       "      <td>630</td>\n",
       "      <td>10</td>\n",
       "    </tr>\n",
       "    <tr>\n",
       "      <th>61</th>\n",
       "      <td>22</td>\n",
       "      <td>19</td>\n",
       "      <td>3</td>\n",
       "      <td>a</td>\n",
       "      <td>b</td>\n",
       "      <td>a</td>\n",
       "      <td>work</td>\n",
       "      <td>car</td>\n",
       "      <td>900</td>\n",
       "      <td>945</td>\n",
       "      <td>10</td>\n",
       "    </tr>\n",
       "  </tbody>\n",
       "</table>\n",
       "<p>62 rows × 11 columns</p>\n",
       "</div>"
      ],
      "text/plain": [
       "    pid  hid  seq hzone ozone dzone   purp mode   tst   tet  freq\n",
       "0     0    0    1     a     a     b   work  car   500   530    10\n",
       "1     0    0    2     a     b     a   work  car  1000  1030    10\n",
       "2     1    0    1     a     a     b   work  car   500   530    10\n",
       "3     1    0    2     a     b     a   work  car   800   830    10\n",
       "4     1    0    3     a     a     c  other  car  1000  1030    10\n",
       "..  ...  ...  ...   ...   ...   ...    ...  ...   ...   ...   ...\n",
       "57   21   18    1     a     b     c   work  car   500  1000    10\n",
       "58   21   18    2     a     c     d   work  car  1100  1200    10\n",
       "59   22   19    1     a     a     a   shop  car   500   530    10\n",
       "60   22   19    2     a     a     b   work  car   600   630    10\n",
       "61   22   19    3     a     b     a   work  car   900   945    10\n",
       "\n",
       "[62 rows x 11 columns]"
      ]
     },
     "execution_count": 38,
     "metadata": {},
     "output_type": "execute_result"
    }
   ],
   "source": [
    "trips"
   ]
  },
  {
   "cell_type": "code",
   "execution_count": 39,
   "metadata": {
    "ExecuteTime": {
     "end_time": "2021-01-26T10:50:12.508197Z",
     "start_time": "2021-01-26T10:50:12.109424Z"
    }
   },
   "outputs": [
    {
     "data": {
      "text/html": [
       "<div>\n",
       "<style scoped>\n",
       "    .dataframe tbody tr th:only-of-type {\n",
       "        vertical-align: middle;\n",
       "    }\n",
       "\n",
       "    .dataframe tbody tr th {\n",
       "        vertical-align: top;\n",
       "    }\n",
       "\n",
       "    .dataframe thead th {\n",
       "        text-align: right;\n",
       "    }\n",
       "</style>\n",
       "<table border=\"1\" class=\"dataframe\">\n",
       "  <thead>\n",
       "    <tr style=\"text-align: right;\">\n",
       "      <th></th>\n",
       "      <th></th>\n",
       "      <th></th>\n",
       "      <th>pid</th>\n",
       "      <th>hid</th>\n",
       "      <th>seq</th>\n",
       "      <th>hzone</th>\n",
       "      <th>ozone</th>\n",
       "      <th>dzone</th>\n",
       "      <th>purp</th>\n",
       "      <th>mode</th>\n",
       "      <th>tst</th>\n",
       "      <th>tet</th>\n",
       "      <th>...</th>\n",
       "      <th>geometry_home</th>\n",
       "      <th>activity</th>\n",
       "      <th>floors</th>\n",
       "      <th>units</th>\n",
       "      <th>area</th>\n",
       "      <th>transit</th>\n",
       "      <th>geometry_d</th>\n",
       "      <th>zone</th>\n",
       "      <th>distance</th>\n",
       "      <th>weight</th>\n",
       "    </tr>\n",
       "    <tr>\n",
       "      <th>pid</th>\n",
       "      <th>seq</th>\n",
       "      <th></th>\n",
       "      <th></th>\n",
       "      <th></th>\n",
       "      <th></th>\n",
       "      <th></th>\n",
       "      <th></th>\n",
       "      <th></th>\n",
       "      <th></th>\n",
       "      <th></th>\n",
       "      <th></th>\n",
       "      <th></th>\n",
       "      <th></th>\n",
       "      <th></th>\n",
       "      <th></th>\n",
       "      <th></th>\n",
       "      <th></th>\n",
       "      <th></th>\n",
       "      <th></th>\n",
       "      <th></th>\n",
       "      <th></th>\n",
       "      <th></th>\n",
       "      <th></th>\n",
       "    </tr>\n",
       "  </thead>\n",
       "  <tbody>\n",
       "    <tr>\n",
       "      <th rowspan=\"2\" valign=\"top\">0</th>\n",
       "      <th>1</th>\n",
       "      <th>7</th>\n",
       "      <td>0</td>\n",
       "      <td>0</td>\n",
       "      <td>1</td>\n",
       "      <td>a</td>\n",
       "      <td>a</td>\n",
       "      <td>b</td>\n",
       "      <td>work</td>\n",
       "      <td>car</td>\n",
       "      <td>500</td>\n",
       "      <td>530</td>\n",
       "      <td>...</td>\n",
       "      <td>POINT (15.35121 81.34697)</td>\n",
       "      <td>work</td>\n",
       "      <td>1</td>\n",
       "      <td>6</td>\n",
       "      <td>84</td>\n",
       "      <td>5876</td>\n",
       "      <td>POINT (56.06122 62.96130)</td>\n",
       "      <td>b</td>\n",
       "      <td>44.669201</td>\n",
       "      <td>1.880490</td>\n",
       "    </tr>\n",
       "    <tr>\n",
       "      <th>2</th>\n",
       "      <th>242</th>\n",
       "      <td>0</td>\n",
       "      <td>0</td>\n",
       "      <td>2</td>\n",
       "      <td>a</td>\n",
       "      <td>b</td>\n",
       "      <td>a</td>\n",
       "      <td>work</td>\n",
       "      <td>car</td>\n",
       "      <td>1000</td>\n",
       "      <td>1030</td>\n",
       "      <td>...</td>\n",
       "      <td>POINT (15.35121 81.34697)</td>\n",
       "      <td>work</td>\n",
       "      <td>1</td>\n",
       "      <td>9</td>\n",
       "      <td>83</td>\n",
       "      <td>9907</td>\n",
       "      <td>POINT (15.08483 70.28255)</td>\n",
       "      <td>a</td>\n",
       "      <td>11.067627</td>\n",
       "      <td>7.499349</td>\n",
       "    </tr>\n",
       "    <tr>\n",
       "      <th rowspan=\"3\" valign=\"top\">1</th>\n",
       "      <th>1</th>\n",
       "      <th>20</th>\n",
       "      <td>1</td>\n",
       "      <td>0</td>\n",
       "      <td>1</td>\n",
       "      <td>a</td>\n",
       "      <td>a</td>\n",
       "      <td>b</td>\n",
       "      <td>work</td>\n",
       "      <td>car</td>\n",
       "      <td>500</td>\n",
       "      <td>530</td>\n",
       "      <td>...</td>\n",
       "      <td>POINT (15.35121 81.34697)</td>\n",
       "      <td>work</td>\n",
       "      <td>2</td>\n",
       "      <td>13</td>\n",
       "      <td>39</td>\n",
       "      <td>8213</td>\n",
       "      <td>POINT (48.76940 75.75142)</td>\n",
       "      <td>b</td>\n",
       "      <td>33.883409</td>\n",
       "      <td>1.151006</td>\n",
       "    </tr>\n",
       "    <tr>\n",
       "      <th>2</th>\n",
       "      <th>264</th>\n",
       "      <td>1</td>\n",
       "      <td>0</td>\n",
       "      <td>2</td>\n",
       "      <td>a</td>\n",
       "      <td>b</td>\n",
       "      <td>a</td>\n",
       "      <td>work</td>\n",
       "      <td>car</td>\n",
       "      <td>800</td>\n",
       "      <td>830</td>\n",
       "      <td>...</td>\n",
       "      <td>POINT (15.35121 81.34697)</td>\n",
       "      <td>work</td>\n",
       "      <td>1</td>\n",
       "      <td>16</td>\n",
       "      <td>48</td>\n",
       "      <td>511</td>\n",
       "      <td>POINT (28.77965 73.86014)</td>\n",
       "      <td>a</td>\n",
       "      <td>15.374515</td>\n",
       "      <td>3.122050</td>\n",
       "    </tr>\n",
       "    <tr>\n",
       "      <th>3</th>\n",
       "      <th>460</th>\n",
       "      <td>1</td>\n",
       "      <td>0</td>\n",
       "      <td>3</td>\n",
       "      <td>a</td>\n",
       "      <td>a</td>\n",
       "      <td>c</td>\n",
       "      <td>other</td>\n",
       "      <td>car</td>\n",
       "      <td>1000</td>\n",
       "      <td>1030</td>\n",
       "      <td>...</td>\n",
       "      <td>POINT (15.35121 81.34697)</td>\n",
       "      <td>other</td>\n",
       "      <td>2</td>\n",
       "      <td>4</td>\n",
       "      <td>40</td>\n",
       "      <td>9899</td>\n",
       "      <td>POINT (71.45500 70.05168)</td>\n",
       "      <td>c</td>\n",
       "      <td>57.229530</td>\n",
       "      <td>0.698940</td>\n",
       "    </tr>\n",
       "    <tr>\n",
       "      <th>...</th>\n",
       "      <th>...</th>\n",
       "      <th>...</th>\n",
       "      <td>...</td>\n",
       "      <td>...</td>\n",
       "      <td>...</td>\n",
       "      <td>...</td>\n",
       "      <td>...</td>\n",
       "      <td>...</td>\n",
       "      <td>...</td>\n",
       "      <td>...</td>\n",
       "      <td>...</td>\n",
       "      <td>...</td>\n",
       "      <td>...</td>\n",
       "      <td>...</td>\n",
       "      <td>...</td>\n",
       "      <td>...</td>\n",
       "      <td>...</td>\n",
       "      <td>...</td>\n",
       "      <td>...</td>\n",
       "      <td>...</td>\n",
       "      <td>...</td>\n",
       "      <td>...</td>\n",
       "      <td>...</td>\n",
       "    </tr>\n",
       "    <tr>\n",
       "      <th rowspan=\"2\" valign=\"top\">21</th>\n",
       "      <th>1</th>\n",
       "      <th>665</th>\n",
       "      <td>21</td>\n",
       "      <td>18</td>\n",
       "      <td>1</td>\n",
       "      <td>a</td>\n",
       "      <td>b</td>\n",
       "      <td>c</td>\n",
       "      <td>work</td>\n",
       "      <td>car</td>\n",
       "      <td>500</td>\n",
       "      <td>1000</td>\n",
       "      <td>...</td>\n",
       "      <td>POINT (8.19527 63.31716)</td>\n",
       "      <td>work</td>\n",
       "      <td>3</td>\n",
       "      <td>8</td>\n",
       "      <td>89</td>\n",
       "      <td>6971</td>\n",
       "      <td>POINT (80.08451 69.37098)</td>\n",
       "      <td>c</td>\n",
       "      <td>72.143682</td>\n",
       "      <td>1.233649</td>\n",
       "    </tr>\n",
       "    <tr>\n",
       "      <th>2</th>\n",
       "      <th>934</th>\n",
       "      <td>21</td>\n",
       "      <td>18</td>\n",
       "      <td>2</td>\n",
       "      <td>a</td>\n",
       "      <td>c</td>\n",
       "      <td>d</td>\n",
       "      <td>work</td>\n",
       "      <td>car</td>\n",
       "      <td>1100</td>\n",
       "      <td>1200</td>\n",
       "      <td>...</td>\n",
       "      <td>POINT (8.19527 63.31716)</td>\n",
       "      <td>work</td>\n",
       "      <td>3</td>\n",
       "      <td>8</td>\n",
       "      <td>80</td>\n",
       "      <td>2361</td>\n",
       "      <td>POINT (0.83114 34.04112)</td>\n",
       "      <td>d</td>\n",
       "      <td>30.188022</td>\n",
       "      <td>2.650058</td>\n",
       "    </tr>\n",
       "    <tr>\n",
       "      <th rowspan=\"3\" valign=\"top\">22</th>\n",
       "      <th>1</th>\n",
       "      <th>1107</th>\n",
       "      <td>22</td>\n",
       "      <td>19</td>\n",
       "      <td>1</td>\n",
       "      <td>a</td>\n",
       "      <td>a</td>\n",
       "      <td>a</td>\n",
       "      <td>shop</td>\n",
       "      <td>car</td>\n",
       "      <td>500</td>\n",
       "      <td>530</td>\n",
       "      <td>...</td>\n",
       "      <td>POINT (5.64507 85.03755)</td>\n",
       "      <td>shop</td>\n",
       "      <td>2</td>\n",
       "      <td>12</td>\n",
       "      <td>93</td>\n",
       "      <td>2315</td>\n",
       "      <td>POINT (22.68034 89.03400)</td>\n",
       "      <td>a</td>\n",
       "      <td>17.497771</td>\n",
       "      <td>5.314963</td>\n",
       "    </tr>\n",
       "    <tr>\n",
       "      <th>2</th>\n",
       "      <th>221</th>\n",
       "      <td>22</td>\n",
       "      <td>19</td>\n",
       "      <td>2</td>\n",
       "      <td>a</td>\n",
       "      <td>a</td>\n",
       "      <td>b</td>\n",
       "      <td>work</td>\n",
       "      <td>car</td>\n",
       "      <td>600</td>\n",
       "      <td>630</td>\n",
       "      <td>...</td>\n",
       "      <td>POINT (5.64507 85.03755)</td>\n",
       "      <td>work</td>\n",
       "      <td>3</td>\n",
       "      <td>9</td>\n",
       "      <td>98</td>\n",
       "      <td>7892</td>\n",
       "      <td>POINT (45.84910 70.27308)</td>\n",
       "      <td>b</td>\n",
       "      <td>42.829360</td>\n",
       "      <td>2.288150</td>\n",
       "    </tr>\n",
       "    <tr>\n",
       "      <th>3</th>\n",
       "      <th>457</th>\n",
       "      <td>22</td>\n",
       "      <td>19</td>\n",
       "      <td>3</td>\n",
       "      <td>a</td>\n",
       "      <td>b</td>\n",
       "      <td>a</td>\n",
       "      <td>work</td>\n",
       "      <td>car</td>\n",
       "      <td>900</td>\n",
       "      <td>945</td>\n",
       "      <td>...</td>\n",
       "      <td>POINT (5.64507 85.03755)</td>\n",
       "      <td>work</td>\n",
       "      <td>2</td>\n",
       "      <td>8</td>\n",
       "      <td>77</td>\n",
       "      <td>5897</td>\n",
       "      <td>POINT (3.78450 83.27122)</td>\n",
       "      <td>a</td>\n",
       "      <td>2.565464</td>\n",
       "      <td>30.014058</td>\n",
       "    </tr>\n",
       "  </tbody>\n",
       "</table>\n",
       "<p>62 rows × 22 columns</p>\n",
       "</div>"
      ],
      "text/plain": [
       "              pid  hid  seq hzone ozone dzone   purp mode   tst   tet  ...  \\\n",
       "pid seq                                                                ...   \n",
       "0   1   7       0    0    1     a     a     b   work  car   500   530  ...   \n",
       "    2   242     0    0    2     a     b     a   work  car  1000  1030  ...   \n",
       "1   1   20      1    0    1     a     a     b   work  car   500   530  ...   \n",
       "    2   264     1    0    2     a     b     a   work  car   800   830  ...   \n",
       "    3   460     1    0    3     a     a     c  other  car  1000  1030  ...   \n",
       "...           ...  ...  ...   ...   ...   ...    ...  ...   ...   ...  ...   \n",
       "21  1   665    21   18    1     a     b     c   work  car   500  1000  ...   \n",
       "    2   934    21   18    2     a     c     d   work  car  1100  1200  ...   \n",
       "22  1   1107   22   19    1     a     a     a   shop  car   500   530  ...   \n",
       "    2   221    22   19    2     a     a     b   work  car   600   630  ...   \n",
       "    3   457    22   19    3     a     b     a   work  car   900   945  ...   \n",
       "\n",
       "                          geometry_home  activity floors units  area  transit  \\\n",
       "pid seq                                                                         \n",
       "0   1   7     POINT (15.35121 81.34697)      work      1     6    84     5876   \n",
       "    2   242   POINT (15.35121 81.34697)      work      1     9    83     9907   \n",
       "1   1   20    POINT (15.35121 81.34697)      work      2    13    39     8213   \n",
       "    2   264   POINT (15.35121 81.34697)      work      1    16    48      511   \n",
       "    3   460   POINT (15.35121 81.34697)     other      2     4    40     9899   \n",
       "...                                 ...       ...    ...   ...   ...      ...   \n",
       "21  1   665    POINT (8.19527 63.31716)      work      3     8    89     6971   \n",
       "    2   934    POINT (8.19527 63.31716)      work      3     8    80     2361   \n",
       "22  1   1107   POINT (5.64507 85.03755)      shop      2    12    93     2315   \n",
       "    2   221    POINT (5.64507 85.03755)      work      3     9    98     7892   \n",
       "    3   457    POINT (5.64507 85.03755)      work      2     8    77     5897   \n",
       "\n",
       "                             geometry_d  zone   distance     weight  \n",
       "pid seq                                                              \n",
       "0   1   7     POINT (56.06122 62.96130)     b  44.669201   1.880490  \n",
       "    2   242   POINT (15.08483 70.28255)     a  11.067627   7.499349  \n",
       "1   1   20    POINT (48.76940 75.75142)     b  33.883409   1.151006  \n",
       "    2   264   POINT (28.77965 73.86014)     a  15.374515   3.122050  \n",
       "    3   460   POINT (71.45500 70.05168)     c  57.229530   0.698940  \n",
       "...                                 ...   ...        ...        ...  \n",
       "21  1   665   POINT (80.08451 69.37098)     c  72.143682   1.233649  \n",
       "    2   934    POINT (0.83114 34.04112)     d  30.188022   2.650058  \n",
       "22  1   1107  POINT (22.68034 89.03400)     a  17.497771   5.314963  \n",
       "    2   221   POINT (45.84910 70.27308)     b  42.829360   2.288150  \n",
       "    3   457    POINT (3.78450 83.27122)     a   2.565464  30.014058  \n",
       "\n",
       "[62 rows x 22 columns]"
      ]
     },
     "execution_count": 39,
     "metadata": {},
     "output_type": "execute_result"
    }
   ],
   "source": [
    "# combine with trips\n",
    "trips_sampled = pd.merge(\n",
    "    trips,\n",
    "    hh_locs[['geometry']].reset_index(),\n",
    "    on='hid'\n",
    ")\n",
    "\n",
    "# expand for possible locations\n",
    "trips_sampled = pd.merge(\n",
    "    trips_sampled,\n",
    "    points,\n",
    "    right_on = ['zone', 'activity'],\n",
    "    left_on = ['dzone','purp'],\n",
    "    suffixes = ['_home','_d']\n",
    ")\n",
    "\n",
    "# calculate distance\n",
    "trips_sampled['distance'] = trips_sampled.apply(lambda x: x.geometry_d.distance(x.geometry_home), axis=1) \n",
    "\n",
    "# calcualte weight\n",
    "trips_sampled['weight'] = trips_sampled['area'] / trips_sampled['distance']\n",
    "# weight to zero if too far from PT stop\n",
    "trips_sampled['weight'] = np.where(\n",
    "    (trips_sampled['transit'] > 2000) & (trips_sampled['mode']=='bus'),\n",
    "    0,\n",
    "    trips_sampled['weight']\n",
    ")\n",
    "# don't walk too far\n",
    "trips_sampled['weight'] = np.where(\n",
    "    (trips_sampled['distance'] > 4000) & (trips_sampled['mode']=='walk'),\n",
    "    0,\n",
    "    trips_sampled['weight']\n",
    ")\n",
    "\n",
    "# sample\n",
    "trips_sampled = trips_sampled.groupby(['pid','seq']).apply(lambda x: x.sample(1, weights = x.weight))\n",
    "\n",
    "trips_sampled"
   ]
  },
  {
   "cell_type": "code",
   "execution_count": 40,
   "metadata": {
    "ExecuteTime": {
     "end_time": "2021-01-26T10:50:12.815812Z",
     "start_time": "2021-01-26T10:50:12.510147Z"
    }
   },
   "outputs": [
    {
     "data": {
      "text/plain": [
       "<AxesSubplot:>"
      ]
     },
     "execution_count": 40,
     "metadata": {},
     "output_type": "execute_result"
    },
    {
     "data": {
      "image/png": "[encoded data removed]",
      "text/plain": [
       "<Figure size 432x288 with 1 Axes>"
      ]
     },
     "metadata": {
      "needs_background": "light"
     },
     "output_type": "display_data"
    }
   ],
   "source": [
    "trips_sampled.distance.hist()"
   ]
  },
  {
   "cell_type": "code",
   "execution_count": 42,
   "metadata": {
    "ExecuteTime": {
     "end_time": "2021-01-26T10:50:21.215095Z",
     "start_time": "2021-01-26T10:50:21.024266Z"
    }
   },
   "outputs": [],
   "source": [
    "# trips_sampled.geometry[0].distance(trips_sampled.geometry[10])"
   ]
  },
  {
   "cell_type": "code",
   "execution_count": 43,
   "metadata": {
    "ExecuteTime": {
     "end_time": "2021-01-26T10:50:21.620105Z",
     "start_time": "2021-01-26T10:50:21.424627Z"
    }
   },
   "outputs": [
    {
     "data": {
      "text/plain": [
       "{'acts': ['work', 'health', 'food_shop'],\n",
       " 'floors': 4,\n",
       " 'area': 200,\n",
       " 'transit': 120}"
      ]
     },
     "execution_count": 43,
     "metadata": {},
     "output_type": "execute_result"
    }
   ],
   "source": [
    "facilities.features[2]"
   ]
  },
  {
   "cell_type": "code",
   "execution_count": 44,
   "metadata": {
    "ExecuteTime": {
     "end_time": "2021-01-26T10:50:23.119713Z",
     "start_time": "2021-01-26T10:50:22.096512Z"
    }
   },
   "outputs": [],
   "source": [
    "import seaborn as sns"
   ]
  },
  {
   "cell_type": "code",
   "execution_count": 46,
   "metadata": {
    "ExecuteTime": {
     "end_time": "2021-01-26T10:50:39.671402Z",
     "start_time": "2021-01-26T10:50:39.465526Z"
    }
   },
   "outputs": [],
   "source": [
    "# # demo location choice likehood function\n",
    "# n = 20\n",
    "# (np.array(range(0,n)) + 1).dot((np.array(range(0,n)) + 1).reshape(1,-1))\n"
   ]
  },
  {
   "cell_type": "code",
   "execution_count": 47,
   "metadata": {
    "ExecuteTime": {
     "end_time": "2021-01-26T10:50:40.568249Z",
     "start_time": "2021-01-26T10:50:39.854610Z"
    }
   },
   "outputs": [
    {
     "data": {
      "image/png": "[encoded data removed]",
      "text/plain": [
       "<Figure size 1008x576 with 2 Axes>"
      ]
     },
     "metadata": {
      "needs_background": "light"
     },
     "output_type": "display_data"
    }
   ],
   "source": [
    "n = 11\n",
    "decay_factor = 0.5\n",
    "fs_power = 2\n",
    "\n",
    "f = (np.array(range(n,0,-1)) + 1).reshape(-1,1) ** fs_power\n",
    "d = ((np.array(range(0,n)) + 1)).reshape(1,-1) ** decay_factor\n",
    "p = (f).dot(1/d)\n",
    "p = p / p.sum().sum()\n",
    "\n",
    "plt.figure(figsize=(14,8))\n",
    "sns.heatmap(p, annot=True, fmt='.1%')\n",
    "plt.ylabel('Floorspace')\n",
    "plt.xlabel('Distance')\n",
    "plt.show()"
   ]
  },
  {
   "cell_type": "code",
   "execution_count": 48,
   "metadata": {
    "ExecuteTime": {
     "end_time": "2021-01-26T10:50:43.017389Z",
     "start_time": "2021-01-26T10:50:42.349121Z"
    }
   },
   "outputs": [
    {
     "data": {
      "image/png": "[encoded data removed]",
      "text/plain": [
       "<Figure size 1008x576 with 2 Axes>"
      ]
     },
     "metadata": {
      "needs_background": "light"
     },
     "output_type": "display_data"
    }
   ],
   "source": [
    "# as above, logit\n",
    "n = 11\n",
    "decay_factor = 0.1\n",
    "fs_power = 0.2\n",
    "\n",
    "f = (np.array(range(n,0,-1)) + 1).reshape(-1,1) ** fs_power\n",
    "d = ((np.array(range(0,n)) + 1)).reshape(1,-1) ** decay_factor\n",
    "p = np.exp((f).dot(1/d))\n",
    "p = p / p.sum().sum()\n",
    "\n",
    "plt.figure(figsize=(14,8))\n",
    "sns.heatmap(p, annot=True, fmt='.1%')\n",
    "plt.ylabel('Floorspace')\n",
    "plt.xlabel('Distance')\n",
    "plt.show()"
   ]
  },
  {
   "cell_type": "code",
   "execution_count": 49,
   "metadata": {
    "ExecuteTime": {
     "end_time": "2021-01-26T10:50:43.808258Z",
     "start_time": "2021-01-26T10:50:43.444227Z"
    }
   },
   "outputs": [
    {
     "data": {
      "image/png": "[encoded data removed]",
      "text/plain": [
       "<Figure size 864x504 with 1 Axes>"
      ]
     },
     "metadata": {
      "needs_background": "light"
     },
     "output_type": "display_data"
    }
   ],
   "source": [
    "n = 10\n",
    "decay_factor = 0.1\n",
    "fs_power = 0.2\n",
    "\n",
    "f = (np.array(range(n,0,-1)) + 1).reshape(-1,1) ** fs_power\n",
    "d = ((np.array(range(0,n)) + 1)).reshape(1,-1) ** decay_factor\n",
    "p = (f).dot(1/d)\n",
    "p = p / p.sum().sum()\n",
    "\n",
    "plt.figure(figsize=(12,7))\n",
    "plt.contour(p, levels=[x/n/100 for x in range(1,10)],extend='both')\n",
    "plt.grid()\n",
    "plt.ylabel('Floorspace')\n",
    "plt.xlabel('Distance')\n",
    "plt.show()"
   ]
  },
  {
   "cell_type": "code",
   "execution_count": 50,
   "metadata": {
    "ExecuteTime": {
     "end_time": "2021-01-26T10:50:44.460637Z",
     "start_time": "2021-01-26T10:50:44.264155Z"
    }
   },
   "outputs": [
    {
     "data": {
      "text/plain": [
       "array([[0.01313511, 0.01225549, 0.01176852, 0.01143478, 0.01118245,\n",
       "        0.01098041, 0.01081245, 0.01066903, 0.0105441 , 0.01043359],\n",
       "       [0.0128871 , 0.01202409, 0.01154631, 0.01121887, 0.01097131,\n",
       "        0.01077309, 0.01060829, 0.01046758, 0.01034501, 0.01023659],\n",
       "       [0.01261839, 0.01177337, 0.01130555, 0.01098494, 0.01074254,\n",
       "        0.01054845, 0.01038709, 0.01024931, 0.0101293 , 0.01002314],\n",
       "       [0.01232461, 0.01149927, 0.01104234, 0.0107292 , 0.01049244,\n",
       "        0.01030287, 0.01014527, 0.0100107 , 0.00989348, 0.00978979],\n",
       "       [0.01199983, 0.01119623, 0.01075134, 0.01044645, 0.01021593,\n",
       "        0.01003136, 0.00987791, 0.00974689, 0.00963276, 0.0095318 ],\n",
       "       [0.01163551, 0.01085632, 0.01042494, 0.0101293 , 0.00990578,\n",
       "        0.00972681, 0.00957802, 0.00945097, 0.00934031, 0.00924242],\n",
       "       [0.01121887, 0.01046758, 0.01005165, 0.0097666 , 0.00955108,\n",
       "        0.00937852, 0.00923506, 0.00911256, 0.00900586, 0.00891147],\n",
       "       [0.0107292 , 0.0100107 , 0.00961292, 0.00934031, 0.0091342 ,\n",
       "        0.00896917, 0.00883197, 0.00871482, 0.00861277, 0.00852251],\n",
       "       [0.0101293 , 0.00945097, 0.00907543, 0.00881807, 0.00862348,\n",
       "        0.00846768, 0.00833815, 0.00822755, 0.00813121, 0.00804599],\n",
       "       [0.00934031, 0.00871482, 0.00836853, 0.00813121, 0.00795178,\n",
       "        0.00780811, 0.00768867, 0.00758669, 0.00749786, 0.00741927]])"
      ]
     },
     "execution_count": 50,
     "metadata": {},
     "output_type": "execute_result"
    }
   ],
   "source": [
    "p"
   ]
  },
  {
   "cell_type": "code",
   "execution_count": 51,
   "metadata": {
    "ExecuteTime": {
     "end_time": "2021-01-26T10:50:45.140989Z",
     "start_time": "2021-01-26T10:50:44.842737Z"
    }
   },
   "outputs": [
    {
     "data": {
      "image/png": "[encoded data removed]",
      "text/plain": [
       "<Figure size 864x504 with 1 Axes>"
      ]
     },
     "metadata": {
      "needs_background": "light"
     },
     "output_type": "display_data"
    }
   ],
   "source": [
    "n = 110\n",
    "decay_factor = 1\n",
    "fs_power = 1\n",
    "\n",
    "f = (np.array(range(n,1,-1)) + 10).reshape(-1,1) ** fs_power\n",
    "d = ((np.array(range(1,n)) + 10)).reshape(1,-1) ** decay_factor\n",
    "p = np.exp((f).dot(1/d))\n",
    "p = p / p.max().max()\n",
    "\n",
    "plt.figure(figsize=(12,7))\n",
    "plt.contour(p, levels=[x/10 for x in range(1,10)],extend='both')\n",
    "plt.grid()\n",
    "plt.ylabel('Floorspace')\n",
    "plt.xlabel('Distance')\n",
    "plt.show()"
   ]
  },
  {
   "cell_type": "markdown",
   "metadata": {},
   "source": [
    "# Facility Sampling"
   ]
  },
  {
   "cell_type": "code",
   "execution_count": 53,
   "metadata": {
    "ExecuteTime": {
     "end_time": "2021-01-26T10:50:51.598867Z",
     "start_time": "2021-01-26T10:50:51.370079Z"
    }
   },
   "outputs": [],
   "source": [
    "# facility_sampler = facility.FacilitySampler(\n",
    "#     facilities=facilities,\n",
    "#     zones=zones,\n",
    "#     build_xml=True,\n",
    "#     fail=False,\n",
    "#     random_default=True\n",
    "#     )"
   ]
  },
  {
   "cell_type": "code",
   "execution_count": 54,
   "metadata": {
    "ExecuteTime": {
     "end_time": "2021-01-26T10:50:51.914595Z",
     "start_time": "2021-01-26T10:50:51.600430Z"
    }
   },
   "outputs": [
    {
     "data": {
      "text/plain": [
       "<AxesSubplot:>"
      ]
     },
     "execution_count": 54,
     "metadata": {},
     "output_type": "execute_result"
    },
    {
     "data": {
      "image/png": "[encoded data removed]",
      "text/plain": [
       "<Figure size 432x288 with 1 Axes>"
      ]
     },
     "metadata": {
      "needs_background": "light"
     },
     "output_type": "display_data"
    }
   ],
   "source": [
    "points.units.hist()"
   ]
  },
  {
   "cell_type": "code",
   "execution_count": 55,
   "metadata": {
    "ExecuteTime": {
     "end_time": "2021-01-26T10:50:52.124071Z",
     "start_time": "2021-01-26T10:50:51.915592Z"
    }
   },
   "outputs": [
    {
     "data": {
      "text/html": [
       "<div>\n",
       "<style scoped>\n",
       "    .dataframe tbody tr th:only-of-type {\n",
       "        vertical-align: middle;\n",
       "    }\n",
       "\n",
       "    .dataframe tbody tr th {\n",
       "        vertical-align: top;\n",
       "    }\n",
       "\n",
       "    .dataframe thead th {\n",
       "        text-align: right;\n",
       "    }\n",
       "</style>\n",
       "<table border=\"1\" class=\"dataframe\">\n",
       "  <thead>\n",
       "    <tr style=\"text-align: right;\">\n",
       "      <th></th>\n",
       "      <th>activity</th>\n",
       "      <th>floors</th>\n",
       "      <th>units</th>\n",
       "      <th>area</th>\n",
       "      <th>transit</th>\n",
       "      <th>geometry</th>\n",
       "      <th>zone</th>\n",
       "    </tr>\n",
       "  </thead>\n",
       "  <tbody>\n",
       "    <tr>\n",
       "      <th>0</th>\n",
       "      <td>home</td>\n",
       "      <td>3</td>\n",
       "      <td>1</td>\n",
       "      <td>92</td>\n",
       "      <td>9278</td>\n",
       "      <td>POINT (84.53651 64.87446)</td>\n",
       "      <td>c</td>\n",
       "    </tr>\n",
       "    <tr>\n",
       "      <th>6</th>\n",
       "      <td>home</td>\n",
       "      <td>2</td>\n",
       "      <td>6</td>\n",
       "      <td>34</td>\n",
       "      <td>7648</td>\n",
       "      <td>POINT (77.19143 86.53923)</td>\n",
       "      <td>c</td>\n",
       "    </tr>\n",
       "    <tr>\n",
       "      <th>19</th>\n",
       "      <td>home</td>\n",
       "      <td>1</td>\n",
       "      <td>15</td>\n",
       "      <td>10</td>\n",
       "      <td>2428</td>\n",
       "      <td>POINT (65.73086 69.53914)</td>\n",
       "      <td>c</td>\n",
       "    </tr>\n",
       "    <tr>\n",
       "      <th>27</th>\n",
       "      <td>home</td>\n",
       "      <td>1</td>\n",
       "      <td>13</td>\n",
       "      <td>14</td>\n",
       "      <td>5724</td>\n",
       "      <td>POINT (62.62027 60.00793)</td>\n",
       "      <td>c</td>\n",
       "    </tr>\n",
       "    <tr>\n",
       "      <th>34</th>\n",
       "      <td>home</td>\n",
       "      <td>2</td>\n",
       "      <td>13</td>\n",
       "      <td>86</td>\n",
       "      <td>2433</td>\n",
       "      <td>POINT (79.67897 60.15292)</td>\n",
       "      <td>c</td>\n",
       "    </tr>\n",
       "    <tr>\n",
       "      <th>...</th>\n",
       "      <td>...</td>\n",
       "      <td>...</td>\n",
       "      <td>...</td>\n",
       "      <td>...</td>\n",
       "      <td>...</td>\n",
       "      <td>...</td>\n",
       "      <td>...</td>\n",
       "    </tr>\n",
       "    <tr>\n",
       "      <th>979</th>\n",
       "      <td>escort</td>\n",
       "      <td>2</td>\n",
       "      <td>11</td>\n",
       "      <td>34</td>\n",
       "      <td>2530</td>\n",
       "      <td>POINT (59.59184 17.84344)</td>\n",
       "      <td>h</td>\n",
       "    </tr>\n",
       "    <tr>\n",
       "      <th>987</th>\n",
       "      <td>escort</td>\n",
       "      <td>3</td>\n",
       "      <td>1</td>\n",
       "      <td>92</td>\n",
       "      <td>9197</td>\n",
       "      <td>POINT (57.32592 2.37754)</td>\n",
       "      <td>h</td>\n",
       "    </tr>\n",
       "    <tr>\n",
       "      <th>992</th>\n",
       "      <td>escort</td>\n",
       "      <td>1</td>\n",
       "      <td>9</td>\n",
       "      <td>73</td>\n",
       "      <td>1648</td>\n",
       "      <td>POINT (58.43742 25.68907)</td>\n",
       "      <td>h</td>\n",
       "    </tr>\n",
       "    <tr>\n",
       "      <th>998</th>\n",
       "      <td>escort</td>\n",
       "      <td>1</td>\n",
       "      <td>3</td>\n",
       "      <td>42</td>\n",
       "      <td>4632</td>\n",
       "      <td>POINT (37.19632 8.02566)</td>\n",
       "      <td>h</td>\n",
       "    </tr>\n",
       "    <tr>\n",
       "      <th>999</th>\n",
       "      <td>escort</td>\n",
       "      <td>1</td>\n",
       "      <td>3</td>\n",
       "      <td>61</td>\n",
       "      <td>6492</td>\n",
       "      <td>POINT (43.37248 21.20844)</td>\n",
       "      <td>h</td>\n",
       "    </tr>\n",
       "  </tbody>\n",
       "</table>\n",
       "<p>1000 rows × 7 columns</p>\n",
       "</div>"
      ],
      "text/plain": [
       "    activity  floors  units  area  transit                   geometry zone\n",
       "0       home       3      1    92     9278  POINT (84.53651 64.87446)    c\n",
       "6       home       2      6    34     7648  POINT (77.19143 86.53923)    c\n",
       "19      home       1     15    10     2428  POINT (65.73086 69.53914)    c\n",
       "27      home       1     13    14     5724  POINT (62.62027 60.00793)    c\n",
       "34      home       2     13    86     2433  POINT (79.67897 60.15292)    c\n",
       "..       ...     ...    ...   ...      ...                        ...  ...\n",
       "979   escort       2     11    34     2530  POINT (59.59184 17.84344)    h\n",
       "987   escort       3      1    92     9197   POINT (57.32592 2.37754)    h\n",
       "992   escort       1      9    73     1648  POINT (58.43742 25.68907)    h\n",
       "998   escort       1      3    42     4632   POINT (37.19632 8.02566)    h\n",
       "999   escort       1      3    61     6492  POINT (43.37248 21.20844)    h\n",
       "\n",
       "[1000 rows x 7 columns]"
      ]
     },
     "execution_count": 55,
     "metadata": {},
     "output_type": "execute_result"
    }
   ],
   "source": [
    "points"
   ]
  },
  {
   "cell_type": "code",
   "execution_count": 95,
   "metadata": {
    "ExecuteTime": {
     "end_time": "2021-01-26T11:13:46.532191Z",
     "start_time": "2021-01-26T11:13:46.246338Z"
    }
   },
   "outputs": [
    {
     "name": "stderr",
     "output_type": "stream",
     "text": [
      "Joining facilities data to zones, this may take a while.\n",
      "Building sampler, this may take a while.\n"
     ]
    }
   ],
   "source": [
    "facility_sampler_nonweighted = facility.FacilitySampler(\n",
    "    facilities=points,\n",
    "    zones=zones,\n",
    "    build_xml=True,\n",
    "    fail=False,\n",
    "    random_default=True\n",
    "    )"
   ]
  },
  {
   "cell_type": "code",
   "execution_count": 56,
   "metadata": {
    "ExecuteTime": {
     "end_time": "2021-01-26T10:50:52.439328Z",
     "start_time": "2021-01-26T10:50:52.128062Z"
    }
   },
   "outputs": [
    {
     "name": "stderr",
     "output_type": "stream",
     "text": [
      "Joining facilities data to zones, this may take a while.\n",
      "Building sampler, this may take a while.\n"
     ]
    }
   ],
   "source": [
    "facility_sampler = facility.FacilitySampler(\n",
    "    facilities=points,\n",
    "    zones=zones,\n",
    "    build_xml=True,\n",
    "    fail=False,\n",
    "    random_default=True,\n",
    "    weight_on = 'area'\n",
    "    )"
   ]
  },
  {
   "cell_type": "code",
   "execution_count": 57,
   "metadata": {
    "ExecuteTime": {
     "end_time": "2021-01-26T10:50:52.646725Z",
     "start_time": "2021-01-26T10:50:52.440265Z"
    }
   },
   "outputs": [],
   "source": [
    "# sample population\n",
    "\n",
    "population.sample_locs(facility_sampler)"
   ]
  },
  {
   "cell_type": "code",
   "execution_count": 96,
   "metadata": {
    "ExecuteTime": {
     "end_time": "2021-01-26T11:13:53.850349Z",
     "start_time": "2021-01-26T11:13:53.447384Z"
    }
   },
   "outputs": [
    {
     "data": {
      "text/plain": [
       "<AxesSubplot:>"
      ]
     },
     "execution_count": 96,
     "metadata": {},
     "output_type": "execute_result"
    },
    {
     "data": {
      "image/png": "[encoded data removed]",
      "text/plain": [
       "<Figure size 432x288 with 1 Axes>"
      ]
     },
     "metadata": {
      "needs_background": "light"
     },
     "output_type": "display_data"
    }
   ],
   "source": [
    "s = []\n",
    "for i in range(1000):\n",
    "    idx, point = next(facility_sampler_nonweighted.samplers['a']['work'])\n",
    "    s.append(points.loc[idx].area)\n",
    "pd.Series(s).hist()"
   ]
  },
  {
   "cell_type": "code",
   "execution_count": 97,
   "metadata": {
    "ExecuteTime": {
     "end_time": "2021-01-26T11:13:56.232840Z",
     "start_time": "2021-01-26T11:13:55.770045Z"
    }
   },
   "outputs": [
    {
     "data": {
      "text/plain": [
       "<AxesSubplot:>"
      ]
     },
     "execution_count": 97,
     "metadata": {},
     "output_type": "execute_result"
    },
    {
     "data": {
      "image/png": "[encoded data removed]",
      "text/plain": [
       "<Figure size 432x288 with 1 Axes>"
      ]
     },
     "metadata": {
      "needs_background": "light"
     },
     "output_type": "display_data"
    }
   ],
   "source": [
    "s = []\n",
    "for i in range(1000):\n",
    "    idx, point = next(facility_sampler.samplers['a']['work'])\n",
    "    s.append(points.loc[idx].area)\n",
    "pd.Series(s).hist()"
   ]
  },
  {
   "cell_type": "code",
   "execution_count": 94,
   "metadata": {
    "ExecuteTime": {
     "end_time": "2021-01-26T11:11:47.392985Z",
     "start_time": "2021-01-26T11:11:47.149654Z"
    }
   },
   "outputs": [
    {
     "data": {
      "text/plain": [
       "{'c': {'other': <generator object inf_yielder at 0x000001E9FB3C0620>,\n",
       "  'home': <generator object inf_yielder at 0x000001E9FB3C0728>,\n",
       "  'work': <generator object inf_yielder at 0x000001E9FB4B19E8>,\n",
       "  'escort': <generator object inf_yielder at 0x000001E9FB4B1A98>,\n",
       "  'shop': <generator object inf_yielder at 0x000001E9FB4B1A40>},\n",
       " 'b': {'other': <generator object inf_yielder at 0x000001E9FB4B18E0>,\n",
       "  'home': <generator object inf_yielder at 0x000001E9FB4B1990>,\n",
       "  'work': <generator object inf_yielder at 0x000001E9FB4B1BA0>,\n",
       "  'escort': <generator object inf_yielder at 0x000001E9FB4B1BF8>,\n",
       "  'shop': <generator object inf_yielder at 0x000001E9FB4B1C50>},\n",
       " 'f': {'other': <generator object inf_yielder at 0x000001E9FB4B1CA8>,\n",
       "  'home': <generator object inf_yielder at 0x000001E9FB4B1D00>,\n",
       "  'work': <generator object inf_yielder at 0x000001E9FB4B1D58>,\n",
       "  'escort': <generator object inf_yielder at 0x000001E9FB4B1DB0>,\n",
       "  'shop': <generator object inf_yielder at 0x000001E9FB4B1E08>},\n",
       " 'a': {'other': <generator object inf_yielder at 0x000001E9FB4B1E60>,\n",
       "  'home': <generator object inf_yielder at 0x000001E9FB4B1EB8>,\n",
       "  'work': <generator object inf_yielder at 0x000001E9FB4B1F10>,\n",
       "  'escort': <generator object inf_yielder at 0x000001E9FB4B1F68>,\n",
       "  'shop': <generator object inf_yielder at 0x000001E9FB4B1FC0>},\n",
       " 'g': {'other': <generator object inf_yielder at 0x000001E9FB4B1AF0>,\n",
       "  'home': <generator object inf_yielder at 0x000001E9FB8FD0A0>,\n",
       "  'work': <generator object inf_yielder at 0x000001E9FB8FD0F8>,\n",
       "  'escort': <generator object inf_yielder at 0x000001E9FB8FD150>,\n",
       "  'shop': <generator object inf_yielder at 0x000001E9FB8FD1A8>},\n",
       " 'e': {'other': <generator object inf_yielder at 0x000001E9FB8FD200>,\n",
       "  'home': <generator object inf_yielder at 0x000001E9FB8FD258>,\n",
       "  'work': <generator object inf_yielder at 0x000001E9FB8FD2B0>,\n",
       "  'escort': <generator object inf_yielder at 0x000001E9FB8FD308>,\n",
       "  'shop': <generator object inf_yielder at 0x000001E9FB8FD360>},\n",
       " 'd': {'other': <generator object inf_yielder at 0x000001E9FB8FD3B8>,\n",
       "  'home': <generator object inf_yielder at 0x000001E9FB8FD410>,\n",
       "  'work': <generator object inf_yielder at 0x000001E9FB8FD468>,\n",
       "  'escort': <generator object inf_yielder at 0x000001E9FB8FD4C0>,\n",
       "  'shop': <generator object inf_yielder at 0x000001E9FB8FD518>},\n",
       " 'h': {'other': <generator object inf_yielder at 0x000001E9FB8FD570>,\n",
       "  'home': <generator object inf_yielder at 0x000001E9FB8FD5C8>,\n",
       "  'work': <generator object inf_yielder at 0x000001E9FB8FD620>,\n",
       "  'escort': <generator object inf_yielder at 0x000001E9FB8FD678>,\n",
       "  'shop': <generator object inf_yielder at 0x000001E9FB8FD6D0>},\n",
       " 'i': {'other': <generator object inf_yielder at 0x000001E9FB8FD728>,\n",
       "  'home': <generator object inf_yielder at 0x000001E9FB8FD780>,\n",
       "  'work': <generator object inf_yielder at 0x000001E9FB8FD7D8>,\n",
       "  'escort': <generator object inf_yielder at 0x000001E9FB8FD830>,\n",
       "  'shop': <generator object inf_yielder at 0x000001E9FB8FD888>}}"
      ]
     },
     "execution_count": 94,
     "metadata": {},
     "output_type": "execute_result"
    }
   ],
   "source": [
    "facility_sampler.samplers"
   ]
  },
  {
   "cell_type": "code",
   "execution_count": 61,
   "metadata": {
    "ExecuteTime": {
     "end_time": "2021-01-26T10:50:54.086338Z",
     "start_time": "2021-01-26T10:50:53.877888Z"
    }
   },
   "outputs": [],
   "source": [
    "import random"
   ]
  },
  {
   "cell_type": "code",
   "execution_count": 62,
   "metadata": {
    "ExecuteTime": {
     "end_time": "2021-01-26T10:50:54.286842Z",
     "start_time": "2021-01-26T10:50:54.088327Z"
    }
   },
   "outputs": [
    {
     "data": {
      "text/plain": [
       "[3, 2, 1, 4, 5]"
      ]
     },
     "execution_count": 62,
     "metadata": {},
     "output_type": "execute_result"
    }
   ],
   "source": [
    "a = [1,2,3,4,5]\n",
    "random.shuffle(a)\n",
    "a"
   ]
  },
  {
   "cell_type": "code",
   "execution_count": 63,
   "metadata": {
    "ExecuteTime": {
     "end_time": "2021-01-26T10:50:54.501250Z",
     "start_time": "2021-01-26T10:50:54.288794Z"
    }
   },
   "outputs": [
    {
     "data": {
      "text/plain": [
       "[5, 1, 2, 4, 3]"
      ]
     },
     "execution_count": 63,
     "metadata": {},
     "output_type": "execute_result"
    }
   ],
   "source": [
    "a = [1,2,3,4,5]\n",
    "def t(x):\n",
    "    while True:\n",
    "        random.shuffle(x)\n",
    "        yield x\n",
    "        \n",
    "t = t(a)\n",
    "next(t)"
   ]
  },
  {
   "cell_type": "code",
   "execution_count": 64,
   "metadata": {
    "ExecuteTime": {
     "end_time": "2021-01-26T10:50:54.706120Z",
     "start_time": "2021-01-26T10:50:54.502246Z"
    }
   },
   "outputs": [],
   "source": [
    "if a == None:\n",
    "    print(a)"
   ]
  },
  {
   "cell_type": "code",
   "execution_count": 65,
   "metadata": {
    "ExecuteTime": {
     "end_time": "2021-01-26T10:50:54.909169Z",
     "start_time": "2021-01-26T10:50:54.707699Z"
    }
   },
   "outputs": [
    {
     "data": {
      "text/plain": [
       "4"
      ]
     },
     "execution_count": 65,
     "metadata": {},
     "output_type": "execute_result"
    }
   ],
   "source": [
    "np.random.choice(a)"
   ]
  },
  {
   "cell_type": "code",
   "execution_count": 66,
   "metadata": {
    "ExecuteTime": {
     "end_time": "2021-01-26T10:50:55.108632Z",
     "start_time": "2021-01-26T10:50:54.910161Z"
    }
   },
   "outputs": [
    {
     "data": {
      "text/plain": [
       "5"
      ]
     },
     "execution_count": 66,
     "metadata": {},
     "output_type": "execute_result"
    }
   ],
   "source": [
    "a = [1,2,3,4,5]\n",
    "def t(x):\n",
    "    while True:        \n",
    "        yield np.random.choice(x, p = [0.1,0.1,0.1,0.1,0.6])\n",
    "        \n",
    "t = t(a)\n",
    "next(t)"
   ]
  },
  {
   "cell_type": "code",
   "execution_count": 67,
   "metadata": {
    "ExecuteTime": {
     "end_time": "2021-01-26T10:50:55.325097Z",
     "start_time": "2021-01-26T10:50:55.110630Z"
    }
   },
   "outputs": [
    {
     "data": {
      "text/html": [
       "<div>\n",
       "<style scoped>\n",
       "    .dataframe tbody tr th:only-of-type {\n",
       "        vertical-align: middle;\n",
       "    }\n",
       "\n",
       "    .dataframe tbody tr th {\n",
       "        vertical-align: top;\n",
       "    }\n",
       "\n",
       "    .dataframe thead th {\n",
       "        text-align: right;\n",
       "    }\n",
       "</style>\n",
       "<table border=\"1\" class=\"dataframe\">\n",
       "  <thead>\n",
       "    <tr style=\"text-align: right;\">\n",
       "      <th></th>\n",
       "      <th>activity</th>\n",
       "      <th>floors</th>\n",
       "      <th>units</th>\n",
       "      <th>area</th>\n",
       "      <th>transit</th>\n",
       "      <th>geometry</th>\n",
       "      <th>zone</th>\n",
       "    </tr>\n",
       "  </thead>\n",
       "  <tbody>\n",
       "    <tr>\n",
       "      <th>0</th>\n",
       "      <td>home</td>\n",
       "      <td>3</td>\n",
       "      <td>1</td>\n",
       "      <td>92</td>\n",
       "      <td>9278</td>\n",
       "      <td>POINT (84.53651 64.87446)</td>\n",
       "      <td>c</td>\n",
       "    </tr>\n",
       "    <tr>\n",
       "      <th>6</th>\n",
       "      <td>home</td>\n",
       "      <td>2</td>\n",
       "      <td>6</td>\n",
       "      <td>34</td>\n",
       "      <td>7648</td>\n",
       "      <td>POINT (77.19143 86.53923)</td>\n",
       "      <td>c</td>\n",
       "    </tr>\n",
       "    <tr>\n",
       "      <th>19</th>\n",
       "      <td>home</td>\n",
       "      <td>1</td>\n",
       "      <td>15</td>\n",
       "      <td>10</td>\n",
       "      <td>2428</td>\n",
       "      <td>POINT (65.73086 69.53914)</td>\n",
       "      <td>c</td>\n",
       "    </tr>\n",
       "    <tr>\n",
       "      <th>27</th>\n",
       "      <td>home</td>\n",
       "      <td>1</td>\n",
       "      <td>13</td>\n",
       "      <td>14</td>\n",
       "      <td>5724</td>\n",
       "      <td>POINT (62.62027 60.00793)</td>\n",
       "      <td>c</td>\n",
       "    </tr>\n",
       "    <tr>\n",
       "      <th>34</th>\n",
       "      <td>home</td>\n",
       "      <td>2</td>\n",
       "      <td>13</td>\n",
       "      <td>86</td>\n",
       "      <td>2433</td>\n",
       "      <td>POINT (79.67897 60.15292)</td>\n",
       "      <td>c</td>\n",
       "    </tr>\n",
       "    <tr>\n",
       "      <th>...</th>\n",
       "      <td>...</td>\n",
       "      <td>...</td>\n",
       "      <td>...</td>\n",
       "      <td>...</td>\n",
       "      <td>...</td>\n",
       "      <td>...</td>\n",
       "      <td>...</td>\n",
       "    </tr>\n",
       "    <tr>\n",
       "      <th>979</th>\n",
       "      <td>escort</td>\n",
       "      <td>2</td>\n",
       "      <td>11</td>\n",
       "      <td>34</td>\n",
       "      <td>2530</td>\n",
       "      <td>POINT (59.59184 17.84344)</td>\n",
       "      <td>h</td>\n",
       "    </tr>\n",
       "    <tr>\n",
       "      <th>987</th>\n",
       "      <td>escort</td>\n",
       "      <td>3</td>\n",
       "      <td>1</td>\n",
       "      <td>92</td>\n",
       "      <td>9197</td>\n",
       "      <td>POINT (57.32592 2.37754)</td>\n",
       "      <td>h</td>\n",
       "    </tr>\n",
       "    <tr>\n",
       "      <th>992</th>\n",
       "      <td>escort</td>\n",
       "      <td>1</td>\n",
       "      <td>9</td>\n",
       "      <td>73</td>\n",
       "      <td>1648</td>\n",
       "      <td>POINT (58.43742 25.68907)</td>\n",
       "      <td>h</td>\n",
       "    </tr>\n",
       "    <tr>\n",
       "      <th>998</th>\n",
       "      <td>escort</td>\n",
       "      <td>1</td>\n",
       "      <td>3</td>\n",
       "      <td>42</td>\n",
       "      <td>4632</td>\n",
       "      <td>POINT (37.19632 8.02566)</td>\n",
       "      <td>h</td>\n",
       "    </tr>\n",
       "    <tr>\n",
       "      <th>999</th>\n",
       "      <td>escort</td>\n",
       "      <td>1</td>\n",
       "      <td>3</td>\n",
       "      <td>61</td>\n",
       "      <td>6492</td>\n",
       "      <td>POINT (43.37248 21.20844)</td>\n",
       "      <td>h</td>\n",
       "    </tr>\n",
       "  </tbody>\n",
       "</table>\n",
       "<p>1000 rows × 7 columns</p>\n",
       "</div>"
      ],
      "text/plain": [
       "    activity  floors  units  area  transit                   geometry zone\n",
       "0       home       3      1    92     9278  POINT (84.53651 64.87446)    c\n",
       "6       home       2      6    34     7648  POINT (77.19143 86.53923)    c\n",
       "19      home       1     15    10     2428  POINT (65.73086 69.53914)    c\n",
       "27      home       1     13    14     5724  POINT (62.62027 60.00793)    c\n",
       "34      home       2     13    86     2433  POINT (79.67897 60.15292)    c\n",
       "..       ...     ...    ...   ...      ...                        ...  ...\n",
       "979   escort       2     11    34     2530  POINT (59.59184 17.84344)    h\n",
       "987   escort       3      1    92     9197   POINT (57.32592 2.37754)    h\n",
       "992   escort       1      9    73     1648  POINT (58.43742 25.68907)    h\n",
       "998   escort       1      3    42     4632   POINT (37.19632 8.02566)    h\n",
       "999   escort       1      3    61     6492  POINT (43.37248 21.20844)    h\n",
       "\n",
       "[1000 rows x 7 columns]"
      ]
     },
     "execution_count": 67,
     "metadata": {},
     "output_type": "execute_result"
    }
   ],
   "source": [
    "points"
   ]
  },
  {
   "cell_type": "code",
   "execution_count": 68,
   "metadata": {
    "ExecuteTime": {
     "end_time": "2021-01-26T10:50:55.527570Z",
     "start_time": "2021-01-26T10:50:55.327090Z"
    }
   },
   "outputs": [
    {
     "data": {
      "text/html": [
       "<div>\n",
       "<style scoped>\n",
       "    .dataframe tbody tr th:only-of-type {\n",
       "        vertical-align: middle;\n",
       "    }\n",
       "\n",
       "    .dataframe tbody tr th {\n",
       "        vertical-align: top;\n",
       "    }\n",
       "\n",
       "    .dataframe thead th {\n",
       "        text-align: right;\n",
       "    }\n",
       "</style>\n",
       "<table border=\"1\" class=\"dataframe\">\n",
       "  <thead>\n",
       "    <tr style=\"text-align: right;\">\n",
       "      <th></th>\n",
       "      <th>id</th>\n",
       "      <th>tags</th>\n",
       "      <th>features</th>\n",
       "      <th>geometry</th>\n",
       "      <th>activity</th>\n",
       "    </tr>\n",
       "  </thead>\n",
       "  <tbody>\n",
       "    <tr>\n",
       "      <th>0</th>\n",
       "      <td>0</td>\n",
       "      <td>building:house</td>\n",
       "      <td>{'acts': ['home'], 'units': 1, 'floors': 2, 'a...</td>\n",
       "      <td>POINT (1.00000 1.00000)</td>\n",
       "      <td>home</td>\n",
       "    </tr>\n",
       "    <tr>\n",
       "      <th>1</th>\n",
       "      <td>7</td>\n",
       "      <td>building:yes,landuse:residential</td>\n",
       "      <td>{'acts': ['home'], 'units': 20, 'floors': 2, '...</td>\n",
       "      <td>POINT (0.50000 0.50000)</td>\n",
       "      <td>home</td>\n",
       "    </tr>\n",
       "    <tr>\n",
       "      <th>2</th>\n",
       "      <td>19</td>\n",
       "      <td>building:yes,building:hospital,amenity:hospita...</td>\n",
       "      <td>{'acts': ['work', 'health', 'food_shop'], 'flo...</td>\n",
       "      <td>POINT (2.50000 2.50000)</td>\n",
       "      <td>work</td>\n",
       "    </tr>\n",
       "  </tbody>\n",
       "</table>\n",
       "</div>"
      ],
      "text/plain": [
       "   id                                               tags  \\\n",
       "0   0                                     building:house   \n",
       "1   7                   building:yes,landuse:residential   \n",
       "2  19  building:yes,building:hospital,amenity:hospita...   \n",
       "\n",
       "                                            features                 geometry  \\\n",
       "0  {'acts': ['home'], 'units': 1, 'floors': 2, 'a...  POINT (1.00000 1.00000)   \n",
       "1  {'acts': ['home'], 'units': 20, 'floors': 2, '...  POINT (0.50000 0.50000)   \n",
       "2  {'acts': ['work', 'health', 'food_shop'], 'flo...  POINT (2.50000 2.50000)   \n",
       "\n",
       "  activity  \n",
       "0     home  \n",
       "1     home  \n",
       "2     work  "
      ]
     },
     "execution_count": 68,
     "metadata": {},
     "output_type": "execute_result"
    }
   ],
   "source": [
    "facilities"
   ]
  },
  {
   "cell_type": "code",
   "execution_count": 69,
   "metadata": {
    "ExecuteTime": {
     "end_time": "2021-01-26T10:50:55.737996Z",
     "start_time": "2021-01-26T10:50:55.529561Z"
    }
   },
   "outputs": [
    {
     "name": "stdout",
     "output_type": "stream",
     "text": [
      "4\n",
      "5\n",
      "5\n",
      "5\n",
      "1\n",
      "5\n",
      "4\n",
      "5\n",
      "5\n",
      "5\n"
     ]
    }
   ],
   "source": [
    "for i in range(10):\n",
    "    print(next(t))"
   ]
  },
  {
   "cell_type": "code",
   "execution_count": 70,
   "metadata": {
    "ExecuteTime": {
     "end_time": "2021-01-26T10:50:55.948461Z",
     "start_time": "2021-01-26T10:50:55.739991Z"
    }
   },
   "outputs": [
    {
     "data": {
      "text/plain": [
       "3"
      ]
     },
     "execution_count": 70,
     "metadata": {},
     "output_type": "execute_result"
    }
   ],
   "source": [
    "next(t)"
   ]
  },
  {
   "cell_type": "code",
   "execution_count": 71,
   "metadata": {
    "ExecuteTime": {
     "end_time": "2021-01-26T10:50:56.150983Z",
     "start_time": "2021-01-26T10:50:55.949434Z"
    }
   },
   "outputs": [
    {
     "data": {
      "text/plain": [
       "15"
      ]
     },
     "execution_count": 71,
     "metadata": {},
     "output_type": "execute_result"
    }
   ],
   "source": [
    "sum(a)"
   ]
  },
  {
   "cell_type": "code",
   "execution_count": 72,
   "metadata": {
    "ExecuteTime": {
     "end_time": "2021-01-26T10:50:56.350404Z",
     "start_time": "2021-01-26T10:50:56.151896Z"
    }
   },
   "outputs": [
    {
     "data": {
      "text/plain": [
       "2"
      ]
     },
     "execution_count": 72,
     "metadata": {},
     "output_type": "execute_result"
    }
   ],
   "source": [
    "next(t)"
   ]
  },
  {
   "cell_type": "code",
   "execution_count": null,
   "metadata": {},
   "outputs": [],
   "source": []
  },
  {
   "cell_type": "code",
   "execution_count": 73,
   "metadata": {
    "ExecuteTime": {
     "end_time": "2021-01-26T10:50:56.551871Z",
     "start_time": "2021-01-26T10:50:56.351364Z"
    }
   },
   "outputs": [
    {
     "data": {
      "text/plain": [
       "5"
      ]
     },
     "execution_count": 73,
     "metadata": {},
     "output_type": "execute_result"
    }
   ],
   "source": [
    "np.random.choice(a)"
   ]
  },
  {
   "cell_type": "code",
   "execution_count": 74,
   "metadata": {
    "ExecuteTime": {
     "end_time": "2021-01-26T10:50:56.756286Z",
     "start_time": "2021-01-26T10:50:56.552841Z"
    }
   },
   "outputs": [
    {
     "data": {
      "text/plain": [
       "1"
      ]
     },
     "execution_count": 74,
     "metadata": {},
     "output_type": "execute_result"
    }
   ],
   "source": [
    "next(t)"
   ]
  },
  {
   "cell_type": "code",
   "execution_count": 76,
   "metadata": {
    "ExecuteTime": {
     "end_time": "2021-01-26T10:51:30.968846Z",
     "start_time": "2021-01-26T10:51:30.774951Z"
    }
   },
   "outputs": [],
   "source": [
    "# [x for x in t]"
   ]
  },
  {
   "cell_type": "code",
   "execution_count": 77,
   "metadata": {
    "ExecuteTime": {
     "end_time": "2021-01-26T10:51:32.449577Z",
     "start_time": "2021-01-26T10:51:32.248781Z"
    }
   },
   "outputs": [],
   "source": [
    "# next(t)"
   ]
  },
  {
   "cell_type": "code",
   "execution_count": 78,
   "metadata": {
    "ExecuteTime": {
     "end_time": "2021-01-26T10:51:34.464899Z",
     "start_time": "2021-01-26T10:51:34.257520Z"
    }
   },
   "outputs": [],
   "source": [
    "# next(t)"
   ]
  },
  {
   "cell_type": "code",
   "execution_count": 79,
   "metadata": {
    "ExecuteTime": {
     "end_time": "2021-01-26T10:51:36.428767Z",
     "start_time": "2021-01-26T10:51:36.224292Z"
    }
   },
   "outputs": [
    {
     "data": {
      "text/plain": [
       "[1, 2, 3, 4, 5]"
      ]
     },
     "execution_count": 79,
     "metadata": {},
     "output_type": "execute_result"
    }
   ],
   "source": [
    "a"
   ]
  },
  {
   "cell_type": "code",
   "execution_count": 80,
   "metadata": {
    "ExecuteTime": {
     "end_time": "2021-01-26T10:51:37.120669Z",
     "start_time": "2021-01-26T10:51:36.917211Z"
    }
   },
   "outputs": [
    {
     "data": {
      "text/plain": [
       "(112, <shapely.geometry.point.Point at 0x1e9f9e73c18>)"
      ]
     },
     "execution_count": 80,
     "metadata": {},
     "output_type": "execute_result"
    }
   ],
   "source": [
    "next(facility_sampler.samplers['d']['home'])"
   ]
  },
  {
   "cell_type": "code",
   "execution_count": 81,
   "metadata": {
    "ExecuteTime": {
     "end_time": "2021-01-26T10:51:37.735390Z",
     "start_time": "2021-01-26T10:51:37.533926Z"
    }
   },
   "outputs": [
    {
     "name": "stdout",
     "output_type": "stream",
     "text": [
      "(100, <shapely.geometry.point.Point object at 0x000001E9F9E73978>)\n",
      "(199, <shapely.geometry.point.Point object at 0x000001E9F9E8EF60>)\n",
      "(105, <shapely.geometry.point.Point object at 0x000001E9F9E73A90>)\n",
      "(182, <shapely.geometry.point.Point object at 0x000001E9F9E8EBA8>)\n",
      "(153, <shapely.geometry.point.Point object at 0x000001E9F9E8E550>)\n",
      "(161, <shapely.geometry.point.Point object at 0x000001E9F9E8E710>)\n",
      "(54, <shapely.geometry.point.Point object at 0x000001E9F9E68FD0>)\n",
      "(9, <shapely.geometry.point.Point object at 0x000001E9F9E685C0>)\n",
      "(105, <shapely.geometry.point.Point object at 0x000001E9F9E73A90>)\n",
      "(9, <shapely.geometry.point.Point object at 0x000001E9F9E685C0>)\n"
     ]
    }
   ],
   "source": [
    "for i in range(10):\n",
    "    print(next(facility_sampler.samplers['d']['home']))"
   ]
  },
  {
   "cell_type": "code",
   "execution_count": 82,
   "metadata": {
    "ExecuteTime": {
     "end_time": "2021-01-26T10:51:38.444739Z",
     "start_time": "2021-01-26T10:51:38.240287Z"
    }
   },
   "outputs": [
    {
     "data": {
      "text/plain": [
       "<generator object inf_yielder at 0x000001E9FB4B1EB8>"
      ]
     },
     "execution_count": 82,
     "metadata": {},
     "output_type": "execute_result"
    }
   ],
   "source": [
    "facility_sampler.samplers['a']['home']"
   ]
  },
  {
   "cell_type": "code",
   "execution_count": 83,
   "metadata": {
    "ExecuteTime": {
     "end_time": "2021-01-26T10:51:38.970451Z",
     "start_time": "2021-01-26T10:51:38.755972Z"
    }
   },
   "outputs": [
    {
     "data": {
      "text/plain": [
       "(array('d', [77.27030874346801]), array('d', [3.813730816746369]))"
      ]
     },
     "execution_count": 83,
     "metadata": {},
     "output_type": "execute_result"
    }
   ],
   "source": [
    "# sample single facility\n",
    "facility_sampler.sample('i','work').xy"
   ]
  },
  {
   "cell_type": "code",
   "execution_count": 84,
   "metadata": {
    "ExecuteTime": {
     "end_time": "2021-01-26T10:51:39.193938Z",
     "start_time": "2021-01-26T10:51:38.972418Z"
    }
   },
   "outputs": [
    {
     "data": {
      "text/plain": [
       "['other', 'home', 'work', 'escort', 'shop']"
      ]
     },
     "execution_count": 84,
     "metadata": {},
     "output_type": "execute_result"
    }
   ],
   "source": [
    "facility_sampler.activities"
   ]
  },
  {
   "cell_type": "code",
   "execution_count": 85,
   "metadata": {
    "ExecuteTime": {
     "end_time": "2021-01-26T10:51:39.416737Z",
     "start_time": "2021-01-26T10:51:39.196324Z"
    }
   },
   "outputs": [],
   "source": [
    "# facility_sampler.facilities"
   ]
  },
  {
   "cell_type": "code",
   "execution_count": 86,
   "metadata": {
    "ExecuteTime": {
     "end_time": "2021-01-26T10:51:39.624190Z",
     "start_time": "2021-01-26T10:51:39.419736Z"
    }
   },
   "outputs": [],
   "source": [
    "# facility_sampler.sample_facility(1,'home')"
   ]
  },
  {
   "cell_type": "code",
   "execution_count": 87,
   "metadata": {
    "ExecuteTime": {
     "end_time": "2021-01-26T10:51:39.841606Z",
     "start_time": "2021-01-26T10:51:39.626179Z"
    }
   },
   "outputs": [
    {
     "name": "stdout",
     "output_type": "stream",
     "text": [
      "Activity(0 act:work, location:POINT (45.849104508431 70.27307931179966), time:00:00:00 --> 08:20:00, duration:8:20:00)\n"
     ]
    }
   ],
   "source": [
    "print(population.random_person().plan[0])"
   ]
  },
  {
   "cell_type": "code",
   "execution_count": 88,
   "metadata": {
    "ExecuteTime": {
     "end_time": "2021-01-26T10:51:40.968940Z",
     "start_time": "2021-01-26T10:51:40.772295Z"
    }
   },
   "outputs": [
    {
     "data": {
      "text/plain": [
       "3.0219319836821157"
      ]
     },
     "execution_count": 88,
     "metadata": {},
     "output_type": "execute_result"
    }
   ],
   "source": [
    "person = population.households['0'].people['0']\n",
    "acts = [x for x in person.plan.activities]\n",
    "acts[0].location.loc.x"
   ]
  },
  {
   "cell_type": "code",
   "execution_count": 89,
   "metadata": {
    "ExecuteTime": {
     "end_time": "2021-01-26T10:51:41.567033Z",
     "start_time": "2021-01-26T10:51:41.366509Z"
    }
   },
   "outputs": [
    {
     "data": {
      "text/plain": [
       "45.18607299439347"
      ]
     },
     "execution_count": 89,
     "metadata": {},
     "output_type": "execute_result"
    }
   ],
   "source": [
    "population.random_person().plan[0].location.loc.x"
   ]
  },
  {
   "cell_type": "code",
   "execution_count": 100,
   "metadata": {
    "ExecuteTime": {
     "end_time": "2021-01-26T11:43:39.645818Z",
     "start_time": "2021-01-26T11:43:39.449349Z"
    }
   },
   "outputs": [
    {
     "name": "stdout",
     "output_type": "stream",
     "text": [
      "2\n",
      "1\n",
      "3\n",
      "5\n",
      "4\n",
      "5\n",
      "1\n",
      "4\n",
      "3\n",
      "2\n"
     ]
    }
   ],
   "source": [
    "def yielder(x):\n",
    "    while True:\n",
    "        random.shuffle(x)\n",
    "        for c in x:\n",
    "            yield c\n",
    "            \n",
    "i_yielder = yielder(a)\n",
    "for i in range(10):\n",
    "    print(next(i_yielder))"
   ]
  },
  {
   "cell_type": "code",
   "execution_count": 111,
   "metadata": {
    "ExecuteTime": {
     "end_time": "2021-01-26T11:49:11.469542Z",
     "start_time": "2021-01-26T11:49:11.255585Z"
    }
   },
   "outputs": [
    {
     "name": "stdout",
     "output_type": "stream",
     "text": [
      "hi\n"
     ]
    }
   ],
   "source": [
    "def test_printer():\n",
    "    return lambda x: print(x)\n",
    "\n",
    "tp = test_printer()\n",
    "tp('hi')"
   ]
  },
  {
   "cell_type": "code",
   "execution_count": 116,
   "metadata": {
    "ExecuteTime": {
     "end_time": "2021-01-26T11:51:22.283517Z",
     "start_time": "2021-01-26T11:51:22.073081Z"
    }
   },
   "outputs": [
    {
     "name": "stdout",
     "output_type": "stream",
     "text": [
      "hi there\n"
     ]
    }
   ],
   "source": [
    "def test_message(x,y):\n",
    "    print(x,y)\n",
    "\n",
    "def test_printer():\n",
    "    return test_message\n",
    "\n",
    "tp = test_printer()\n",
    "tp('hi','there')"
   ]
  },
  {
   "cell_type": "code",
   "execution_count": 104,
   "metadata": {
    "ExecuteTime": {
     "end_time": "2021-01-26T11:44:44.756181Z",
     "start_time": "2021-01-26T11:44:44.561522Z"
    }
   },
   "outputs": [
    {
     "name": "stdout",
     "output_type": "stream",
     "text": [
      "3\n",
      "5\n",
      "1\n",
      "4\n",
      "2\n",
      "4\n",
      "5\n",
      "1\n",
      "2\n",
      "3\n"
     ]
    }
   ],
   "source": [
    "def yielder_options(x):\n",
    "    while True:\n",
    "        random.shuffle(x)\n",
    "        for c in x:\n",
    "            yield c\n",
    "            \n",
    "i_yielder_options = yielder_options(a)\n",
    "for i in range(10):\n",
    "    print(next(i_yielder_options, 'hi'))"
   ]
  },
  {
   "cell_type": "code",
   "execution_count": null,
   "metadata": {
    "ExecuteTime": {
     "start_time": "2021-01-26T12:00:31.378Z"
    }
   },
   "outputs": [
    {
     "name": "stdout",
     "output_type": "stream",
     "text": [
      "use pt restriction in zone a\n",
      "weighted sample in zone a with weights [0.5, 0.3, 0.2]\n"
     ]
    }
   ],
   "source": [
    "def random_yielder(zone):\n",
    "    print('random location in',zone)\n",
    "    \n",
    "def weighted_yielder(zone, weights):\n",
    "    print('weighted sample in zone',zone,'with weights', weights)\n",
    "\n",
    "def pt_yielder(zone):\n",
    "    print('use pt restriction in zone',zone)\n",
    "    \n",
    "def select_yielder(yielder_version):\n",
    "    return yielder_version\n",
    "\n",
    "sample_dict = select_yielder(pt_yielder)\n",
    "sample_dict('a')\n",
    "\n",
    "sample_dict = select_yielder(weighted_yielder)\n",
    "sample_dict('a',[0.5,0.3,0.2])"
   ]
  },
  {
   "cell_type": "markdown",
   "metadata": {},
   "source": [
    "## Weighted by floor space"
   ]
  },
  {
   "cell_type": "code",
   "execution_count": null,
   "metadata": {},
   "outputs": [],
   "source": []
  },
  {
   "cell_type": "markdown",
   "metadata": {},
   "source": [
    "## Origin-Destination sampling"
   ]
  },
  {
   "cell_type": "code",
   "execution_count": null,
   "metadata": {},
   "outputs": [],
   "source": []
  }
 ],
 "metadata": {
  "kernelspec": {
   "display_name": "pam",
   "language": "python",
   "name": "pam"
  },
  "language_info": {
   "codemirror_mode": {
    "name": "ipython",
    "version": 3
   },
   "file_extension": ".py",
   "mimetype": "text/x-python",
   "name": "python",
   "nbconvert_exporter": "python",
   "pygments_lexer": "ipython3",
   "version": "3.6.12"
  },
  "toc": {
   "base_numbering": 1,
   "nav_menu": {},
   "number_sections": true,
   "sideBar": true,
   "skip_h1_title": false,
   "title_cell": "Table of Contents",
   "title_sidebar": "Contents",
   "toc_cell": false,
   "toc_position": {},
   "toc_section_display": true,
   "toc_window_display": true
  }
 },
 "nbformat": 4,
 "nbformat_minor": 4
}
