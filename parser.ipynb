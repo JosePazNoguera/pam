{
 "cells": [
  {
   "cell_type": "code",
   "execution_count": 10,
   "metadata": {
    "ExecuteTime": {
     "end_time": "2020-03-30T20:36:37.417159Z",
     "start_time": "2020-03-30T20:36:37.410414Z"
    }
   },
   "outputs": [],
   "source": [
    "import pandas as pd"
   ]
  },
  {
   "cell_type": "code",
   "execution_count": 11,
   "metadata": {
    "ExecuteTime": {
     "end_time": "2020-03-30T20:36:37.728382Z",
     "start_time": "2020-03-30T20:36:37.686772Z"
    }
   },
   "outputs": [],
   "source": [
    "%load_ext autoreload\n",
    "%autoreload 2\n",
    "%reload_ext autoreload"
   ]
  },
  {
   "cell_type": "code",
   "execution_count": 91,
   "metadata": {
    "ExecuteTime": {
     "end_time": "2020-03-30T22:34:56.063668Z",
     "start_time": "2020-03-30T22:34:56.005604Z"
    }
   },
   "outputs": [
    {
     "data": {
      "text/html": [
       "<div>\n",
       "<style scoped>\n",
       "    .dataframe tbody tr th:only-of-type {\n",
       "        vertical-align: middle;\n",
       "    }\n",
       "\n",
       "    .dataframe tbody tr th {\n",
       "        vertical-align: top;\n",
       "    }\n",
       "\n",
       "    .dataframe thead th {\n",
       "        text-align: right;\n",
       "    }\n",
       "</style>\n",
       "<table border=\"1\" class=\"dataframe\">\n",
       "  <thead>\n",
       "    <tr style=\"text-align: right;\">\n",
       "      <th></th>\n",
       "      <th>pid</th>\n",
       "      <th>hid</th>\n",
       "      <th>tid</th>\n",
       "      <th>tseqno</th>\n",
       "      <th>hzone</th>\n",
       "      <th>ozone</th>\n",
       "      <th>dzone</th>\n",
       "      <th>dpurp</th>\n",
       "      <th>mdname</th>\n",
       "      <th>tstimei</th>\n",
       "      <th>tetimei</th>\n",
       "      <th>freq</th>\n",
       "    </tr>\n",
       "  </thead>\n",
       "  <tbody>\n",
       "    <tr>\n",
       "      <th>6</th>\n",
       "      <td>2.0</td>\n",
       "      <td>0.0</td>\n",
       "      <td>6.0</td>\n",
       "      <td>1.0</td>\n",
       "      <td>a</td>\n",
       "      <td>a</td>\n",
       "      <td>b</td>\n",
       "      <td>work</td>\n",
       "      <td>car</td>\n",
       "      <td>500.0</td>\n",
       "      <td>530.0</td>\n",
       "      <td>10.0</td>\n",
       "    </tr>\n",
       "    <tr>\n",
       "      <th>7</th>\n",
       "      <td>2.0</td>\n",
       "      <td>0.0</td>\n",
       "      <td>7.0</td>\n",
       "      <td>2.0</td>\n",
       "      <td>a</td>\n",
       "      <td>b</td>\n",
       "      <td>a</td>\n",
       "      <td>work</td>\n",
       "      <td>car</td>\n",
       "      <td>800.0</td>\n",
       "      <td>830.0</td>\n",
       "      <td>10.0</td>\n",
       "    </tr>\n",
       "    <tr>\n",
       "      <th>8</th>\n",
       "      <td>2.0</td>\n",
       "      <td>0.0</td>\n",
       "      <td>8.0</td>\n",
       "      <td>3.0</td>\n",
       "      <td>a</td>\n",
       "      <td>a</td>\n",
       "      <td>c</td>\n",
       "      <td>work</td>\n",
       "      <td>car</td>\n",
       "      <td>1000.0</td>\n",
       "      <td>1030.0</td>\n",
       "      <td>10.0</td>\n",
       "    </tr>\n",
       "    <tr>\n",
       "      <th>9</th>\n",
       "      <td>2.0</td>\n",
       "      <td>0.0</td>\n",
       "      <td>9.0</td>\n",
       "      <td>4.0</td>\n",
       "      <td>a</td>\n",
       "      <td>c</td>\n",
       "      <td>a</td>\n",
       "      <td>work</td>\n",
       "      <td>car</td>\n",
       "      <td>1200.0</td>\n",
       "      <td>1230.0</td>\n",
       "      <td>10.0</td>\n",
       "    </tr>\n",
       "    <tr>\n",
       "      <th>10</th>\n",
       "      <td>NaN</td>\n",
       "      <td>NaN</td>\n",
       "      <td>NaN</td>\n",
       "      <td>NaN</td>\n",
       "      <td>NaN</td>\n",
       "      <td>NaN</td>\n",
       "      <td>NaN</td>\n",
       "      <td>NaN</td>\n",
       "      <td>NaN</td>\n",
       "      <td>NaN</td>\n",
       "      <td>NaN</td>\n",
       "      <td>NaN</td>\n",
       "    </tr>\n",
       "  </tbody>\n",
       "</table>\n",
       "</div>"
      ],
      "text/plain": [
       "    pid  hid  tid  tseqno hzone ozone dzone dpurp mdname  tstimei  tetimei  \\\n",
       "6   2.0  0.0  6.0     1.0     a     a     b  work    car    500.0    530.0   \n",
       "7   2.0  0.0  7.0     2.0     a     b     a  work    car    800.0    830.0   \n",
       "8   2.0  0.0  8.0     3.0     a     a     c  work    car   1000.0   1030.0   \n",
       "9   2.0  0.0  9.0     4.0     a     c     a  work    car   1200.0   1230.0   \n",
       "10  NaN  NaN  NaN     NaN   NaN   NaN   NaN   NaN    NaN      NaN      NaN   \n",
       "\n",
       "    freq  \n",
       "6   10.0  \n",
       "7   10.0  \n",
       "8   10.0  \n",
       "9   10.0  \n",
       "10   NaN  "
      ]
     },
     "execution_count": 91,
     "metadata": {},
     "output_type": "execute_result"
    }
   ],
   "source": [
    "plans = pd.read_csv('tests/data/simple.csv')\n",
    "# remove dummy data\n",
    "plans = plans[~plans.dpurp.isin(['dummy','Dummy'])]\n",
    "plans.tail()"
   ]
  },
  {
   "cell_type": "code",
   "execution_count": 92,
   "metadata": {
    "ExecuteTime": {
     "end_time": "2020-03-30T22:34:56.972599Z",
     "start_time": "2020-03-30T22:34:56.938334Z"
    }
   },
   "outputs": [],
   "source": [
    "from pam.population import Population, HouseHold, Person, Activity, Leg"
   ]
  },
  {
   "cell_type": "code",
   "execution_count": 101,
   "metadata": {
    "ExecuteTime": {
     "end_time": "2020-03-30T22:38:43.304405Z",
     "start_time": "2020-03-30T22:38:43.224005Z"
    },
    "scrolled": false
   },
   "outputs": [],
   "source": [
    "population = Population()\n",
    "for hid, household_data in plans.groupby('hid'):\n",
    "    \n",
    "    household = HouseHold(int(hid))\n",
    "    \n",
    "    for pid, person_data in household_data.groupby('pid'):\n",
    "        \n",
    "        trips = person_data.sort_values('tseqno')\n",
    "        home_area = trips.hzone.iloc[0]\n",
    "        current_activity = 'home'\n",
    "        activity_map = {home_area: 'home'}\n",
    "        activities = ['home']\n",
    "        \n",
    "        person = Person(int(pid), freq=person_data.freq.iloc[0])\n",
    "        activity = Activity(1, 'home', home_area)\n",
    "        person.add(Activity(1, 'home', home_area))\n",
    "        \n",
    "        for n in range(len(trips)):\n",
    "            trip = trips.iloc[n]\n",
    "            \n",
    "            destination_activity = trip.dpurp\n",
    "            destination_area = trip.dzone  # could assert here that origin is equal to previous destination\n",
    "            \n",
    "            person.add(\n",
    "                Leg(\n",
    "                    seq = n+1,\n",
    "                    mode = trip.mdname,\n",
    "                    start_loc=trip.ozone,\n",
    "                    end_loc=trip.dzone,\n",
    "                    start_time=trip.tstimei,\n",
    "                    end_time=trip.tetimei\n",
    "                )\n",
    "            )\n",
    "                \n",
    "            if destination_activity in activities and activity_map.get(trip.dzone): # assume return trip to this activity\n",
    "                person.add(Activity(n+2, activity_map[trip.dzone], trip.dzone))\n",
    "            \n",
    "            else:\n",
    "                person.add(Activity(n+2, trip.dpurp, trip.dzone))\n",
    "                \n",
    "                if not trip.dzone in activity_map: # update history\n",
    "                    activity_map[trip.dzone] = trip.dpurp # only keeping first activity at each location to ensure returns home        \n",
    "                activities.append(destination_activity)\n",
    "            \n",
    "        household.add(person)\n",
    "  \n",
    "    population.add(household)"
   ]
  },
  {
   "cell_type": "code",
   "execution_count": 103,
   "metadata": {
    "ExecuteTime": {
     "end_time": "2020-03-30T22:38:52.978524Z",
     "start_time": "2020-03-30T22:38:52.952609Z"
    }
   },
   "outputs": [
    {
     "name": "stdout",
     "output_type": "stream",
     "text": [
      "home\n",
      "work\n",
      "home\n",
      "work\n",
      "home\n"
     ]
    }
   ],
   "source": [
    "for seq, act in population.households[0].people[2].activities.items():\n",
    "    print(act.act)"
   ]
  },
  {
   "cell_type": "code",
   "execution_count": null,
   "metadata": {},
   "outputs": [],
   "source": []
  }
 ],
 "metadata": {
  "kernelspec": {
   "display_name": "Python 3",
   "language": "python",
   "name": "python3"
  },
  "language_info": {
   "codemirror_mode": {
    "name": "ipython",
    "version": 3
   },
   "file_extension": ".py",
   "mimetype": "text/x-python",
   "name": "python",
   "nbconvert_exporter": "python",
   "pygments_lexer": "ipython3",
   "version": "3.7.6"
  },
  "toc": {
   "base_numbering": 1,
   "nav_menu": {},
   "number_sections": true,
   "sideBar": true,
   "skip_h1_title": false,
   "title_cell": "Table of Contents",
   "title_sidebar": "Contents",
   "toc_cell": false,
   "toc_position": {},
   "toc_section_display": true,
   "toc_window_display": false
  }
 },
 "nbformat": 4,
 "nbformat_minor": 2
}
