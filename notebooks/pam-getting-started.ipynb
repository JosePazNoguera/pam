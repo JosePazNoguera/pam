{
 "cells": [
  {
   "cell_type": "code",
   "execution_count": 1,
   "metadata": {
    "ExecuteTime": {
     "end_time": "2020-04-14T09:07:58.087226Z",
     "start_time": "2020-04-14T09:07:57.009197Z"
    }
   },
   "outputs": [],
   "source": [
    "import pandas as pd\n",
    "from copy import deepcopy"
   ]
  },
  {
   "cell_type": "markdown",
   "metadata": {},
   "source": [
    "# PAM - Getting Started\n",
    "\n",
    "**Pandemic Activity Modelling/Modifying**\n",
    "\n",
    "This notebook is a quick spin through PAM. Intended to provide a technical overview and inspire further research and development.\n",
    "\n",
    "### Load Data\n",
    "\n",
    "Here we load simple travel diary data of London commuters. This is a very simple 0.1% sample of data about work and education commutes from the 2011 census. Because we're sharing this date - we've aggregated locations to borough level and randomized personal attributes - so don't get too excited about the results.\n",
    "\n",
    "The data is available in `pam/example_data`."
   ]
  },
  {
   "cell_type": "code",
   "execution_count": 2,
   "metadata": {
    "ExecuteTime": {
     "end_time": "2020-04-14T09:07:58.800917Z",
     "start_time": "2020-04-14T09:07:58.710333Z"
    }
   },
   "outputs": [],
   "source": [
    "trips = pd.read_csv('/Users/fred.shone/Projects/pam/example_data/example_travel_diaries.csv')\n",
    "attributes = pd.read_csv('/Users/fred.shone/Projects/pam/example_data/example_attributes.csv')\n",
    "attributes.set_index('pid', inplace=True)"
   ]
  },
  {
   "cell_type": "code",
   "execution_count": 4,
   "metadata": {
    "ExecuteTime": {
     "end_time": "2020-04-14T09:08:04.326183Z",
     "start_time": "2020-04-14T09:08:04.233465Z"
    }
   },
   "outputs": [
    {
     "data": {
      "text/html": [
       "<div>\n",
       "<style scoped>\n",
       "    .dataframe tbody tr th:only-of-type {\n",
       "        vertical-align: middle;\n",
       "    }\n",
       "\n",
       "    .dataframe tbody tr th {\n",
       "        vertical-align: top;\n",
       "    }\n",
       "\n",
       "    .dataframe thead th {\n",
       "        text-align: right;\n",
       "    }\n",
       "</style>\n",
       "<table border=\"1\" class=\"dataframe\">\n",
       "  <thead>\n",
       "    <tr style=\"text-align: right;\">\n",
       "      <th></th>\n",
       "      <th>uid</th>\n",
       "      <th>pid</th>\n",
       "      <th>hid</th>\n",
       "      <th>seq</th>\n",
       "      <th>hzone</th>\n",
       "      <th>ozone</th>\n",
       "      <th>dzone</th>\n",
       "      <th>purp</th>\n",
       "      <th>mode</th>\n",
       "      <th>tst</th>\n",
       "      <th>tet</th>\n",
       "      <th>freq</th>\n",
       "    </tr>\n",
       "  </thead>\n",
       "  <tbody>\n",
       "    <tr>\n",
       "      <th>0</th>\n",
       "      <td>0</td>\n",
       "      <td>census_0</td>\n",
       "      <td>census_0</td>\n",
       "      <td>0</td>\n",
       "      <td>Harrow</td>\n",
       "      <td>Harrow</td>\n",
       "      <td>Camden</td>\n",
       "      <td>work</td>\n",
       "      <td>pt</td>\n",
       "      <td>444</td>\n",
       "      <td>473</td>\n",
       "      <td>1000</td>\n",
       "    </tr>\n",
       "    <tr>\n",
       "      <th>1</th>\n",
       "      <td>1</td>\n",
       "      <td>census_0</td>\n",
       "      <td>census_0</td>\n",
       "      <td>1</td>\n",
       "      <td>Harrow</td>\n",
       "      <td>Camden</td>\n",
       "      <td>Harrow</td>\n",
       "      <td>work</td>\n",
       "      <td>pt</td>\n",
       "      <td>890</td>\n",
       "      <td>919</td>\n",
       "      <td>1000</td>\n",
       "    </tr>\n",
       "    <tr>\n",
       "      <th>2</th>\n",
       "      <td>2</td>\n",
       "      <td>census_1</td>\n",
       "      <td>census_1</td>\n",
       "      <td>0</td>\n",
       "      <td>Greenwich</td>\n",
       "      <td>Greenwich</td>\n",
       "      <td>Tower Hamlets</td>\n",
       "      <td>work</td>\n",
       "      <td>pt</td>\n",
       "      <td>507</td>\n",
       "      <td>528</td>\n",
       "      <td>1000</td>\n",
       "    </tr>\n",
       "    <tr>\n",
       "      <th>3</th>\n",
       "      <td>3</td>\n",
       "      <td>census_1</td>\n",
       "      <td>census_1</td>\n",
       "      <td>1</td>\n",
       "      <td>Greenwich</td>\n",
       "      <td>Tower Hamlets</td>\n",
       "      <td>Greenwich</td>\n",
       "      <td>work</td>\n",
       "      <td>pt</td>\n",
       "      <td>1065</td>\n",
       "      <td>1086</td>\n",
       "      <td>1000</td>\n",
       "    </tr>\n",
       "    <tr>\n",
       "      <th>4</th>\n",
       "      <td>4</td>\n",
       "      <td>census_2</td>\n",
       "      <td>census_2</td>\n",
       "      <td>0</td>\n",
       "      <td>Croydon</td>\n",
       "      <td>Croydon</td>\n",
       "      <td>Croydon</td>\n",
       "      <td>work</td>\n",
       "      <td>pt</td>\n",
       "      <td>422</td>\n",
       "      <td>425</td>\n",
       "      <td>1000</td>\n",
       "    </tr>\n",
       "    <tr>\n",
       "      <th>5</th>\n",
       "      <td>5</td>\n",
       "      <td>census_2</td>\n",
       "      <td>census_2</td>\n",
       "      <td>1</td>\n",
       "      <td>Croydon</td>\n",
       "      <td>Croydon</td>\n",
       "      <td>Croydon</td>\n",
       "      <td>work</td>\n",
       "      <td>pt</td>\n",
       "      <td>917</td>\n",
       "      <td>920</td>\n",
       "      <td>1000</td>\n",
       "    </tr>\n",
       "    <tr>\n",
       "      <th>6</th>\n",
       "      <td>6</td>\n",
       "      <td>census_3</td>\n",
       "      <td>census_3</td>\n",
       "      <td>0</td>\n",
       "      <td>Haringey</td>\n",
       "      <td>Haringey</td>\n",
       "      <td>Redbridge</td>\n",
       "      <td>work</td>\n",
       "      <td>pt</td>\n",
       "      <td>428</td>\n",
       "      <td>447</td>\n",
       "      <td>1000</td>\n",
       "    </tr>\n",
       "    <tr>\n",
       "      <th>7</th>\n",
       "      <td>7</td>\n",
       "      <td>census_3</td>\n",
       "      <td>census_3</td>\n",
       "      <td>1</td>\n",
       "      <td>Haringey</td>\n",
       "      <td>Redbridge</td>\n",
       "      <td>Haringey</td>\n",
       "      <td>work</td>\n",
       "      <td>pt</td>\n",
       "      <td>1007</td>\n",
       "      <td>1026</td>\n",
       "      <td>1000</td>\n",
       "    </tr>\n",
       "    <tr>\n",
       "      <th>8</th>\n",
       "      <td>8</td>\n",
       "      <td>census_4</td>\n",
       "      <td>census_4</td>\n",
       "      <td>0</td>\n",
       "      <td>Hounslow</td>\n",
       "      <td>Hounslow</td>\n",
       "      <td>Westminster,City of London</td>\n",
       "      <td>work</td>\n",
       "      <td>car</td>\n",
       "      <td>483</td>\n",
       "      <td>516</td>\n",
       "      <td>1000</td>\n",
       "    </tr>\n",
       "    <tr>\n",
       "      <th>9</th>\n",
       "      <td>9</td>\n",
       "      <td>census_4</td>\n",
       "      <td>census_4</td>\n",
       "      <td>1</td>\n",
       "      <td>Hounslow</td>\n",
       "      <td>Westminster,City of London</td>\n",
       "      <td>Hounslow</td>\n",
       "      <td>work</td>\n",
       "      <td>car</td>\n",
       "      <td>1017</td>\n",
       "      <td>1050</td>\n",
       "      <td>1000</td>\n",
       "    </tr>\n",
       "    <tr>\n",
       "      <th>10</th>\n",
       "      <td>10</td>\n",
       "      <td>census_5</td>\n",
       "      <td>census_5</td>\n",
       "      <td>0</td>\n",
       "      <td>Westminster,City of London</td>\n",
       "      <td>Westminster,City of London</td>\n",
       "      <td>Hammersmith and Fulham</td>\n",
       "      <td>education</td>\n",
       "      <td>car</td>\n",
       "      <td>568</td>\n",
       "      <td>577</td>\n",
       "      <td>1000</td>\n",
       "    </tr>\n",
       "    <tr>\n",
       "      <th>11</th>\n",
       "      <td>11</td>\n",
       "      <td>census_5</td>\n",
       "      <td>census_5</td>\n",
       "      <td>1</td>\n",
       "      <td>Westminster,City of London</td>\n",
       "      <td>Hammersmith and Fulham</td>\n",
       "      <td>Westminster,City of London</td>\n",
       "      <td>education</td>\n",
       "      <td>car</td>\n",
       "      <td>1019</td>\n",
       "      <td>1028</td>\n",
       "      <td>1000</td>\n",
       "    </tr>\n",
       "    <tr>\n",
       "      <th>12</th>\n",
       "      <td>12</td>\n",
       "      <td>census_6</td>\n",
       "      <td>census_6</td>\n",
       "      <td>0</td>\n",
       "      <td>Haringey</td>\n",
       "      <td>Haringey</td>\n",
       "      <td>Kensington and Chelsea</td>\n",
       "      <td>work</td>\n",
       "      <td>pt</td>\n",
       "      <td>442</td>\n",
       "      <td>469</td>\n",
       "      <td>1000</td>\n",
       "    </tr>\n",
       "    <tr>\n",
       "      <th>13</th>\n",
       "      <td>13</td>\n",
       "      <td>census_6</td>\n",
       "      <td>census_6</td>\n",
       "      <td>1</td>\n",
       "      <td>Haringey</td>\n",
       "      <td>Kensington and Chelsea</td>\n",
       "      <td>Haringey</td>\n",
       "      <td>work</td>\n",
       "      <td>pt</td>\n",
       "      <td>1012</td>\n",
       "      <td>1039</td>\n",
       "      <td>1000</td>\n",
       "    </tr>\n",
       "    <tr>\n",
       "      <th>14</th>\n",
       "      <td>14</td>\n",
       "      <td>census_7</td>\n",
       "      <td>census_7</td>\n",
       "      <td>0</td>\n",
       "      <td>Ealing</td>\n",
       "      <td>Ealing</td>\n",
       "      <td>Ealing</td>\n",
       "      <td>education</td>\n",
       "      <td>pt</td>\n",
       "      <td>479</td>\n",
       "      <td>484</td>\n",
       "      <td>1000</td>\n",
       "    </tr>\n",
       "    <tr>\n",
       "      <th>15</th>\n",
       "      <td>15</td>\n",
       "      <td>census_7</td>\n",
       "      <td>census_7</td>\n",
       "      <td>1</td>\n",
       "      <td>Ealing</td>\n",
       "      <td>Ealing</td>\n",
       "      <td>Ealing</td>\n",
       "      <td>education</td>\n",
       "      <td>pt</td>\n",
       "      <td>962</td>\n",
       "      <td>967</td>\n",
       "      <td>1000</td>\n",
       "    </tr>\n",
       "    <tr>\n",
       "      <th>16</th>\n",
       "      <td>16</td>\n",
       "      <td>census_8</td>\n",
       "      <td>census_8</td>\n",
       "      <td>0</td>\n",
       "      <td>Lambeth</td>\n",
       "      <td>Lambeth</td>\n",
       "      <td>Westminster,City of London</td>\n",
       "      <td>work</td>\n",
       "      <td>pt</td>\n",
       "      <td>499</td>\n",
       "      <td>510</td>\n",
       "      <td>1000</td>\n",
       "    </tr>\n",
       "    <tr>\n",
       "      <th>17</th>\n",
       "      <td>17</td>\n",
       "      <td>census_8</td>\n",
       "      <td>census_8</td>\n",
       "      <td>1</td>\n",
       "      <td>Lambeth</td>\n",
       "      <td>Westminster,City of London</td>\n",
       "      <td>Lambeth</td>\n",
       "      <td>work</td>\n",
       "      <td>pt</td>\n",
       "      <td>999</td>\n",
       "      <td>1010</td>\n",
       "      <td>1000</td>\n",
       "    </tr>\n",
       "    <tr>\n",
       "      <th>18</th>\n",
       "      <td>18</td>\n",
       "      <td>census_9</td>\n",
       "      <td>census_9</td>\n",
       "      <td>0</td>\n",
       "      <td>Croydon</td>\n",
       "      <td>Croydon</td>\n",
       "      <td>Sutton</td>\n",
       "      <td>work</td>\n",
       "      <td>pt</td>\n",
       "      <td>589</td>\n",
       "      <td>594</td>\n",
       "      <td>1000</td>\n",
       "    </tr>\n",
       "    <tr>\n",
       "      <th>19</th>\n",
       "      <td>19</td>\n",
       "      <td>census_9</td>\n",
       "      <td>census_9</td>\n",
       "      <td>1</td>\n",
       "      <td>Croydon</td>\n",
       "      <td>Sutton</td>\n",
       "      <td>Croydon</td>\n",
       "      <td>work</td>\n",
       "      <td>pt</td>\n",
       "      <td>1122</td>\n",
       "      <td>1127</td>\n",
       "      <td>1000</td>\n",
       "    </tr>\n",
       "  </tbody>\n",
       "</table>\n",
       "</div>"
      ],
      "text/plain": [
       "    uid       pid       hid  seq                       hzone  \\\n",
       "0     0  census_0  census_0    0                      Harrow   \n",
       "1     1  census_0  census_0    1                      Harrow   \n",
       "2     2  census_1  census_1    0                   Greenwich   \n",
       "3     3  census_1  census_1    1                   Greenwich   \n",
       "4     4  census_2  census_2    0                     Croydon   \n",
       "5     5  census_2  census_2    1                     Croydon   \n",
       "6     6  census_3  census_3    0                    Haringey   \n",
       "7     7  census_3  census_3    1                    Haringey   \n",
       "8     8  census_4  census_4    0                    Hounslow   \n",
       "9     9  census_4  census_4    1                    Hounslow   \n",
       "10   10  census_5  census_5    0  Westminster,City of London   \n",
       "11   11  census_5  census_5    1  Westminster,City of London   \n",
       "12   12  census_6  census_6    0                    Haringey   \n",
       "13   13  census_6  census_6    1                    Haringey   \n",
       "14   14  census_7  census_7    0                      Ealing   \n",
       "15   15  census_7  census_7    1                      Ealing   \n",
       "16   16  census_8  census_8    0                     Lambeth   \n",
       "17   17  census_8  census_8    1                     Lambeth   \n",
       "18   18  census_9  census_9    0                     Croydon   \n",
       "19   19  census_9  census_9    1                     Croydon   \n",
       "\n",
       "                         ozone                       dzone       purp mode  \\\n",
       "0                       Harrow                      Camden       work   pt   \n",
       "1                       Camden                      Harrow       work   pt   \n",
       "2                    Greenwich               Tower Hamlets       work   pt   \n",
       "3                Tower Hamlets                   Greenwich       work   pt   \n",
       "4                      Croydon                     Croydon       work   pt   \n",
       "5                      Croydon                     Croydon       work   pt   \n",
       "6                     Haringey                   Redbridge       work   pt   \n",
       "7                    Redbridge                    Haringey       work   pt   \n",
       "8                     Hounslow  Westminster,City of London       work  car   \n",
       "9   Westminster,City of London                    Hounslow       work  car   \n",
       "10  Westminster,City of London      Hammersmith and Fulham  education  car   \n",
       "11      Hammersmith and Fulham  Westminster,City of London  education  car   \n",
       "12                    Haringey      Kensington and Chelsea       work   pt   \n",
       "13      Kensington and Chelsea                    Haringey       work   pt   \n",
       "14                      Ealing                      Ealing  education   pt   \n",
       "15                      Ealing                      Ealing  education   pt   \n",
       "16                     Lambeth  Westminster,City of London       work   pt   \n",
       "17  Westminster,City of London                     Lambeth       work   pt   \n",
       "18                     Croydon                      Sutton       work   pt   \n",
       "19                      Sutton                     Croydon       work   pt   \n",
       "\n",
       "     tst   tet  freq  \n",
       "0    444   473  1000  \n",
       "1    890   919  1000  \n",
       "2    507   528  1000  \n",
       "3   1065  1086  1000  \n",
       "4    422   425  1000  \n",
       "5    917   920  1000  \n",
       "6    428   447  1000  \n",
       "7   1007  1026  1000  \n",
       "8    483   516  1000  \n",
       "9   1017  1050  1000  \n",
       "10   568   577  1000  \n",
       "11  1019  1028  1000  \n",
       "12   442   469  1000  \n",
       "13  1012  1039  1000  \n",
       "14   479   484  1000  \n",
       "15   962   967  1000  \n",
       "16   499   510  1000  \n",
       "17   999  1010  1000  \n",
       "18   589   594  1000  \n",
       "19  1122  1127  1000  "
      ]
     },
     "execution_count": 4,
     "metadata": {},
     "output_type": "execute_result"
    }
   ],
   "source": [
    "trips.head(20)"
   ]
  },
  {
   "cell_type": "markdown",
   "metadata": {},
   "source": [
    "### Build Activity Plans\n",
    "\n",
    "First we convert the travel diary data to Activity Plans:"
   ]
  },
  {
   "cell_type": "code",
   "execution_count": 5,
   "metadata": {
    "ExecuteTime": {
     "end_time": "2020-04-14T09:08:47.716754Z",
     "start_time": "2020-04-14T09:08:33.361499Z"
    }
   },
   "outputs": [],
   "source": [
    "from pam import parse\n",
    "population = parse.load_travel_diary(trips, attributes)"
   ]
  },
  {
   "cell_type": "markdown",
   "metadata": {
    "ExecuteTime": {
     "end_time": "2020-04-09T14:32:22.432201Z",
     "start_time": "2020-04-09T14:32:15.568791Z"
    }
   },
   "source": [
    "Let's check out an example Activity Plan and Attributes:"
   ]
  },
  {
   "cell_type": "code",
   "execution_count": 7,
   "metadata": {
    "ExecuteTime": {
     "end_time": "2020-04-14T09:10:45.168862Z",
     "start_time": "2020-04-14T09:10:45.122831Z"
    }
   },
   "outputs": [
    {
     "name": "stdout",
     "output_type": "stream",
     "text": [
      "0:\tActivity(act:home, area:Hillingdon, time:00:00:00 --> 07:13:00, duration:7:13:00)\n",
      "1:\tLeg(mode:pt, area:Hillingdon --> Ealing, time:07:13:00 --> 07:38:00, duration:0:25:00)\n",
      "2:\tActivity(act:work, area:Ealing, time:07:38:00 --> 16:58:00, duration:9:20:00)\n",
      "3:\tLeg(mode:pt, area:Ealing --> Hillingdon, time:16:58:00 --> 17:23:00, duration:0:25:00)\n",
      "4:\tActivity(act:home, area:Hillingdon, time:17:23:00 --> 23:59:00, duration:6:36:00)\n"
     ]
    }
   ],
   "source": [
    "household = population.households['census_123']\n",
    "person = household.people['census_123']\n",
    "person.print_plan()"
   ]
  },
  {
   "cell_type": "code",
   "execution_count": 8,
   "metadata": {
    "ExecuteTime": {
     "end_time": "2020-04-14T09:10:45.715931Z",
     "start_time": "2020-04-14T09:10:45.678124Z"
    }
   },
   "outputs": [
    {
     "data": {
      "text/plain": [
       "{'gender': 'male', 'job': 'work', 'occ': 'blue', 'inc': 'high'}"
      ]
     },
     "execution_count": 8,
     "metadata": {},
     "output_type": "execute_result"
    }
   ],
   "source": [
    "person.attributes"
   ]
  },
  {
   "cell_type": "markdown",
   "metadata": {},
   "source": [
    "Before we do any activity modification - we create a simple function to extract some example statistics. We include this as a simple demo, but would love to add more.\n",
    "\n",
    "Note that activity plans allow us to consider detailed **joint** segmentations, such as socio-economic, spatial, temporal, modal, activity sequence and so on."
   ]
  },
  {
   "cell_type": "code",
   "execution_count": 9,
   "metadata": {
    "ExecuteTime": {
     "end_time": "2020-04-14T09:10:55.122781Z",
     "start_time": "2020-04-14T09:10:55.083070Z"
    }
   },
   "outputs": [],
   "source": [
    "def print_simple_stats(population):\n",
    "    \"\"\"\n",
    "    Print some simple population statistics.\n",
    "    \"\"\"\n",
    "    time_at_home = 0\n",
    "    travel_time = 0 \n",
    "    low_income_central_trips = 0\n",
    "    high_income_central_trips = 0\n",
    "    \n",
    "    for hid, hh in population.households.items():\n",
    "        for pid, person in hh.people.items():\n",
    "            freq = person.freq\n",
    "            \n",
    "            for p in person.plan:\n",
    "                if p.act == 'travel':\n",
    "                    duration = p.duration.seconds * freq / 3600\n",
    "                    travel_time += duration\n",
    "                    \n",
    "                    if p.end_area == \"Westminster,City of London\":\n",
    "                        if person.attributes['inc'] == \"low\":\n",
    "                            low_income_central_trips += freq\n",
    "                            \n",
    "                        elif person.attributes['inc'] == \"high\":\n",
    "                            high_income_central_trips += freq\n",
    "                    \n",
    "                else:  # activity\n",
    "                    if p.act == 'home':\n",
    "                        duration = p.duration.seconds * freq / 3600\n",
    "                        time_at_home += duration\n",
    "                        \n",
    "    print(f\"Population total time at home: {time_at_home/1000000:.2f} million hours\")\n",
    "    print(f\"Population total travel time: {travel_time/1000000:.2f} million hours\")\n",
    "    print(f\"Low income trips to Central London: {low_income_central_trips} trips\")\n",
    "    print(f\"High income trips to Central London: {high_income_central_trips} trips\")\n",
    "                        "
   ]
  },
  {
   "cell_type": "code",
   "execution_count": 11,
   "metadata": {
    "ExecuteTime": {
     "end_time": "2020-04-14T09:11:34.592628Z",
     "start_time": "2020-04-14T09:11:34.524803Z"
    }
   },
   "outputs": [
    {
     "name": "stdout",
     "output_type": "stream",
     "text": [
      "Population total time at home: 49.46 million hours\n",
      "Population total travel time: 1.58 million hours\n",
      "Low income trips to Central London: 229000 trips\n",
      "High income trips to Central London: 246000 trips\n"
     ]
    }
   ],
   "source": [
    "print_simple_stats(population)"
   ]
  },
  {
   "cell_type": "markdown",
   "metadata": {},
   "source": [
    "### Scenarios\n",
    "\n",
    "Our 2011 baseline London population of commuters seems sensible, they spend about 50 million hours at home and 1.6 million hours travelling.\n",
    "\n",
    "But what if we want to try and build some more up to date scenarios?\n",
    "\n",
    "We consider 3 modifiers:\n",
    "\n",
    "1. A household will be quarantined with p=0.025\n",
    "2. A person will be staying at home (self isolating) with p=0.1\n",
    "3. Education activities will be removed and plans adjusted with p=0.9"
   ]
  },
  {
   "cell_type": "code",
   "execution_count": 12,
   "metadata": {
    "ExecuteTime": {
     "end_time": "2020-04-14T09:13:06.180324Z",
     "start_time": "2020-04-14T09:13:06.127294Z"
    }
   },
   "outputs": [],
   "source": [
    "from pam import modify\n",
    "policy1 = modify.HouseholdQuarantined(probability=0.025)\n",
    "policy2 = modify.PersonStayAtHome(probability=0.1)\n",
    "policy3 = modify.RemoveActivity(['education'], probability=0.9)"
   ]
  },
  {
   "cell_type": "markdown",
   "metadata": {},
   "source": [
    "We then build 3 example population scenarios:\n",
    "\n",
    "1. policy 1\n",
    "2. policy 1 + policy 2\n",
    "3. policy 1 + policy 2 + policy 3"
   ]
  },
  {
   "cell_type": "code",
   "execution_count": 13,
   "metadata": {
    "ExecuteTime": {
     "end_time": "2020-04-14T09:13:07.277519Z",
     "start_time": "2020-04-14T09:13:07.246956Z"
    }
   },
   "outputs": [],
   "source": [
    "def apply_policies(population, policies: list):\n",
    "\n",
    "    new_population = deepcopy(population) \n",
    "    for hid, household in new_population.households.items():\n",
    "        for policy in policies:\n",
    "            policy.apply_to(household)\n",
    "    return new_population"
   ]
  },
  {
   "cell_type": "code",
   "execution_count": 14,
   "metadata": {
    "ExecuteTime": {
     "end_time": "2020-04-14T09:13:32.687952Z",
     "start_time": "2020-04-14T09:13:30.716477Z"
    }
   },
   "outputs": [],
   "source": [
    "population1 = apply_policies(population, [policy1])\n",
    "population2 = apply_policies(population, [policy1, policy2])\n",
    "population3 = apply_policies(population, [policy1, policy2, policy3])"
   ]
  },
  {
   "cell_type": "markdown",
   "metadata": {},
   "source": [
    "### Review\n",
    "\n",
    "So this has been a pretty quick and dirty demo. But we can still take a look at our new population scenario stats below. Obviously we'd like to add some more analytics... some viz... some validation... then output new travel plans and OD matrices for use in other models."
   ]
  },
  {
   "cell_type": "code",
   "execution_count": 15,
   "metadata": {
    "ExecuteTime": {
     "end_time": "2020-04-14T09:13:35.570291Z",
     "start_time": "2020-04-14T09:13:35.499014Z"
    }
   },
   "outputs": [
    {
     "name": "stdout",
     "output_type": "stream",
     "text": [
      "Population total time at home: 50.10 million hours\n",
      "Population total travel time: 1.54 million hours\n",
      "Low income trips to Central London: 225000 trips\n",
      "High income trips to Central London: 238000 trips\n"
     ]
    }
   ],
   "source": [
    "print_simple_stats(population1)"
   ]
  },
  {
   "cell_type": "code",
   "execution_count": 16,
   "metadata": {
    "ExecuteTime": {
     "end_time": "2020-04-14T09:13:36.362569Z",
     "start_time": "2020-04-14T09:13:36.301679Z"
    }
   },
   "outputs": [
    {
     "name": "stdout",
     "output_type": "stream",
     "text": [
      "Population total time at home: 52.11 million hours\n",
      "Population total travel time: 1.40 million hours\n",
      "Low income trips to Central London: 197000 trips\n",
      "High income trips to Central London: 213000 trips\n"
     ]
    }
   ],
   "source": [
    "print_simple_stats(population2)"
   ]
  },
  {
   "cell_type": "code",
   "execution_count": 17,
   "metadata": {
    "ExecuteTime": {
     "end_time": "2020-04-14T09:13:36.991956Z",
     "start_time": "2020-04-14T09:13:36.938041Z"
    }
   },
   "outputs": [
    {
     "name": "stdout",
     "output_type": "stream",
     "text": [
      "Population total time at home: 56.08 million hours\n",
      "Population total travel time: 1.16 million hours\n",
      "Low income trips to Central London: 172000 trips\n",
      "High income trips to Central London: 189000 trips\n"
     ]
    }
   ],
   "source": [
    "print_simple_stats(population3)"
   ]
  },
  {
   "cell_type": "markdown",
   "metadata": {},
   "source": [
    "### Footnote - Build Your Own Person"
   ]
  },
  {
   "cell_type": "code",
   "execution_count": 18,
   "metadata": {
    "ExecuteTime": {
     "end_time": "2020-04-14T09:14:48.455870Z",
     "start_time": "2020-04-14T09:14:48.372405Z"
    }
   },
   "outputs": [],
   "source": [
    "from pam.core import Population, Household, Person\n",
    "from pam.activity import Plan, Activity, Leg\n",
    "from pam.utils import minutes_to_datetime"
   ]
  },
  {
   "cell_type": "code",
   "execution_count": 19,
   "metadata": {
    "ExecuteTime": {
     "end_time": "2020-04-14T09:15:08.316794Z",
     "start_time": "2020-04-14T09:15:08.278751Z"
    }
   },
   "outputs": [],
   "source": [
    "person = Person(1)\n",
    "person.add(\n",
    "    Activity(\n",
    "        seq=1,\n",
    "        act='home',\n",
    "        area='a',\n",
    "        start_time=minutes_to_datetime(0),\n",
    "        end_time=minutes_to_datetime(60)\n",
    "    )\n",
    ")\n",
    "person.add(\n",
    "    Leg(\n",
    "        seq=1,\n",
    "        mode='car',\n",
    "        start_area='a',\n",
    "        end_area='b',\n",
    "        start_time=minutes_to_datetime(60),\n",
    "        end_time=minutes_to_datetime(90)\n",
    "    )\n",
    ")\n",
    "person.add(\n",
    "    Activity(\n",
    "        seq=2,\n",
    "        act='education',\n",
    "        area='b',\n",
    "        start_time=minutes_to_datetime(90),\n",
    "        end_time=minutes_to_datetime(120)\n",
    "    )\n",
    ")\n",
    "person.add(\n",
    "    Leg(\n",
    "        seq=2,\n",
    "        mode='car',\n",
    "        start_area='b',\n",
    "        end_area='a',\n",
    "        start_time=minutes_to_datetime(120),\n",
    "        end_time=minutes_to_datetime(180)\n",
    "    )\n",
    ")\n",
    "person.add(\n",
    "    Activity(\n",
    "        seq=3,\n",
    "        act='home',\n",
    "        area='a',\n",
    "        start_time=minutes_to_datetime(180),\n",
    "        end_time=minutes_to_datetime(24 * 60 - 1)\n",
    "    )\n",
    ")"
   ]
  },
  {
   "cell_type": "code",
   "execution_count": 20,
   "metadata": {
    "ExecuteTime": {
     "end_time": "2020-04-14T09:15:08.794360Z",
     "start_time": "2020-04-14T09:15:08.751193Z"
    }
   },
   "outputs": [
    {
     "name": "stdout",
     "output_type": "stream",
     "text": [
      "0:\tActivity(act:home, area:a, time:00:00:00 --> 01:00:00, duration:1:00:00)\n",
      "1:\tLeg(mode:car, area:a --> b, time:01:00:00 --> 01:30:00, duration:0:30:00)\n",
      "2:\tActivity(act:education, area:b, time:01:30:00 --> 02:00:00, duration:0:30:00)\n",
      "3:\tLeg(mode:car, area:b --> a, time:02:00:00 --> 03:00:00, duration:1:00:00)\n",
      "4:\tActivity(act:home, area:a, time:03:00:00 --> 23:59:00, duration:20:59:00)\n"
     ]
    }
   ],
   "source": [
    "person.print_plan()"
   ]
  },
  {
   "cell_type": "code",
   "execution_count": 21,
   "metadata": {
    "ExecuteTime": {
     "end_time": "2020-04-14T09:15:09.500245Z",
     "start_time": "2020-04-14T09:15:09.469894Z"
    }
   },
   "outputs": [],
   "source": [
    "a, b = person.remove_activity(2)"
   ]
  },
  {
   "cell_type": "code",
   "execution_count": 22,
   "metadata": {
    "ExecuteTime": {
     "end_time": "2020-04-14T09:15:09.883087Z",
     "start_time": "2020-04-14T09:15:09.844992Z"
    }
   },
   "outputs": [
    {
     "name": "stdout",
     "output_type": "stream",
     "text": [
      "0:\tActivity(act:home, area:a, time:00:00:00 --> 01:00:00, duration:1:00:00)\n",
      "1:\tLeg(mode:car, area:a --> b, time:01:00:00 --> 01:30:00, duration:0:30:00)\n",
      "2:\tLeg(mode:car, area:b --> a, time:02:00:00 --> 03:00:00, duration:1:00:00)\n",
      "3:\tActivity(act:home, area:a, time:03:00:00 --> 23:59:00, duration:20:59:00)\n"
     ]
    }
   ],
   "source": [
    "person.print_plan()"
   ]
  },
  {
   "cell_type": "code",
   "execution_count": 23,
   "metadata": {
    "ExecuteTime": {
     "end_time": "2020-04-14T09:15:10.839356Z",
     "start_time": "2020-04-14T09:15:10.804060Z"
    }
   },
   "outputs": [
    {
     "data": {
      "text/plain": [
       "True"
      ]
     },
     "execution_count": 23,
     "metadata": {},
     "output_type": "execute_result"
    }
   ],
   "source": [
    "person.fill_plan(a,b)"
   ]
  },
  {
   "cell_type": "code",
   "execution_count": 24,
   "metadata": {
    "ExecuteTime": {
     "end_time": "2020-04-14T09:15:11.350192Z",
     "start_time": "2020-04-14T09:15:11.323293Z"
    }
   },
   "outputs": [
    {
     "name": "stdout",
     "output_type": "stream",
     "text": [
      "0:\tActivity(act:home, area:a, time:00:00:00 --> 23:59:00, duration:23:59:00)\n"
     ]
    }
   ],
   "source": [
    "person.print_plan()"
   ]
  },
  {
   "cell_type": "code",
   "execution_count": null,
   "metadata": {},
   "outputs": [],
   "source": []
  }
 ],
 "metadata": {
  "kernelspec": {
   "display_name": "Python 3",
   "language": "python",
   "name": "python3"
  },
  "language_info": {
   "codemirror_mode": {
    "name": "ipython",
    "version": 3
   },
   "file_extension": ".py",
   "mimetype": "text/x-python",
   "name": "python",
   "nbconvert_exporter": "python",
   "pygments_lexer": "ipython3",
   "version": "3.7.3"
  },
  "toc": {
   "base_numbering": 1,
   "nav_menu": {},
   "number_sections": true,
   "sideBar": true,
   "skip_h1_title": true,
   "title_cell": "Table of Contents",
   "title_sidebar": "Contents",
   "toc_cell": false,
   "toc_position": {
    "height": "calc(100% - 180px)",
    "left": "10px",
    "top": "150px",
    "width": "248.333px"
   },
   "toc_section_display": true,
   "toc_window_display": true
  }
 },
 "nbformat": 4,
 "nbformat_minor": 2
}
