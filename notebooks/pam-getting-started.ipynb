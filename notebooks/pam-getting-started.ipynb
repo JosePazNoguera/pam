{
 "cells": [
  {
   "cell_type": "code",
   "execution_count": 1,
   "metadata": {
    "ExecuteTime": {
     "end_time": "2020-04-13T16:34:11.828656Z",
     "start_time": "2020-04-13T16:34:11.372514Z"
    }
   },
   "outputs": [],
   "source": [
    "import pandas as pd\n",
    "from copy import deepcopy"
   ]
  },
  {
   "cell_type": "markdown",
   "metadata": {},
   "source": [
    "# PAM - Getting Started\n",
    "\n",
    "**Pandemic Activity Modelling/Modifying**\n",
    "\n",
    "This notebook is a quick spin through PAM. Intended to provide a technical overview and inspire further research and development.\n",
    "\n",
    "### Load Data\n",
    "\n",
    "Here we load simple travel diary data of London commuters. This is a very simple 0.1% sample of data about work and education commutes from the 2011 census. Because we're sharing this date - we've aggregated locations to borough level and randomized personal attributes - so don't get too excited about the results.\n",
    "\n",
    "The data is available in `pam/example_data`."
   ]
  },
  {
   "cell_type": "code",
   "execution_count": 2,
   "metadata": {
    "ExecuteTime": {
     "end_time": "2020-04-13T16:34:11.863838Z",
     "start_time": "2020-04-13T16:34:11.830649Z"
    }
   },
   "outputs": [],
   "source": [
    "trips = pd.read_csv('/Users/fred.shone/Projects/pam/example_data/example_travel_diaries.csv')\n",
    "attributes = pd.read_csv('/Users/fred.shone/Projects/pam/example_data/example_attributes.csv')\n",
    "attributes.set_index('pid', inplace=True)"
   ]
  },
  {
   "cell_type": "code",
   "execution_count": 3,
   "metadata": {
    "ExecuteTime": {
     "end_time": "2020-04-13T16:34:11.905391Z",
     "start_time": "2020-04-13T16:34:11.866834Z"
    }
   },
   "outputs": [
    {
     "data": {
      "text/html": [
       "<div>\n",
       "<style scoped>\n",
       "    .dataframe tbody tr th:only-of-type {\n",
       "        vertical-align: middle;\n",
       "    }\n",
       "\n",
       "    .dataframe tbody tr th {\n",
       "        vertical-align: top;\n",
       "    }\n",
       "\n",
       "    .dataframe thead th {\n",
       "        text-align: right;\n",
       "    }\n",
       "</style>\n",
       "<table border=\"1\" class=\"dataframe\">\n",
       "  <thead>\n",
       "    <tr style=\"text-align: right;\">\n",
       "      <th></th>\n",
       "      <th>uid</th>\n",
       "      <th>pid</th>\n",
       "      <th>hid</th>\n",
       "      <th>seq</th>\n",
       "      <th>hzone</th>\n",
       "      <th>ozone</th>\n",
       "      <th>dzone</th>\n",
       "      <th>purp</th>\n",
       "      <th>mode</th>\n",
       "      <th>tst</th>\n",
       "      <th>tet</th>\n",
       "      <th>freq</th>\n",
       "    </tr>\n",
       "  </thead>\n",
       "  <tbody>\n",
       "    <tr>\n",
       "      <th>0</th>\n",
       "      <td>0</td>\n",
       "      <td>census_0</td>\n",
       "      <td>census_0</td>\n",
       "      <td>0</td>\n",
       "      <td>Harrow</td>\n",
       "      <td>Harrow</td>\n",
       "      <td>Camden</td>\n",
       "      <td>work</td>\n",
       "      <td>pt</td>\n",
       "      <td>444</td>\n",
       "      <td>473</td>\n",
       "      <td>1000</td>\n",
       "    </tr>\n",
       "    <tr>\n",
       "      <th>1</th>\n",
       "      <td>1</td>\n",
       "      <td>census_0</td>\n",
       "      <td>census_0</td>\n",
       "      <td>1</td>\n",
       "      <td>Harrow</td>\n",
       "      <td>Camden</td>\n",
       "      <td>Harrow</td>\n",
       "      <td>work</td>\n",
       "      <td>pt</td>\n",
       "      <td>890</td>\n",
       "      <td>919</td>\n",
       "      <td>1000</td>\n",
       "    </tr>\n",
       "    <tr>\n",
       "      <th>2</th>\n",
       "      <td>2</td>\n",
       "      <td>census_1</td>\n",
       "      <td>census_1</td>\n",
       "      <td>0</td>\n",
       "      <td>Greenwich</td>\n",
       "      <td>Greenwich</td>\n",
       "      <td>Tower Hamlets</td>\n",
       "      <td>work</td>\n",
       "      <td>pt</td>\n",
       "      <td>507</td>\n",
       "      <td>528</td>\n",
       "      <td>1000</td>\n",
       "    </tr>\n",
       "    <tr>\n",
       "      <th>3</th>\n",
       "      <td>3</td>\n",
       "      <td>census_1</td>\n",
       "      <td>census_1</td>\n",
       "      <td>1</td>\n",
       "      <td>Greenwich</td>\n",
       "      <td>Tower Hamlets</td>\n",
       "      <td>Greenwich</td>\n",
       "      <td>work</td>\n",
       "      <td>pt</td>\n",
       "      <td>1065</td>\n",
       "      <td>1086</td>\n",
       "      <td>1000</td>\n",
       "    </tr>\n",
       "    <tr>\n",
       "      <th>4</th>\n",
       "      <td>4</td>\n",
       "      <td>census_2</td>\n",
       "      <td>census_2</td>\n",
       "      <td>0</td>\n",
       "      <td>Croydon</td>\n",
       "      <td>Croydon</td>\n",
       "      <td>Croydon</td>\n",
       "      <td>work</td>\n",
       "      <td>pt</td>\n",
       "      <td>422</td>\n",
       "      <td>425</td>\n",
       "      <td>1000</td>\n",
       "    </tr>\n",
       "  </tbody>\n",
       "</table>\n",
       "</div>"
      ],
      "text/plain": [
       "   uid       pid       hid  seq      hzone          ozone          dzone  \\\n",
       "0    0  census_0  census_0    0     Harrow         Harrow         Camden   \n",
       "1    1  census_0  census_0    1     Harrow         Camden         Harrow   \n",
       "2    2  census_1  census_1    0  Greenwich      Greenwich  Tower Hamlets   \n",
       "3    3  census_1  census_1    1  Greenwich  Tower Hamlets      Greenwich   \n",
       "4    4  census_2  census_2    0    Croydon        Croydon        Croydon   \n",
       "\n",
       "   purp mode   tst   tet  freq  \n",
       "0  work   pt   444   473  1000  \n",
       "1  work   pt   890   919  1000  \n",
       "2  work   pt   507   528  1000  \n",
       "3  work   pt  1065  1086  1000  \n",
       "4  work   pt   422   425  1000  "
      ]
     },
     "execution_count": 3,
     "metadata": {},
     "output_type": "execute_result"
    }
   ],
   "source": [
    "trips.head()"
   ]
  },
  {
   "cell_type": "markdown",
   "metadata": {},
   "source": [
    "### Build Activity Plans\n",
    "\n",
    "First we convert the travel diary data to Activity Plans:"
   ]
  },
  {
   "cell_type": "code",
   "execution_count": 4,
   "metadata": {
    "ExecuteTime": {
     "end_time": "2020-04-13T16:34:19.087061Z",
     "start_time": "2020-04-13T16:34:11.909190Z"
    }
   },
   "outputs": [],
   "source": [
    "from pam import parse\n",
    "population = parse.load_travel_diary(trips, attributes)"
   ]
  },
  {
   "cell_type": "markdown",
   "metadata": {
    "ExecuteTime": {
     "end_time": "2020-04-09T14:32:22.432201Z",
     "start_time": "2020-04-09T14:32:15.568791Z"
    }
   },
   "source": [
    "Let's check out an example Activity Plan and Attributes:"
   ]
  },
  {
   "cell_type": "code",
   "execution_count": 5,
   "metadata": {
    "ExecuteTime": {
     "end_time": "2020-04-13T16:34:19.105569Z",
     "start_time": "2020-04-13T16:34:19.090792Z"
    }
   },
   "outputs": [
    {
     "name": "stdout",
     "output_type": "stream",
     "text": [
      "0:\tActivity(act:home, area:Hillingdon, time:00:00:00 --> 07:13:00, duration:7:13:00)\n",
      "1:\tLeg(mode:pt, area:Hillingdon --> Ealing, time:07:13:00 --> 07:38:00, duration:0:25:00)\n",
      "2:\tActivity(act:work, area:Ealing, time:07:38:00 --> 16:58:00, duration:9:20:00)\n",
      "3:\tLeg(mode:pt, area:Ealing --> Hillingdon, time:16:58:00 --> 17:23:00, duration:0:25:00)\n",
      "4:\tActivity(act:home, area:Hillingdon, time:17:23:00 --> 23:59:00, duration:6:36:00)\n"
     ]
    }
   ],
   "source": [
    "household = population.households['census_123']\n",
    "person = household.people['census_123']\n",
    "person.print_plan()"
   ]
  },
  {
   "cell_type": "code",
   "execution_count": 6,
   "metadata": {
    "ExecuteTime": {
     "end_time": "2020-04-13T16:34:19.124650Z",
     "start_time": "2020-04-13T16:34:19.107888Z"
    }
   },
   "outputs": [
    {
     "data": {
      "text/plain": [
       "{'gender': 'male', 'job': 'work', 'occ': 'blue', 'inc': 'high'}"
      ]
     },
     "execution_count": 6,
     "metadata": {},
     "output_type": "execute_result"
    }
   ],
   "source": [
    "person.attributes"
   ]
  },
  {
   "cell_type": "markdown",
   "metadata": {},
   "source": [
    "Before we do any activity modification - we create a simple function to extract some example statistics. We include this as a simple demo, but would love to add more.\n",
    "\n",
    "Note that activity plans allow us to consider detailed **joint** segmentations, such as socio-economic, spatial, temporal, modal, activity sequence and so on."
   ]
  },
  {
   "cell_type": "code",
   "execution_count": 7,
   "metadata": {
    "ExecuteTime": {
     "end_time": "2020-04-13T16:34:19.156320Z",
     "start_time": "2020-04-13T16:34:19.127032Z"
    }
   },
   "outputs": [],
   "source": [
    "def print_simple_stats(population):\n",
    "    \"\"\"\n",
    "    Print some simple population statistics.\n",
    "    \"\"\"\n",
    "    time_at_home = 0\n",
    "    travel_time = 0 \n",
    "    low_income_central_trips = 0\n",
    "    high_income_central_trips = 0\n",
    "    \n",
    "    for hid, hh in population.households.items():\n",
    "        for pid, person in hh.people.items():\n",
    "            freq = person.freq\n",
    "            \n",
    "            for p in person.plan:\n",
    "                if p.act == 'travel':\n",
    "                    duration = p.duration.seconds * freq / 3600\n",
    "                    travel_time += duration\n",
    "                    \n",
    "                    if p.end_area == \"Westminster,City of London\":\n",
    "                        if person.attributes['inc'] == \"low\":\n",
    "                            low_income_central_trips += freq\n",
    "                            \n",
    "                        elif person.attributes['inc'] == \"high\":\n",
    "                            high_income_central_trips += freq\n",
    "                    \n",
    "                else:  # activity\n",
    "                    if p.act == 'home':\n",
    "                        duration = p.duration.seconds * freq / 3600\n",
    "                        time_at_home += duration\n",
    "                        \n",
    "    print(f\"Population total time at home: {time_at_home/1000000:.2f} million hours\")\n",
    "    print(f\"Population total travel time: {travel_time/1000000:.2f} million hours\")\n",
    "    print(f\"Low income trips to Central London: {low_income_central_trips} trips\")\n",
    "    print(f\"High income trips to Central London: {high_income_central_trips} trips\")\n",
    "                        "
   ]
  },
  {
   "cell_type": "code",
   "execution_count": 8,
   "metadata": {
    "ExecuteTime": {
     "end_time": "2020-04-13T16:34:19.205203Z",
     "start_time": "2020-04-13T16:34:19.157879Z"
    }
   },
   "outputs": [
    {
     "name": "stdout",
     "output_type": "stream",
     "text": [
      "Population total time at home: 49.46 million hours\n",
      "Population total travel time: 1.58 million hours\n",
      "Low income trips to Central London: 229000 trips\n",
      "High income trips to Central London: 246000 trips\n"
     ]
    }
   ],
   "source": [
    "print_simple_stats(population)"
   ]
  },
  {
   "cell_type": "markdown",
   "metadata": {},
   "source": [
    "### Scenarios\n",
    "\n",
    "Our 2011 baseline London population of commuters seems sensible, they spend about 50 million hours at home and 1.6 million hours travelling.\n",
    "\n",
    "But what if we want to try and build some more up to date scenarios?\n",
    "\n",
    "We consider 3 modifiers:\n",
    "\n",
    "1. A household will be quarantined with p=0.025\n",
    "2. A person will be staying at home (self isolating) with p=0.1\n",
    "3. Education activities will be removed and plans adjusted with p=0.9"
   ]
  },
  {
   "cell_type": "code",
   "execution_count": 9,
   "metadata": {
    "ExecuteTime": {
     "end_time": "2020-04-13T16:34:19.233865Z",
     "start_time": "2020-04-13T16:34:19.207245Z"
    }
   },
   "outputs": [],
   "source": [
    "from pam import modify\n",
    "policy1 = modify.HouseholdQuarantined(probability=0.025)\n",
    "policy2 = modify.PersonStayAtHome(probability=0.1)\n",
    "policy3 = modify.RemoveActivity(['education'], probability=0.9)"
   ]
  },
  {
   "cell_type": "markdown",
   "metadata": {},
   "source": [
    "We then build 3 example population scenarios:\n",
    "\n",
    "1. policy 1\n",
    "2. policy 1 + policy 2\n",
    "3. policy 1 + policy 2 + policy 3"
   ]
  },
  {
   "cell_type": "code",
   "execution_count": 10,
   "metadata": {
    "ExecuteTime": {
     "end_time": "2020-04-13T16:34:19.266837Z",
     "start_time": "2020-04-13T16:34:19.238378Z"
    }
   },
   "outputs": [],
   "source": [
    "def apply_policies(population, policies: list):\n",
    "\n",
    "    new_population = deepcopy(population) \n",
    "    for hid, household in new_population.households.items():\n",
    "        for policy in policies:\n",
    "            policy.apply_to(household)\n",
    "    return new_population"
   ]
  },
  {
   "cell_type": "code",
   "execution_count": 11,
   "metadata": {
    "ExecuteTime": {
     "end_time": "2020-04-13T16:34:20.565239Z",
     "start_time": "2020-04-13T16:34:19.275203Z"
    }
   },
   "outputs": [],
   "source": [
    "population1 = apply_policies(population, [policy1])\n",
    "population2 = apply_policies(population, [policy1, policy2])\n",
    "population3 = apply_policies(population, [policy1, policy2, policy3])"
   ]
  },
  {
   "cell_type": "markdown",
   "metadata": {},
   "source": [
    "### Review\n",
    "\n",
    "So this has been a pretty quick and dirty demo. But we can still take a look at our new population scenario stats below. Obviously we'd like to add some more analytics... some viz... some validation... then output new travel plans and OD matrices for use in other models."
   ]
  },
  {
   "cell_type": "code",
   "execution_count": 12,
   "metadata": {
    "ExecuteTime": {
     "end_time": "2020-04-13T16:34:20.599778Z",
     "start_time": "2020-04-13T16:34:20.567240Z"
    }
   },
   "outputs": [
    {
     "name": "stdout",
     "output_type": "stream",
     "text": [
      "Population total time at home: 50.05 million hours\n",
      "Population total travel time: 1.54 million hours\n",
      "Low income trips to Central London: 222000 trips\n",
      "High income trips to Central London: 239000 trips\n"
     ]
    }
   ],
   "source": [
    "print_simple_stats(population1)"
   ]
  },
  {
   "cell_type": "code",
   "execution_count": 13,
   "metadata": {
    "ExecuteTime": {
     "end_time": "2020-04-13T16:34:20.647336Z",
     "start_time": "2020-04-13T16:34:20.602273Z"
    }
   },
   "outputs": [
    {
     "name": "stdout",
     "output_type": "stream",
     "text": [
      "Population total time at home: 51.97 million hours\n",
      "Population total travel time: 1.39 million hours\n",
      "Low income trips to Central London: 205000 trips\n",
      "High income trips to Central London: 204000 trips\n"
     ]
    }
   ],
   "source": [
    "print_simple_stats(population2)"
   ]
  },
  {
   "cell_type": "code",
   "execution_count": 14,
   "metadata": {
    "ExecuteTime": {
     "end_time": "2020-04-13T16:34:20.708230Z",
     "start_time": "2020-04-13T16:34:20.651249Z"
    }
   },
   "outputs": [
    {
     "name": "stdout",
     "output_type": "stream",
     "text": [
      "Population total time at home: 56.28 million hours\n",
      "Population total travel time: 1.14 million hours\n",
      "Low income trips to Central London: 171000 trips\n",
      "High income trips to Central London: 180000 trips\n"
     ]
    }
   ],
   "source": [
    "print_simple_stats(population3)"
   ]
  },
  {
   "cell_type": "markdown",
   "metadata": {},
   "source": [
    "### Footnote - Build Your Own Person"
   ]
  },
  {
   "cell_type": "code",
   "execution_count": 15,
   "metadata": {
    "ExecuteTime": {
     "end_time": "2020-04-13T16:34:20.732601Z",
     "start_time": "2020-04-13T16:34:20.710099Z"
    }
   },
   "outputs": [],
   "source": [
    "from pam.core import Population, Household, Person\n",
    "from pam.activity import Plan, Activity, Leg\n",
    "from pam.utils import minutes_to_datetime"
   ]
  },
  {
   "cell_type": "code",
   "execution_count": 16,
   "metadata": {
    "ExecuteTime": {
     "end_time": "2020-04-13T16:34:20.764604Z",
     "start_time": "2020-04-13T16:34:20.734952Z"
    }
   },
   "outputs": [],
   "source": [
    "person = Person(1)\n",
    "person.add(\n",
    "    Activity(\n",
    "        seq=1,\n",
    "        act='home',\n",
    "        area='a',\n",
    "        start_time=minutes_to_datetime(0),\n",
    "        end_time=minutes_to_datetime(60)\n",
    "    )\n",
    ")\n",
    "person.add(\n",
    "    Leg(\n",
    "        seq=1,\n",
    "        mode='car',\n",
    "        start_area='a',\n",
    "        end_area='b',\n",
    "        start_time=minutes_to_datetime(60),\n",
    "        end_time=minutes_to_datetime(90)\n",
    "    )\n",
    ")\n",
    "person.add(\n",
    "    Activity(\n",
    "        seq=2,\n",
    "        act='education',\n",
    "        area='b',\n",
    "        start_time=minutes_to_datetime(90),\n",
    "        end_time=minutes_to_datetime(120)\n",
    "    )\n",
    ")\n",
    "person.add(\n",
    "    Leg(\n",
    "        seq=2,\n",
    "        mode='car',\n",
    "        start_area='b',\n",
    "        end_area='a',\n",
    "        start_time=minutes_to_datetime(120),\n",
    "        end_time=minutes_to_datetime(180)\n",
    "    )\n",
    ")\n",
    "person.add(\n",
    "    Activity(\n",
    "        seq=3,\n",
    "        act='home',\n",
    "        area='a',\n",
    "        start_time=minutes_to_datetime(180),\n",
    "        end_time=minutes_to_datetime(24 * 60 - 1)\n",
    "    )\n",
    ")"
   ]
  },
  {
   "cell_type": "code",
   "execution_count": 17,
   "metadata": {
    "ExecuteTime": {
     "end_time": "2020-04-13T16:34:20.795234Z",
     "start_time": "2020-04-13T16:34:20.767169Z"
    }
   },
   "outputs": [
    {
     "name": "stdout",
     "output_type": "stream",
     "text": [
      "0:\tActivity(act:home, area:a, time:00:00:00 --> 01:00:00, duration:1:00:00)\n",
      "1:\tLeg(mode:car, area:a --> b, time:01:00:00 --> 01:30:00, duration:0:30:00)\n",
      "2:\tActivity(act:education, area:b, time:01:30:00 --> 02:00:00, duration:0:30:00)\n",
      "3:\tLeg(mode:car, area:b --> a, time:02:00:00 --> 03:00:00, duration:1:00:00)\n",
      "4:\tActivity(act:home, area:a, time:03:00:00 --> 23:59:00, duration:20:59:00)\n"
     ]
    }
   ],
   "source": [
    "person.print_plan()"
   ]
  },
  {
   "cell_type": "code",
   "execution_count": 18,
   "metadata": {
    "ExecuteTime": {
     "end_time": "2020-04-13T16:34:20.820619Z",
     "start_time": "2020-04-13T16:34:20.796998Z"
    }
   },
   "outputs": [],
   "source": [
    "a, b = person.remove_activity(2)"
   ]
  },
  {
   "cell_type": "code",
   "execution_count": 19,
   "metadata": {
    "ExecuteTime": {
     "end_time": "2020-04-13T16:34:20.845205Z",
     "start_time": "2020-04-13T16:34:20.822214Z"
    }
   },
   "outputs": [
    {
     "name": "stdout",
     "output_type": "stream",
     "text": [
      "0:\tActivity(act:home, area:a, time:00:00:00 --> 01:00:00, duration:1:00:00)\n",
      "1:\tLeg(mode:car, area:a --> b, time:01:00:00 --> 01:30:00, duration:0:30:00)\n",
      "2:\tLeg(mode:car, area:b --> a, time:02:00:00 --> 03:00:00, duration:1:00:00)\n",
      "3:\tActivity(act:home, area:a, time:03:00:00 --> 23:59:00, duration:20:59:00)\n"
     ]
    }
   ],
   "source": [
    "person.print_plan()"
   ]
  },
  {
   "cell_type": "code",
   "execution_count": 20,
   "metadata": {
    "ExecuteTime": {
     "end_time": "2020-04-13T16:34:20.894995Z",
     "start_time": "2020-04-13T16:34:20.850557Z"
    }
   },
   "outputs": [
    {
     "data": {
      "text/plain": [
       "True"
      ]
     },
     "execution_count": 20,
     "metadata": {},
     "output_type": "execute_result"
    }
   ],
   "source": [
    "person.fill_plan(a,b)"
   ]
  },
  {
   "cell_type": "code",
   "execution_count": 21,
   "metadata": {
    "ExecuteTime": {
     "end_time": "2020-04-13T16:34:20.925291Z",
     "start_time": "2020-04-13T16:34:20.896791Z"
    }
   },
   "outputs": [
    {
     "name": "stdout",
     "output_type": "stream",
     "text": [
      "0:\tActivity(act:home, area:a, time:00:00:00 --> 23:59:00, duration:23:59:00)\n"
     ]
    }
   ],
   "source": [
    "person.print_plan()"
   ]
  },
  {
   "cell_type": "code",
   "execution_count": null,
   "metadata": {},
   "outputs": [],
   "source": []
  }
 ],
 "metadata": {
  "kernelspec": {
   "display_name": "Python 3",
   "language": "python",
   "name": "python3"
  },
  "language_info": {
   "codemirror_mode": {
    "name": "ipython",
    "version": 3
   },
   "file_extension": ".py",
   "mimetype": "text/x-python",
   "name": "python",
   "nbconvert_exporter": "python",
   "pygments_lexer": "ipython3",
   "version": "3.7.3"
  },
  "toc": {
   "base_numbering": 1,
   "nav_menu": {},
   "number_sections": true,
   "sideBar": true,
   "skip_h1_title": true,
   "title_cell": "Table of Contents",
   "title_sidebar": "Contents",
   "toc_cell": false,
   "toc_position": {
    "height": "calc(100% - 180px)",
    "left": "10px",
    "top": "150px",
    "width": "248.333px"
   },
   "toc_section_display": true,
   "toc_window_display": true
  }
 },
 "nbformat": 4,
 "nbformat_minor": 2
}
