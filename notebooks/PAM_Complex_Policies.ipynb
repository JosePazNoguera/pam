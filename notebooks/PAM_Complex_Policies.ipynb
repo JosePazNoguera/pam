{
 "cells": [
  {
   "cell_type": "code",
   "execution_count": 1,
   "metadata": {},
   "outputs": [],
   "source": [
    "import os\n",
    "import pandas as pd\n",
    "import random\n",
    "from copy import deepcopy\n",
    "from collections import defaultdict\n",
    "import geopandas as gp\n",
    "from matplotlib import pyplot as plt\n",
    "from pam import parse\n",
    "from pam.core import Population, Household, Person\n",
    "from pam.activity import Plan, Activity, Leg\n",
    "from pam.utils import minutes_to_datetime as mtdt\n",
    "from pam.variables import END_OF_DAY\n",
    "\n",
    "from pam.modify import *"
   ]
  },
  {
   "cell_type": "code",
   "execution_count": 9,
   "metadata": {},
   "outputs": [],
   "source": [
    "def plot_activities(person):\n",
    "    #Load a df with a persons activty plan\n",
    "    activities, start_times, end_times, durations = [], [], [], []\n",
    "    for component in person.plan.day:\n",
    "        activities.append(component.act.title())\n",
    "        start_times.append(component.start_time.hour + component.start_time.minute/60)\n",
    "        end_times.append(component.end_time.hour + component.end_time.minute/60)\n",
    "        durations.append(component.duration.total_seconds()/3600)\n",
    "    df = pd.DataFrame(zip(activities,start_times,durations), columns=['act','start_time','dur'])\n",
    "    #Define a colour map for a unique list of activities\n",
    "    colors = plt.cm.tab10.colors\n",
    "    activities_unique = df['act'].unique()\n",
    "    d_color = dict(zip(activities_unique,colors))\n",
    "    df['color'] = df['act'].map(d_color)\n",
    "    #Plotting\n",
    "    fig,ax = plt.subplots(figsize=(16,4))\n",
    "    \n",
    "    label_x, label_y = [],[]\n",
    "    for i in range(len(df)):\n",
    "        y = 1\n",
    "        data = df.iloc[i]\n",
    "        ax.barh(y, \n",
    "                width='dur', \n",
    "                data=data,\n",
    "                left='start_time',\n",
    "                label='act',\n",
    "                color='color'\n",
    "               )\n",
    "        \n",
    "        #Populate Labelling Params\n",
    "        label_x.append(data['start_time']+data['dur']/2)\n",
    "        label_y.append(y)\n",
    "    \n",
    "    #Labels\n",
    "    rects = ax.patches\n",
    "    \n",
    "    for x, y, rect, activity in zip(label_x, label_y, rects, activities):\n",
    "        if rect.get_width()>=3:\n",
    "            ax.text(x, y, activity, ha='center',\n",
    "                    fontdict={'color':'white', 'size':14, 'weight':'bold'})\n",
    "        \n",
    "    plt.xticks(range(25))\n",
    "    plt.xlim(right=24)\n",
    "    ax.get_yaxis().set_visible(False)\n",
    "    \n",
    "def print_simple_stats(population):\n",
    "    \"\"\"\n",
    "    Print some simple population statistics.\n",
    "    \"\"\"\n",
    "    time_at_home = 0\n",
    "    travel_time = 0 \n",
    "    low_income_central_trips = 0\n",
    "    high_income_central_trips = 0\n",
    "    \n",
    "    for hid, hh in population.households.items():\n",
    "        for pid, person in hh.people.items():\n",
    "            freq = person.freq\n",
    "            \n",
    "            for p in person.plan:\n",
    "                if p.act == 'travel':\n",
    "                    duration = p.duration.seconds * freq / 3600\n",
    "                    travel_time += duration\n",
    "                    \n",
    "                    if p.end_location.area == \"Westminster,City of London\":\n",
    "                        if person.attributes['inc'] == \"low\":\n",
    "                            low_income_central_trips += freq\n",
    "                            \n",
    "                        elif person.attributes['inc'] == \"high\":\n",
    "                            high_income_central_trips += freq\n",
    "                    \n",
    "                else:  # activity\n",
    "                    if p.act == 'home':\n",
    "                        duration = p.duration.seconds * freq / 3600\n",
    "                        time_at_home += duration\n",
    "                        \n",
    "    print(f\"Population total time at home: {time_at_home:.2f} hours\")\n",
    "    print(f\"Population total travel time: {travel_time:.2f} hours\")"
   ]
  },
  {
   "cell_type": "markdown",
   "metadata": {},
   "source": [
    "## Create example Population"
   ]
  },
  {
   "cell_type": "code",
   "execution_count": 10,
   "metadata": {},
   "outputs": [],
   "source": [
    "population = Population()"
   ]
  },
  {
   "cell_type": "markdown",
   "metadata": {},
   "source": [
    "### Add Smith household"
   ]
  },
  {
   "cell_type": "code",
   "execution_count": 11,
   "metadata": {},
   "outputs": [
    {
     "data": {
      "text/plain": [
       "{'Bobby': <pam.core.Person at 0x1198b2610>,\n",
       " 'Betty': <pam.core.Person at 0x1198b2990>}"
      ]
     },
     "execution_count": 11,
     "metadata": {},
     "output_type": "execute_result"
    }
   ],
   "source": [
    "smith_id = 'Smith'\n",
    "\n",
    "Bobby = Person('Bobby', attributes={'age': 6, 'job': 'education', 'gender': 'male', 'key_worker': False})\n",
    "Bobby.add(Activity(1, 'home', 'a', start_time=mtdt(0), end_time=mtdt(8 * 60)))\n",
    "Bobby.add(Leg(1, 'walk', 'a', 'b', start_time=mtdt(8 * 60), end_time=mtdt(8 * 60 + 30)))\n",
    "Bobby.add(Activity(2, 'education', 'b', start_time=mtdt(8 * 60 + 30), end_time=mtdt(16 * 60)))\n",
    "Bobby.add(Leg(2, 'walk', 'b', 'c', start_time=mtdt(16 * 60), end_time=mtdt(16 * 60 + 30)))\n",
    "Bobby.add(Activity(3, 'home', 'a', start_time=mtdt(16 * 60 + 30), end_time=END_OF_DAY))\n",
    "\n",
    "Betty = Person('Betty', attributes={'age': 40, 'job': 'work', 'gender': 'female', 'key_worker': True})\n",
    "Betty.add(Activity(1, 'home', 'a', start_time=mtdt(0), end_time=mtdt(8 * 60)))\n",
    "Betty.add(Leg(1, 'walk', 'a', 'b', start_time=mtdt(8 * 60), end_time=mtdt(8 * 60 + 5)))\n",
    "Betty.add(Activity(2, 'escort', 'b', start_time=mtdt(8 * 60 + 5), end_time=mtdt(8 * 60 + 30)))\n",
    "Betty.add(Leg(2, 'pt', 'a', 'b', start_time=mtdt(8 * 60), end_time=mtdt(8 * 60 + 30)))\n",
    "Betty.add(Activity(3, 'work', 'b', start_time=mtdt(8 * 60 + 30), end_time=mtdt(14 * 60)))\n",
    "Betty.add(Leg(3, 'pt', 'b', 'c', start_time=mtdt(14 * 60), end_time=mtdt(14 * 60 + 20)))\n",
    "Betty.add(Activity(4, 'leisure', 'c', start_time=mtdt(14 * 60 + 20), end_time=mtdt(16 * 60 - 20)))\n",
    "Betty.add(Leg(4, 'pt', 'c', 'b', start_time=mtdt(16 * 60 - 20), end_time=mtdt(16 * 60)))\n",
    "Betty.add(Activity(5, 'escort', 'b', start_time=mtdt(16 * 60), end_time=mtdt(16 * 60 + 30)))\n",
    "Betty.add(Leg(5, 'walk', 'a', 'b', start_time=mtdt(16 * 60 + 30), end_time=mtdt(16 * 60 + 5)))\n",
    "Betty.add(Activity(6, 'home', 'a', start_time=mtdt(16 * 60 + 5), end_time=END_OF_DAY))\n",
    "\n",
    "smiths = Household(smith_id)\n",
    "for person in [Bobby, Betty]:\n",
    "    smiths.add(person)\n",
    "\n",
    "smiths.people"
   ]
  },
  {
   "cell_type": "code",
   "execution_count": 12,
   "metadata": {},
   "outputs": [
    {
     "data": {
      "image/png": "[encoded data removed]",
      "text/plain": [
       "<Figure size 1152x288 with 1 Axes>"
      ]
     },
     "metadata": {
      "needs_background": "light"
     },
     "output_type": "display_data"
    }
   ],
   "source": [
    "plot_activities(Bobby)"
   ]
  },
  {
   "cell_type": "code",
   "execution_count": 13,
   "metadata": {},
   "outputs": [
    {
     "name": "stdout",
     "output_type": "stream",
     "text": [
      "0:\tActivity(1 act:home, location:a, time:00:00:00 --> 08:00:00, duration:8:00:00)\n",
      "1:\tLeg(1 mode:walk, area:a --> b, time:08:00:00 --> 08:05:00, duration:0:05:00)\n",
      "2:\tActivity(2 act:escort, location:b, time:08:05:00 --> 08:00:00, duration:-1 day, 23:55:00)\n",
      "3:\tLeg(2 mode:pt, area:a --> b, time:08:00:00 --> 08:30:00, duration:0:30:00)\n",
      "4:\tActivity(3 act:work, location:b, time:08:30:00 --> 14:00:00, duration:5:30:00)\n",
      "5:\tLeg(3 mode:pt, area:b --> c, time:14:00:00 --> 14:20:00, duration:0:20:00)\n",
      "6:\tActivity(4 act:leisure, location:c, time:14:20:00 --> 15:40:00, duration:1:20:00)\n",
      "7:\tLeg(4 mode:pt, area:c --> b, time:15:40:00 --> 16:00:00, duration:0:20:00)\n",
      "8:\tActivity(5 act:escort, location:b, time:16:00:00 --> 16:30:00, duration:0:30:00)\n",
      "9:\tLeg(5 mode:walk, area:a --> b, time:16:30:00 --> 16:05:00, duration:-1 day, 23:35:00)\n",
      "10:\tActivity(6 act:home, location:a, time:16:05:00 --> 00:00:00, duration:7:55:00)\n"
     ]
    }
   ],
   "source": [
    "Betty.plan.print()"
   ]
  },
  {
   "cell_type": "code",
   "execution_count": 14,
   "metadata": {},
   "outputs": [
    {
     "data": {
      "image/png": "[encoded data removed]",
      "text/plain": [
       "<Figure size 1152x288 with 1 Axes>"
      ]
     },
     "metadata": {
      "needs_background": "light"
     },
     "output_type": "display_data"
    }
   ],
   "source": [
    "plot_activities(Betty)"
   ]
  },
  {
   "cell_type": "code",
   "execution_count": 15,
   "metadata": {},
   "outputs": [],
   "source": [
    "population.add(smiths)"
   ]
  },
  {
   "cell_type": "markdown",
   "metadata": {},
   "source": [
    "### Add Jones household"
   ]
  },
  {
   "cell_type": "code",
   "execution_count": 16,
   "metadata": {},
   "outputs": [
    {
     "data": {
      "text/plain": [
       "{'Hugh': <pam.core.Person at 0x11bb8e390>,\n",
       " 'Bridget': <pam.core.Person at 0x11bb8e990>}"
      ]
     },
     "execution_count": 16,
     "metadata": {},
     "output_type": "execute_result"
    }
   ],
   "source": [
    "jones_id = 'Jones'\n",
    "\n",
    "Hugh = Person('Hugh', attributes={'age': 100, 'job': 'unemployed', 'gender': 'male', 'key_worker': False})\n",
    "Hugh.add(Activity(1, 'home', 'a', start_time=mtdt(0), end_time=mtdt(8 * 60)))\n",
    "Hugh.add(Leg(1, 'walk', 'a', 'b', start_time=mtdt(8 * 60), end_time=mtdt(8 * 60 + 30)))\n",
    "Hugh.add(Activity(2, 'health', 'b', start_time=mtdt(8 * 60 + 30), end_time=mtdt(10 * 60)))\n",
    "Hugh.add(Leg(2, 'walk', 'b', 'a', start_time=mtdt(10 * 60), end_time=mtdt(10 * 60 + 30)))\n",
    "Hugh.add(Activity(3, 'home', 'a', start_time=mtdt(10 * 60 + 30), end_time=mtdt(14 * 60)))\n",
    "Hugh.add(Leg(3, 'walk', 'a', 'b', start_time=mtdt(14 * 60), end_time=mtdt(14 * 60 + 30)))\n",
    "Hugh.add(Activity(4, 'health', 'b', start_time=mtdt(14 * 60 + 30), end_time=mtdt(16 * 60)))\n",
    "Hugh.add(Leg(4, 'walk', 'b', 'a', start_time=mtdt(16 * 60), end_time=mtdt(16 * 60 + 30)))\n",
    "Hugh.add(Activity(5, 'home', 'a', start_time=mtdt(16 * 60 + 30), end_time=END_OF_DAY))\n",
    "\n",
    "Bridget = Person('Bridget', attributes={'age': 35, 'job': 'work', 'gender': 'female', 'key_worker': False})\n",
    "Bridget.add(Activity(1, 'home', 'a', start_time=mtdt(0), end_time=mtdt(8 * 60)))\n",
    "Bridget.add(Leg(1, 'walk', 'a', 'b', start_time=mtdt(8 * 60), end_time=mtdt(8 * 60 + 5)))\n",
    "Bridget.add(Activity(2, 'escort', 'b', start_time=mtdt(8 * 60 + 5), end_time=mtdt(10 * 60 + 30)))\n",
    "Bridget.add(Leg(2, 'pt', 'b', 'c', start_time=mtdt(10 * 60 + 30), end_time=mtdt(11 * 60)))\n",
    "Bridget.add(Activity(3, 'work', 'c', start_time=mtdt(11 * 60), end_time=mtdt(16 * 60)))\n",
    "Bridget.add(Leg(3, 'pt', 'c', 'a', start_time=mtdt(16 * 60), end_time=mtdt(16 * 60 + 20)))\n",
    "Bridget.add(Activity(4, 'home', 'a', start_time=mtdt(16 * 60 + 20), end_time=mtdt(17 * 60 + 20)))\n",
    "Bridget.add(Leg(4, 'pt', 'c', 'a', start_time=mtdt(17 * 60 + 20), end_time=mtdt(17 * 60 + 50)))\n",
    "Bridget.add(Activity(5, 'shop', 'a', start_time=mtdt(17 * 60 + 50), end_time=mtdt(18 * 60 + 30)))\n",
    "Bridget.add(Leg(5, 'pt', 'c', 'a', start_time=mtdt(18 * 60 + 30), end_time=mtdt(18 * 60 + 50)))\n",
    "Bridget.add(Activity(6, 'home', 'a', start_time=mtdt(18 * 60 + 50), end_time=END_OF_DAY))\n",
    "\n",
    "jones = Household(jones_id)\n",
    "for person in [Hugh, Bridget]:\n",
    "    jones.add(person)\n",
    "\n",
    "jones.people"
   ]
  },
  {
   "cell_type": "code",
   "execution_count": 17,
   "metadata": {},
   "outputs": [
    {
     "data": {
      "image/png": "[encoded data removed]",
      "text/plain": [
       "<Figure size 1152x288 with 1 Axes>"
      ]
     },
     "metadata": {
      "needs_background": "light"
     },
     "output_type": "display_data"
    }
   ],
   "source": [
    "plot_activities(Hugh)"
   ]
  },
  {
   "cell_type": "code",
   "execution_count": 18,
   "metadata": {},
   "outputs": [
    {
     "data": {
      "image/png": "[encoded data removed]",
      "text/plain": [
       "<Figure size 1152x288 with 1 Axes>"
      ]
     },
     "metadata": {
      "needs_background": "light"
     },
     "output_type": "display_data"
    }
   ],
   "source": [
    "plot_activities(Bridget)"
   ]
  },
  {
   "cell_type": "code",
   "execution_count": 19,
   "metadata": {},
   "outputs": [],
   "source": [
    "population.add(jones)"
   ]
  },
  {
   "cell_type": "code",
   "execution_count": 20,
   "metadata": {},
   "outputs": [
    {
     "name": "stdout",
     "output_type": "stream",
     "text": [
      "Population total time at home: 64.58 hours\n",
      "Population total travel time: 29.58 hours\n"
     ]
    }
   ],
   "source": [
    "print_simple_stats(population)"
   ]
  },
  {
   "cell_type": "markdown",
   "metadata": {},
   "source": [
    "# PAM Complex Policies\n",
    "\n",
    "Based on [link](https://docs.google.com/spreadsheets/d/1FQMa7dLe2cv1NEZnbu5cZo3v07tKXINwvOaLQYoEp-M/edit#gid=0)"
   ]
  },
  {
   "cell_type": "code",
   "execution_count": 21,
   "metadata": {},
   "outputs": [],
   "source": [
    "def apply_policies(population, policies: list):\n",
    "\n",
    "    new_population = deepcopy(population) \n",
    "    for hid, household in new_population.households.items():\n",
    "        for policy in policies:\n",
    "            policy.apply_to(household)\n",
    "    return new_population"
   ]
  },
  {
   "cell_type": "code",
   "execution_count": 22,
   "metadata": {},
   "outputs": [],
   "source": [
    "def discrete_joint_distribution_sampler(obj, mapping, distribution):\n",
    "    \"\"\"\n",
    "    Randomly sample from a joint distribution based some discrete features.\n",
    "    Where features are a dictionary structure of features, eg: {'gender':'female'}\n",
    "    Distribution is a nested dict of probabilities based on possible features, eg:\n",
    "    {'0-0': {'male': 0, 'female': 0},... , '90-120': {'male': 1, 'female': 1}}\n",
    "    Mapping provides the feature name for each level of the distribution, eg:\n",
    "    ['age', 'gender']\n",
    "    \"\"\"\n",
    "    p = distribution\n",
    "    for key in mapping:\n",
    "        value = obj.attributes.get(key)\n",
    "        if value is None:\n",
    "            raise KeyError(f\"Cannot find mapping: {key} in sampling features: {features}\")\n",
    "        p = p.get(value)\n",
    "        if p is None:\n",
    "            raise KeyError(f\"Cannot find feature for {key}: {value} in distribution: {p}\")\n",
    "\n",
    "    return p"
   ]
  },
  {
   "cell_type": "code",
   "execution_count": 23,
   "metadata": {},
   "outputs": [],
   "source": [
    "vulnerable_mapping = ['age', 'gender']\n",
    "vulnerable_distribution = dict(zip(list(range(101)), [{'male': i/100, 'female': i/100, 'other': i/100} for i in range(101)]))"
   ]
  },
  {
   "cell_type": "code",
   "execution_count": 24,
   "metadata": {
    "scrolled": true
   },
   "outputs": [
    {
     "data": {
      "text/plain": [
       "{0: {'male': 0.0, 'female': 0.0, 'other': 0.0},\n",
       " 1: {'male': 0.01, 'female': 0.01, 'other': 0.01},\n",
       " 2: {'male': 0.02, 'female': 0.02, 'other': 0.02},\n",
       " 3: {'male': 0.03, 'female': 0.03, 'other': 0.03},\n",
       " 4: {'male': 0.04, 'female': 0.04, 'other': 0.04},\n",
       " 5: {'male': 0.05, 'female': 0.05, 'other': 0.05},\n",
       " 6: {'male': 0.06, 'female': 0.06, 'other': 0.06},\n",
       " 7: {'male': 0.07, 'female': 0.07, 'other': 0.07},\n",
       " 8: {'male': 0.08, 'female': 0.08, 'other': 0.08},\n",
       " 9: {'male': 0.09, 'female': 0.09, 'other': 0.09},\n",
       " 10: {'male': 0.1, 'female': 0.1, 'other': 0.1},\n",
       " 11: {'male': 0.11, 'female': 0.11, 'other': 0.11},\n",
       " 12: {'male': 0.12, 'female': 0.12, 'other': 0.12},\n",
       " 13: {'male': 0.13, 'female': 0.13, 'other': 0.13},\n",
       " 14: {'male': 0.14, 'female': 0.14, 'other': 0.14}}"
      ]
     },
     "execution_count": 24,
     "metadata": {},
     "output_type": "execute_result"
    }
   ],
   "source": [
    "dict(list(vulnerable_distribution.items())[0:15])"
   ]
  },
  {
   "cell_type": "code",
   "execution_count": 25,
   "metadata": {},
   "outputs": [
    {
     "data": {
      "text/plain": [
       "0.06"
      ]
     },
     "execution_count": 25,
     "metadata": {},
     "output_type": "execute_result"
    }
   ],
   "source": [
    "discrete_joint_distribution_sampler(Bobby, vulnerable_mapping, vulnerable_distribution)"
   ]
  },
  {
   "cell_type": "markdown",
   "metadata": {},
   "source": [
    "## Household Quarantine\n",
    "\n",
    "Probabilistically apply quarantine to a household (remove all activities - stay at home) "
   ]
  },
  {
   "cell_type": "markdown",
   "metadata": {},
   "source": [
    "### Person-based, all people equal\n",
    "\n",
    "If you have a probability of any person having to be quarantined"
   ]
  },
  {
   "cell_type": "code",
   "execution_count": 26,
   "metadata": {},
   "outputs": [],
   "source": [
    "policy_quarantine = \\\n",
    "    HouseholdPolicy(\n",
    "        RemoveActivity(['work', 'health', 'leisure', 'escort', 'shop', 'education']), \n",
    "        PersonProbability(0.0000000000001)\n",
    ")"
   ]
  },
  {
   "cell_type": "code",
   "execution_count": 27,
   "metadata": {},
   "outputs": [
    {
     "name": "stdout",
     "output_type": "stream",
     "text": [
      "Population total time at home: 64.58 hours\n",
      "Population total travel time: 29.58 hours\n"
     ]
    }
   ],
   "source": [
    "q_pop = apply_policies(population, [policy_quarantine])\n",
    "print_simple_stats(q_pop)"
   ]
  },
  {
   "cell_type": "code",
   "execution_count": 28,
   "metadata": {},
   "outputs": [
    {
     "data": {
      "image/png": "[encoded data removed]",
      "text/plain": [
       "<Figure size 1152x288 with 1 Axes>"
      ]
     },
     "metadata": {
      "needs_background": "light"
     },
     "output_type": "display_data"
    }
   ],
   "source": [
    "plot_activities(q_pop.households['Smith'].people['Bobby'])"
   ]
  },
  {
   "cell_type": "code",
   "execution_count": 29,
   "metadata": {},
   "outputs": [
    {
     "data": {
      "image/png": "[encoded data removed]",
      "text/plain": [
       "<Figure size 1152x288 with 1 Axes>"
      ]
     },
     "metadata": {
      "needs_background": "light"
     },
     "output_type": "display_data"
    }
   ],
   "source": [
    "plot_activities(q_pop.households['Smith'].people['Betty'])"
   ]
  },
  {
   "cell_type": "code",
   "execution_count": 30,
   "metadata": {},
   "outputs": [
    {
     "data": {
      "image/png": "[encoded data removed]",
      "text/plain": [
       "<Figure size 1152x288 with 1 Axes>"
      ]
     },
     "metadata": {
      "needs_background": "light"
     },
     "output_type": "display_data"
    }
   ],
   "source": [
    "plot_activities(q_pop.households['Jones'].people['Bridget'])"
   ]
  },
  {
   "cell_type": "code",
   "execution_count": 31,
   "metadata": {},
   "outputs": [
    {
     "data": {
      "image/png": "[encoded data removed]",
      "text/plain": [
       "<Figure size 1152x288 with 1 Axes>"
      ]
     },
     "metadata": {
      "needs_background": "light"
     },
     "output_type": "display_data"
    }
   ],
   "source": [
    "plot_activities(q_pop.households['Jones'].people['Hugh'])"
   ]
  },
  {
   "cell_type": "markdown",
   "metadata": {},
   "source": [
    "### Using joint distribution"
   ]
  },
  {
   "cell_type": "code",
   "execution_count": 32,
   "metadata": {},
   "outputs": [],
   "source": [
    "policy_quarantine = \\\n",
    "    HouseholdPolicy(\n",
    "        RemoveActivity(['work', 'health', 'escort', 'leisure', 'shop', 'education']), \n",
    "        PersonProbability(\n",
    "             discrete_joint_distribution_sampler, \n",
    "             dict(mapping=vulnerable_mapping, distribution=vulnerable_distribution))\n",
    ")"
   ]
  },
  {
   "cell_type": "code",
   "execution_count": 33,
   "metadata": {},
   "outputs": [
    {
     "name": "stdout",
     "output_type": "stream",
     "text": [
      "Population total time at home: 31.42 hours\n",
      "Population total travel time: 25.83 hours\n"
     ]
    }
   ],
   "source": [
    "q_pop = apply_policies(population, [policy_quarantine])\n",
    "print_simple_stats(q_pop)"
   ]
  },
  {
   "cell_type": "code",
   "execution_count": 34,
   "metadata": {},
   "outputs": [
    {
     "data": {
      "image/png": "[encoded data removed]",
      "text/plain": [
       "<Figure size 1152x288 with 1 Axes>"
      ]
     },
     "metadata": {
      "needs_background": "light"
     },
     "output_type": "display_data"
    }
   ],
   "source": [
    "plot_activities(q_pop.households['Jones'].people['Bridget'])"
   ]
  },
  {
   "cell_type": "code",
   "execution_count": 35,
   "metadata": {},
   "outputs": [
    {
     "data": {
      "image/png": "[encoded data removed]",
      "text/plain": [
       "<Figure size 1152x288 with 1 Axes>"
      ]
     },
     "metadata": {
      "needs_background": "light"
     },
     "output_type": "display_data"
    }
   ],
   "source": [
    "plot_activities(q_pop.households['Jones'].people['Hugh'])"
   ]
  },
  {
   "cell_type": "markdown",
   "metadata": {},
   "source": [
    "### Chaining probabilities"
   ]
  },
  {
   "cell_type": "code",
   "execution_count": 36,
   "metadata": {},
   "outputs": [],
   "source": [
    "policy_quarantine = \\\n",
    "    HouseholdPolicy(\n",
    "        RemoveActivity(['work', 'health', 'escort', 'leisure', 'shop', 'education']), \n",
    "        [PersonProbability(0.5), \n",
    "         PersonProbability(\n",
    "             discrete_joint_distribution_sampler, \n",
    "             dict(mapping=vulnerable_mapping, distribution=vulnerable_distribution))]\n",
    ")"
   ]
  },
  {
   "cell_type": "code",
   "execution_count": 37,
   "metadata": {},
   "outputs": [
    {
     "name": "stdout",
     "output_type": "stream",
     "text": [
      "Population total time at home: 64.58 hours\n",
      "Population total travel time: 29.58 hours\n"
     ]
    }
   ],
   "source": [
    "q_pop = apply_policies(population, [policy_quarantine])\n",
    "print_simple_stats(q_pop)"
   ]
  },
  {
   "cell_type": "code",
   "execution_count": 38,
   "metadata": {},
   "outputs": [
    {
     "data": {
      "image/png": "[encoded data removed]",
      "text/plain": [
       "<Figure size 1152x288 with 1 Axes>"
      ]
     },
     "metadata": {
      "needs_background": "light"
     },
     "output_type": "display_data"
    }
   ],
   "source": [
    "plot_activities(q_pop.households['Jones'].people['Bridget'])"
   ]
  },
  {
   "cell_type": "code",
   "execution_count": 39,
   "metadata": {},
   "outputs": [
    {
     "data": {
      "image/png": "[encoded data removed]",
      "text/plain": [
       "<Figure size 1152x288 with 1 Axes>"
      ]
     },
     "metadata": {
      "needs_background": "light"
     },
     "output_type": "display_data"
    }
   ],
   "source": [
    "plot_activities(q_pop.households['Jones'].people['Hugh'])"
   ]
  },
  {
   "cell_type": "markdown",
   "metadata": {},
   "source": [
    "## Remove Education\n",
    "\n",
    "Probabilistically remove education activities from a person and escort from people in the same household"
   ]
  },
  {
   "cell_type": "code",
   "execution_count": 40,
   "metadata": {},
   "outputs": [],
   "source": [
    "edu_mapping = ['job']\n",
    "edu_distribution = {'work': 0, 'unemployed': 0, 'education': 1}"
   ]
  },
  {
   "cell_type": "code",
   "execution_count": 41,
   "metadata": {},
   "outputs": [],
   "source": [
    "key_mapping = ['key_worker']\n",
    "key_distribution = {True: 0, False: 1}"
   ]
  },
  {
   "cell_type": "code",
   "execution_count": 42,
   "metadata": {},
   "outputs": [
    {
     "data": {
      "text/plain": [
       "({'work': 0, 'unemployed': 0, 'education': 1}, {True: 0, False: 1})"
      ]
     },
     "execution_count": 42,
     "metadata": {},
     "output_type": "execute_result"
    }
   ],
   "source": [
    "edu_distribution, key_distribution"
   ]
  },
  {
   "cell_type": "code",
   "execution_count": 43,
   "metadata": {},
   "outputs": [],
   "source": [
    "policy_remove_education_and_escort = \\\n",
    "    HouseholdPolicy(\n",
    "        RemoveActivity(['education', 'escort']), \n",
    "        [PersonProbability(\n",
    "             discrete_joint_distribution_sampler, \n",
    "             dict(mapping=edu_mapping, distribution=edu_distribution)),\n",
    "         PersonProbability(\n",
    "             discrete_joint_distribution_sampler, \n",
    "             dict(mapping=key_mapping, distribution=key_distribution))])"
   ]
  },
  {
   "cell_type": "code",
   "execution_count": 44,
   "metadata": {},
   "outputs": [
    {
     "name": "stdout",
     "output_type": "stream",
     "text": [
      "Population total time at home: 49.58 hours\n",
      "Population total travel time: 4.50 hours\n"
     ]
    }
   ],
   "source": [
    "edu_pop = apply_policies(population, [policy_remove_education_and_escort])\n",
    "print_simple_stats(edu_pop)"
   ]
  },
  {
   "cell_type": "code",
   "execution_count": 45,
   "metadata": {},
   "outputs": [
    {
     "name": "stdout",
     "output_type": "stream",
     "text": [
      "0:\tActivity(1 act:home, location:a, time:00:00:00 --> 08:00:00, duration:8:00:00)\n",
      "1:\tLeg(1 mode:walk, area:a --> b, time:08:00:00 --> 08:05:00, duration:0:05:00)\n",
      "2:\tActivity(3 act:work, location:b, time:08:05:00 --> 13:35:00, duration:5:30:00)\n",
      "3:\tLeg(3 mode:pt, area:b --> c, time:13:35:00 --> 13:55:00, duration:0:20:00)\n",
      "4:\tActivity(4 act:leisure, location:c, time:13:55:00 --> 15:15:00, duration:1:20:00)\n",
      "5:\tLeg(4 mode:pt, area:c --> b, time:15:15:00 --> 15:35:00, duration:0:20:00)\n",
      "6:\tActivity(6 act:home, location:a, time:15:35:00 --> 00:00:00, duration:8:25:00)\n"
     ]
    }
   ],
   "source": [
    "edu_pop.households['Smith'].people['Betty'].plan.print()"
   ]
  },
  {
   "cell_type": "code",
   "execution_count": 46,
   "metadata": {},
   "outputs": [
    {
     "data": {
      "image/png": "[encoded data removed]",
      "text/plain": [
       "<Figure size 1152x288 with 1 Axes>"
      ]
     },
     "metadata": {
      "needs_background": "light"
     },
     "output_type": "display_data"
    }
   ],
   "source": [
    "plot_activities(edu_pop.households['Smith'].people['Betty'])"
   ]
  },
  {
   "cell_type": "code",
   "execution_count": 47,
   "metadata": {},
   "outputs": [
    {
     "data": {
      "image/png": "[encoded data removed]",
      "text/plain": [
       "<Figure size 1152x288 with 1 Axes>"
      ]
     },
     "metadata": {
      "needs_background": "light"
     },
     "output_type": "display_data"
    }
   ],
   "source": [
    "plot_activities(edu_pop.households['Smith'].people['Bobby'])"
   ]
  },
  {
   "cell_type": "code",
   "execution_count": 48,
   "metadata": {},
   "outputs": [
    {
     "data": {
      "image/png": "[encoded data removed]",
      "text/plain": [
       "<Figure size 1152x288 with 1 Axes>"
      ]
     },
     "metadata": {
      "needs_background": "light"
     },
     "output_type": "display_data"
    }
   ],
   "source": [
    "plot_activities(edu_pop.households['Jones'].people['Hugh'])"
   ]
  },
  {
   "cell_type": "code",
   "execution_count": 49,
   "metadata": {},
   "outputs": [
    {
     "data": {
      "image/png": "[encoded data removed]",
      "text/plain": [
       "<Figure size 1152x288 with 1 Axes>"
      ]
     },
     "metadata": {
      "needs_background": "light"
     },
     "output_type": "display_data"
    }
   ],
   "source": [
    "plot_activities(edu_pop.households['Jones'].people['Bridget'])"
   ]
  },
  {
   "cell_type": "code",
   "execution_count": 50,
   "metadata": {},
   "outputs": [
    {
     "name": "stdout",
     "output_type": "stream",
     "text": [
      "0:\tActivity(1 act:home, location:a, time:00:00:00 --> 08:00:00, duration:8:00:00)\n",
      "1:\tLeg(1 mode:walk, area:a --> b, time:08:00:00 --> 08:05:00, duration:0:05:00)\n",
      "2:\tActivity(2 act:escort, location:b, time:08:05:00 --> 10:30:00, duration:2:25:00)\n",
      "3:\tLeg(2 mode:pt, area:b --> c, time:10:30:00 --> 11:00:00, duration:0:30:00)\n",
      "4:\tActivity(3 act:work, location:c, time:11:00:00 --> 16:00:00, duration:5:00:00)\n",
      "5:\tLeg(3 mode:pt, area:c --> a, time:16:00:00 --> 16:20:00, duration:0:20:00)\n",
      "6:\tActivity(4 act:home, location:a, time:16:20:00 --> 17:20:00, duration:1:00:00)\n",
      "7:\tLeg(4 mode:pt, area:c --> a, time:17:20:00 --> 17:50:00, duration:0:30:00)\n",
      "8:\tActivity(5 act:shop, location:a, time:17:50:00 --> 18:30:00, duration:0:40:00)\n",
      "9:\tLeg(5 mode:pt, area:c --> a, time:18:30:00 --> 18:50:00, duration:0:20:00)\n",
      "10:\tActivity(6 act:home, location:a, time:18:50:00 --> 00:00:00, duration:5:10:00)\n"
     ]
    }
   ],
   "source": [
    "edu_pop.households['Jones'].people['Bridget'].plan.print()"
   ]
  },
  {
   "cell_type": "markdown",
   "metadata": {},
   "source": [
    "### PersonAttributeFilter\n",
    "You can also use the `modify.PersonAttributeFilter` to only affect people with certain attributes."
   ]
  },
  {
   "cell_type": "code",
   "execution_count": 51,
   "metadata": {},
   "outputs": [],
   "source": [
    "def condition_job_education(val):\n",
    "    return val == 'education'\n",
    "\n",
    "policy_remove_education_and_escort = \\\n",
    "    HouseholdPolicy(\n",
    "        RemoveActivity(['education', 'escort']), \n",
    "        PersonProbability(\n",
    "             discrete_joint_distribution_sampler, \n",
    "             dict(mapping=key_mapping, distribution=key_distribution)),\n",
    "        PersonAttributeFilter({'job': condition_job_education})\n",
    ")"
   ]
  },
  {
   "cell_type": "code",
   "execution_count": 52,
   "metadata": {},
   "outputs": [
    {
     "data": {
      "image/png": "[encoded data removed]",
      "text/plain": [
       "<Figure size 1152x288 with 1 Axes>"
      ]
     },
     "metadata": {
      "needs_background": "light"
     },
     "output_type": "display_data"
    }
   ],
   "source": [
    "plot_activities(apply_policies(population, [policy_remove_education_and_escort]).households['Smith'].people['Bobby'])"
   ]
  },
  {
   "cell_type": "code",
   "execution_count": 53,
   "metadata": {},
   "outputs": [],
   "source": [
    "policy_remove_education_and_escort = \\\n",
    "    HouseholdPolicy(\n",
    "        RemoveActivity(['education', 'escort']), \n",
    "        [ActivityProbability(['education'], 0.9999),\n",
    "         PersonProbability(\n",
    "             discrete_joint_distribution_sampler, \n",
    "             dict(mapping=edu_mapping, distribution=edu_distribution)),\n",
    "         PersonProbability(\n",
    "             discrete_joint_distribution_sampler, \n",
    "             dict(mapping=key_mapping, distribution=key_distribution))])"
   ]
  },
  {
   "cell_type": "code",
   "execution_count": 54,
   "metadata": {},
   "outputs": [
    {
     "data": {
      "image/png": "[encoded data removed]",
      "text/plain": [
       "<Figure size 1152x288 with 1 Axes>"
      ]
     },
     "metadata": {
      "needs_background": "light"
     },
     "output_type": "display_data"
    }
   ],
   "source": [
    "plot_activities(apply_policies(population, [policy_remove_education_and_escort]).households['Smith'].people['Bobby'])"
   ]
  },
  {
   "cell_type": "markdown",
   "metadata": {},
   "source": [
    "## Remove Leisure Activities\n",
    "\n",
    "Remove all leisure activities"
   ]
  },
  {
   "cell_type": "code",
   "execution_count": 55,
   "metadata": {},
   "outputs": [],
   "source": [
    "policy_remove_leisure = \\\n",
    "    PersonPolicy(\n",
    "        RemoveActivity(['leisure']), \n",
    "        PersonProbability(1.))"
   ]
  },
  {
   "cell_type": "code",
   "execution_count": 56,
   "metadata": {},
   "outputs": [
    {
     "name": "stdout",
     "output_type": "stream",
     "text": [
      "Population total time at home: 66.25 hours\n",
      "Population total travel time: 29.25 hours\n"
     ]
    }
   ],
   "source": [
    "lei_pop = apply_policies(population, [policy_remove_leisure])\n",
    "print_simple_stats(lei_pop)"
   ]
  },
  {
   "cell_type": "code",
   "execution_count": 57,
   "metadata": {},
   "outputs": [
    {
     "data": {
      "image/png": "[encoded data removed]",
      "text/plain": [
       "<Figure size 1152x288 with 1 Axes>"
      ]
     },
     "metadata": {
      "needs_background": "light"
     },
     "output_type": "display_data"
    }
   ],
   "source": [
    "plot_activities(lei_pop.households['Smith'].people['Betty'])"
   ]
  },
  {
   "cell_type": "markdown",
   "metadata": {},
   "source": [
    "## Unemployment/Furlough\n",
    "\n",
    "Probabilistically remove all work activities from a person"
   ]
  },
  {
   "cell_type": "code",
   "execution_count": 58,
   "metadata": {},
   "outputs": [],
   "source": [
    "key_mapping = ['key_worker']\n",
    "key_distribution = {True: 0, False: 1}"
   ]
  },
  {
   "cell_type": "code",
   "execution_count": 59,
   "metadata": {},
   "outputs": [],
   "source": [
    "policy_unemployment_and_furlough = \\\n",
    "    PersonPolicy(\n",
    "        RemoveActivity(['work']), \n",
    "        [PersonProbability(\n",
    "             discrete_joint_distribution_sampler, \n",
    "             dict(mapping=key_mapping, distribution=key_distribution)),\n",
    "         PersonProbability(0.1)])"
   ]
  },
  {
   "cell_type": "code",
   "execution_count": 60,
   "metadata": {},
   "outputs": [
    {
     "name": "stdout",
     "output_type": "stream",
     "text": [
      "Population total time at home: 64.58 hours\n",
      "Population total travel time: 29.58 hours\n"
     ]
    }
   ],
   "source": [
    "fur_pop = apply_policies(population, [policy_unemployment_and_furlough])\n",
    "print_simple_stats(fur_pop)"
   ]
  },
  {
   "cell_type": "code",
   "execution_count": 61,
   "metadata": {},
   "outputs": [
    {
     "data": {
      "image/png": "[encoded data removed]",
      "text/plain": [
       "<Figure size 1152x288 with 1 Axes>"
      ]
     },
     "metadata": {
      "needs_background": "light"
     },
     "output_type": "display_data"
    }
   ],
   "source": [
    "plot_activities(fur_pop.households['Smith'].people['Betty'])"
   ]
  },
  {
   "cell_type": "code",
   "execution_count": 62,
   "metadata": {},
   "outputs": [
    {
     "data": {
      "image/png": "[encoded data removed]",
      "text/plain": [
       "<Figure size 1152x288 with 1 Axes>"
      ]
     },
     "metadata": {
      "needs_background": "light"
     },
     "output_type": "display_data"
    }
   ],
   "source": [
    "plot_activities(fur_pop.households['Jones'].people['Bridget'])"
   ]
  },
  {
   "cell_type": "markdown",
   "metadata": {},
   "source": [
    "# Remove Shopping \n",
    "\n",
    "Probabilistically remove **individual** shopping activities from a person"
   ]
  },
  {
   "cell_type": "code",
   "execution_count": 63,
   "metadata": {},
   "outputs": [],
   "source": [
    "policy_remove_shopping = \\\n",
    "    PersonPolicy(\n",
    "        RemoveActivity(['shop']),\n",
    "        ActivityProbability(['shop'], 1.))"
   ]
  },
  {
   "cell_type": "code",
   "execution_count": 64,
   "metadata": {},
   "outputs": [
    {
     "name": "stdout",
     "output_type": "stream",
     "text": [
      "Population total time at home: 66.08 hours\n",
      "Population total travel time: 28.75 hours\n"
     ]
    }
   ],
   "source": [
    "shop_pop = apply_policies(population, [policy_remove_shopping])\n",
    "print_simple_stats(shop_pop)"
   ]
  },
  {
   "cell_type": "code",
   "execution_count": 65,
   "metadata": {},
   "outputs": [
    {
     "data": {
      "image/png": "[encoded data removed]",
      "text/plain": [
       "<Figure size 1152x288 with 1 Axes>"
      ]
     },
     "metadata": {
      "needs_background": "light"
     },
     "output_type": "display_data"
    }
   ],
   "source": [
    "plot_activities(shop_pop.households['Jones'].people['Bridget'])"
   ]
  },
  {
   "cell_type": "markdown",
   "metadata": {},
   "source": [
    "# All together now!"
   ]
  },
  {
   "cell_type": "code",
   "execution_count": 66,
   "metadata": {},
   "outputs": [
    {
     "name": "stdout",
     "output_type": "stream",
     "text": [
      "Population total time at home: 18.08 hours\n",
      "Population total travel time: 0.42 hours\n"
     ]
    }
   ],
   "source": [
    "all_together_pop = apply_policies(\n",
    "    population, \n",
    "    [policy_quarantine, \n",
    "     policy_remove_education_and_escort, \n",
    "     policy_remove_leisure, \n",
    "     policy_unemployment_and_furlough, \n",
    "     policy_remove_shopping])\n",
    "\n",
    "print_simple_stats(all_together_pop)"
   ]
  },
  {
   "cell_type": "code",
   "execution_count": null,
   "metadata": {},
   "outputs": [],
   "source": []
  },
  {
   "cell_type": "code",
   "execution_count": null,
   "metadata": {},
   "outputs": [],
   "source": []
  }
 ],
 "metadata": {
  "kernelspec": {
   "display_name": "Python (pam)",
   "language": "python",
   "name": "pam"
  },
  "language_info": {
   "codemirror_mode": {
    "name": "ipython",
    "version": 3
   },
   "file_extension": ".py",
   "mimetype": "text/x-python",
   "name": "python",
   "nbconvert_exporter": "python",
   "pygments_lexer": "ipython3",
   "version": "3.7.5"
  }
 },
 "nbformat": 4,
 "nbformat_minor": 4
}
