{
 "cells": [
  {
   "cell_type": "code",
   "execution_count": 1,
   "metadata": {},
   "outputs": [],
   "source": [
    "import os\n",
    "import pandas as pd\n",
    "import random\n",
    "from copy import deepcopy\n",
    "from collections import defaultdict\n",
    "import geopandas as gp\n",
    "from matplotlib import pyplot as plt\n",
    "from pam import parse\n",
    "from pam.core import Population, Household, Person\n",
    "from pam.activity import Plan, Activity, Leg\n",
    "from pam.utils import minutes_to_datetime as mtdt\n",
    "from pam.variables import END_OF_DAY\n",
    "\n",
    "from pam.modify import *"
   ]
  },
  {
   "cell_type": "code",
   "execution_count": 9,
   "metadata": {},
   "outputs": [],
   "source": [
    "def plot_activities(person):\n",
    "    #Load a df with a persons activty plan\n",
    "    activities, start_times, end_times, durations = [], [], [], []\n",
    "    for component in person.plan.day:\n",
    "        activities.append(component.act.title())\n",
    "        start_times.append(component.start_time.hour + component.start_time.minute/60)\n",
    "        end_times.append(component.end_time.hour + component.end_time.minute/60)\n",
    "        durations.append(component.duration.total_seconds()/3600)\n",
    "    df = pd.DataFrame(zip(activities,start_times,durations), columns=['act','start_time','dur'])\n",
    "    #Define a colour map for a unique list of activities\n",
    "    colors = plt.cm.tab10.colors\n",
    "    activities_unique = df['act'].unique()\n",
    "    d_color = dict(zip(activities_unique,colors))\n",
    "    df['color'] = df['act'].map(d_color)\n",
    "    #Plotting\n",
    "    fig,ax = plt.subplots(figsize=(16,1.5))\n",
    "    \n",
    "    label_x, label_y = [],[]\n",
    "    for i in range(len(df)):\n",
    "        y = 1\n",
    "        data = df.iloc[i]\n",
    "        ax.barh(y, \n",
    "                width='dur', \n",
    "                data=data,\n",
    "                left='start_time',\n",
    "                label='act',\n",
    "                color='color'\n",
    "               )\n",
    "        \n",
    "        #Populate Labelling Params\n",
    "        label_x.append(data['start_time']+data['dur']/2)\n",
    "        label_y.append(y)\n",
    "    \n",
    "    #Labels\n",
    "    rects = ax.patches\n",
    "    \n",
    "    for x, y, rect, activity in zip(label_x, label_y, rects, activities):\n",
    "        if rect.get_width()>=3:\n",
    "            ax.text(x, y, activity, ha='center',\n",
    "                    fontdict={'color':'white', 'size':14, 'weight':'bold'})\n",
    "        \n",
    "    plt.xticks(range(25))\n",
    "    plt.xlim(right=24)\n",
    "    ax.get_yaxis().set_visible(False)\n",
    "    \n",
    "def print_simple_stats(population):\n",
    "    \"\"\"\n",
    "    Print some simple population statistics.\n",
    "    \"\"\"\n",
    "    time_at_home = 0\n",
    "    travel_time = 0 \n",
    "    low_income_central_trips = 0\n",
    "    high_income_central_trips = 0\n",
    "    \n",
    "    for hid, hh in population.households.items():\n",
    "        for pid, person in hh.people.items():\n",
    "            freq = person.freq\n",
    "            \n",
    "            for p in person.plan:\n",
    "                if p.act == 'travel':\n",
    "                    duration = p.duration.seconds * freq / 3600\n",
    "                    travel_time += duration\n",
    "                    \n",
    "                    if p.end_location.area == \"Westminster,City of London\":\n",
    "                        if person.attributes['inc'] == \"low\":\n",
    "                            low_income_central_trips += freq\n",
    "                            \n",
    "                        elif person.attributes['inc'] == \"high\":\n",
    "                            high_income_central_trips += freq\n",
    "                    \n",
    "                else:  # activity\n",
    "                    if p.act == 'home':\n",
    "                        duration = p.duration.seconds * freq / 3600\n",
    "                        time_at_home += duration\n",
    "                        \n",
    "    print(f\"Population total time at home: {time_at_home:.2f} hours\")\n",
    "    print(f\"Population total travel time: {travel_time:.2f} hours\")"
   ]
  },
  {
   "cell_type": "markdown",
   "metadata": {},
   "source": [
    "## Create example Population"
   ]
  },
  {
   "cell_type": "code",
   "execution_count": 10,
   "metadata": {},
   "outputs": [],
   "source": [
    "population = Population()"
   ]
  },
  {
   "cell_type": "markdown",
   "metadata": {},
   "source": [
    "### Add Smith household"
   ]
  },
  {
   "cell_type": "code",
   "execution_count": 11,
   "metadata": {},
   "outputs": [
    {
     "data": {
      "text/plain": [
<<<<<<< HEAD
       "{'Bobby': <pam.core.Person at 0x1125994d0>,\n",
       " 'Betty': <pam.core.Person at 0x112599bd0>}"
=======
       "{'Bobby': <pam.core.Person at 0x1198b2610>,\n",
       " 'Betty': <pam.core.Person at 0x1198b2990>}"
>>>>>>> kasia-add-complex-policies
      ]
     },
     "execution_count": 11,
     "metadata": {},
     "output_type": "execute_result"
    }
   ],
   "source": [
    "smith_id = 'Smith'\n",
    "\n",
    "Bobby = Person('Bobby', attributes={'age': 6, 'job': 'education', 'gender': 'male', 'key_worker': False})\n",
    "Bobby.add(Activity(1, 'home', 'a', start_time=mtdt(0), end_time=mtdt(8 * 60)))\n",
    "Bobby.add(Leg(1, 'walk', 'a', 'b', start_time=mtdt(8 * 60), end_time=mtdt(8 * 60 + 30)))\n",
    "Bobby.add(Activity(2, 'education', 'b', start_time=mtdt(8 * 60 + 30), end_time=mtdt(16 * 60)))\n",
    "Bobby.add(Leg(2, 'walk', 'b', 'c', start_time=mtdt(16 * 60), end_time=mtdt(16 * 60 + 30)))\n",
    "Bobby.add(Activity(3, 'home', 'a', start_time=mtdt(16 * 60 + 30), end_time=mtdt(18 * 60)))\n",
    "Bobby.add(Leg(3, 'car', 'a', 'b', start_time=mtdt(18 * 60), end_time=mtdt(18 * 60 + 20)))\n",
    "Bobby.add(Activity(4, 'shop_1', 'b', start_time=mtdt(18 * 60 + 20), end_time=mtdt(18 * 60 + 50)))\n",
    "Bobby.add(Leg(4, 'walk', 'b', 'b', start_time=mtdt(18 * 60 + 50), end_time=mtdt(19 * 60)))\n",
    "Bobby.add(Activity(5, 'shop_2', 'b', start_time=mtdt(19 * 60), end_time=mtdt(19 * 60 + 50)))\n",
    "Bobby.add(Leg(5, 'car', 'b', 'a', start_time=mtdt(19 * 60 + 50), end_time=mtdt(20 * 60 + 10)))\n",
    "Bobby.add(Activity(6, 'home', 'a', start_time=mtdt(20 * 60 + 10), end_time=END_OF_DAY))\n",
    "\n",
    "Betty = Person('Betty', attributes={'age': 40, 'job': 'work', 'gender': 'female', 'key_worker': True})\n",
    "Betty.add(Activity(1, 'home', 'a', start_time=mtdt(0), end_time=mtdt(8 * 60)))\n",
    "Betty.add(Leg(1, 'walk', 'a', 'b', start_time=mtdt(8 * 60), end_time=mtdt(8 * 60 + 5)))\n",
    "Betty.add(Activity(2, 'escort', 'b', start_time=mtdt(8 * 60 + 5), end_time=mtdt(8 * 60 + 30)))\n",
    "Betty.add(Leg(2, 'pt', 'a', 'b', start_time=mtdt(8 * 60), end_time=mtdt(8 * 60 + 30)))\n",
    "Betty.add(Activity(3, 'work', 'b', start_time=mtdt(8 * 60 + 30), end_time=mtdt(14 * 60)))\n",
    "Betty.add(Leg(3, 'pt', 'b', 'c', start_time=mtdt(14 * 60), end_time=mtdt(14 * 60 + 20)))\n",
    "Betty.add(Activity(4, 'leisure', 'c', start_time=mtdt(14 * 60 + 20), end_time=mtdt(16 * 60 - 20)))\n",
    "Betty.add(Leg(4, 'pt', 'c', 'b', start_time=mtdt(16 * 60 - 20), end_time=mtdt(16 * 60)))\n",
    "Betty.add(Activity(5, 'escort', 'b', start_time=mtdt(16 * 60), end_time=mtdt(16 * 60 + 30)))\n",
    "Betty.add(Leg(5, 'walk', 'a', 'b', start_time=mtdt(16 * 60 + 30), end_time=mtdt(17 * 60)))\n",
    "Betty.add(Activity(6, 'home', 'a', start_time=mtdt(17 * 60), end_time=mtdt(18 * 60)))\n",
    "Betty.add(Leg(6, 'car', 'a', 'b', start_time=mtdt(18 * 60), end_time=mtdt(18 * 60 + 20)))\n",
    "Betty.add(Activity(7, 'shop_1', 'b', start_time=mtdt(18 * 60 + 20), end_time=mtdt(18 * 60 + 50)))\n",
    "Betty.add(Leg(7, 'walk', 'b', 'b', start_time=mtdt(18 * 60 + 50), end_time=mtdt(19 * 60)))\n",
    "Betty.add(Activity(8, 'shop_2', 'b', start_time=mtdt(19 * 60), end_time=mtdt(19 * 60 + 50)))\n",
    "Betty.add(Leg(8, 'car', 'b', 'a', start_time=mtdt(19 * 60 + 50), end_time=mtdt(20 * 60 + 10)))\n",
    "Betty.add(Activity(9, 'home', 'a', start_time=mtdt(20 * 60 + 10), end_time=END_OF_DAY))\n",
    "\n",
    "smiths = Household(smith_id)\n",
    "for person in [Bobby, Betty]:\n",
    "    smiths.add(person)\n",
    "\n",
    "smiths.people"
   ]
  },
  {
   "cell_type": "code",
   "execution_count": 12,
   "metadata": {},
   "outputs": [
    {
     "data": {
      "image/png": "iVBORw0KGgoAAAANSUhEUgAAA5UAAABwCAYAAACOyVR/AAAABHNCSVQICAgIfAhkiAAAAAlwSFlzAAALEgAACxIB0t1+/AAAADh0RVh0U29mdHdhcmUAbWF0cGxvdGxpYiB2ZXJzaW9uMy4yLjEsIGh0dHA6Ly9tYXRwbG90bGliLm9yZy+j8jraAAAVqUlEQVR4nO3de5RV5Znn8e8DRVFUAcWtuBeWRmS8gUTi3diRNl7IxNDRNBMz2pOZOGOiHU2iY08yvdK23W3SmukVl9G0bSZOG0N3vLQmtlE7bVCjMYKCgAhCuJXIHblKFRTv/HFOlQVU4akt1D7o97NWrdrnnH32+dWuUw/vs/d7NpFSQpIkSZKkLHrkHUCSJEmSdPiyqZQkSZIkZWZTKUmSJEnKzKZSkiRJkpSZTaUkSZIkKbOKrqw8ZMiQ1NDQcIiiSJIkSZLyNGvWrPUppbquPKdLTWVDQwMzZ87sWipJkiRJ0mEhIpZ39TlOf5UkSZIkZWZTKUmSJEnKrEvTX+e+uZmGGx87VFkk6X1ZVvX5g7atE48cc9C2JUmt5i5dcdC21bDz/oO2rXKTpZ4vmD7yoLz2sdNWdfrYHasfPiiv0VVfGT61y8/5IL8/dOgsu2VKpud5plKSJEmSlJlNpSRJkiQpM5tKSZIkSVJmNpWSJEmSpMxsKiVJkiRJmdlUSpIkSZIys6mUJEmSJGVmUylJkiRJysymUpIkSZKUmU2lJEmSJCkzm0pJkiRJUmY2lZIkSZKkzGwqJUmSJEmZ2VRKkiRJkjKzqZQkSZIkZWZTKUmSJEnKzKZSkiRJkpSZTaUkSZIkKTObSkmSJElSZjaVkiRJkqTMbColSZIkSZnZVEqSJEmSMrOplCRJkiRlZlMpSZIkScrMplKSJEmSlJlNpSRJkiQpM5tKSdIH2siakcy9Yi5zr5jLxR+5OO84+2nNdtWEq/KOIklSJhV5B9DhYfqVp3HaUYNp3LSDs77zdNv9px01iOlXng7AN342hwdmNeYVUdKHwI/O/xEfG/6xDh/71nPf4pElj3RzotJc/JGLufmsmwE4/4HzWbV9Vdtjc9bNAWDNjjW5ZJOkcuYY9PBgUylJOuw0tzSzYOOCve7buHNjTmneny/86xfyjiBJ0vtiU6mDbmRtFV8/fxwfHzuEAdWVbNjWzL+/vpbbnlzIhu3NANx66XguObmexk07uPWJRXzj/GMYUF3Jwy+/yc2PvcafTh7LZaeOoWn3Hn7y4nK+/6vFbduvqezJdecdw/nHD2dY/yre3tHMU6+t4Tu/fJ0tO3fn9WNL6kbr3lnXaTN27phzue6j1zGi7wjmrZ/HPXPv2W+djs4cjqwZyROXPAHsfdazvl89X57wZU4dcSoDeg9gU9MmZqycwU2/vQmAvz7rrxlfN54hfYZQ2aOSde+s4+mVT3P7K7ezfdd2bj7zZi4++t1pt62v8YPZP+DOOXcy94q5e90GGF4znGsmXsMZI8+gtnctG3du5NnGZ7n9ldvbmufW7b657U2+N/N7XD3xaoZVD2PBxgV8+/lvs2zLsve7myXpsOIYND82lTqoBtdU8tCXz2R4bRVNu1pYun47DYNr+PypYzjtqEF86vbn2NHc0rZ+Xb/e/NXUE1i3tYm+vSv4z6cfwalHDWJ4bRVbd+5m1IA+fO28cby8/G2eW7yeXj2D6Veezomja2na3cKSddsYM6iay047gvGjBzD1B79h956U4x6QlKexA8Zy2zm3UdGjgm3N2xhUNYhbz7k18/bq+9Uzfcp0+vfuT8ueFpZvWU5NrxrOGHVG2zqTx0ymqaWJlVtXUtOrhvp+9Vx27GXU9anj6zO+zsqtK1m5dSX1/eoBWLBhAc17mjud7jqoahD3XXQfw6qH0dTSxPItyzmi3xFccswlTBo2ic/94nO8s/udtvWHVg/llrNvYeXWlVRVVHHysJO56cybuPzxyzP/3JJ0uHEMmi+bSnXJ6IHVLLtlSqePX376EQyvrWLPnsSlP3yBVxs3c84xddz7xVM4qq4vl06q597nl7Wt37uiJ5+/+3leXrGJ5/7nuYwa0IeGwTWce9uv2bi9mZf/93lU9erJmUcP5rnF6/mPE0Zy4uhadrXs4VPff4431m5j1IA+zLj+DzhxdC1Txo/gkdmrOs0n6YNhVN9RbWf4Wp1x/xlccfwVVPSoYPuu7Xzmkc+wZscarpl4DVeOvzLT63zpxC/Rv3d/du3ZxZee/BKz1swC4NhBx7atc/njl7Nw08K2262v94kxn6CyRyU/fPWHrN6+uu3M6LVPX7vXZyr3NW3cNIZVD2NP2sMVj1/B/A3zOXPkmdx13l001DYw9eip3P/6/W3r9+rRi6t/dTUzGmdw/aTrufz4y5k4dCK9e/amqaUp088tSeXGMWh5s6lUlzTtbuG1VVvabvftXcHYYf3abo8fPQCAZRu282rjZgBmLFrH2zuaGVBdyfhRtXtt7+0dzcxavgmAVW+/w6gBfVi0ZiuNmwpH4ddva2L0wGqG9O0NwEn1he336tmDp752zn75Jo4Z+KH+g5Y+LDr6TOXutJuxA8cCMHvt7LYzgb9c+svMTeWJdScC8MqaV9oaSmCv1z51xKn8zdl/Q32/eqoqqtru79WjFwOrBnb5AjwnDDkBgBVbVjB/w3wAfrPqN2xu2kxt71qOG3zcXutvad7CjMYZACzZvKTt/kFVg3hr+1tdem1JKleOQcubTaW6ZN3WJqb+4Pm22+2vvJXFtqZ355+3FKcMtL+vVcTet5t372H+qs37rbd+m0flpQ+DA32mshSJd6co9ehR+N+1+lb27fJ2phw5hes/dj0Aa3esZdGmRQysGtg21bVn9MycsVRbm7e2LbfseXdqVxAdrS5JhyXHoOXNplIH1auNb/OJ/zCUhsE1jB9d2zb1YEB1ZeHxN/f/I+za9gvPr+gR3PTz13hl5dsA9OwRnH30EBav2/b+fgBJh7XFby/muMHHcdLQk6jrU8e6d9bxyYZP7rde+yvF1verp3FrI5PHTN5vvbnr5nL0gKOZOGwiJ9WdxOx1swEYN3AcCzctZHzdeAC2NW/jggcvYNeeXXzrtG/xx+P+eK/t7Ny9s225T68+B/wZ5q2fx9mjz2ZM/zEcP/j4tumvtb0LR9lf2/BaiXtDkj48HIPmy6ZSB9X/e2E5004Zw7D+Vfzsv5/Osg07OHJIDQBL12/nZzNXvq/tPzp7Ff/lzAaOH1nLg1edweJ12+gRwcgBVVRXVjDt719om7Yg6YOrrk8d91103173PfTGQ9w7/16mHDmFml41PPqZR1m7Yy2j+o3a7/mvrnuV7bu2U9Orhu+e/V2WbF7ChLoJ+61399y7mTxmMv179+fHF/yYZVuWUV1RTUtq4cKHLmTRpkVA4Szn4599nF0tu+jba/8znku3LH13m+fdzartq7j1pVvbmtT2pi+czmeP+SxDq4dy74X3smLLChr6NwCwfMtyHl78cJf2lSR9GDgGzVePvAPog2XD9mam3vEbHny5kS07d3FUXQ0btzfz09+t4JI7n9/rqltZNLfsYdoPf8vdz/6exk3v0DC4hkE1lSxas43v/+oNFq7e+t4bkXTYq+xZyYS6CXt9DasexqJNi7j+metZvmU5lT0r2bprKzc8c8N+z9/SvIUbnrmBpZuX0qdXH3pED2589sb91lu5dSXTHpvGY79/jE1NmxjTfww9e/TkhVUvAO82sht3bqSmooaXVr/EHbPv2G87izYt4q45d7H+nfXUVdcxoW4C/Xv37/Bn27hzI5f962U8uuRRtjZvpaG2gY1NG3lg0QNc/vjle135VZJU4Bg0X5FS6Ze+7T1ibBpxxd8dwjiSlN2yqs8ftG2deOSYg7YtSWo1d+mKg7athp33v/dKh6ks9XzB9JEH5bWPndb5xVbuWJ3PTIGvDJ/a5ed8kN8fOnSW3TKFiJiVUprUled5plKSJEmSlJlNpSRJkiQpM5tKSZIkSVJmNpWSJEmSpMxsKiVJkiRJmdlUSpIkSZIys6mUJEmSJGVmUylJkiRJysymUpIkSZKUmU2lJEmSJCkzm0pJkiRJUmY2lZIkSZKkzGwqJUmSJEmZ2VRKkiRJkjKzqZQkSZIkZWZTKUmSJEnKzKZSkiRJkpSZTaUkSZIkKTObSkmSJElSZjaVkiRJkqTMbColSZIkSZnZVEqSJEmSMrOplCRJkiRlZlMpSZIkScrMplKSJEmSlJlNpSRJkiQpM5tKSZIkSVJmNpWSJEmSpMxsKiVJkiRJmdlUSpIkSZIys6mUJEmSJGVmUylJkiRJysymUpIkSZKUmU2lJEmSJCkzm0pJkiRJUmaRUip55UmTJqWZM2cewjiSJEmSpLxExKyU0qSuPMczlZIkSZKkzGwqJUmSJEmZ2VRKkiRJkjLr0mcqI2IrsPDQxclkCLA+7xD7MFPpyjGXmUpjptKVYy4zlcZMpSvHXGYqjZlKV465zFQaM5VuXEqpX1eeUNHFF1jY1Q9tHmoRMdNM760cM0F55jJTacxUunLMZabSmKl05ZjLTKUxU+nKMZeZSmOm0kVEl6/M6vRXSZIkSVJmNpWSJEmSpMy62lT+/SFJ8f6YqTTlmAnKM5eZSmOm0pVjLjOVxkylK8dcZiqNmUpXjrnMVBozla7Lubp0oR5JkiRJktpz+qskSZIkKTObSkmSJElSZiU1lRFxQUQsjIjFEXHjoQ5Vioj4UUSsjYh5eWdpFRH1EfF0RLwWEfMj4qtlkKkqIn4XEXOKmf4i70ytIqJnRLwSEb/IOwtARCyLiLkRMTvLpZQPhYgYEBEPRMTrEbEgIk4vg0zjivuo9WtLRFxbBrmuK77H50XETyOiqgwyfbWYZ36e+6ijehkRgyLiqYh4o/h9YBlkurS4r/ZERLdfYr2TTH9b/Pt7NSIejogBZZDpL4t5ZkfEkxExMu9M7R77ekSkiBiSd6aI+HZEvNmuVl3UnZk6y1W8/5ri+2p+RHw370wR8U/t9tOyiJhdBplOiojftv6bHBGnlEGmCRHxQnGs8POI6N/NmTocZ+ZZzw+QKbd6foBMedfzznLlVtM7y9Tu8dJrekrpgF9AT2AJcBRQCcwBjnuv5x3qL+DjwEeBeXlnaZdpBPDR4nI/YFHe+woIoG9xuRfwInBa3vuqmOdrwP3AL/LOUsyzDBiSd459Mt0L/LficiUwIO9M++TrCawGjsg5xyhgKdCnePufgT/JOdMJwDygmsL/CfxvwNE5ZdmvXgLfBW4sLt8IfKcMMh0LjAN+DUwqk/30SaCiuPydMtlP/dst/ylwV96ZivfXA08Ay7u7lnayn74NfKO730cl5PpEsR70Lt4emnemfR6/DfjzvDMBTwIXFpcvAn5dBpleAs4pLn8R+MtuztThODPPen6ATLnV8wNkyrued5Yrt5reWabi7S7V9FLOVJ4CLE4p/T6l1AxMBy4u4XmHVErpGWBj3jnaSym9lVJ6ubi8FVhAYbCbZ6aUUtpWvNmr+JX71ZkiYjQwBfiHvLOUq4iopfCP2j0AKaXmlNLb+abaz2RgSUpped5BKDRufSKigkIjtyrnPMcCL6aUdqSUdgMzgD/KI0gn9fJiCgctKH7/TN6ZUkoLUkoLuzPHPq/fUaYni78/gN8Co8sg05Z2N2vo5pp+gH9//w9wQ3fngfIcE0Cnua4CbkkpNRXXWVsGmQCIiAA+B/y0DDIloPVMYC3dXNM7yXQM8Exx+Sngs92cqbNxZm71vLNMedbzA2TKu553liu3mv4evUuXanopTeUoYGW7243k3CgdDiKiAZhI4cxgrqIwzXQ2sBZ4KqWUeybg7yi8UffkHaSdBDwZEbMi4sq8wwBHAuuA/xuFacL/EBE1eYfaxzS6efDRkZTSm8CtwArgLWBzSunJfFMxDzg7IgZHRDWFI+31OWdqb1hK6a3i8mpgWJ5hDhNfBB7POwRARPxVRKwELgP+vAzyXAy8mVKak3eWfVxdnFb2o+6cEvgejqFQG16MiBkR8bG8A7VzNrAmpfRG3kGAa4G/Lb7PbwX+LOc8APN598TKpeRY0/cZZ5ZFPS+nsW+rA2TKtZ7vm6scanr7TFlquhfqOQQioi/wIHDtPkcfcpFSakkpnUThiMwpEXFCnnki4lPA2pTSrDxzdOCslNJHgQuBr0TEx3POU0Fh6s2dKaWJwHYK01rKQkRUAp8GflYGWQZS+If+SGAkUBMRX8gzU0ppAYXpNU8CvwRmAy15ZupMKsxzyX0GQzmLiG8Cu4Gf5J0FIKX0zZRSPYU8V+eZpXjQ5H9RBs3tPu4EPgKcROFg0235xmlTAQwCTgOuB/65eIawHPwnyuBAYdFVwHXF9/l1FGft5OyLwJcjYhaFqYLNeYQ40Dgzr3pebmNf6DxT3vW8o1x51/T2mSjsmy7X9FKayjfZ+0jM6OJ96kBE9KLwS/lJSumhvPO0V5w6+TRwQc5RzgQ+HRHLKEynPjci7ss3UtvZrtapSA9TmPqdp0agsd2Z5QcoNJnl4kLg5ZTSmryDAH8ILE0prUsp7QIeAs7IORMppXtSSienlD4ObKLwWYVysSYiRgAUv3frFLzDSUT8CfAp4LLigK2c/IRunoLXgY9QOKAzp1jXRwMvR8TwPEOllNYUD6ruAe4m/5reqhF4qPjxlN9RmLHTrRc26kjxowN/BPxT3lmKrqBQy6Fw8DL3319K6fWU0idTSidTaL6XdHeGTsaZudbzchz7dpYp73pewr7q9preQaZMNb2UpvIlYGxEHFk8MzENePT9hP+gKh5pvAdYkFL6Xt55ACKirvXqVhHRBzgPeD3PTCmlP0spjU4pNVB4P/17SinXs0oRURMR/VqXKXyYO9crC6eUVgMrI2Jc8a7JwGs5RtpXOR3RXgGcFhHVxb/DyRQ+F5CriBha/D6GwmDt/nwT7eVRCoM2it8fyTFL2YqICyhM1f90SmlH3nkAImJsu5sXk39Nn5tSGppSaijW9UYKF35YnWeu1kF20VRyrunt/AuFi/UQEcdQuAjb+lwTFfwh8HpKqTHvIEWrgHOKy+cCuU/JbVfTewDfAu7q5tfvbJyZWz0v07Fvh5nyrucHyJVbTe8oU+aankq7MtBFFI6wLwG+WcpzDvUXhcHsW8Cu4g/7X8sg01kUphy8SmGq22zgopwzjQdeKWaaRzdf0a2EfH9AGVz9lcLVjecUv+aX0fv8JGBm8ff3L8DAvDMVc9UAG4DavLO0y/QXFArxPOAfKV5ZMedMz1I4EDAHmJxjjv3qJTAY+BWFgdq/AYPKINPU4nITsAZ4ogwyLaZwXYHWmt7dV1rtKNODxff5q8DPKVzoIddM+zy+jO6/+mtH++kfgbnF/fQoMKI7Mx0gVyVwX/F3+DJwbt6Zivf/GPgf3b2PDrCfzgJmFevni8DJZZDpqxTGw4uAW4Do5kwdjjPzrOcHyJRbPT9AprzreWe5cqvpnWXaZ52SanoUV5YkSZIkqcu8UI8kSZIkKTObSkmSJElSZjaVkiRJkqTMbColSZIkSZnZVEqSJEmSMrOplCRJkiRlZlMpSZIkScrs/wNLjUoAOYmjhAAAAABJRU5ErkJggg==\n",
      "text/plain": [
       "<Figure size 1152x108 with 1 Axes>"
      ]
     },
     "metadata": {
      "needs_background": "light"
     },
     "output_type": "display_data"
    }
   ],
   "source": [
    "plot_activities(Bobby)"
   ]
  },
  {
   "cell_type": "code",
   "execution_count": 13,
   "metadata": {},
   "outputs": [
    {
     "name": "stdout",
     "output_type": "stream",
     "text": [
      "0:\tActivity(1 act:home, location:a, time:00:00:00 --> 08:00:00, duration:8:00:00)\n",
      "1:\tLeg(1 mode:walk, area:a --> b, time:08:00:00 --> 08:05:00, duration:0:05:00)\n",
      "2:\tActivity(2 act:escort, location:b, time:08:05:00 --> 08:00:00, duration:-1 day, 23:55:00)\n",
      "3:\tLeg(2 mode:pt, area:a --> b, time:08:00:00 --> 08:30:00, duration:0:30:00)\n",
      "4:\tActivity(3 act:work, location:b, time:08:30:00 --> 14:00:00, duration:5:30:00)\n",
      "5:\tLeg(3 mode:pt, area:b --> c, time:14:00:00 --> 14:20:00, duration:0:20:00)\n",
      "6:\tActivity(4 act:leisure, location:c, time:14:20:00 --> 15:40:00, duration:1:20:00)\n",
      "7:\tLeg(4 mode:pt, area:c --> b, time:15:40:00 --> 16:00:00, duration:0:20:00)\n",
      "8:\tActivity(5 act:escort, location:b, time:16:00:00 --> 16:30:00, duration:0:30:00)\n",
      "9:\tLeg(5 mode:walk, area:a --> b, time:16:30:00 --> 17:00:00, duration:0:30:00)\n",
      "10:\tActivity(6 act:home, location:a, time:17:00:00 --> 18:00:00, duration:1:00:00)\n",
      "11:\tLeg(6 mode:car, area:a --> b, time:18:00:00 --> 18:20:00, duration:0:20:00)\n",
      "12:\tActivity(7 act:shop_1, location:b, time:18:20:00 --> 18:50:00, duration:0:30:00)\n",
      "13:\tLeg(7 mode:walk, area:b --> b, time:18:50:00 --> 19:00:00, duration:0:10:00)\n",
      "14:\tActivity(8 act:shop_2, location:b, time:19:00:00 --> 19:50:00, duration:0:50:00)\n",
      "15:\tLeg(8 mode:car, area:b --> a, time:19:50:00 --> 20:10:00, duration:0:20:00)\n",
      "16:\tActivity(9 act:home, location:a, time:20:10:00 --> 00:00:00, duration:3:50:00)\n"
     ]
    }
   ],
   "source": [
    "Betty.plan.print()"
   ]
  },
  {
   "cell_type": "code",
   "execution_count": 14,
   "metadata": {},
   "outputs": [
    {
     "data": {
      "image/png": "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\n",
      "text/plain": [
       "<Figure size 1152x108 with 1 Axes>"
      ]
     },
     "metadata": {
      "needs_background": "light"
     },
     "output_type": "display_data"
    }
   ],
   "source": [
    "plot_activities(Betty)"
   ]
  },
  {
   "cell_type": "code",
   "execution_count": 15,
   "metadata": {},
   "outputs": [],
   "source": [
    "population.add(smiths)"
   ]
  },
  {
   "cell_type": "markdown",
   "metadata": {},
   "source": [
    "### Add Jones household"
   ]
  },
  {
   "cell_type": "code",
   "execution_count": 16,
   "metadata": {},
   "outputs": [
    {
     "data": {
      "text/plain": [
<<<<<<< HEAD
       "{'Hugh': <pam.core.Person at 0x1149485d0>,\n",
       " 'Bridget': <pam.core.Person at 0x114948c10>}"
=======
       "{'Hugh': <pam.core.Person at 0x11bb8e390>,\n",
       " 'Bridget': <pam.core.Person at 0x11bb8e990>}"
>>>>>>> kasia-add-complex-policies
      ]
     },
     "execution_count": 16,
     "metadata": {},
     "output_type": "execute_result"
    }
   ],
   "source": [
    "jones_id = 'Jones'\n",
    "\n",
    "Hugh = Person('Hugh', attributes={'age': 100, 'job': 'unemployed', 'gender': 'male', 'key_worker': False})\n",
    "Hugh.add(Activity(1, 'home', 'a', start_time=mtdt(0), end_time=mtdt(8 * 60)))\n",
    "Hugh.add(Leg(1, 'walk', 'a', 'b', start_time=mtdt(8 * 60), end_time=mtdt(8 * 60 + 30)))\n",
    "Hugh.add(Activity(2, 'health', 'b', start_time=mtdt(8 * 60 + 30), end_time=mtdt(10 * 60)))\n",
    "Hugh.add(Leg(2, 'walk', 'b', 'a', start_time=mtdt(10 * 60), end_time=mtdt(10 * 60 + 30)))\n",
    "Hugh.add(Activity(3, 'home', 'a', start_time=mtdt(10 * 60 + 30), end_time=mtdt(14 * 60)))\n",
    "Hugh.add(Leg(3, 'walk', 'a', 'b', start_time=mtdt(14 * 60), end_time=mtdt(14 * 60 + 30)))\n",
    "Hugh.add(Activity(4, 'health', 'b', start_time=mtdt(14 * 60 + 30), end_time=mtdt(16 * 60)))\n",
    "Hugh.add(Leg(4, 'walk', 'b', 'a', start_time=mtdt(16 * 60), end_time=mtdt(16 * 60 + 30)))\n",
    "Hugh.add(Activity(5, 'home', 'a', start_time=mtdt(16 * 60 + 30), end_time=END_OF_DAY))\n",
    "\n",
    "Bridget = Person('Bridget', attributes={'age': 35, 'job': 'work', 'gender': 'female', 'key_worker': False})\n",
    "Bridget.add(Activity(1, 'home', 'a', start_time=mtdt(0), end_time=mtdt(8 * 60)))\n",
    "Bridget.add(Leg(1, 'walk', 'a', 'b', start_time=mtdt(8 * 60), end_time=mtdt(8 * 60 + 5)))\n",
    "Bridget.add(Activity(2, 'escort', 'b', start_time=mtdt(8 * 60 + 5), end_time=mtdt(10 * 60 + 30)))\n",
    "Bridget.add(Leg(2, 'pt', 'b', 'c', start_time=mtdt(10 * 60 + 30), end_time=mtdt(11 * 60)))\n",
    "Bridget.add(Activity(3, 'work', 'c', start_time=mtdt(11 * 60), end_time=mtdt(16 * 60)))\n",
    "Bridget.add(Leg(3, 'pt', 'c', 'a', start_time=mtdt(16 * 60), end_time=mtdt(16 * 60 + 20)))\n",
    "Bridget.add(Activity(4, 'home', 'a', start_time=mtdt(16 * 60 + 20), end_time=mtdt(17 * 60 + 20)))\n",
    "Bridget.add(Leg(4, 'pt', 'c', 'a', start_time=mtdt(17 * 60 + 20), end_time=mtdt(17 * 60 + 50)))\n",
    "Bridget.add(Activity(5, 'shop', 'a', start_time=mtdt(17 * 60 + 50), end_time=mtdt(18 * 60 + 30)))\n",
    "Bridget.add(Leg(5, 'pt', 'c', 'a', start_time=mtdt(18 * 60 + 30), end_time=mtdt(18 * 60 + 50)))\n",
    "Bridget.add(Activity(6, 'home', 'a', start_time=mtdt(18 * 60 + 50), end_time=END_OF_DAY))\n",
    "\n",
    "jones = Household(jones_id)\n",
    "for person in [Hugh, Bridget]:\n",
    "    jones.add(person)\n",
    "\n",
    "jones.people"
   ]
  },
  {
   "cell_type": "code",
   "execution_count": 17,
   "metadata": {},
   "outputs": [
    {
     "data": {
      "image/png": "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\n",
      "text/plain": [
       "<Figure size 1152x108 with 1 Axes>"
      ]
     },
     "metadata": {
      "needs_background": "light"
     },
     "output_type": "display_data"
    }
   ],
   "source": [
    "plot_activities(Hugh)"
   ]
  },
  {
   "cell_type": "code",
   "execution_count": 18,
   "metadata": {},
   "outputs": [
    {
     "data": {
      "image/png": "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\n",
      "text/plain": [
       "<Figure size 1152x108 with 1 Axes>"
      ]
     },
     "metadata": {
      "needs_background": "light"
     },
     "output_type": "display_data"
    }
   ],
   "source": [
    "plot_activities(Bridget)"
   ]
  },
  {
   "cell_type": "code",
   "execution_count": 19,
   "metadata": {},
   "outputs": [],
   "source": [
    "population.add(jones)"
   ]
  },
  {
   "cell_type": "code",
   "execution_count": 20,
   "metadata": {},
   "outputs": [
    {
     "name": "stdout",
     "output_type": "stream",
     "text": [
      "Population total time at home: 59.33 hours\n",
      "Population total travel time: 8.17 hours\n"
     ]
    }
   ],
   "source": [
    "print_simple_stats(population)"
   ]
  },
  {
   "cell_type": "markdown",
   "metadata": {},
   "source": [
    "# PAM Complex Policies\n",
    "\n",
    "Based on [link](https://docs.google.com/spreadsheets/d/1FQMa7dLe2cv1NEZnbu5cZo3v07tKXINwvOaLQYoEp-M/edit#gid=0)"
   ]
  },
  {
   "cell_type": "code",
   "execution_count": 21,
   "metadata": {},
   "outputs": [],
   "source": [
    "def apply_policies(population, policies: list):\n",
    "\n",
    "    new_population = deepcopy(population) \n",
    "    for hid, household in new_population.households.items():\n",
    "        for policy in policies:\n",
    "            policy.apply_to(household)\n",
    "    return new_population"
   ]
  },
  {
   "cell_type": "code",
   "execution_count": 22,
   "metadata": {},
   "outputs": [],
   "source": [
    "def discrete_joint_distribution_sampler(obj, mapping, distribution):\n",
    "    \"\"\"\n",
    "    Randomly sample from a joint distribution based some discrete features.\n",
    "    Where features are a dictionary structure of features, eg: {'gender':'female'}\n",
    "    Distribution is a nested dict of probabilities based on possible features, eg:\n",
    "    {'0-0': {'male': 0, 'female': 0},... , '90-120': {'male': 1, 'female': 1}}\n",
    "    Mapping provides the feature name for each level of the distribution, eg:\n",
    "    ['age', 'gender']\n",
    "    \"\"\"\n",
    "    p = distribution\n",
    "    for key in mapping:\n",
    "        value = obj.attributes.get(key)\n",
    "        if value is None:\n",
    "            raise KeyError(f\"Cannot find mapping: {key} in sampling features: {features}\")\n",
    "        p = p.get(value)\n",
    "        if p is None:\n",
    "            raise KeyError(f\"Cannot find feature for {key}: {value} in distribution: {p}\")\n",
    "\n",
    "    return p"
   ]
  },
  {
   "cell_type": "code",
   "execution_count": 23,
   "metadata": {},
   "outputs": [],
   "source": [
    "vulnerable_mapping = ['age', 'gender']\n",
    "vulnerable_distribution = dict(zip(list(range(101)), [{'male': i/100, 'female': i/100, 'other': i/100} for i in range(101)]))"
   ]
  },
  {
   "cell_type": "code",
   "execution_count": 24,
   "metadata": {
    "scrolled": true
   },
   "outputs": [
    {
     "data": {
      "text/plain": [
       "{0: {'male': 0.0, 'female': 0.0, 'other': 0.0},\n",
       " 1: {'male': 0.01, 'female': 0.01, 'other': 0.01},\n",
       " 2: {'male': 0.02, 'female': 0.02, 'other': 0.02},\n",
       " 3: {'male': 0.03, 'female': 0.03, 'other': 0.03},\n",
       " 4: {'male': 0.04, 'female': 0.04, 'other': 0.04},\n",
       " 5: {'male': 0.05, 'female': 0.05, 'other': 0.05},\n",
       " 6: {'male': 0.06, 'female': 0.06, 'other': 0.06},\n",
       " 7: {'male': 0.07, 'female': 0.07, 'other': 0.07},\n",
       " 8: {'male': 0.08, 'female': 0.08, 'other': 0.08},\n",
       " 9: {'male': 0.09, 'female': 0.09, 'other': 0.09},\n",
       " 10: {'male': 0.1, 'female': 0.1, 'other': 0.1},\n",
       " 11: {'male': 0.11, 'female': 0.11, 'other': 0.11},\n",
       " 12: {'male': 0.12, 'female': 0.12, 'other': 0.12},\n",
       " 13: {'male': 0.13, 'female': 0.13, 'other': 0.13},\n",
       " 14: {'male': 0.14, 'female': 0.14, 'other': 0.14}}"
      ]
     },
     "execution_count": 24,
     "metadata": {},
     "output_type": "execute_result"
    }
   ],
   "source": [
    "dict(list(vulnerable_distribution.items())[0:15])"
   ]
  },
  {
   "cell_type": "code",
   "execution_count": 25,
   "metadata": {},
   "outputs": [
    {
     "data": {
      "text/plain": [
       "0.06"
      ]
     },
     "execution_count": 25,
     "metadata": {},
     "output_type": "execute_result"
    }
   ],
   "source": [
    "discrete_joint_distribution_sampler(Bobby, vulnerable_mapping, vulnerable_distribution)"
   ]
  },
  {
   "cell_type": "markdown",
   "metadata": {},
   "source": [
    "## Household Quarantine\n",
    "\n",
    "Probabilistically apply quarantine to a household (remove all activities - stay at home) "
   ]
  },
  {
   "cell_type": "markdown",
   "metadata": {},
   "source": [
    "### Person-based, all people equal\n",
    "\n",
    "If you have a probability of any person having to be quarantined"
   ]
  },
  {
   "cell_type": "code",
   "execution_count": 26,
   "metadata": {},
   "outputs": [],
   "source": [
    "policy_quarantine = \\\n",
    "    HouseholdPolicy(\n",
    "        RemoveActivity(['work', 'health', 'leisure', 'escort', 'shop', 'education']), \n",
    "        PersonProbability(0.0000000000001)\n",
    ")"
   ]
  },
  {
   "cell_type": "code",
   "execution_count": 27,
   "metadata": {},
   "outputs": [
    {
     "name": "stdout",
     "output_type": "stream",
     "text": [
      "Population total time at home: 59.33 hours\n",
      "Population total travel time: 8.17 hours\n"
     ]
    }
   ],
   "source": [
    "q_pop = apply_policies(population, [policy_quarantine])\n",
    "print_simple_stats(q_pop)"
   ]
  },
  {
   "cell_type": "code",
   "execution_count": 28,
   "metadata": {},
   "outputs": [
    {
     "data": {
      "image/png": "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\n",
      "text/plain": [
       "<Figure size 1152x108 with 1 Axes>"
      ]
     },
     "metadata": {
      "needs_background": "light"
     },
     "output_type": "display_data"
    }
   ],
   "source": [
    "plot_activities(q_pop.households['Smith'].people['Bobby'])"
   ]
  },
  {
   "cell_type": "code",
   "execution_count": 29,
   "metadata": {},
   "outputs": [
    {
     "data": {
      "image/png": "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\n",
      "text/plain": [
       "<Figure size 1152x108 with 1 Axes>"
      ]
     },
     "metadata": {
      "needs_background": "light"
     },
     "output_type": "display_data"
    }
   ],
   "source": [
    "plot_activities(q_pop.households['Smith'].people['Betty'])"
   ]
  },
  {
   "cell_type": "code",
   "execution_count": 30,
   "metadata": {},
   "outputs": [
    {
     "data": {
      "image/png": "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\n",
      "text/plain": [
       "<Figure size 1152x108 with 1 Axes>"
      ]
     },
     "metadata": {
      "needs_background": "light"
     },
     "output_type": "display_data"
    }
   ],
   "source": [
    "plot_activities(q_pop.households['Jones'].people['Bridget'])"
   ]
  },
  {
   "cell_type": "code",
   "execution_count": 31,
   "metadata": {},
   "outputs": [
    {
     "data": {
      "image/png": "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\n",
      "text/plain": [
       "<Figure size 1152x108 with 1 Axes>"
      ]
     },
     "metadata": {
      "needs_background": "light"
     },
     "output_type": "display_data"
    }
   ],
   "source": [
    "plot_activities(q_pop.households['Jones'].people['Hugh'])"
   ]
  },
  {
   "cell_type": "markdown",
   "metadata": {},
   "source": [
    "### Using joint distribution"
   ]
  },
  {
   "cell_type": "code",
   "execution_count": 32,
   "metadata": {},
   "outputs": [],
   "source": [
    "policy_quarantine = \\\n",
    "    HouseholdPolicy(\n",
    "        RemoveActivity(['work', 'health', 'escort', 'leisure', 'shop', 'education']), \n",
    "        PersonProbability(\n",
    "             discrete_joint_distribution_sampler, \n",
    "             dict(mapping=vulnerable_mapping, distribution=vulnerable_distribution))\n",
    ")"
   ]
  },
  {
   "cell_type": "code",
   "execution_count": 33,
   "metadata": {},
   "outputs": [
    {
     "name": "stdout",
     "output_type": "stream",
     "text": [
      "Population total time at home: 26.17 hours\n",
      "Population total travel time: 4.42 hours\n"
     ]
    }
   ],
   "source": [
    "q_pop = apply_policies(population, [policy_quarantine])\n",
    "print_simple_stats(q_pop)"
   ]
  },
  {
   "cell_type": "code",
   "execution_count": 34,
   "metadata": {},
   "outputs": [
    {
     "data": {
      "image/png": "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\n",
      "text/plain": [
       "<Figure size 1152x108 with 1 Axes>"
      ]
     },
     "metadata": {
      "needs_background": "light"
     },
     "output_type": "display_data"
    }
   ],
   "source": [
    "plot_activities(q_pop.households['Jones'].people['Bridget'])"
   ]
  },
  {
   "cell_type": "code",
   "execution_count": 35,
   "metadata": {},
   "outputs": [
    {
     "data": {
      "image/png": "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\n",
      "text/plain": [
       "<Figure size 1152x108 with 1 Axes>"
      ]
     },
     "metadata": {
      "needs_background": "light"
     },
     "output_type": "display_data"
    }
   ],
   "source": [
    "plot_activities(q_pop.households['Jones'].people['Hugh'])"
   ]
  },
  {
   "cell_type": "markdown",
   "metadata": {},
   "source": [
    "### Chaining probabilities"
   ]
  },
  {
   "cell_type": "code",
   "execution_count": 36,
   "metadata": {},
   "outputs": [],
   "source": [
    "policy_quarantine = \\\n",
    "    HouseholdPolicy(\n",
    "        RemoveActivity(['work', 'health', 'escort', 'leisure', 'shop', 'education']), \n",
    "        [PersonProbability(0.5), \n",
    "         PersonProbability(\n",
    "             discrete_joint_distribution_sampler, \n",
    "             dict(mapping=vulnerable_mapping, distribution=vulnerable_distribution))]\n",
    ")"
   ]
  },
  {
   "cell_type": "code",
   "execution_count": 37,
   "metadata": {},
   "outputs": [
    {
     "name": "stdout",
     "output_type": "stream",
     "text": [
<<<<<<< HEAD
      "Population total time at home: 59.33 hours\n",
      "Population total travel time: 8.17 hours\n"
=======
      "Population total time at home: 64.58 hours\n",
      "Population total travel time: 29.58 hours\n"
>>>>>>> kasia-add-complex-policies
     ]
    }
   ],
   "source": [
    "q_pop = apply_policies(population, [policy_quarantine])\n",
    "print_simple_stats(q_pop)"
   ]
  },
  {
   "cell_type": "code",
   "execution_count": 38,
   "metadata": {},
   "outputs": [
    {
     "data": {
<<<<<<< HEAD
      "image/png": "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\n",
=======
      "image/png": "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\n",
>>>>>>> kasia-add-complex-policies
      "text/plain": [
       "<Figure size 1152x108 with 1 Axes>"
      ]
     },
     "metadata": {
      "needs_background": "light"
     },
     "output_type": "display_data"
    }
   ],
   "source": [
    "plot_activities(q_pop.households['Jones'].people['Bridget'])"
   ]
  },
  {
   "cell_type": "code",
   "execution_count": 39,
   "metadata": {},
   "outputs": [
    {
     "data": {
<<<<<<< HEAD
      "image/png": "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\n",
=======
      "image/png": "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\n",
>>>>>>> kasia-add-complex-policies
      "text/plain": [
       "<Figure size 1152x108 with 1 Axes>"
      ]
     },
     "metadata": {
      "needs_background": "light"
     },
     "output_type": "display_data"
    }
   ],
   "source": [
    "plot_activities(q_pop.households['Jones'].people['Hugh'])"
   ]
  },
  {
   "cell_type": "markdown",
   "metadata": {},
   "source": [
    "## Remove Education\n",
    "\n",
    "Probabilistically remove education activities from a person and escort from people in the same household"
   ]
  },
  {
   "cell_type": "code",
   "execution_count": 40,
   "metadata": {},
   "outputs": [],
   "source": [
    "edu_mapping = ['job']\n",
    "edu_distribution = {'work': 0, 'unemployed': 0, 'education': 1}"
   ]
  },
  {
   "cell_type": "code",
   "execution_count": 41,
   "metadata": {},
   "outputs": [],
   "source": [
    "key_mapping = ['key_worker']\n",
    "key_distribution = {True: 0, False: 1}"
   ]
  },
  {
   "cell_type": "code",
   "execution_count": 42,
   "metadata": {},
   "outputs": [
    {
     "data": {
      "text/plain": [
       "({'work': 0, 'unemployed': 0, 'education': 1}, {True: 0, False: 1})"
      ]
     },
     "execution_count": 42,
     "metadata": {},
     "output_type": "execute_result"
    }
   ],
   "source": [
    "edu_distribution, key_distribution"
   ]
  },
  {
   "cell_type": "code",
   "execution_count": 43,
   "metadata": {},
   "outputs": [],
   "source": [
    "policy_remove_education_and_escort = \\\n",
    "    HouseholdPolicy(\n",
    "        RemoveActivity(['education', 'escort']), \n",
    "        [PersonProbability(\n",
    "             discrete_joint_distribution_sampler, \n",
    "             dict(mapping=edu_mapping, distribution=edu_distribution)),\n",
    "         PersonProbability(\n",
    "             discrete_joint_distribution_sampler, \n",
    "             dict(mapping=key_mapping, distribution=key_distribution))])"
   ]
  },
  {
   "cell_type": "code",
   "execution_count": 44,
   "metadata": {},
   "outputs": [
    {
     "name": "stdout",
     "output_type": "stream",
     "text": [
      "Population total time at home: 69.25 hours\n",
      "Population total travel time: 6.17 hours\n"
     ]
    }
   ],
   "source": [
    "edu_pop = apply_policies(population, [policy_remove_education_and_escort])\n",
    "print_simple_stats(edu_pop)"
   ]
  },
  {
   "cell_type": "code",
   "execution_count": 45,
   "metadata": {},
   "outputs": [
    {
     "name": "stdout",
     "output_type": "stream",
     "text": [
      "0:\tActivity(1 act:home, location:a, time:00:00:00 --> 08:00:00, duration:8:00:00)\n",
      "1:\tLeg(1 mode:walk, area:a --> b, time:08:00:00 --> 08:05:00, duration:0:05:00)\n",
      "2:\tActivity(3 act:work, location:b, time:08:05:00 --> 13:35:00, duration:5:30:00)\n",
      "3:\tLeg(3 mode:pt, area:b --> c, time:13:35:00 --> 13:55:00, duration:0:20:00)\n",
      "4:\tActivity(4 act:leisure, location:c, time:13:55:00 --> 15:15:00, duration:1:20:00)\n",
      "5:\tLeg(4 mode:pt, area:c --> b, time:15:15:00 --> 15:35:00, duration:0:20:00)\n",
      "6:\tActivity(6 act:home, location:a, time:15:35:00 --> 16:35:00, duration:1:00:00)\n",
      "7:\tLeg(6 mode:car, area:a --> b, time:16:35:00 --> 16:55:00, duration:0:20:00)\n",
      "8:\tActivity(7 act:shop_1, location:b, time:16:55:00 --> 17:25:00, duration:0:30:00)\n",
      "9:\tLeg(7 mode:walk, area:b --> b, time:17:25:00 --> 17:35:00, duration:0:10:00)\n",
      "10:\tActivity(8 act:shop_2, location:b, time:17:35:00 --> 18:25:00, duration:0:50:00)\n",
      "11:\tLeg(8 mode:car, area:b --> a, time:18:25:00 --> 18:45:00, duration:0:20:00)\n",
      "12:\tActivity(9 act:home, location:a, time:18:45:00 --> 00:00:00, duration:5:15:00)\n"
     ]
    }
   ],
   "source": [
    "edu_pop.households['Smith'].people['Betty'].plan.print()"
   ]
  },
  {
   "cell_type": "code",
   "execution_count": 46,
   "metadata": {},
   "outputs": [
    {
     "data": {
      "image/png": "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\n",
      "text/plain": [
       "<Figure size 1152x108 with 1 Axes>"
      ]
     },
     "metadata": {
      "needs_background": "light"
     },
     "output_type": "display_data"
    }
   ],
   "source": [
    "plot_activities(edu_pop.households['Smith'].people['Betty'])"
   ]
  },
  {
   "cell_type": "code",
   "execution_count": 47,
   "metadata": {},
   "outputs": [
    {
     "data": {
      "image/png": "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\n",
      "text/plain": [
       "<Figure size 1152x108 with 1 Axes>"
      ]
     },
     "metadata": {
      "needs_background": "light"
     },
     "output_type": "display_data"
    }
   ],
   "source": [
    "plot_activities(edu_pop.households['Smith'].people['Bobby'])"
   ]
  },
  {
   "cell_type": "code",
   "execution_count": 48,
   "metadata": {},
   "outputs": [
    {
     "data": {
      "image/png": "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\n",
      "text/plain": [
       "<Figure size 1152x108 with 1 Axes>"
      ]
     },
     "metadata": {
      "needs_background": "light"
     },
     "output_type": "display_data"
    }
   ],
   "source": [
    "plot_activities(edu_pop.households['Jones'].people['Hugh'])"
   ]
  },
  {
   "cell_type": "code",
   "execution_count": 49,
   "metadata": {},
   "outputs": [
    {
     "data": {
      "image/png": "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\n",
      "text/plain": [
       "<Figure size 1152x108 with 1 Axes>"
      ]
     },
     "metadata": {
      "needs_background": "light"
     },
     "output_type": "display_data"
    }
   ],
   "source": [
    "plot_activities(edu_pop.households['Jones'].people['Bridget'])"
   ]
  },
  {
   "cell_type": "code",
   "execution_count": 50,
   "metadata": {},
   "outputs": [
    {
     "name": "stdout",
     "output_type": "stream",
     "text": [
      "0:\tActivity(1 act:home, location:a, time:00:00:00 --> 08:00:00, duration:8:00:00)\n",
      "1:\tLeg(1 mode:walk, area:a --> b, time:08:00:00 --> 08:05:00, duration:0:05:00)\n",
      "2:\tActivity(2 act:escort, location:b, time:08:05:00 --> 10:30:00, duration:2:25:00)\n",
      "3:\tLeg(2 mode:pt, area:b --> c, time:10:30:00 --> 11:00:00, duration:0:30:00)\n",
      "4:\tActivity(3 act:work, location:c, time:11:00:00 --> 16:00:00, duration:5:00:00)\n",
      "5:\tLeg(3 mode:pt, area:c --> a, time:16:00:00 --> 16:20:00, duration:0:20:00)\n",
      "6:\tActivity(4 act:home, location:a, time:16:20:00 --> 17:20:00, duration:1:00:00)\n",
      "7:\tLeg(4 mode:pt, area:c --> a, time:17:20:00 --> 17:50:00, duration:0:30:00)\n",
      "8:\tActivity(5 act:shop, location:a, time:17:50:00 --> 18:30:00, duration:0:40:00)\n",
      "9:\tLeg(5 mode:pt, area:c --> a, time:18:30:00 --> 18:50:00, duration:0:20:00)\n",
      "10:\tActivity(6 act:home, location:a, time:18:50:00 --> 00:00:00, duration:5:10:00)\n"
     ]
    }
   ],
   "source": [
    "edu_pop.households['Jones'].people['Bridget'].plan.print()"
   ]
  },
  {
   "cell_type": "markdown",
   "metadata": {},
   "source": [
    "### PersonAttributeFilter\n",
    "You can also use the `modify.PersonAttributeFilter` to only affect people with certain attributes."
   ]
  },
  {
   "cell_type": "code",
   "execution_count": 51,
   "metadata": {},
   "outputs": [],
   "source": [
    "def condition_job_education(val):\n",
    "    return val == 'education'\n",
    "\n",
    "policy_remove_education_and_escort = \\\n",
    "    HouseholdPolicy(\n",
    "        RemoveActivity(['education', 'escort']), \n",
    "        PersonProbability(\n",
    "             discrete_joint_distribution_sampler, \n",
    "             dict(mapping=key_mapping, distribution=key_distribution)),\n",
    "        PersonAttributeFilter({'job': condition_job_education})\n",
    ")"
   ]
  },
  {
   "cell_type": "code",
   "execution_count": 52,
   "metadata": {},
   "outputs": [
    {
     "data": {
      "image/png": "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\n",
      "text/plain": [
       "<Figure size 1152x108 with 1 Axes>"
      ]
     },
     "metadata": {
      "needs_background": "light"
     },
     "output_type": "display_data"
    }
   ],
   "source": [
    "plot_activities(apply_policies(population, [policy_remove_education_and_escort]).households['Smith'].people['Bobby'])"
   ]
  },
  {
   "cell_type": "code",
   "execution_count": 53,
   "metadata": {},
   "outputs": [],
   "source": [
    "policy_remove_education_and_escort = \\\n",
    "    HouseholdPolicy(\n",
    "        RemoveActivity(['education', 'escort']), \n",
    "        [ActivityProbability(['education'], 0.9999),\n",
    "         PersonProbability(\n",
    "             discrete_joint_distribution_sampler, \n",
    "             dict(mapping=edu_mapping, distribution=edu_distribution)),\n",
    "         PersonProbability(\n",
    "             discrete_joint_distribution_sampler, \n",
    "             dict(mapping=key_mapping, distribution=key_distribution))])"
   ]
  },
  {
   "cell_type": "code",
   "execution_count": 54,
   "metadata": {},
   "outputs": [
    {
     "data": {
      "image/png": "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\n",
      "text/plain": [
       "<Figure size 1152x108 with 1 Axes>"
      ]
     },
     "metadata": {
      "needs_background": "light"
     },
     "output_type": "display_data"
    }
   ],
   "source": [
    "plot_activities(apply_policies(population, [policy_remove_education_and_escort]).households['Smith'].people['Bobby'])"
   ]
  },
  {
   "cell_type": "markdown",
   "metadata": {},
   "source": [
    "## Remove Leisure Activities\n",
    "\n",
    "Remove all leisure activities"
   ]
  },
  {
   "cell_type": "code",
   "execution_count": 55,
   "metadata": {},
   "outputs": [],
   "source": [
    "policy_remove_leisure = \\\n",
    "    PersonPolicy(\n",
    "        RemoveActivity(['leisure']), \n",
    "        PersonProbability(1.))"
   ]
  },
  {
   "cell_type": "code",
   "execution_count": 56,
   "metadata": {},
   "outputs": [
    {
     "name": "stdout",
     "output_type": "stream",
     "text": [
      "Population total time at home: 61.00 hours\n",
      "Population total travel time: 7.83 hours\n"
     ]
    }
   ],
   "source": [
    "lei_pop = apply_policies(population, [policy_remove_leisure])\n",
    "print_simple_stats(lei_pop)"
   ]
  },
  {
   "cell_type": "code",
   "execution_count": 57,
   "metadata": {},
   "outputs": [
    {
     "data": {
      "image/png": "iVBORw0KGgoAAAANSUhEUgAAA5UAAABwCAYAAACOyVR/AAAABHNCSVQICAgIfAhkiAAAAAlwSFlzAAALEgAACxIB0t1+/AAAADh0RVh0U29mdHdhcmUAbWF0cGxvdGxpYiB2ZXJzaW9uMy4yLjEsIGh0dHA6Ly9tYXRwbG90bGliLm9yZy+j8jraAAAT/ElEQVR4nO3deXhddZ3H8fc3TdM2KU1bWkpXAlJWWRuwCAUEUbEdkG0eBlwYREYFZFVwXAZGnQcQlHEeR1FxxgUEEVBAR0EUBKFIWlpoadmk0I1C2ZMuaZPf/HFP27RNys0hzbnQ9+t58txzt3M/9+T2m9/3nN89jZQSkiRJkiTlUVV0AEmSJEnS25dNpSRJkiQpN5tKSZIkSVJuNpWSJEmSpNxsKiVJkiRJuVV358HDhg1LDQ0NmymKJEmSJKlI06ZNW5pSGt6d53SrqWxoaKCpqal7qSRJkiRJbwsR8Wx3n+P0V0mSJElSbjaVkiRJkqTcujX99dGFr9Fw0W83VxZJekvm9T+px9Y15/pRPbYuaUuw64mLuvX4PbYf12Ov/egzz/XIehpWXNcj6+lJeerad5+/pUde+4xtj+n09ivnTOqR9edx/g23w8X13XpOJf5epXcaj1RKkiRJknKzqZQkSZIk5WZTKUmSJEnKzaZSkiRJkpSbTaUkSZIkKTebSkmSJElSbjaVkiRJkqTcbColSZIkSbnZVEqSJEmScrOplCRJkiTlZlMpSZIkScrNplKSJEmSlJtNpSRJkiQpN5tKSZIkSVJuNpWSJEmSpNxsKiVJkiRJudlUSpIkSZJys6mUJEmSJOVmUylJkiRJys2mUpIkSZKUm02lJEmSJCk3m0pJkiRJUm42lZIkSZKk3GwqJUmSJEm52VRKkiRJknKzqZQkSZIk5WZTKUl6R6o/5iPsOncOu86dQ9/Ro4qOI0nSO5ZNpcpy/ekTmXfpZO678H3r3T5xh6HMu3Qy8y6dzPETxhSUTlKlGnrqqew6dw67zJ5F1VZbrb199FXfXtvwVW8zfO3tI//jG+w6dw473nVXEXElSZ1wHKg3Y1MpSdpsljU1ARB9+lDbOGHt7bUTOiw37rdueb/91ntebn37vrXnS5KkslUXHUDvPKPq+3P+B3fm4PHDGFxbw0vNrfxp7gtcecfjvNTSCsAVJ+zJ8RPGsuCVZVzxhye44IM7Mbi2hlumL+Trv32Mzx0+npPfM46Vq9u59sFn+c5dT61df11NH849Yic+uPu2jBjUn1eXtXLnY0u47PdzeX3F6qLetqROrJg9m/aWFqrq6qhtbKT5z3dT09BA9fDhrF66lOphwxgwYQKv/+53VI8YQc3YsUDWVFZVMfQTH2fwscfRd7txpNZWVsyaxdLvX82yqVMBqN1/P7b76U8BWPyVrzJoymQG7L03L1z5LdrfeH2jPNtccAFbn/ZJ2leuZOHZ59B89929ti0kaUvgOHDL5JFK9ait62q4+bMHcty+YxjUvy/PLG1haF0NJ71nHDd++gBqa/qs9/jhW/XjG8e8m9VtiYH9qvnYAdtx21kH8bEDtqOltY0Rg/pz3hE7c9COwwDo2ye4/vQDOG3SDmwzqB9Pv9hMXb9qTp64HdeeNpHqqijibUvqSlsby2bMBKC2sXG9y5d/fi2ptZXa/bLbs0soNZUjL7mEERdeSL/xO7J68WLSqlXUTZzIuGt+RN2kSRu91IivfJl+48ezav58SO0b3T/szDNKDeWKFSw48ywbSknqYY4Dt1weqVS3jBlSy7xLJ3d5/8cP2I5t6/vT3p444eoHeGTBaxyy03B+cur+7DB8ICc0juUn989b+/h+1X046Yf3M/25V7jvwsMYPXgADVvXcdiVd/NySyvTv3IE/fv24cAdt+a+p5byD3uNYo8x9axqa2fKd+7jyReaGT14APd8/lD2GFPP5D1H8psZi3phS0gq1/KmJgYe+F7677YbUVvLgKypbLnvPgYecjAD9tqLqvr6tc3m6qVLSatXU3/csQC8fO21LPna16mqq6Xhppvo19DA8HPOpuXee9d/nYcfZv6nTie1tkJVFfVHH7X2vqGnnsrQk0+mfflyFpx5Ji1/vb+X3r0kvXM4DlRXbCrVLStXt/HYonVTygb2q2b8iHUn39hzzGAA5r3UwiMLXgPgnide5NVlrQyurWHP0fXrre/VZa1Me/YVABa9upzRgwfwxJI3WPDKcgCWNq9kzJBahg3sB8DeY0vr79unijvPO2SjfPuMG2IxkSrM2u9V9u1L7T57U9s4gbaWFlY89hjLHmqidp99qN1333Xfp5w+nf67705UlSbTvH777QC0tyyj+e676XfKKfTfZReoWn+yzas3/LLUUAK0r3+kcujJJwOw6MILbSglKSfHgeqKTaW65cU3VnLMf68bkE3cYSjXn35A7vU1r1w3972tPW102xqxwWyG1tXtzF702kaPW9q8MncWSZvH8pkzaV+5kqp+/Rg0ZQo1Y8bQfN990N5eajhP/xRbffAD9HvXuwBY9lC+k/Ssfmlpl/e1tbTQp66OoaecQvNf7iWtWJHrNSRpS+Y4UF2xqVSPemTBq7xvl21o2LqOPcfUr532MLi2pnT/wo0LQPfWX3p+dVXw77c9xsPzXwWgT1UwacdhPPVi81t7A5J6XGptZcWjj1Lb2Ej9lCnAusZx+bRppLY26ievm061rKmJ9uZmUns7UVXFoMmTWf7wDKrqahl46KEArJg7d6OjkaTUZYZFX7iQUZddSu2++zLmv77D/M+eAatW9ewblaQtnOPALZdNpXrUTx94lhP3H8eIQf258V8OYN5Ly9h+WB0Azyxt4cam+W9p/bfOWMQ/H9jA7qPquekz7+WpF5upimDU4P7U1lRz4g8eWDtlQlLlWNbURG1jI5H9Vx9rpsS2t7Swcu7j9N99NwDa3niDlXPnQkq8dtPNDD7heIZ+9KMMnDSJqkGDqB4yhNTWxotX/We3Xn/l3DksOPMsxv7gagZOmsToyy9j4Xnnb7IRlSR1j+PALZdnf1WPeqmllWO++1dumr6A11esYofhdbzc0sov/vYcx3/vfpa1tr2l9be2tXPi1VP54b1/Z8Ery2nYuo6hdTU8saSZ79z1JI8//0YPvRNJPanj/zvZvmIFKx55ZO31loceWru8fPrDaxu9xf/2byy5/HJWPvkU1SNHEjU1tEydynOfPG2jk/SUlWHqVBZf9EVSezuDjjySbS+55C28I0nShhwHbrkidWMvbb+R49PIT1y1GeNIUn7z+p/UY+uac/2oHluXtCXY9cTunRxjj+3H9dhrP/rMcz2ynoYV1/XIenpSnrr23edv6ZHXPmPbYzq9/co5G/+XPr3l/Btuh4vr3/yBHVTi71WqZM9eNmVaSqnxzR+5jkcqJUmSJEm52VRKkiRJknKzqZQkSZIk5WZTKUmSJEnKzaZSkiRJkpSbTaUkSZIkKTebSkmSJElSbjaVkiRJkqTcbColSZIkSbnZVEqSJEmScrOplCRJkiTlZlMpSZIkScrNplKSJEmSlJtNpSRJkiQpN5tKSZIkSVJuNpWSJEmSpNxsKiVJkiRJudlUSpIkSZJys6mUJEmSJOVmUylJkiRJys2mUpIkSZKUm02lJEmSJCk3m0pJkiRJUm42lZIkSZKk3GwqJUmSJEm52VRKkiRJknKzqZQkSZIk5WZTKUmSJEnKzaZSkiRJkpSbTaUkSZIkKTebSkmSJElSbjaVkiRJkqTcbColSZIkSbnZVEqSJEmScrOplCRJkiTlFimlsh/c2NiYmpqaNmMcSZIkSVJRImJaSqmxO8/xSKUkSZIkKTebSkmSJElSbjaVkiRJkqTcuvWdyoh4A3h888XJZRiwtOgQGzBT+Soxl5nKY6byVWIuM5XHTOWrxFxmKo+ZyleJucxUHjOVb+eU0lbdeUJ1N1/g8e5+aXNzi4gmM725SswElZnLTOUxU/kqMZeZymOm8lViLjOVx0zlq8RcZiqPmcoXEd0+M6vTXyVJkiRJudlUSpIkSZJy625T+YPNkuKtMVN5KjETVGYuM5XHTOWrxFxmKo+ZyleJucxUHjOVrxJzmak8Zipft3N160Q9kiRJkiR15PRXSZIkSVJuNpWSJEmSpNzKaioj4kMR8XhEPBURF23uUOWIiB9HxAsRMavoLGtExNiI+HNEPBYRsyPi7ArI1D8i/hYRM7NMlxSdaY2I6BMRD0fE7UVnAYiIeRHxaETMyHMq5c0hIgZHxK8iYm5EzImIAyog087ZNlrz83pEnFMBuc7NPuOzIuIXEdG/AjKdneWZXeQ26qxeRsTQiLgzIp7MLodUQKYTsm3VHhG9for1LjJ9M/v390hE3BIRgysg09eyPDMi4o6IGFV0pg73nR8RKSKGFZ0pIi6OiIUdatWHezNTV7my28/KPlezI+LyojNFxA0dttO8iJhRAZn2joipa/4mR8T+FZBpr4h4IBsr3BYRg3o5U6fjzCLr+SYyFVbPN5Gp6HreVa7CanpXmTrcX35NTylt8gfoAzwN7ADUADOB3d7seZv7BzgY2BeYVXSWDplGAvtmy1sBTxS9rYAABmbLfYEHgYlFb6ssz3nAdcDtRWfJ8swDhhWdY4NMPwFOy5ZrgMFFZ9ogXx/geWC7gnOMBp4BBmTXfwmcUnCmdwOzgFpK/yfwH4EdC8qyUb0ELgcuypYvAi6rgEy7AjsDdwONFbKdPgBUZ8uXVch2GtRh+XPA94vOlN0+FvgD8Gxv19IuttPFwAW9/TkqI9f7snrQL7u+TdGZNrj/SuCrRWcC7gCOzJY/DNxdAZkeAg7Jlk8FvtbLmTodZxZZzzeRqbB6volMRdfzrnIVVtO7ypRd71ZNL+dI5f7AUymlv6eUWoHrgaPLeN5mlVL6C/By0Tk6SiktTilNz5bfAOZQGuwWmSmllJqzq32zn8LPzhQRY4DJwI+KzlKpIqKe0h+1awBSSq0ppVeLTbWRw4GnU0rPFh2EUuM2ICKqKTVyiwrOsyvwYEppWUppNXAPcGwRQbqol0dT2mlBdvmRojOllOaklB7vzRwbvH5nme7Ifn8AU4ExFZDp9Q5X6+jlmr6Jv7/fBr7Q23mgMscE0GWuzwCXppRWZo95oQIyARARAfwj8IsKyJSANUcC6+nlmt5Fpp2Av2TLdwLH9XKmrsaZhdXzrjIVWc83kanoet5VrsJq+pv0Lt2q6eU0laOB+R2uL6DgRuntICIagH0oHRksVJSmmc4AXgDuTCkVngm4itIHtb3oIB0k4I6ImBYRpxcdBtgeeBH4nyhNE/5RRNQVHWoDJ9LLg4/OpJQWAlcAzwGLgddSSncUm4pZwKSI2DoiaintaR9bcKaORqSUFmfLzwMjigzzNnEq8H9FhwCIiG9ExHzgZOCrFZDnaGBhSmlm0Vk2cGY2rezHvTkl8E3sRKk2PBgR90TEfkUH6mASsCSl9GTRQYBzgG9mn/MrgC8WnAdgNusOrJxAgTV9g3FmRdTzShr7rrGJTIXW8w1zVUJN75gpT033RD2bQUQMBG4Cztlg70MhUkptKaW9Ke2R2T8i3l1knoiYAryQUppWZI5OHJRS2hc4EjgjIg4uOE81pak330sp7QO0UJrWUhEiogY4CrixArIMofSHfntgFFAXER8tMlNKaQ6l6TV3AL8HZgBtRWbqSirNcyl8BkMli4gvAauBa4vOApBS+lJKaSylPGcWmSXbafKvVEBzu4HvAe8C9qa0s+nKYuOsVQ0MBSYCnwd+mR0hrAT/RAXsKMx8Bjg3+5yfSzZrp2CnAp+NiGmUpgq2FhFiU+PMoup5pY19oetMRdfzznIVXdM7ZqK0bbpd08tpKhey/p6YMdlt6kRE9KX0S7k2pXRz0Xk6yqZO/hn4UMFRDgSOioh5lKZTHxYRPy820tqjXWumIt1Caep3kRYACzocWf4VpSazUhwJTE8pLSk6CPB+4JmU0osppVXAzcB7C85ESumalNKElNLBwCuUvqtQKZZExEiA7LJXp+C9nUTEKcAU4ORswFZJrqWXp+B14l2UdujMzOr6GGB6RGxbZKiU0pJsp2o78EOKr+lrLABuzr6e8jdKM3Z69cRGncm+OnAscEPRWTKfoFTLobTzsvDfX0ppbkrpAymlCZSa76d7O0MX48xC63kljn27ylR0PS9jW/V6Te8kU66aXk5T+RAwPiK2z45MnAjc+lbCv1NlexqvAeaklL5VdB6AiBi+5uxWETEAOAKYW2SmlNIXU0pjUkoNlD5Pf0opFXpUKSLqImKrNcuUvsxd6JmFU0rPA/MjYufspsOBxwqMtKFK2qP9HDAxImqzf4eHU/peQKEiYpvschylwdp1xSZaz62UBm1kl78pMEvFiogPUZqqf1RKaVnReQAiYnyHq0dTfE1/NKW0TUqpIavrCyid+OH5InOtGWRnjqHgmt7BrymdrIeI2InSSdiWFpqo5P3A3JTSgqKDZBYBh2TLhwGFT8ntUNOrgC8D3+/l1+9qnFlYPa/QsW+nmYqu55vIVVhN7yxT7pqeyjsz0Icp7WF/GvhSOc/Z3D+UBrOLgVXZm/1kBWQ6iNKUg0coTXWbAXy44Ex7Ag9nmWbRy2d0KyPfoVTA2V8pnd14ZvYzu4I+53sDTdnv79fAkKIzZbnqgJeA+qKzdMh0CaVCPAv4GdmZFQvOdC+lHQEzgcMLzLFRvQS2Bu6iNFD7IzC0AjIdky2vBJYAf6iATE9ROq/Ampre22da7SzTTdnn/BHgNkoneig00wb3z6P3z/7a2Xb6GfBotp1uBUb2ZqZN5KoBfp79DqcDhxWdKbv9f4FP9/Y22sR2OgiYltXPB4EJFZDpbErj4SeAS4Ho5UydjjOLrOebyFRYPd9EpqLreVe5CqvpXWXa4DFl1fTIHixJkiRJUrd5oh5JkiRJUm42lZIkSZKk3GwqJUmSJEm52VRKkiRJknKzqZQkSZIk5WZTKUmSJEnKzaZSkiRJkpTb/wOKTo1fCY5WIwAAAABJRU5ErkJggg==\n",
      "text/plain": [
       "<Figure size 1152x108 with 1 Axes>"
      ]
     },
     "metadata": {
      "needs_background": "light"
     },
     "output_type": "display_data"
    }
   ],
   "source": [
    "plot_activities(lei_pop.households['Smith'].people['Betty'])"
   ]
  },
  {
   "cell_type": "markdown",
   "metadata": {},
   "source": [
    "## Unemployment/Furlough\n",
    "\n",
    "Probabilistically remove all work activities from a person"
   ]
  },
  {
   "cell_type": "code",
   "execution_count": 58,
   "metadata": {},
   "outputs": [],
   "source": [
    "key_mapping = ['key_worker']\n",
    "key_distribution = {True: 0, False: 1}"
   ]
  },
  {
   "cell_type": "code",
   "execution_count": 59,
   "metadata": {},
   "outputs": [],
   "source": [
    "policy_unemployment_and_furlough = \\\n",
    "    PersonPolicy(\n",
    "        RemoveActivity(['work']), \n",
    "        [PersonProbability(\n",
    "             discrete_joint_distribution_sampler, \n",
    "             dict(mapping=key_mapping, distribution=key_distribution)),\n",
    "         PersonProbability(0.1)])"
   ]
  },
  {
   "cell_type": "code",
   "execution_count": 60,
   "metadata": {},
   "outputs": [
    {
     "name": "stdout",
     "output_type": "stream",
     "text": [
      "Population total time at home: 59.33 hours\n",
      "Population total travel time: 8.17 hours\n"
     ]
    }
   ],
   "source": [
    "fur_pop = apply_policies(population, [policy_unemployment_and_furlough])\n",
    "print_simple_stats(fur_pop)"
   ]
  },
  {
   "cell_type": "code",
   "execution_count": 61,
   "metadata": {},
   "outputs": [
    {
     "data": {
      "image/png": "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\n",
      "text/plain": [
       "<Figure size 1152x108 with 1 Axes>"
      ]
     },
     "metadata": {
      "needs_background": "light"
     },
     "output_type": "display_data"
    }
   ],
   "source": [
    "plot_activities(fur_pop.households['Smith'].people['Betty'])"
   ]
  },
  {
   "cell_type": "code",
   "execution_count": 62,
   "metadata": {},
   "outputs": [
    {
     "data": {
      "image/png": "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\n",
      "text/plain": [
       "<Figure size 1152x108 with 1 Axes>"
      ]
     },
     "metadata": {
      "needs_background": "light"
     },
     "output_type": "display_data"
    }
   ],
   "source": [
    "plot_activities(fur_pop.households['Jones'].people['Bridget'])"
   ]
  },
  {
   "cell_type": "markdown",
   "metadata": {},
   "source": [
    "# Remove Shopping \n",
    "\n",
    "Probabilistically remove **individual** shopping activities from a person"
   ]
  },
  {
   "cell_type": "code",
   "execution_count": 63,
   "metadata": {},
   "outputs": [],
   "source": [
    "policy_remove_shopping = \\\n",
    "    PersonPolicy(\n",
    "        RemoveActivity(['shop']),\n",
    "        ActivityProbability(['shop'], 1.))"
   ]
  },
  {
   "cell_type": "code",
   "execution_count": 64,
   "metadata": {},
   "outputs": [
    {
     "name": "stdout",
     "output_type": "stream",
     "text": [
      "Population total time at home: 60.83 hours\n",
      "Population total travel time: 7.33 hours\n"
     ]
    }
   ],
   "source": [
    "shop_pop = apply_policies(population, [policy_remove_shopping])\n",
    "print_simple_stats(shop_pop)"
   ]
  },
  {
   "cell_type": "code",
   "execution_count": 65,
   "metadata": {},
   "outputs": [
    {
     "data": {
      "image/png": "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\n",
      "text/plain": [
       "<Figure size 1152x108 with 1 Axes>"
      ]
     },
     "metadata": {
      "needs_background": "light"
     },
     "output_type": "display_data"
    }
   ],
   "source": [
    "plot_activities(shop_pop.households['Jones'].people['Bridget'])"
   ]
  },
  {
   "cell_type": "code",
   "execution_count": 59,
   "metadata": {},
   "outputs": [],
   "source": [
    "policy_remove_shopping_tours = \\\n",
    "    PersonPolicy(\n",
    "        MoveActivityTourToHomeLocation(['shop_1', 'shop_2']),\n",
    "        [ActivityProbability(['shop_1', 'shop_2'], 1.)]\n",
    ")"
   ]
  },
  {
   "cell_type": "code",
   "execution_count": 60,
   "metadata": {},
   "outputs": [
    {
     "name": "stdout",
     "output_type": "stream",
     "text": [
      "Population total time at home: 59.33 hours\n",
      "Population total travel time: 8.17 hours\n"
     ]
    }
   ],
   "source": [
    "shop_tour_pop = apply_policies(population, [policy_remove_shopping_tours])\n",
    "print_simple_stats(shop_tour_pop)"
   ]
  },
  {
   "cell_type": "code",
   "execution_count": 61,
   "metadata": {},
   "outputs": [
    {
     "name": "stdout",
     "output_type": "stream",
     "text": [
      "Person: Betty\n",
      "0:\tActivity(1 act:home, location:a, time:00:00:00 --> 08:00:00, duration:8:00:00)\n",
      "1:\tLeg(1 mode:walk, area:a --> b, time:08:00:00 --> 08:05:00, duration:0:05:00)\n",
      "2:\tActivity(2 act:escort, location:b, time:08:05:00 --> 08:00:00, duration:-1 day, 23:55:00)\n",
      "3:\tLeg(2 mode:pt, area:a --> b, time:08:00:00 --> 08:30:00, duration:0:30:00)\n",
      "4:\tActivity(3 act:work, location:b, time:08:30:00 --> 14:00:00, duration:5:30:00)\n",
      "5:\tLeg(3 mode:pt, area:b --> c, time:14:00:00 --> 14:20:00, duration:0:20:00)\n",
      "6:\tActivity(4 act:leisure, location:c, time:14:20:00 --> 15:40:00, duration:1:20:00)\n",
      "7:\tLeg(4 mode:pt, area:c --> b, time:15:40:00 --> 16:00:00, duration:0:20:00)\n",
      "8:\tActivity(5 act:escort, location:b, time:16:00:00 --> 16:30:00, duration:0:30:00)\n",
      "9:\tLeg(5 mode:walk, area:a --> b, time:16:30:00 --> 17:00:00, duration:0:30:00)\n",
      "10:\tActivity(6 act:home, location:a, time:17:00:00 --> 18:00:00, duration:1:00:00)\n",
      "11:\tLeg(6 mode:car, area:a --> a, time:18:00:00 --> 18:20:00, duration:0:20:00)\n",
      "12:\tActivity(7 act:shop_1, location:a, time:18:20:00 --> 18:50:00, duration:0:30:00)\n",
      "13:\tLeg(7 mode:walk, area:a --> a, time:18:50:00 --> 19:00:00, duration:0:10:00)\n",
      "14:\tActivity(8 act:shop_2, location:a, time:19:00:00 --> 19:50:00, duration:0:50:00)\n",
      "15:\tLeg(8 mode:car, area:a --> a, time:19:50:00 --> 20:10:00, duration:0:20:00)\n",
      "16:\tActivity(9 act:home, location:a, time:20:10:00 --> 00:00:00, duration:3:50:00)\n"
     ]
    }
   ],
   "source": [
    "shop_tour_pop.households['Smith'].people['Betty'].print()"
   ]
  },
  {
   "cell_type": "code",
   "execution_count": 62,
   "metadata": {},
   "outputs": [
    {
     "name": "stdout",
     "output_type": "stream",
     "text": [
      "Person: Bobby\n",
      "0:\tActivity(1 act:home, location:a, time:00:00:00 --> 08:00:00, duration:8:00:00)\n",
      "1:\tLeg(1 mode:walk, area:a --> b, time:08:00:00 --> 08:30:00, duration:0:30:00)\n",
      "2:\tActivity(2 act:education, location:b, time:08:30:00 --> 16:00:00, duration:7:30:00)\n",
      "3:\tLeg(2 mode:walk, area:b --> c, time:16:00:00 --> 16:30:00, duration:0:30:00)\n",
      "4:\tActivity(3 act:home, location:a, time:16:30:00 --> 18:00:00, duration:1:30:00)\n",
      "5:\tLeg(3 mode:car, area:a --> a, time:18:00:00 --> 18:20:00, duration:0:20:00)\n",
      "6:\tActivity(4 act:shop_1, location:a, time:18:20:00 --> 18:50:00, duration:0:30:00)\n",
      "7:\tLeg(4 mode:walk, area:a --> a, time:18:50:00 --> 19:00:00, duration:0:10:00)\n",
      "8:\tActivity(5 act:shop_2, location:a, time:19:00:00 --> 19:50:00, duration:0:50:00)\n",
      "9:\tLeg(5 mode:car, area:a --> a, time:19:50:00 --> 20:10:00, duration:0:20:00)\n",
      "10:\tActivity(6 act:home, location:a, time:20:10:00 --> 00:00:00, duration:3:50:00)\n"
     ]
    }
   ],
   "source": [
    "shop_tour_pop.households['Smith'].people['Bobby'].print()"
   ]
  },
  {
   "cell_type": "code",
   "execution_count": 63,
   "metadata": {},
   "outputs": [],
   "source": [
    "# above is equivalent to\n",
    "policy_remove_shopping_tours = \\\n",
    "    PersonPolicy(\n",
    "        MoveActivityTourToHomeLocation(['shop_1', 'shop_2']),\n",
    "        [ActivityProbability(['shop_1'], 1.), ActivityProbability(['shop_2'], 1.)]\n",
    ")"
   ]
  },
  {
   "cell_type": "code",
   "execution_count": 64,
   "metadata": {},
   "outputs": [
    {
     "name": "stdout",
     "output_type": "stream",
     "text": [
      "Population total time at home: 59.33 hours\n",
      "Population total travel time: 8.17 hours\n"
     ]
    }
   ],
   "source": [
    "shop_tour_pop = apply_policies(population, [policy_remove_shopping_tours])\n",
    "print_simple_stats(shop_tour_pop)"
   ]
  },
  {
   "cell_type": "code",
   "execution_count": 65,
   "metadata": {},
   "outputs": [
    {
     "name": "stdout",
     "output_type": "stream",
     "text": [
      "Person: Bobby\n",
      "0:\tActivity(1 act:home, location:a, time:00:00:00 --> 08:00:00, duration:8:00:00)\n",
      "1:\tLeg(1 mode:walk, area:a --> b, time:08:00:00 --> 08:30:00, duration:0:30:00)\n",
      "2:\tActivity(2 act:education, location:b, time:08:30:00 --> 16:00:00, duration:7:30:00)\n",
      "3:\tLeg(2 mode:walk, area:b --> c, time:16:00:00 --> 16:30:00, duration:0:30:00)\n",
      "4:\tActivity(3 act:home, location:a, time:16:30:00 --> 18:00:00, duration:1:30:00)\n",
      "5:\tLeg(3 mode:car, area:a --> a, time:18:00:00 --> 18:20:00, duration:0:20:00)\n",
      "6:\tActivity(4 act:shop_1, location:a, time:18:20:00 --> 18:50:00, duration:0:30:00)\n",
      "7:\tLeg(4 mode:walk, area:a --> a, time:18:50:00 --> 19:00:00, duration:0:10:00)\n",
      "8:\tActivity(5 act:shop_2, location:a, time:19:00:00 --> 19:50:00, duration:0:50:00)\n",
      "9:\tLeg(5 mode:car, area:a --> a, time:19:50:00 --> 20:10:00, duration:0:20:00)\n",
      "10:\tActivity(6 act:home, location:a, time:20:10:00 --> 00:00:00, duration:3:50:00)\n"
     ]
    }
   ],
   "source": [
    "shop_tour_pop.households['Smith'].people['Bobby'].print()"
   ]
  },
  {
   "cell_type": "markdown",
   "metadata": {},
   "source": [
    "# All together now!"
   ]
  },
  {
   "cell_type": "code",
   "execution_count": 66,
   "metadata": {},
   "outputs": [
    {
     "name": "stdout",
     "output_type": "stream",
     "text": [
      "Population total time at home: 43.67 hours\n",
      "Population total travel time: 1.67 hours\n"
     ]
    }
   ],
   "source": [
    "all_together_pop = apply_policies(\n",
    "    population, \n",
    "    [policy_quarantine, \n",
    "     policy_remove_education_and_escort, \n",
    "     policy_remove_leisure, \n",
    "     policy_unemployment_and_furlough, \n",
    "     policy_remove_shopping])\n",
    "\n",
    "print_simple_stats(all_together_pop)"
   ]
  },
  {
   "cell_type": "code",
   "execution_count": null,
   "metadata": {},
   "outputs": [],
   "source": []
  },
  {
   "cell_type": "code",
   "execution_count": null,
   "metadata": {},
   "outputs": [],
   "source": []
  },
  {
   "cell_type": "code",
   "execution_count": null,
   "metadata": {},
   "outputs": [],
   "source": []
  },
  {
   "cell_type": "code",
   "execution_count": null,
   "metadata": {},
   "outputs": [],
   "source": []
  }
 ],
 "metadata": {
  "kernelspec": {
   "display_name": "Python (pam)",
   "language": "python",
   "name": "pam"
  },
  "language_info": {
   "codemirror_mode": {
    "name": "ipython",
    "version": 3
   },
   "file_extension": ".py",
   "mimetype": "text/x-python",
   "name": "python",
   "nbconvert_exporter": "python",
   "pygments_lexer": "ipython3",
   "version": "3.7.5"
  }
 },
 "nbformat": 4,
 "nbformat_minor": 4
}
