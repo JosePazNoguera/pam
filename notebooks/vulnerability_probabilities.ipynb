{
 "cells": [
  {
   "cell_type": "markdown",
   "metadata": {},
   "source": [
    "# Vulnerable groups probability distribution"
   ]
  },
  {
   "cell_type": "markdown",
   "metadata": {},
   "source": [
    "The aim of this notebook is to estimate the probability of belonging in a vulnerable group, broken down by age and gender. \n",
    "\n",
    "Our exercise does not intend on having any meaningful medical interpretation, but rather serves the purpose of deriving potential mobility constrains based on the perception of vulnerability for different demographic groups.\n",
    "\n",
    "\n",
    "Using Bayes' theorem, we define this probability as:"
   ]
  },
  {
   "cell_type": "markdown",
   "metadata": {},
   "source": [
    "$$ P(at\\_risk\\mid pop\\_group) = \\frac{P(pop\\_group\\mid deaths) P(deaths)}{P(pop\\_group)} * norm\\_factor $$, where\n",
    "\n",
    "$P(at\\_risk\\mid pop\\_group) $ : the probability of a person being vulnerable, given their demographic group\n",
    "\n",
    "$P(pop\\_group\\mid deaths) $ : the breakdown of covid-related deaths by demographic group\n",
    "\n",
    "$P(deaths)$ : the pandemic mortality rate\n",
    "\n",
    "$P(pop\\_group)$ : the percentage of people belonging to a demographic group\n",
    "\n",
    "$norm\\_factor $ : a scaling factor that adjusts the risk probability so that all people over 70 are considered valnuarable. "
   ]
  },
  {
   "cell_type": "markdown",
   "metadata": {},
   "source": [
    "To calculate the left side of the equation, two ONS datasets are used as input:\n",
    "* <a href=\"https://www.ons.gov.uk/peoplepopulationandcommunity/birthsdeathsandmarriages/deaths/datasets/weeklyprovisionalfiguresondeathsregisteredinenglandandwales\">Deaths registered weekly in England and Wales, provisional</a>\n",
    "* <a href=\"https://www.ons.gov.uk/peoplepopulationandcommunity/populationandmigration/populationestimates/datasets/populationestimatesforukenglandandwalesscotlandandnorthernireland\">Estimates of the population for the UK, England and Wales, Scotland and Northern Ireland</a>\n",
    "\n",
    "<i>Last visited: 29/04/2020</i>\n",
    "\n"
   ]
  },
  {
   "cell_type": "markdown",
   "metadata": {},
   "source": [
    "\n",
    "The 100% vulnerability assumption for groups over 70 years old is based on <a href=\"https://www.gov.uk/government/publications/covid-19-guidance-on-social-distancing-and-for-vulnerable-people/guidance-on-social-distancing-for-everyone-in-the-uk-and-protecting-older-people-and-vulnerable-adults\">government advice</a>, which considers all people of that age to be at increased risk regardless of medical conditions."
   ]
  },
  {
   "cell_type": "code",
   "execution_count": 4,
   "metadata": {
    "ExecuteTime": {
     "end_time": "2020-04-29T21:10:29.818264Z",
     "start_time": "2020-04-29T21:10:29.077856Z"
    }
   },
   "outputs": [],
   "source": [
    "#import dependencies\n",
    "import pandas as pd\n",
    "import requests\n",
    "import matplotlib.pyplot as plt"
   ]
  },
  {
   "cell_type": "code",
   "execution_count": 5,
   "metadata": {
    "ExecuteTime": {
     "end_time": "2020-04-29T21:10:29.823947Z",
     "start_time": "2020-04-29T21:10:29.819923Z"
    }
   },
   "outputs": [],
   "source": [
    "# set filepaths for the source datasets\n",
    "filepath_pandemic_stats = r'../example_data/stats/publishedweek1620201.xlsx'\n",
    "filepath_population = r'../example_data/stats/ukmidyearestimates20182019ladcodes.xls'"
   ]
  },
  {
   "cell_type": "code",
   "execution_count": 6,
   "metadata": {
    "ExecuteTime": {
     "end_time": "2020-04-29T21:10:29.842862Z",
     "start_time": "2020-04-29T21:10:29.826904Z"
    }
   },
   "outputs": [],
   "source": [
    "# read and transform the pandemic deaths dataset \n",
    "def read_pandemic_stats(filepath_pandemic_stats):\n",
    "    \"\"\"\n",
    "    Reads and transforms pandemic deaths from the ONS \"Deaths registered weekly in England and Wales, provisional\" dataset\n",
    "    Please note that the spreadsheet format may change in the future, requiring the update of the code.\n",
    "    \n",
    "    :params string filepath_pandemic_stats: Location of the ONS spreadsheet\n",
    "    \n",
    "    :returns: Pandas DataFrame\n",
    "    \"\"\"\n",
    "    #read the dataset\n",
    "    df = pd.read_excel(filepath_pandemic_stats, \n",
    "                       sheet_name='Covid-19 - Weekly occurrences',\n",
    "                       skiprows=5\n",
    "                      )[['Unnamed: 1','Year to date']]\n",
    "    df.columns = ['group','deaths']\n",
    "\n",
    "    #only keep gender and age data\n",
    "    df['gender'] = df['group'].str.extract('(Males|Females|Deaths by region of usual residence)').ffill()\n",
    "    df = df[df.gender.isin(['Males','Females'])].dropna()\n",
    "\n",
    "    #create age bins\n",
    "    df['group'] = df['group'].str.replace('<1','0-0').str.replace('90\\+','90-120')\n",
    "    df[['age_from','age_to']] = df.group.str.split('-',expand=True) # calculate age bands\n",
    "    df['age_from'] = df['age_from'].map(int)\n",
    "    df['age_to'] = df['age_to'].map(int)\n",
    "    df['age_mid'] = (df['age_from'] + df['age_to']) / 2\n",
    "    \n",
    "    return df\n",
    "\n",
    "#read and transform the population dataset\n",
    "def read_pop(filepath_population, age_bins):\n",
    "    \"\"\"\n",
    "    Reads and transforms population data from the ONS \n",
    "        \"Estimates of the population for the UK, England and Wales, Scotland and Northern Ireland\" dataset\n",
    "    Please note that the spreadsheet format may change in the future, requiring the update of the code.\n",
    "    \n",
    "    :params string filepath_pandemic_stats: Location of the ONS spreadsheet\n",
    "    :params lsit age_bins: A list of ages to create the age group bins\n",
    "\n",
    "    :returns: Pandas DataFrame\n",
    "    \"\"\"\n",
    "    \n",
    "    #read the dataset\n",
    "    pop = pd.concat([pd.read_excel(filepath_population,\n",
    "                       sheet_name='MYE2 - '+x,skiprows=3).iloc[:2,4:].T.assign(gender=x) \\\n",
    "                    for x in ['Males','Females']])\n",
    "    pop.columns = ['age','population','gender']\n",
    "\n",
    "    #create age bins\n",
    "    pop['group'] = pd.cut(pop.age,age_bins,right=False)\n",
    "    pop['group'] = pop['group'].apply(lambda x:str(x.left) + '-' + str(x.right-1))\n",
    "\n",
    "    #group by age group\n",
    "    pop = pop.groupby(['gender','group'])[['population']].sum().reset_index()\n",
    "    \n",
    "    return pop\n",
    "\n",
    "def calculate_bayesian_risk(pandemic_stats, population_stats, mortality_forecast = 60000):\n",
    "    \"\"\"\n",
    "    Calculates the conditional probability of a person being at risk, given their demographic group (age and gender)\n",
    "    \n",
    "    :params dataframe pandemic_stats: pandemic mortality statistics, derived with the read_pandemic_stats function\n",
    "    :params dataframe population_stats: population statistics, derived with the read_pop function\n",
    "        \n",
    "    :returns: Pandas DataFrame\n",
    "    \"\"\"\n",
    "    #merge the two datasets\n",
    "    df_prob = pd.merge(pandemic_stats,population_stats,on=['gender','group'])\n",
    "    \n",
    "    #calculate bayesian probability\n",
    "    p_risk = mortality_forecast / df_prob.population.sum()\n",
    "\n",
    "    #probability of being in a demographic group, given mortality\n",
    "    df_prob['p_group_risk'] = df_prob['deaths'] / df_prob['deaths'].sum()\n",
    "\n",
    "    #probability of being in a demographic group\n",
    "    df_prob['p_group'] = df_prob['population'] / df_prob['population'].sum()\n",
    "\n",
    "    #probability of mortality, given a demographic group\n",
    "    df_prob['p_risk_group'] = df_prob['p_group_risk'] / df_prob['p_group'] * p_risk\n",
    "\n",
    "    #scale vulnerability: we assume everyone above 70 to be in the vulnerable category\n",
    "    scale_factor = df_prob[df_prob.age_from>=70].p_risk_group.min()\n",
    "    df_prob['p_vulnerability'] = (df_prob['p_risk_group'] / scale_factor).apply(lambda x: min(x,1))\n",
    "    \n",
    "    return df_prob\n"
   ]
  },
  {
   "cell_type": "code",
   "execution_count": 7,
   "metadata": {
    "ExecuteTime": {
     "end_time": "2020-04-29T21:10:30.622790Z",
     "start_time": "2020-04-29T21:10:29.844857Z"
    }
   },
   "outputs": [
    {
     "data": {
      "text/html": [
       "<div>\n",
       "<style scoped>\n",
       "    .dataframe tbody tr th:only-of-type {\n",
       "        vertical-align: middle;\n",
       "    }\n",
       "\n",
       "    .dataframe tbody tr th {\n",
       "        vertical-align: top;\n",
       "    }\n",
       "\n",
       "    .dataframe thead th {\n",
       "        text-align: right;\n",
       "    }\n",
       "</style>\n",
       "<table border=\"1\" class=\"dataframe\">\n",
       "  <thead>\n",
       "    <tr style=\"text-align: right;\">\n",
       "      <th></th>\n",
       "      <th>group</th>\n",
       "      <th>deaths</th>\n",
       "      <th>gender</th>\n",
       "      <th>age_from</th>\n",
       "      <th>age_to</th>\n",
       "      <th>age_mid</th>\n",
       "      <th>population</th>\n",
       "      <th>p_group_risk</th>\n",
       "      <th>p_group</th>\n",
       "      <th>p_risk_group</th>\n",
       "      <th>p_vulnerability</th>\n",
       "    </tr>\n",
       "  </thead>\n",
       "  <tbody>\n",
       "    <tr>\n",
       "      <th>0</th>\n",
       "      <td>0-0</td>\n",
       "      <td>0.0</td>\n",
       "      <td>Males</td>\n",
       "      <td>0</td>\n",
       "      <td>0</td>\n",
       "      <td>0.0</td>\n",
       "      <td>382332.0</td>\n",
       "      <td>0.000000</td>\n",
       "      <td>0.005755</td>\n",
       "      <td>0.000000</td>\n",
       "      <td>0.00000</td>\n",
       "    </tr>\n",
       "    <tr>\n",
       "      <th>1</th>\n",
       "      <td>1-4</td>\n",
       "      <td>0.0</td>\n",
       "      <td>Males</td>\n",
       "      <td>1</td>\n",
       "      <td>4</td>\n",
       "      <td>2.5</td>\n",
       "      <td>1625392.0</td>\n",
       "      <td>0.000000</td>\n",
       "      <td>0.024466</td>\n",
       "      <td>0.000000</td>\n",
       "      <td>0.00000</td>\n",
       "    </tr>\n",
       "    <tr>\n",
       "      <th>2</th>\n",
       "      <td>5-9</td>\n",
       "      <td>0.0</td>\n",
       "      <td>Males</td>\n",
       "      <td>5</td>\n",
       "      <td>9</td>\n",
       "      <td>7.0</td>\n",
       "      <td>2118231.0</td>\n",
       "      <td>0.000000</td>\n",
       "      <td>0.031884</td>\n",
       "      <td>0.000000</td>\n",
       "      <td>0.00000</td>\n",
       "    </tr>\n",
       "    <tr>\n",
       "      <th>3</th>\n",
       "      <td>10-14</td>\n",
       "      <td>0.0</td>\n",
       "      <td>Males</td>\n",
       "      <td>10</td>\n",
       "      <td>14</td>\n",
       "      <td>12.0</td>\n",
       "      <td>1977260.0</td>\n",
       "      <td>0.000000</td>\n",
       "      <td>0.029762</td>\n",
       "      <td>0.000000</td>\n",
       "      <td>0.00000</td>\n",
       "    </tr>\n",
       "    <tr>\n",
       "      <th>4</th>\n",
       "      <td>15-19</td>\n",
       "      <td>4.0</td>\n",
       "      <td>Males</td>\n",
       "      <td>15</td>\n",
       "      <td>19</td>\n",
       "      <td>17.0</td>\n",
       "      <td>1884238.0</td>\n",
       "      <td>0.000179</td>\n",
       "      <td>0.028362</td>\n",
       "      <td>0.000006</td>\n",
       "      <td>0.00454</td>\n",
       "    </tr>\n",
       "  </tbody>\n",
       "</table>\n",
       "</div>"
      ],
      "text/plain": [
       "   group  deaths gender  age_from  age_to  age_mid  population  p_group_risk  \\\n",
       "0    0-0     0.0  Males         0       0      0.0    382332.0      0.000000   \n",
       "1    1-4     0.0  Males         1       4      2.5   1625392.0      0.000000   \n",
       "2    5-9     0.0  Males         5       9      7.0   2118231.0      0.000000   \n",
       "3  10-14     0.0  Males        10      14     12.0   1977260.0      0.000000   \n",
       "4  15-19     4.0  Males        15      19     17.0   1884238.0      0.000179   \n",
       "\n",
       "    p_group  p_risk_group  p_vulnerability  \n",
       "0  0.005755      0.000000          0.00000  \n",
       "1  0.024466      0.000000          0.00000  \n",
       "2  0.031884      0.000000          0.00000  \n",
       "3  0.029762      0.000000          0.00000  \n",
       "4  0.028362      0.000006          0.00454  "
      ]
     },
     "execution_count": 7,
     "metadata": {},
     "output_type": "execute_result"
    }
   ],
   "source": [
    "pandemic_stats = read_pandemic_stats(filepath_pandemic_stats)\n",
    "population_stats = read_pop(filepath_population,\n",
    "                           age_bins=list(pandemic_stats.age_from.unique())+[121])\n",
    "\n",
    "#calculate distribution\n",
    "df = calculate_bayesian_risk(pandemic_stats, population_stats)\n",
    "\n",
    "df.head()"
   ]
  },
  {
   "cell_type": "code",
   "execution_count": 8,
   "metadata": {
    "ExecuteTime": {
     "end_time": "2020-04-29T21:10:30.843215Z",
     "start_time": "2020-04-29T21:10:30.624785Z"
    }
   },
   "outputs": [
    {
     "data": {
      "image/png": "[encoded data removed]",
      "text/plain": [
       "<Figure size 1080x720 with 1 Axes>"
      ]
     },
     "metadata": {
      "needs_background": "light"
     },
     "output_type": "display_data"
    }
   ],
   "source": [
    "# inspect the results\n",
    "def plot_probabilities(df, field='p_vulnerability'):\n",
    "    df.set_index(['age_mid','gender'])[field].unstack(level='gender').plot(figsize=(15,10),marker='.',\n",
    "                        title='Probability of belonging in a vulnerable group')\n",
    "    plt.xlabel('Age')\n",
    "    plt.ylabel('Probability')\n",
    "    plt.show()\n",
    "    \n",
    "plot_probabilities(df,'p_vulnerability')"
   ]
  },
  {
   "cell_type": "code",
   "execution_count": 9,
   "metadata": {
    "ExecuteTime": {
     "end_time": "2020-04-29T21:10:31.330906Z",
     "start_time": "2020-04-29T21:10:30.845202Z"
    }
   },
   "outputs": [
    {
     "data": {
      "text/html": [
       "<style  type=\"text/css\" >\n",
       "</style><table id=\"T_dbd875f6_8a5d_11ea_9124_94e6f74fc1ed\" ><thead>    <tr>        <th class=\"blank\" ></th>        <th class=\"blank level0\" ></th>        <th class=\"col_heading level0 col0\" colspan=2>p_vulnerability</th>    </tr>    <tr>        <th class=\"blank\" ></th>        <th class=\"index_name level1\" >gender</th>        <th class=\"col_heading level1 col0\" >Females</th>        <th class=\"col_heading level1 col1\" >Males</th>    </tr>    <tr>        <th class=\"index_name level0\" >age_from</th>        <th class=\"index_name level1\" >age_to</th>        <th class=\"blank\" ></th>        <th class=\"blank\" ></th>    </tr></thead><tbody>\n",
       "                <tr>\n",
       "                        <th id=\"T_dbd875f6_8a5d_11ea_9124_94e6f74fc1edlevel0_row0\" class=\"row_heading level0 row0\" >0</th>\n",
       "                        <th id=\"T_dbd875f6_8a5d_11ea_9124_94e6f74fc1edlevel1_row0\" class=\"row_heading level1 row0\" >0</th>\n",
       "                        <td id=\"T_dbd875f6_8a5d_11ea_9124_94e6f74fc1edrow0_col0\" class=\"data row0 col0\" >0.00%</td>\n",
       "                        <td id=\"T_dbd875f6_8a5d_11ea_9124_94e6f74fc1edrow0_col1\" class=\"data row0 col1\" >0.00%</td>\n",
       "            </tr>\n",
       "            <tr>\n",
       "                        <th id=\"T_dbd875f6_8a5d_11ea_9124_94e6f74fc1edlevel0_row1\" class=\"row_heading level0 row1\" >1</th>\n",
       "                        <th id=\"T_dbd875f6_8a5d_11ea_9124_94e6f74fc1edlevel1_row1\" class=\"row_heading level1 row1\" >4</th>\n",
       "                        <td id=\"T_dbd875f6_8a5d_11ea_9124_94e6f74fc1edrow1_col0\" class=\"data row1 col0\" >0.14%</td>\n",
       "                        <td id=\"T_dbd875f6_8a5d_11ea_9124_94e6f74fc1edrow1_col1\" class=\"data row1 col1\" >0.00%</td>\n",
       "            </tr>\n",
       "            <tr>\n",
       "                        <th id=\"T_dbd875f6_8a5d_11ea_9124_94e6f74fc1edlevel0_row2\" class=\"row_heading level0 row2\" >5</th>\n",
       "                        <th id=\"T_dbd875f6_8a5d_11ea_9124_94e6f74fc1edlevel1_row2\" class=\"row_heading level1 row2\" >9</th>\n",
       "                        <td id=\"T_dbd875f6_8a5d_11ea_9124_94e6f74fc1edrow2_col0\" class=\"data row2 col0\" >0.00%</td>\n",
       "                        <td id=\"T_dbd875f6_8a5d_11ea_9124_94e6f74fc1edrow2_col1\" class=\"data row2 col1\" >0.00%</td>\n",
       "            </tr>\n",
       "            <tr>\n",
       "                        <th id=\"T_dbd875f6_8a5d_11ea_9124_94e6f74fc1edlevel0_row3\" class=\"row_heading level0 row3\" >10</th>\n",
       "                        <th id=\"T_dbd875f6_8a5d_11ea_9124_94e6f74fc1edlevel1_row3\" class=\"row_heading level1 row3\" >14</th>\n",
       "                        <td id=\"T_dbd875f6_8a5d_11ea_9124_94e6f74fc1edrow3_col0\" class=\"data row3 col0\" >0.11%</td>\n",
       "                        <td id=\"T_dbd875f6_8a5d_11ea_9124_94e6f74fc1edrow3_col1\" class=\"data row3 col1\" >0.00%</td>\n",
       "            </tr>\n",
       "            <tr>\n",
       "                        <th id=\"T_dbd875f6_8a5d_11ea_9124_94e6f74fc1edlevel0_row4\" class=\"row_heading level0 row4\" >15</th>\n",
       "                        <th id=\"T_dbd875f6_8a5d_11ea_9124_94e6f74fc1edlevel1_row4\" class=\"row_heading level1 row4\" >19</th>\n",
       "                        <td id=\"T_dbd875f6_8a5d_11ea_9124_94e6f74fc1edrow4_col0\" class=\"data row4 col0\" >0.36%</td>\n",
       "                        <td id=\"T_dbd875f6_8a5d_11ea_9124_94e6f74fc1edrow4_col1\" class=\"data row4 col1\" >0.45%</td>\n",
       "            </tr>\n",
       "            <tr>\n",
       "                        <th id=\"T_dbd875f6_8a5d_11ea_9124_94e6f74fc1edlevel0_row5\" class=\"row_heading level0 row5\" >20</th>\n",
       "                        <th id=\"T_dbd875f6_8a5d_11ea_9124_94e6f74fc1edlevel1_row5\" class=\"row_heading level1 row5\" >24</th>\n",
       "                        <td id=\"T_dbd875f6_8a5d_11ea_9124_94e6f74fc1edrow5_col0\" class=\"data row5 col0\" >0.63%</td>\n",
       "                        <td id=\"T_dbd875f6_8a5d_11ea_9124_94e6f74fc1edrow5_col1\" class=\"data row5 col1\" >0.60%</td>\n",
       "            </tr>\n",
       "            <tr>\n",
       "                        <th id=\"T_dbd875f6_8a5d_11ea_9124_94e6f74fc1edlevel0_row6\" class=\"row_heading level0 row6\" >25</th>\n",
       "                        <th id=\"T_dbd875f6_8a5d_11ea_9124_94e6f74fc1edlevel1_row6\" class=\"row_heading level1 row6\" >29</th>\n",
       "                        <td id=\"T_dbd875f6_8a5d_11ea_9124_94e6f74fc1edrow6_col0\" class=\"data row6 col0\" >1.05%</td>\n",
       "                        <td id=\"T_dbd875f6_8a5d_11ea_9124_94e6f74fc1edrow6_col1\" class=\"data row6 col1\" >1.40%</td>\n",
       "            </tr>\n",
       "            <tr>\n",
       "                        <th id=\"T_dbd875f6_8a5d_11ea_9124_94e6f74fc1edlevel0_row7\" class=\"row_heading level0 row7\" >30</th>\n",
       "                        <th id=\"T_dbd875f6_8a5d_11ea_9124_94e6f74fc1edlevel1_row7\" class=\"row_heading level1 row7\" >34</th>\n",
       "                        <td id=\"T_dbd875f6_8a5d_11ea_9124_94e6f74fc1edrow7_col0\" class=\"data row7 col0\" >1.43%</td>\n",
       "                        <td id=\"T_dbd875f6_8a5d_11ea_9124_94e6f74fc1edrow7_col1\" class=\"data row7 col1\" >2.50%</td>\n",
       "            </tr>\n",
       "            <tr>\n",
       "                        <th id=\"T_dbd875f6_8a5d_11ea_9124_94e6f74fc1edlevel0_row8\" class=\"row_heading level0 row8\" >35</th>\n",
       "                        <th id=\"T_dbd875f6_8a5d_11ea_9124_94e6f74fc1edlevel1_row8\" class=\"row_heading level1 row8\" >39</th>\n",
       "                        <td id=\"T_dbd875f6_8a5d_11ea_9124_94e6f74fc1edrow8_col0\" class=\"data row8 col0\" >2.62%</td>\n",
       "                        <td id=\"T_dbd875f6_8a5d_11ea_9124_94e6f74fc1edrow8_col1\" class=\"data row8 col1\" >4.14%</td>\n",
       "            </tr>\n",
       "            <tr>\n",
       "                        <th id=\"T_dbd875f6_8a5d_11ea_9124_94e6f74fc1edlevel0_row9\" class=\"row_heading level0 row9\" >40</th>\n",
       "                        <th id=\"T_dbd875f6_8a5d_11ea_9124_94e6f74fc1edlevel1_row9\" class=\"row_heading level1 row9\" >44</th>\n",
       "                        <td id=\"T_dbd875f6_8a5d_11ea_9124_94e6f74fc1edrow9_col0\" class=\"data row9 col0\" >4.68%</td>\n",
       "                        <td id=\"T_dbd875f6_8a5d_11ea_9124_94e6f74fc1edrow9_col1\" class=\"data row9 col1\" >8.20%</td>\n",
       "            </tr>\n",
       "            <tr>\n",
       "                        <th id=\"T_dbd875f6_8a5d_11ea_9124_94e6f74fc1edlevel0_row10\" class=\"row_heading level0 row10\" >45</th>\n",
       "                        <th id=\"T_dbd875f6_8a5d_11ea_9124_94e6f74fc1edlevel1_row10\" class=\"row_heading level1 row10\" >49</th>\n",
       "                        <td id=\"T_dbd875f6_8a5d_11ea_9124_94e6f74fc1edrow10_col0\" class=\"data row10 col0\" >8.52%</td>\n",
       "                        <td id=\"T_dbd875f6_8a5d_11ea_9124_94e6f74fc1edrow10_col1\" class=\"data row10 col1\" >14.53%</td>\n",
       "            </tr>\n",
       "            <tr>\n",
       "                        <th id=\"T_dbd875f6_8a5d_11ea_9124_94e6f74fc1edlevel0_row11\" class=\"row_heading level0 row11\" >50</th>\n",
       "                        <th id=\"T_dbd875f6_8a5d_11ea_9124_94e6f74fc1edlevel1_row11\" class=\"row_heading level1 row11\" >54</th>\n",
       "                        <td id=\"T_dbd875f6_8a5d_11ea_9124_94e6f74fc1edrow11_col0\" class=\"data row11 col0\" >15.94%</td>\n",
       "                        <td id=\"T_dbd875f6_8a5d_11ea_9124_94e6f74fc1edrow11_col1\" class=\"data row11 col1\" >24.82%</td>\n",
       "            </tr>\n",
       "            <tr>\n",
       "                        <th id=\"T_dbd875f6_8a5d_11ea_9124_94e6f74fc1edlevel0_row12\" class=\"row_heading level0 row12\" >55</th>\n",
       "                        <th id=\"T_dbd875f6_8a5d_11ea_9124_94e6f74fc1edlevel1_row12\" class=\"row_heading level1 row12\" >59</th>\n",
       "                        <td id=\"T_dbd875f6_8a5d_11ea_9124_94e6f74fc1edrow12_col0\" class=\"data row12 col0\" >24.14%</td>\n",
       "                        <td id=\"T_dbd875f6_8a5d_11ea_9124_94e6f74fc1edrow12_col1\" class=\"data row12 col1\" >49.85%</td>\n",
       "            </tr>\n",
       "            <tr>\n",
       "                        <th id=\"T_dbd875f6_8a5d_11ea_9124_94e6f74fc1edlevel0_row13\" class=\"row_heading level0 row13\" >60</th>\n",
       "                        <th id=\"T_dbd875f6_8a5d_11ea_9124_94e6f74fc1edlevel1_row13\" class=\"row_heading level1 row13\" >64</th>\n",
       "                        <td id=\"T_dbd875f6_8a5d_11ea_9124_94e6f74fc1edrow13_col0\" class=\"data row13 col0\" >42.12%</td>\n",
       "                        <td id=\"T_dbd875f6_8a5d_11ea_9124_94e6f74fc1edrow13_col1\" class=\"data row13 col1\" >88.16%</td>\n",
       "            </tr>\n",
       "            <tr>\n",
       "                        <th id=\"T_dbd875f6_8a5d_11ea_9124_94e6f74fc1edlevel0_row14\" class=\"row_heading level0 row14\" >65</th>\n",
       "                        <th id=\"T_dbd875f6_8a5d_11ea_9124_94e6f74fc1edlevel1_row14\" class=\"row_heading level1 row14\" >69</th>\n",
       "                        <td id=\"T_dbd875f6_8a5d_11ea_9124_94e6f74fc1edrow14_col0\" class=\"data row14 col0\" >60.06%</td>\n",
       "                        <td id=\"T_dbd875f6_8a5d_11ea_9124_94e6f74fc1edrow14_col1\" class=\"data row14 col1\" >100.00%</td>\n",
       "            </tr>\n",
       "            <tr>\n",
       "                        <th id=\"T_dbd875f6_8a5d_11ea_9124_94e6f74fc1edlevel0_row15\" class=\"row_heading level0 row15\" >70</th>\n",
       "                        <th id=\"T_dbd875f6_8a5d_11ea_9124_94e6f74fc1edlevel1_row15\" class=\"row_heading level1 row15\" >74</th>\n",
       "                        <td id=\"T_dbd875f6_8a5d_11ea_9124_94e6f74fc1edrow15_col0\" class=\"data row15 col0\" >100.00%</td>\n",
       "                        <td id=\"T_dbd875f6_8a5d_11ea_9124_94e6f74fc1edrow15_col1\" class=\"data row15 col1\" >100.00%</td>\n",
       "            </tr>\n",
       "            <tr>\n",
       "                        <th id=\"T_dbd875f6_8a5d_11ea_9124_94e6f74fc1edlevel0_row16\" class=\"row_heading level0 row16\" >75</th>\n",
       "                        <th id=\"T_dbd875f6_8a5d_11ea_9124_94e6f74fc1edlevel1_row16\" class=\"row_heading level1 row16\" >79</th>\n",
       "                        <td id=\"T_dbd875f6_8a5d_11ea_9124_94e6f74fc1edrow16_col0\" class=\"data row16 col0\" >100.00%</td>\n",
       "                        <td id=\"T_dbd875f6_8a5d_11ea_9124_94e6f74fc1edrow16_col1\" class=\"data row16 col1\" >100.00%</td>\n",
       "            </tr>\n",
       "            <tr>\n",
       "                        <th id=\"T_dbd875f6_8a5d_11ea_9124_94e6f74fc1edlevel0_row17\" class=\"row_heading level0 row17\" >80</th>\n",
       "                        <th id=\"T_dbd875f6_8a5d_11ea_9124_94e6f74fc1edlevel1_row17\" class=\"row_heading level1 row17\" >84</th>\n",
       "                        <td id=\"T_dbd875f6_8a5d_11ea_9124_94e6f74fc1edrow17_col0\" class=\"data row17 col0\" >100.00%</td>\n",
       "                        <td id=\"T_dbd875f6_8a5d_11ea_9124_94e6f74fc1edrow17_col1\" class=\"data row17 col1\" >100.00%</td>\n",
       "            </tr>\n",
       "            <tr>\n",
       "                        <th id=\"T_dbd875f6_8a5d_11ea_9124_94e6f74fc1edlevel0_row18\" class=\"row_heading level0 row18\" >85</th>\n",
       "                        <th id=\"T_dbd875f6_8a5d_11ea_9124_94e6f74fc1edlevel1_row18\" class=\"row_heading level1 row18\" >89</th>\n",
       "                        <td id=\"T_dbd875f6_8a5d_11ea_9124_94e6f74fc1edrow18_col0\" class=\"data row18 col0\" >100.00%</td>\n",
       "                        <td id=\"T_dbd875f6_8a5d_11ea_9124_94e6f74fc1edrow18_col1\" class=\"data row18 col1\" >100.00%</td>\n",
       "            </tr>\n",
       "            <tr>\n",
       "                        <th id=\"T_dbd875f6_8a5d_11ea_9124_94e6f74fc1edlevel0_row19\" class=\"row_heading level0 row19\" >90</th>\n",
       "                        <th id=\"T_dbd875f6_8a5d_11ea_9124_94e6f74fc1edlevel1_row19\" class=\"row_heading level1 row19\" >120</th>\n",
       "                        <td id=\"T_dbd875f6_8a5d_11ea_9124_94e6f74fc1edrow19_col0\" class=\"data row19 col0\" >100.00%</td>\n",
       "                        <td id=\"T_dbd875f6_8a5d_11ea_9124_94e6f74fc1edrow19_col1\" class=\"data row19 col1\" >100.00%</td>\n",
       "            </tr>\n",
       "    </tbody></table>"
      ],
      "text/plain": [
       "<pandas.io.formats.style.Styler at 0x27e14bf4da0>"
      ]
     },
     "execution_count": 9,
     "metadata": {},
     "output_type": "execute_result"
    }
   ],
   "source": [
    "#probabilities to pass to PAM\n",
    "df.set_index(['gender','age_from','age_to'])[['p_vulnerability']].unstack(level='gender').style.format('{:.2%}')"
   ]
  }
 ],
 "metadata": {
  "kernelspec": {
   "display_name": "Python 3",
   "language": "python",
   "name": "python3"
  },
  "language_info": {
   "codemirror_mode": {
    "name": "ipython",
    "version": 3
   },
   "file_extension": ".py",
   "mimetype": "text/x-python",
   "name": "python",
   "nbconvert_exporter": "python",
   "pygments_lexer": "ipython3",
   "version": "3.6.5"
  }
 },
 "nbformat": 4,
 "nbformat_minor": 2
}
