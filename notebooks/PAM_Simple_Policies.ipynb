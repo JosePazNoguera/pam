{
 "cells": [
  {
   "cell_type": "code",
   "execution_count": 47,
   "metadata": {},
   "outputs": [],
   "source": [
    "import os\n",
    "import pandas as pd\n",
    "import random\n",
    "from copy import deepcopy\n",
    "from collections import defaultdict\n",
    "import geopandas as gp\n",
    "from matplotlib import pyplot as plt\n",
    "from pam import parse\n",
    "\n",
    "path_to_repo = '/Users/.../PythonProjects/pam'"
   ]
  },
  {
   "cell_type": "markdown",
   "metadata": {},
   "source": [
    "## Load Data\n",
    "Here we load simple travel diary data of London commuters. This is a very simple 0.1% sample of data about work and education commutes from the 2011 census. Because we're sharing this date - we've aggregated locations to borough level and randomized personal attributes - so don't get too excited about the results.\n",
    "\n",
    "The data is available in `pam/example_data`."
   ]
  },
  {
   "cell_type": "code",
   "execution_count": 2,
   "metadata": {},
   "outputs": [],
   "source": [
    "trips = pd.read_csv(os.path.join(path_to_repo, 'example_data', 'example_travel_diaries.csv'))\n",
    "attributes = pd.read_csv(os.path.join(path_to_repo, 'example_data' , 'example_attributes.csv'))\n",
    "attributes.set_index('pid', inplace=True)"
   ]
  },
  {
   "cell_type": "code",
   "execution_count": 3,
   "metadata": {},
   "outputs": [
    {
     "data": {
      "text/html": [
       "<div>\n",
       "<style scoped>\n",
       "    .dataframe tbody tr th:only-of-type {\n",
       "        vertical-align: middle;\n",
       "    }\n",
       "\n",
       "    .dataframe tbody tr th {\n",
       "        vertical-align: top;\n",
       "    }\n",
       "\n",
       "    .dataframe thead th {\n",
       "        text-align: right;\n",
       "    }\n",
       "</style>\n",
       "<table border=\"1\" class=\"dataframe\">\n",
       "  <thead>\n",
       "    <tr style=\"text-align: right;\">\n",
       "      <th></th>\n",
       "      <th>gender</th>\n",
       "      <th>job</th>\n",
       "      <th>occ</th>\n",
       "      <th>inc</th>\n",
       "    </tr>\n",
       "    <tr>\n",
       "      <th>pid</th>\n",
       "      <th></th>\n",
       "      <th></th>\n",
       "      <th></th>\n",
       "      <th></th>\n",
       "    </tr>\n",
       "  </thead>\n",
       "  <tbody>\n",
       "    <tr>\n",
       "      <th>census_0</th>\n",
       "      <td>female</td>\n",
       "      <td>work</td>\n",
       "      <td>white</td>\n",
       "      <td>low</td>\n",
       "    </tr>\n",
       "    <tr>\n",
       "      <th>census_1</th>\n",
       "      <td>female</td>\n",
       "      <td>work</td>\n",
       "      <td>white</td>\n",
       "      <td>low</td>\n",
       "    </tr>\n",
       "    <tr>\n",
       "      <th>census_2</th>\n",
       "      <td>male</td>\n",
       "      <td>work</td>\n",
       "      <td>blue</td>\n",
       "      <td>high</td>\n",
       "    </tr>\n",
       "    <tr>\n",
       "      <th>census_3</th>\n",
       "      <td>male</td>\n",
       "      <td>work</td>\n",
       "      <td>blue</td>\n",
       "      <td>low</td>\n",
       "    </tr>\n",
       "    <tr>\n",
       "      <th>census_4</th>\n",
       "      <td>male</td>\n",
       "      <td>work</td>\n",
       "      <td>blue</td>\n",
       "      <td>medium</td>\n",
       "    </tr>\n",
       "  </tbody>\n",
       "</table>\n",
       "</div>"
      ],
      "text/plain": [
       "          gender   job    occ     inc\n",
       "pid                                  \n",
       "census_0  female  work  white     low\n",
       "census_1  female  work  white     low\n",
       "census_2    male  work   blue    high\n",
       "census_3    male  work   blue     low\n",
       "census_4    male  work   blue  medium"
      ]
     },
     "execution_count": 3,
     "metadata": {},
     "output_type": "execute_result"
    }
   ],
   "source": [
    "attributes.head()"
   ]
  },
  {
   "cell_type": "code",
   "execution_count": 4,
   "metadata": {},
   "outputs": [
    {
     "data": {
      "text/html": [
       "<div>\n",
       "<style scoped>\n",
       "    .dataframe tbody tr th:only-of-type {\n",
       "        vertical-align: middle;\n",
       "    }\n",
       "\n",
       "    .dataframe tbody tr th {\n",
       "        vertical-align: top;\n",
       "    }\n",
       "\n",
       "    .dataframe thead th {\n",
       "        text-align: right;\n",
       "    }\n",
       "</style>\n",
       "<table border=\"1\" class=\"dataframe\">\n",
       "  <thead>\n",
       "    <tr style=\"text-align: right;\">\n",
       "      <th></th>\n",
       "      <th>uid</th>\n",
       "      <th>pid</th>\n",
       "      <th>hid</th>\n",
       "      <th>seq</th>\n",
       "      <th>hzone</th>\n",
       "      <th>ozone</th>\n",
       "      <th>dzone</th>\n",
       "      <th>purp</th>\n",
       "      <th>mode</th>\n",
       "      <th>tst</th>\n",
       "      <th>tet</th>\n",
       "      <th>freq</th>\n",
       "    </tr>\n",
       "  </thead>\n",
       "  <tbody>\n",
       "    <tr>\n",
       "      <th>0</th>\n",
       "      <td>0</td>\n",
       "      <td>census_0</td>\n",
       "      <td>census_0</td>\n",
       "      <td>0</td>\n",
       "      <td>Harrow</td>\n",
       "      <td>Harrow</td>\n",
       "      <td>Camden</td>\n",
       "      <td>work</td>\n",
       "      <td>pt</td>\n",
       "      <td>444</td>\n",
       "      <td>473</td>\n",
       "      <td>1000</td>\n",
       "    </tr>\n",
       "    <tr>\n",
       "      <th>1</th>\n",
       "      <td>1</td>\n",
       "      <td>census_0</td>\n",
       "      <td>census_0</td>\n",
       "      <td>1</td>\n",
       "      <td>Harrow</td>\n",
       "      <td>Camden</td>\n",
       "      <td>Harrow</td>\n",
       "      <td>work</td>\n",
       "      <td>pt</td>\n",
       "      <td>890</td>\n",
       "      <td>919</td>\n",
       "      <td>1000</td>\n",
       "    </tr>\n",
       "    <tr>\n",
       "      <th>2</th>\n",
       "      <td>2</td>\n",
       "      <td>census_1</td>\n",
       "      <td>census_1</td>\n",
       "      <td>0</td>\n",
       "      <td>Greenwich</td>\n",
       "      <td>Greenwich</td>\n",
       "      <td>Tower Hamlets</td>\n",
       "      <td>work</td>\n",
       "      <td>pt</td>\n",
       "      <td>507</td>\n",
       "      <td>528</td>\n",
       "      <td>1000</td>\n",
       "    </tr>\n",
       "    <tr>\n",
       "      <th>3</th>\n",
       "      <td>3</td>\n",
       "      <td>census_1</td>\n",
       "      <td>census_1</td>\n",
       "      <td>1</td>\n",
       "      <td>Greenwich</td>\n",
       "      <td>Tower Hamlets</td>\n",
       "      <td>Greenwich</td>\n",
       "      <td>work</td>\n",
       "      <td>pt</td>\n",
       "      <td>1065</td>\n",
       "      <td>1086</td>\n",
       "      <td>1000</td>\n",
       "    </tr>\n",
       "    <tr>\n",
       "      <th>4</th>\n",
       "      <td>4</td>\n",
       "      <td>census_2</td>\n",
       "      <td>census_2</td>\n",
       "      <td>0</td>\n",
       "      <td>Croydon</td>\n",
       "      <td>Croydon</td>\n",
       "      <td>Croydon</td>\n",
       "      <td>work</td>\n",
       "      <td>pt</td>\n",
       "      <td>422</td>\n",
       "      <td>425</td>\n",
       "      <td>1000</td>\n",
       "    </tr>\n",
       "  </tbody>\n",
       "</table>\n",
       "</div>"
      ],
      "text/plain": [
       "   uid       pid       hid  seq      hzone          ozone          dzone  \\\n",
       "0    0  census_0  census_0    0     Harrow         Harrow         Camden   \n",
       "1    1  census_0  census_0    1     Harrow         Camden         Harrow   \n",
       "2    2  census_1  census_1    0  Greenwich      Greenwich  Tower Hamlets   \n",
       "3    3  census_1  census_1    1  Greenwich  Tower Hamlets      Greenwich   \n",
       "4    4  census_2  census_2    0    Croydon        Croydon        Croydon   \n",
       "\n",
       "   purp mode   tst   tet  freq  \n",
       "0  work   pt   444   473  1000  \n",
       "1  work   pt   890   919  1000  \n",
       "2  work   pt   507   528  1000  \n",
       "3  work   pt  1065  1086  1000  \n",
       "4  work   pt   422   425  1000  "
      ]
     },
     "execution_count": 4,
     "metadata": {},
     "output_type": "execute_result"
    }
   ],
   "source": [
    "trips.head()"
   ]
  },
  {
   "cell_type": "code",
   "execution_count": 5,
   "metadata": {},
   "outputs": [
    {
     "data": {
      "text/plain": [
       "(array(['work', 'education'], dtype=object),\n",
       " array(['pt', 'car'], dtype=object))"
      ]
     },
     "execution_count": 5,
     "metadata": {},
     "output_type": "execute_result"
    }
   ],
   "source": [
    "trips['purp'].unique(), trips['mode'].unique()"
   ]
  },
  {
   "cell_type": "markdown",
   "metadata": {},
   "source": [
    "## Imagine we had better data...\n",
    "\n",
    "Conjure up additional data to aid demonstration.\n",
    "\n",
    "We add:\n",
    "- `age` to person attributes\n",
    "- activities: \n",
    "    - `leisure`\n",
    "    - `health`\n",
    "    - `shopping`\n",
    "    - `escort`\n",
    "\n",
    "and we put people in shared households based on shared hzone (originally it's one person per household)\n",
    "\n",
    "**Randomly.**"
   ]
  },
  {
   "cell_type": "code",
   "execution_count": 6,
   "metadata": {},
   "outputs": [],
   "source": [
    "import numpy as np\n",
    "\n",
    "# add age column to attributes\n",
    "attributes['age'] = [int(a) for a in np.random.normal(40.5, 10, len(attributes))]"
   ]
  },
  {
   "cell_type": "code",
   "execution_count": 7,
   "metadata": {},
   "outputs": [],
   "source": [
    "# add some extra activities to trips\n",
    "zones = list(set(trips['hzone'].unique()) | set(trips['ozone'].unique()) | set(trips['dzone'].unique()))\n",
    "purp = ['leisure', 'health', 'shopping', 'escort']\n",
    "mode = ['pt', 'car', 'walk', 'bike']\n",
    "\n",
    "def enrich_activities(group):\n",
    "    new_group = pd.DataFrame(columns=group.columns)\n",
    "    for idx in group.index:\n",
    "        trip = group.loc[idx, :]\n",
    "        try:\n",
    "            next_start = group.loc[idx+1, :]['tst']\n",
    "        except KeyError:\n",
    "            next_start = 1439\n",
    "        new_group = new_group.append(trip)\n",
    "        # append a random activity\n",
    "        activity_loc = random.choice(zones)\n",
    "        activity_purp = random.choice(purp)\n",
    "        activity_mode = random.choice(mode)\n",
    "\n",
    "        act_times = [random.randint(trip['tet']+1, next_start-1) for i in range(4)]\n",
    "        act_times.sort()\n",
    "\n",
    "        new_group = new_group.append(pd.DataFrame(\n",
    "            {'uid': ['{}_act_to'.format(trip['uid']), '{}_act_from'.format(trip['uid'])], \n",
    "             'pid': [trip['pid'], trip['pid']], 'hid': [trip['hid'], trip['hid']], \n",
    "             'seq': [0, 0], 'hzone': [trip['hzone'], trip['hzone']], 'ozone': [trip['dzone'], activity_loc], \n",
    "             'dzone': [activity_loc, trip['ozone']], 'purp': [activity_purp, activity_purp], \n",
    "             'mode': [activity_mode, activity_mode], 'tst': [act_times[0], act_times[2]], \n",
    "             'tet': [act_times[1], act_times[3]], 'freq': [trip['freq'], trip['freq']]}))\n",
    "    new_group = new_group.reset_index(drop=True)\n",
    "    new_group = new_group.drop(['seq'], axis=1)\n",
    "    new_group = new_group.rename_axis('seq').reset_index()\n",
    "    return new_group\n",
    "\n",
    "new_trips = trips.groupby('pid').apply(enrich_activities).reset_index(drop=True)"
   ]
  },
  {
   "cell_type": "code",
   "execution_count": 8,
   "metadata": {},
   "outputs": [],
   "source": [
    "# generate some households (as opposed one person to a household)\n",
    "# bunch up people who share the same hzone\n",
    "import uuid\n",
    "\n",
    "def bunch_up_people(group):\n",
    "    group['pid'].unique()\n",
    "    households = []\n",
    "    i = 1\n",
    "    household= []\n",
    "    h_size = random.randint(1,5)\n",
    "    for p in group['pid'].unique():\n",
    "        household.append(p)\n",
    "        i += 1\n",
    "\n",
    "        if i>h_size:\n",
    "            households.append(household)\n",
    "            h_size = random.randint(1,5)\n",
    "            household= []\n",
    "            i = 1\n",
    "\n",
    "    return dict(zip([str(uuid.uuid4()) for i in range(len(households))], households))"
   ]
  },
  {
   "cell_type": "code",
   "execution_count": 9,
   "metadata": {},
   "outputs": [],
   "source": [
    "households_map = {}\n",
    "households_per_zone = new_trips.groupby('hzone').apply(bunch_up_people)\n",
    "for idx in households_per_zone.index:\n",
    "    households_map = {**households_map, **households_per_zone[idx]}"
   ]
  },
  {
   "cell_type": "code",
   "execution_count": 10,
   "metadata": {},
   "outputs": [],
   "source": [
    "# ze old switcheroo person to household id\n",
    "new_keys = []\n",
    "new_values = []\n",
    "for key, value in households_map.items():\n",
    "    for item in value:\n",
    "        new_keys.append(item)\n",
    "        new_values.append(key.lower())\n",
    "person_to_household_map = dict(zip(new_keys, new_values))"
   ]
  },
  {
   "cell_type": "code",
   "execution_count": 11,
   "metadata": {},
   "outputs": [
    {
     "data": {
      "text/plain": [
       "{'census_1016': 'b8aa5679-1090-4550-b467-6b10b48bc8d7',\n",
       " 'census_1043': 'd6052c88-3aa2-4534-b145-337e45626b46',\n",
       " 'census_1197': 'd6052c88-3aa2-4534-b145-337e45626b46',\n",
       " 'census_1247': 'd6052c88-3aa2-4534-b145-337e45626b46',\n",
       " 'census_1272': 'd6052c88-3aa2-4534-b145-337e45626b46',\n",
       " 'census_128': 'd6052c88-3aa2-4534-b145-337e45626b46',\n",
       " 'census_1281': 'f680b615-4ab9-4be8-8897-c64594c7b6c3',\n",
       " 'census_1287': 'f680b615-4ab9-4be8-8897-c64594c7b6c3',\n",
       " 'census_1375': 'f680b615-4ab9-4be8-8897-c64594c7b6c3',\n",
       " 'census_1418': '5ff5064e-e6d7-4ee4-a852-2ad465ca9d9b',\n",
       " 'census_1420': '5ff5064e-e6d7-4ee4-a852-2ad465ca9d9b',\n",
       " 'census_1536': '5ff5064e-e6d7-4ee4-a852-2ad465ca9d9b',\n",
       " 'census_1665': 'e3b09e4e-2287-4168-b39b-996b08b79fa2',\n",
       " 'census_1670': '1608a5e2-4879-44a4-b33b-17c6a8c16ed9',\n",
       " 'census_1690': '177854b7-f9c3-42b4-b417-e853ab11f839'}"
      ]
     },
     "execution_count": 11,
     "metadata": {},
     "output_type": "execute_result"
    }
   ],
   "source": [
    "dict(list(person_to_household_map.items())[0:15])"
   ]
  },
  {
   "cell_type": "code",
   "execution_count": 12,
   "metadata": {},
   "outputs": [],
   "source": [
    "new_trips['hid'] = new_trips['pid'].map(person_to_household_map)"
   ]
  },
  {
   "cell_type": "markdown",
   "metadata": {},
   "source": [
    "## Input data after changes "
   ]
  },
  {
   "cell_type": "code",
   "execution_count": 13,
   "metadata": {},
   "outputs": [
    {
     "data": {
      "text/html": [
       "<div>\n",
       "<style scoped>\n",
       "    .dataframe tbody tr th:only-of-type {\n",
       "        vertical-align: middle;\n",
       "    }\n",
       "\n",
       "    .dataframe tbody tr th {\n",
       "        vertical-align: top;\n",
       "    }\n",
       "\n",
       "    .dataframe thead th {\n",
       "        text-align: right;\n",
       "    }\n",
       "</style>\n",
       "<table border=\"1\" class=\"dataframe\">\n",
       "  <thead>\n",
       "    <tr style=\"text-align: right;\">\n",
       "      <th></th>\n",
       "      <th>gender</th>\n",
       "      <th>job</th>\n",
       "      <th>occ</th>\n",
       "      <th>inc</th>\n",
       "      <th>age</th>\n",
       "    </tr>\n",
       "    <tr>\n",
       "      <th>pid</th>\n",
       "      <th></th>\n",
       "      <th></th>\n",
       "      <th></th>\n",
       "      <th></th>\n",
       "      <th></th>\n",
       "    </tr>\n",
       "  </thead>\n",
       "  <tbody>\n",
       "    <tr>\n",
       "      <th>census_0</th>\n",
       "      <td>female</td>\n",
       "      <td>work</td>\n",
       "      <td>white</td>\n",
       "      <td>low</td>\n",
       "      <td>41</td>\n",
       "    </tr>\n",
       "    <tr>\n",
       "      <th>census_1</th>\n",
       "      <td>female</td>\n",
       "      <td>work</td>\n",
       "      <td>white</td>\n",
       "      <td>low</td>\n",
       "      <td>25</td>\n",
       "    </tr>\n",
       "    <tr>\n",
       "      <th>census_2</th>\n",
       "      <td>male</td>\n",
       "      <td>work</td>\n",
       "      <td>blue</td>\n",
       "      <td>high</td>\n",
       "      <td>50</td>\n",
       "    </tr>\n",
       "    <tr>\n",
       "      <th>census_3</th>\n",
       "      <td>male</td>\n",
       "      <td>work</td>\n",
       "      <td>blue</td>\n",
       "      <td>low</td>\n",
       "      <td>33</td>\n",
       "    </tr>\n",
       "    <tr>\n",
       "      <th>census_4</th>\n",
       "      <td>male</td>\n",
       "      <td>work</td>\n",
       "      <td>blue</td>\n",
       "      <td>medium</td>\n",
       "      <td>32</td>\n",
       "    </tr>\n",
       "  </tbody>\n",
       "</table>\n",
       "</div>"
      ],
      "text/plain": [
       "          gender   job    occ     inc  age\n",
       "pid                                       \n",
       "census_0  female  work  white     low   41\n",
       "census_1  female  work  white     low   25\n",
       "census_2    male  work   blue    high   50\n",
       "census_3    male  work   blue     low   33\n",
       "census_4    male  work   blue  medium   32"
      ]
     },
     "execution_count": 13,
     "metadata": {},
     "output_type": "execute_result"
    }
   ],
   "source": [
    "attributes.head()"
   ]
  },
  {
   "cell_type": "code",
   "execution_count": 14,
   "metadata": {},
   "outputs": [
    {
     "data": {
      "text/html": [
       "<div>\n",
       "<style scoped>\n",
       "    .dataframe tbody tr th:only-of-type {\n",
       "        vertical-align: middle;\n",
       "    }\n",
       "\n",
       "    .dataframe tbody tr th {\n",
       "        vertical-align: top;\n",
       "    }\n",
       "\n",
       "    .dataframe thead th {\n",
       "        text-align: right;\n",
       "    }\n",
       "</style>\n",
       "<table border=\"1\" class=\"dataframe\">\n",
       "  <thead>\n",
       "    <tr style=\"text-align: right;\">\n",
       "      <th></th>\n",
       "      <th>seq</th>\n",
       "      <th>uid</th>\n",
       "      <th>pid</th>\n",
       "      <th>hid</th>\n",
       "      <th>hzone</th>\n",
       "      <th>ozone</th>\n",
       "      <th>dzone</th>\n",
       "      <th>purp</th>\n",
       "      <th>mode</th>\n",
       "      <th>tst</th>\n",
       "      <th>tet</th>\n",
       "      <th>freq</th>\n",
       "    </tr>\n",
       "  </thead>\n",
       "  <tbody>\n",
       "    <tr>\n",
       "      <th>0</th>\n",
       "      <td>0</td>\n",
       "      <td>0</td>\n",
       "      <td>census_0</td>\n",
       "      <td>17975d1c-d67c-48aa-ba3c-0e79210c1521</td>\n",
       "      <td>Harrow</td>\n",
       "      <td>Harrow</td>\n",
       "      <td>Camden</td>\n",
       "      <td>work</td>\n",
       "      <td>pt</td>\n",
       "      <td>444</td>\n",
       "      <td>473</td>\n",
       "      <td>1000</td>\n",
       "    </tr>\n",
       "    <tr>\n",
       "      <th>1</th>\n",
       "      <td>1</td>\n",
       "      <td>0_act_to</td>\n",
       "      <td>census_0</td>\n",
       "      <td>17975d1c-d67c-48aa-ba3c-0e79210c1521</td>\n",
       "      <td>Harrow</td>\n",
       "      <td>Camden</td>\n",
       "      <td>Hounslow</td>\n",
       "      <td>leisure</td>\n",
       "      <td>bike</td>\n",
       "      <td>572</td>\n",
       "      <td>619</td>\n",
       "      <td>1000</td>\n",
       "    </tr>\n",
       "    <tr>\n",
       "      <th>2</th>\n",
       "      <td>2</td>\n",
       "      <td>0_act_from</td>\n",
       "      <td>census_0</td>\n",
       "      <td>17975d1c-d67c-48aa-ba3c-0e79210c1521</td>\n",
       "      <td>Harrow</td>\n",
       "      <td>Hounslow</td>\n",
       "      <td>Harrow</td>\n",
       "      <td>leisure</td>\n",
       "      <td>bike</td>\n",
       "      <td>700</td>\n",
       "      <td>714</td>\n",
       "      <td>1000</td>\n",
       "    </tr>\n",
       "    <tr>\n",
       "      <th>3</th>\n",
       "      <td>3</td>\n",
       "      <td>1</td>\n",
       "      <td>census_0</td>\n",
       "      <td>17975d1c-d67c-48aa-ba3c-0e79210c1521</td>\n",
       "      <td>Harrow</td>\n",
       "      <td>Camden</td>\n",
       "      <td>Harrow</td>\n",
       "      <td>work</td>\n",
       "      <td>pt</td>\n",
       "      <td>890</td>\n",
       "      <td>919</td>\n",
       "      <td>1000</td>\n",
       "    </tr>\n",
       "    <tr>\n",
       "      <th>4</th>\n",
       "      <td>4</td>\n",
       "      <td>1_act_to</td>\n",
       "      <td>census_0</td>\n",
       "      <td>17975d1c-d67c-48aa-ba3c-0e79210c1521</td>\n",
       "      <td>Harrow</td>\n",
       "      <td>Harrow</td>\n",
       "      <td>Hounslow</td>\n",
       "      <td>health</td>\n",
       "      <td>pt</td>\n",
       "      <td>953</td>\n",
       "      <td>981</td>\n",
       "      <td>1000</td>\n",
       "    </tr>\n",
       "    <tr>\n",
       "      <th>5</th>\n",
       "      <td>5</td>\n",
       "      <td>1_act_from</td>\n",
       "      <td>census_0</td>\n",
       "      <td>17975d1c-d67c-48aa-ba3c-0e79210c1521</td>\n",
       "      <td>Harrow</td>\n",
       "      <td>Hounslow</td>\n",
       "      <td>Camden</td>\n",
       "      <td>health</td>\n",
       "      <td>pt</td>\n",
       "      <td>997</td>\n",
       "      <td>1341</td>\n",
       "      <td>1000</td>\n",
       "    </tr>\n",
       "    <tr>\n",
       "      <th>6</th>\n",
       "      <td>0</td>\n",
       "      <td>2</td>\n",
       "      <td>census_1</td>\n",
       "      <td>ff2cb619-076f-4673-8626-f426b04a1884</td>\n",
       "      <td>Greenwich</td>\n",
       "      <td>Greenwich</td>\n",
       "      <td>Tower Hamlets</td>\n",
       "      <td>work</td>\n",
       "      <td>pt</td>\n",
       "      <td>507</td>\n",
       "      <td>528</td>\n",
       "      <td>1000</td>\n",
       "    </tr>\n",
       "    <tr>\n",
       "      <th>7</th>\n",
       "      <td>1</td>\n",
       "      <td>2_act_to</td>\n",
       "      <td>census_1</td>\n",
       "      <td>ff2cb619-076f-4673-8626-f426b04a1884</td>\n",
       "      <td>Greenwich</td>\n",
       "      <td>Tower Hamlets</td>\n",
       "      <td>Enfield</td>\n",
       "      <td>shopping</td>\n",
       "      <td>car</td>\n",
       "      <td>741</td>\n",
       "      <td>781</td>\n",
       "      <td>1000</td>\n",
       "    </tr>\n",
       "    <tr>\n",
       "      <th>8</th>\n",
       "      <td>2</td>\n",
       "      <td>2_act_from</td>\n",
       "      <td>census_1</td>\n",
       "      <td>ff2cb619-076f-4673-8626-f426b04a1884</td>\n",
       "      <td>Greenwich</td>\n",
       "      <td>Enfield</td>\n",
       "      <td>Greenwich</td>\n",
       "      <td>shopping</td>\n",
       "      <td>car</td>\n",
       "      <td>918</td>\n",
       "      <td>1008</td>\n",
       "      <td>1000</td>\n",
       "    </tr>\n",
       "    <tr>\n",
       "      <th>9</th>\n",
       "      <td>3</td>\n",
       "      <td>3</td>\n",
       "      <td>census_1</td>\n",
       "      <td>ff2cb619-076f-4673-8626-f426b04a1884</td>\n",
       "      <td>Greenwich</td>\n",
       "      <td>Tower Hamlets</td>\n",
       "      <td>Greenwich</td>\n",
       "      <td>work</td>\n",
       "      <td>pt</td>\n",
       "      <td>1065</td>\n",
       "      <td>1086</td>\n",
       "      <td>1000</td>\n",
       "    </tr>\n",
       "  </tbody>\n",
       "</table>\n",
       "</div>"
      ],
      "text/plain": [
       "   seq         uid       pid                                   hid      hzone  \\\n",
       "0    0           0  census_0  17975d1c-d67c-48aa-ba3c-0e79210c1521     Harrow   \n",
       "1    1    0_act_to  census_0  17975d1c-d67c-48aa-ba3c-0e79210c1521     Harrow   \n",
       "2    2  0_act_from  census_0  17975d1c-d67c-48aa-ba3c-0e79210c1521     Harrow   \n",
       "3    3           1  census_0  17975d1c-d67c-48aa-ba3c-0e79210c1521     Harrow   \n",
       "4    4    1_act_to  census_0  17975d1c-d67c-48aa-ba3c-0e79210c1521     Harrow   \n",
       "5    5  1_act_from  census_0  17975d1c-d67c-48aa-ba3c-0e79210c1521     Harrow   \n",
       "6    0           2  census_1  ff2cb619-076f-4673-8626-f426b04a1884  Greenwich   \n",
       "7    1    2_act_to  census_1  ff2cb619-076f-4673-8626-f426b04a1884  Greenwich   \n",
       "8    2  2_act_from  census_1  ff2cb619-076f-4673-8626-f426b04a1884  Greenwich   \n",
       "9    3           3  census_1  ff2cb619-076f-4673-8626-f426b04a1884  Greenwich   \n",
       "\n",
       "           ozone          dzone      purp  mode   tst   tet  freq  \n",
       "0         Harrow         Camden      work    pt   444   473  1000  \n",
       "1         Camden       Hounslow   leisure  bike   572   619  1000  \n",
       "2       Hounslow         Harrow   leisure  bike   700   714  1000  \n",
       "3         Camden         Harrow      work    pt   890   919  1000  \n",
       "4         Harrow       Hounslow    health    pt   953   981  1000  \n",
       "5       Hounslow         Camden    health    pt   997  1341  1000  \n",
       "6      Greenwich  Tower Hamlets      work    pt   507   528  1000  \n",
       "7  Tower Hamlets        Enfield  shopping   car   741   781  1000  \n",
       "8        Enfield      Greenwich  shopping   car   918  1008  1000  \n",
       "9  Tower Hamlets      Greenwich      work    pt  1065  1086  1000  "
      ]
     },
     "execution_count": 14,
     "metadata": {},
     "output_type": "execute_result"
    }
   ],
   "source": [
    "new_trips.head(10)"
   ]
  },
  {
   "cell_type": "code",
   "execution_count": 15,
   "metadata": {},
   "outputs": [
    {
     "name": "stdout",
     "output_type": "stream",
     "text": [
      "<class 'pandas.core.frame.DataFrame'>\n",
      "RangeIndex: 17556 entries, 0 to 17555\n",
      "Data columns (total 12 columns):\n",
      " #   Column  Non-Null Count  Dtype \n",
      "---  ------  --------------  ----- \n",
      " 0   seq     17556 non-null  int64 \n",
      " 1   uid     17556 non-null  object\n",
      " 2   pid     17556 non-null  object\n",
      " 3   hid     17352 non-null  object\n",
      " 4   hzone   17556 non-null  object\n",
      " 5   ozone   17556 non-null  object\n",
      " 6   dzone   17556 non-null  object\n",
      " 7   purp    17556 non-null  object\n",
      " 8   mode    17556 non-null  object\n",
      " 9   tst     17556 non-null  object\n",
      " 10  tet     17556 non-null  object\n",
      " 11  freq    17556 non-null  object\n",
      "dtypes: int64(1), object(11)\n",
      "memory usage: 1.6+ MB\n"
     ]
    }
   ],
   "source": [
    "new_trips.info()"
   ]
  },
  {
   "cell_type": "code",
   "execution_count": 16,
   "metadata": {},
   "outputs": [
    {
     "data": {
      "text/plain": [
       "(array(['work', 'leisure', 'health', 'shopping', 'escort', 'education'],\n",
       "       dtype=object),\n",
       " array(['pt', 'bike', 'car', 'walk'], dtype=object))"
      ]
     },
     "execution_count": 16,
     "metadata": {},
     "output_type": "execute_result"
    }
   ],
   "source": [
    "new_trips['purp'].unique(), new_trips['mode'].unique()"
   ]
  },
  {
   "cell_type": "code",
   "execution_count": 17,
   "metadata": {},
   "outputs": [],
   "source": [
    "def print_simple_stats(population):\n",
    "    \"\"\"\n",
    "    Print some simple population statistics.\n",
    "    \"\"\"\n",
    "    time_at_home = 0\n",
    "    travel_time = 0 \n",
    "    low_income_central_trips = 0\n",
    "    high_income_central_trips = 0\n",
    "    \n",
    "    for hid, hh in population.households.items():\n",
    "        for pid, person in hh.people.items():\n",
    "            freq = person.freq\n",
    "            \n",
    "            for p in person.plan:\n",
    "                if p.act == 'travel':\n",
    "                    duration = p.duration.seconds * freq / 3600\n",
    "                    travel_time += duration\n",
    "                    \n",
    "                    if p.end_location.area == \"Westminster,City of London\":\n",
    "                        if person.attributes['inc'] == \"low\":\n",
    "                            low_income_central_trips += freq\n",
    "                            \n",
    "                        elif person.attributes['inc'] == \"high\":\n",
    "                            high_income_central_trips += freq\n",
    "                    \n",
    "                else:  # activity\n",
    "                    if p.act == 'home':\n",
    "                        duration = p.duration.seconds * freq / 3600\n",
    "                        time_at_home += duration\n",
    "                        \n",
    "    print(f\"Population total time at home: {time_at_home/1000000:.2f} million hours\")\n",
    "    print(f\"Population total travel time: {travel_time/1000000:.2f} million hours\")\n",
    "    print(f\"Low income trips to Central London: {low_income_central_trips} trips\")\n",
    "    print(f\"High income trips to Central London: {high_income_central_trips} trips\")"
   ]
  },
  {
   "cell_type": "markdown",
   "metadata": {},
   "source": [
    "## Create the population"
   ]
  },
  {
   "cell_type": "code",
   "execution_count": 18,
   "metadata": {},
   "outputs": [],
   "source": [
    "population = parse.load_travel_diary(new_trips, attributes)"
   ]
  },
  {
   "cell_type": "code",
   "execution_count": 19,
   "metadata": {},
   "outputs": [],
   "source": [
    "rando_hh_id = list(households_map.keys())[0]\n",
    "rando_pid_in_hh = list(population.households[rando_hh_id].people)[0]"
   ]
  },
  {
   "cell_type": "code",
   "execution_count": 20,
   "metadata": {},
   "outputs": [
    {
     "data": {
      "text/plain": [
       "{'census_1016': <pam.core.Person at 0x11fb3ec10>}"
      ]
     },
     "execution_count": 20,
     "metadata": {},
     "output_type": "execute_result"
    }
   ],
   "source": [
    "population.households[rando_hh_id].people"
   ]
  },
  {
   "cell_type": "code",
   "execution_count": 21,
   "metadata": {},
   "outputs": [
    {
     "name": "stdout",
     "output_type": "stream",
     "text": [
      "0:\tActivity(0 act:home, location:Barking and Dagenham, time:00:00:00 --> 07:21:00, duration:7:21:00)\n",
      "1:\tLeg(0 mode:car, area:Barking and Dagenham --> Barking and Dagenham, time:07:21:00 --> 07:30:00, duration:0:09:00)\n",
      "2:\tActivity(1 act:home, location:Barking and Dagenham, time:07:30:00 --> 07:48:00, duration:0:18:00)\n",
      "3:\tLeg(1 mode:car, area:Barking and Dagenham --> Waltham Forest, time:07:48:00 --> 11:09:00, duration:3:21:00)\n",
      "4:\tActivity(2 act:escort, location:Waltham Forest, time:11:09:00 --> 11:53:00, duration:0:44:00)\n",
      "5:\tLeg(2 mode:car, area:Waltham Forest --> Barking and Dagenham, time:11:53:00 --> 15:51:00, duration:3:58:00)\n",
      "6:\tActivity(3 act:home, location:Barking and Dagenham, time:15:51:00 --> 16:02:00, duration:0:11:00)\n",
      "7:\tLeg(3 mode:car, area:Barking and Dagenham --> Barking and Dagenham, time:16:02:00 --> 16:11:00, duration:0:09:00)\n",
      "8:\tActivity(4 act:home, location:Barking and Dagenham, time:16:11:00 --> 16:55:00, duration:0:44:00)\n",
      "9:\tLeg(4 mode:pt, area:Barking and Dagenham --> Harrow, time:16:55:00 --> 19:23:00, duration:2:28:00)\n",
      "10:\tActivity(5 act:shopping, location:Harrow, time:19:23:00 --> 20:32:00, duration:1:09:00)\n",
      "11:\tLeg(5 mode:pt, area:Harrow --> Barking and Dagenham, time:20:32:00 --> 20:36:00, duration:0:04:00)\n",
      "12:\tActivity(6 act:home, location:Barking and Dagenham, time:20:36:00 --> 00:00:00, duration:3:24:00)\n"
     ]
    }
   ],
   "source": [
    "population.households[rando_hh_id].people[rando_pid_in_hh].plan.print()"
   ]
  },
  {
   "cell_type": "code",
   "execution_count": 22,
   "metadata": {},
   "outputs": [
    {
     "data": {
      "text/plain": [
       "{'gender': 'other', 'job': 'work', 'occ': 'white', 'inc': 'low', 'age': 32}"
      ]
     },
     "execution_count": 22,
     "metadata": {},
     "output_type": "execute_result"
    }
   ],
   "source": [
    "population.households[rando_hh_id].people[rando_pid_in_hh].attributes"
   ]
  },
  {
   "cell_type": "code",
   "execution_count": 23,
   "metadata": {},
   "outputs": [
    {
     "name": "stdout",
     "output_type": "stream",
     "text": [
      "Population total time at home: 34.79 million hours\n",
      "Population total travel time: 19.07 million hours\n",
      "Low income trips to Central London: 508000 trips\n",
      "High income trips to Central London: 546000 trips\n"
     ]
    }
   ],
   "source": [
    "print_simple_stats(population)"
   ]
  },
  {
   "cell_type": "markdown",
   "metadata": {},
   "source": [
    "# PAM Simple Policies\n",
    "\n",
    "Based on [link](https://docs.google.com/spreadsheets/d/1FQMa7dLe2cv1NEZnbu5cZo3v07tKXINwvOaLQYoEp-M/edit#gid=0)"
   ]
  },
  {
   "cell_type": "code",
   "execution_count": 24,
   "metadata": {},
   "outputs": [],
   "source": [
    "from pam import modify\n",
    "\n",
    "def apply_policies(population, policies: list):\n",
    "\n",
    "    new_population = deepcopy(population) \n",
    "    for hid, household in new_population.households.items():\n",
    "        for policy in policies:\n",
    "            policy.apply_to(household)\n",
    "    return new_population"
   ]
  },
  {
   "cell_type": "markdown",
   "metadata": {},
   "source": [
    "## Household Quarantine\n",
    "\n",
    "Probabilistically apply quarantine to a household (remove all activities - stay at home) "
   ]
  },
  {
   "cell_type": "markdown",
   "metadata": {},
   "source": [
    "### Household-based\n",
    "\n",
    "If you have a probability of a household having to be quarantined"
   ]
  },
  {
   "cell_type": "code",
   "execution_count": 25,
   "metadata": {},
   "outputs": [],
   "source": [
    "policy_household_quarantine_per_household = modify.HouseholdQuarantined(\n",
    "    probability=0.01, \n",
    "    person_based=False)"
   ]
  },
  {
   "cell_type": "code",
   "execution_count": 26,
   "metadata": {},
   "outputs": [
    {
     "name": "stdout",
     "output_type": "stream",
     "text": [
      "Population total time at home: 34.25 million hours\n",
      "Population total travel time: 18.76 million hours\n",
      "Low income trips to Central London: 505000 trips\n",
      "High income trips to Central London: 539000 trips\n"
     ]
    }
   ],
   "source": [
    "print_simple_stats(apply_policies(population, [policy_household_quarantine_per_household]))"
   ]
  },
  {
   "cell_type": "markdown",
   "metadata": {},
   "source": [
    "### Person-based\n",
    "\n",
    "If you have a probability of any one person living in the household having to be quarantined.\n",
    "\n",
    "The probability of the household being quarantined is then $1 - (1-P)^n$, where $P$ is the probability any one person being quarantined and $n$ is the number of people in the household; $(1-P)^n$ is the probability of no one having to be quarantined."
   ]
  },
  {
   "cell_type": "code",
   "execution_count": 27,
   "metadata": {},
   "outputs": [],
   "source": [
    "policy_household_quarantine_per_person = modify.HouseholdQuarantined(\n",
    "    probability=0.01, \n",
    "    person_based=True)"
   ]
  },
  {
   "cell_type": "code",
   "execution_count": 28,
   "metadata": {},
   "outputs": [
    {
     "name": "stdout",
     "output_type": "stream",
     "text": [
      "Population total time at home: 33.51 million hours\n",
      "Population total travel time: 18.35 million hours\n",
      "Low income trips to Central London: 488000 trips\n",
      "High income trips to Central London: 530000 trips\n"
     ]
    }
   ],
   "source": [
    "print_simple_stats(apply_policies(population, [policy_household_quarantine_per_person]))"
   ]
  },
  {
   "cell_type": "markdown",
   "metadata": {},
   "source": [
    "(Should be equivalent to `RemoveActivity` removing all non-home activities with `policy_type='household'`, and `probability_level='person'`)"
   ]
  },
  {
   "cell_type": "code",
   "execution_count": 29,
   "metadata": {},
   "outputs": [
    {
     "name": "stdout",
     "output_type": "stream",
     "text": [
      "Population total time at home: 33.64 million hours\n",
      "Population total travel time: 18.44 million hours\n",
      "Low income trips to Central London: 484000 trips\n",
      "High income trips to Central London: 522000 trips\n"
     ]
    }
   ],
   "source": [
    "policy_remove_any_education = modify.RemoveActivity(\n",
    "    ['work', 'leisure', 'shopping', 'health', 'education', 'escort'], \n",
    "    policy_type='household',\n",
    "    probability_level='person',\n",
    "    probability=0.01)\n",
    "\n",
    "print_simple_stats(apply_policies(population, [policy_household_quarantine_per_person]))"
   ]
  },
  {
   "cell_type": "markdown",
   "metadata": {},
   "source": [
    "## Remove Higher Education\n",
    "\n",
    "Remove all education activity for persons over age of 17"
   ]
  },
  {
   "cell_type": "code",
   "execution_count": 30,
   "metadata": {},
   "outputs": [],
   "source": [
    "def age_condition_over_17(attribute_value):\n",
    "    return attribute_value > 17\n",
    "\n",
    "policy_remove_higher_education = modify.RemoveActivity(\n",
    "    ['education'],\n",
    "    probability=1, \n",
    "    policy_type='person',\n",
    "    probability_level='person',\n",
    "    attribute_conditions={'age': age_condition_over_17},\n",
    "    attribute_strict_conditions=True)"
   ]
  },
  {
   "cell_type": "code",
   "execution_count": 31,
   "metadata": {},
   "outputs": [
    {
     "name": "stdout",
     "output_type": "stream",
     "text": [
      "Population total time at home: 36.73 million hours\n",
      "Population total travel time: 17.57 million hours\n",
      "Low income trips to Central London: 446000 trips\n",
      "High income trips to Central London: 462000 trips\n"
     ]
    }
   ],
   "source": [
    "print_simple_stats(apply_policies(population, [policy_remove_higher_education]))"
   ]
  },
  {
   "cell_type": "markdown",
   "metadata": {},
   "source": [
    "## Remove Education\n",
    "\n",
    "Probabilistically remove education activities from a person"
   ]
  },
  {
   "cell_type": "code",
   "execution_count": 32,
   "metadata": {},
   "outputs": [],
   "source": [
    "policy_remove_any_education = modify.RemoveActivity(\n",
    "    ['education', 'escort'], \n",
    "    policy_type='household',\n",
    "    probability_level='person',\n",
    "    probability=0.95)"
   ]
  },
  {
   "cell_type": "code",
   "execution_count": 33,
   "metadata": {},
   "outputs": [
    {
     "name": "stdout",
     "output_type": "stream",
     "text": [
      "Population total time at home: 42.01 million hours\n",
      "Population total travel time: 14.73 million hours\n",
      "Low income trips to Central London: 418000 trips\n",
      "High income trips to Central London: 436000 trips\n"
     ]
    }
   ],
   "source": [
    "print_simple_stats(apply_policies(population, [policy_remove_any_education]))"
   ]
  },
  {
   "cell_type": "markdown",
   "metadata": {},
   "source": [
    "## Remove Leisure Activities\n",
    "\n",
    "Remove all leisure activities"
   ]
  },
  {
   "cell_type": "code",
   "execution_count": 34,
   "metadata": {},
   "outputs": [],
   "source": [
    "policy_remove_leisure = modify.RemoveActivity(\n",
    "    ['leisure'], \n",
    "    policy_type='person',\n",
    "    probability_level='person',\n",
    "    probability=1)"
   ]
  },
  {
   "cell_type": "code",
   "execution_count": 35,
   "metadata": {},
   "outputs": [
    {
     "name": "stdout",
     "output_type": "stream",
     "text": [
      "Population total time at home: 39.68 million hours\n",
      "Population total travel time: 16.44 million hours\n",
      "Low income trips to Central London: 491000 trips\n",
      "High income trips to Central London: 518000 trips\n"
     ]
    }
   ],
   "source": [
    "print_simple_stats(apply_policies(population, [policy_remove_leisure]))"
   ]
  },
  {
   "cell_type": "markdown",
   "metadata": {},
   "source": [
    "## Remove Health Activities\n",
    "\n",
    "Probabilistically remove **individual** health activities from a person"
   ]
  },
  {
   "cell_type": "code",
   "execution_count": 36,
   "metadata": {},
   "outputs": [],
   "source": [
    "policy_remove_health = modify.RemoveActivity(\n",
    "    ['health'], \n",
    "    policy_type='activity',\n",
    "    probability_level='activity',\n",
    "    probability=0.5)"
   ]
  },
  {
   "cell_type": "code",
   "execution_count": 37,
   "metadata": {},
   "outputs": [
    {
     "name": "stdout",
     "output_type": "stream",
     "text": [
      "Population total time at home: 37.43 million hours\n",
      "Population total travel time: 17.65 million hours\n",
      "Low income trips to Central London: 499000 trips\n",
      "High income trips to Central London: 532000 trips\n"
     ]
    }
   ],
   "source": [
    "print_simple_stats(apply_policies(population, [policy_remove_health]))"
   ]
  },
  {
   "cell_type": "markdown",
   "metadata": {},
   "source": [
    "## Unemployment/Furlough\n",
    "\n",
    "Probabilistically remove all work activities from a person"
   ]
  },
  {
   "cell_type": "code",
   "execution_count": 38,
   "metadata": {},
   "outputs": [],
   "source": [
    "policy_unemployment_and_furlough = modify.RemoveActivity(\n",
    "    ['work'], \n",
    "    policy_type='person',\n",
    "    probability_level='person',\n",
    "    probability=0.1)"
   ]
  },
  {
   "cell_type": "code",
   "execution_count": 39,
   "metadata": {},
   "outputs": [
    {
     "name": "stdout",
     "output_type": "stream",
     "text": [
      "Population total time at home: 35.33 million hours\n",
      "Population total travel time: 18.61 million hours\n",
      "Low income trips to Central London: 490000 trips\n",
      "High income trips to Central London: 512000 trips\n"
     ]
    }
   ],
   "source": [
    "print_simple_stats(apply_policies(population, [policy_unemployment_and_furlough]))"
   ]
  },
  {
   "cell_type": "markdown",
   "metadata": {},
   "source": [
    "## Work from Home\n",
    "\n",
    "Probabilistically remove all work activities from a person"
   ]
  },
  {
   "cell_type": "code",
   "execution_count": 40,
   "metadata": {},
   "outputs": [],
   "source": [
    "policy_work_from_home = modify.RemoveActivity(\n",
    "    ['work'], \n",
    "    policy_type='person',\n",
    "    probability_level='person',\n",
    "    probability=0.5)"
   ]
  },
  {
   "cell_type": "code",
   "execution_count": 41,
   "metadata": {},
   "outputs": [
    {
     "name": "stdout",
     "output_type": "stream",
     "text": [
      "Population total time at home: 37.60 million hours\n",
      "Population total travel time: 16.62 million hours\n",
      "Low income trips to Central London: 380000 trips\n",
      "High income trips to Central London: 398000 trips\n"
     ]
    }
   ],
   "source": [
    "print_simple_stats(apply_policies(population, [policy_work_from_home]))"
   ]
  },
  {
   "cell_type": "markdown",
   "metadata": {},
   "source": [
    "## Reduced Work Activity\n",
    "\n",
    "Probabilistically remove **individual** work activities from a person"
   ]
  },
  {
   "cell_type": "code",
   "execution_count": 42,
   "metadata": {},
   "outputs": [],
   "source": [
    "policy_reduced_work_activity = modify.RemoveActivity(\n",
    "    ['work'], \n",
    "    policy_type='activity',\n",
    "    probability_level='activity',\n",
    "    probability=0.2)"
   ]
  },
  {
   "cell_type": "code",
   "execution_count": 43,
   "metadata": {},
   "outputs": [
    {
     "name": "stdout",
     "output_type": "stream",
     "text": [
      "Population total time at home: 35.95 million hours\n",
      "Population total travel time: 18.11 million hours\n",
      "Low income trips to Central London: 457000 trips\n",
      "High income trips to Central London: 489000 trips\n"
     ]
    }
   ],
   "source": [
    "print_simple_stats(apply_policies(population, [policy_reduced_work_activity]))"
   ]
  },
  {
   "cell_type": "markdown",
   "metadata": {},
   "source": [
    "## Remove Shopping \n",
    "\n",
    "Probabilistically remove **individual** shopping activities from a person"
   ]
  },
  {
   "cell_type": "code",
   "execution_count": 44,
   "metadata": {},
   "outputs": [],
   "source": [
    "policy_remove_shopping = modify.RemoveActivity(\n",
    "    ['shop'],\n",
    "    policy_type='activity',\n",
    "    probability_level='activity',\n",
    "    probability=0.5)"
   ]
  },
  {
   "cell_type": "code",
   "execution_count": 45,
   "metadata": {},
   "outputs": [
    {
     "name": "stdout",
     "output_type": "stream",
     "text": [
      "Population total time at home: 34.79 million hours\n",
      "Population total travel time: 19.07 million hours\n",
      "Low income trips to Central London: 508000 trips\n",
      "High income trips to Central London: 546000 trips\n"
     ]
    }
   ],
   "source": [
    "print_simple_stats(apply_policies(population, [policy_remove_shopping]))"
   ]
  },
  {
   "cell_type": "markdown",
   "metadata": {},
   "source": [
    "## All together now!"
   ]
  },
  {
   "cell_type": "code",
   "execution_count": 46,
   "metadata": {},
   "outputs": [
    {
     "name": "stdout",
     "output_type": "stream",
     "text": [
      "Population total time at home: 53.75 million hours\n",
      "Population total travel time: 6.97 million hours\n",
      "Low income trips to Central London: 170000 trips\n",
      "High income trips to Central London: 193000 trips\n"
     ]
    }
   ],
   "source": [
    "all_together_pop = apply_policies(\n",
    "    population, \n",
    "    [policy_household_quarantine_per_person, \n",
    "     policy_remove_higher_education, \n",
    "     policy_remove_any_education, \n",
    "     policy_remove_leisure, \n",
    "     policy_remove_health, \n",
    "     policy_unemployment_and_furlough, \n",
    "     policy_work_from_home, \n",
    "     policy_reduced_work_activity, \n",
    "     policy_remove_shopping])\n",
    "\n",
    "print_simple_stats(all_together_pop)"
   ]
  },
  {
   "cell_type": "code",
   "execution_count": null,
   "metadata": {},
   "outputs": [],
   "source": []
  },
  {
   "cell_type": "code",
   "execution_count": null,
   "metadata": {},
   "outputs": [],
   "source": []
  }
 ],
 "metadata": {
  "kernelspec": {
   "display_name": "Python (pam)",
   "language": "python",
   "name": "pam"
  },
  "language_info": {
   "codemirror_mode": {
    "name": "ipython",
    "version": 3
   },
   "file_extension": ".py",
   "mimetype": "text/x-python",
   "name": "python",
   "nbconvert_exporter": "python",
   "pygments_lexer": "ipython3",
   "version": "3.7.5"
  }
 },
 "nbformat": 4,
 "nbformat_minor": 4
}
