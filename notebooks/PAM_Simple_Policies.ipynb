{
 "cells": [
  {
   "cell_type": "code",
   "execution_count": 1,
   "metadata": {
    "ExecuteTime": {
     "end_time": "2020-05-18T14:47:59.072362Z",
     "start_time": "2020-05-18T14:47:57.931055Z"
    }
   },
   "outputs": [],
   "source": [
    "import os\n",
    "import pandas as pd\n",
    "import random\n",
    "from copy import deepcopy\n",
    "from collections import defaultdict\n",
    "import geopandas as gp\n",
    "from matplotlib import pyplot as plt\n",
    "from pam import read\n",
    "\n",
    "path_to_repo = '/Users/.../PythonProjects/pam'"
   ]
  },
  {
   "cell_type": "markdown",
   "metadata": {},
   "source": [
    "## Load Data\n",
    "Here we load simple travel diary data of London commuters. This is a very simple 0.1% sample of data about work and education commutes from the 2011 census. Because we're sharing this date - we've aggregated locations to borough level and randomized personal attributes - so don't get too excited about the results.\n",
    "\n",
    "The data is available in `pam/example_data`."
   ]
  },
  {
   "cell_type": "code",
   "execution_count": 2,
   "metadata": {
    "ExecuteTime": {
     "end_time": "2020-05-18T14:44:51.776015Z",
     "start_time": "2020-05-18T14:44:51.729785Z"
    }
   },
   "outputs": [],
   "source": [
    "trips = pd.read_csv(os.path.join(path_to_repo, 'example_data', 'example_travel_diaries.csv'))\n",
    "attributes = pd.read_csv(os.path.join(path_to_repo, 'example_data' , 'example_attributes.csv'))\n",
    "attributes.set_index('pid', inplace=True)"
   ]
  },
  {
   "cell_type": "code",
   "execution_count": 3,
   "metadata": {
    "ExecuteTime": {
     "end_time": "2020-05-18T14:44:51.798906Z",
     "start_time": "2020-05-18T14:44:51.779811Z"
    }
   },
   "outputs": [
    {
     "data": {
      "text/html": [
       "<div>\n",
       "<style scoped>\n",
       "    .dataframe tbody tr th:only-of-type {\n",
       "        vertical-align: middle;\n",
       "    }\n",
       "\n",
       "    .dataframe tbody tr th {\n",
       "        vertical-align: top;\n",
       "    }\n",
       "\n",
       "    .dataframe thead th {\n",
       "        text-align: right;\n",
       "    }\n",
       "</style>\n",
       "<table border=\"1\" class=\"dataframe\">\n",
       "  <thead>\n",
       "    <tr style=\"text-align: right;\">\n",
       "      <th></th>\n",
       "      <th>gender</th>\n",
       "      <th>job</th>\n",
       "      <th>occ</th>\n",
       "      <th>inc</th>\n",
       "    </tr>\n",
       "    <tr>\n",
       "      <th>pid</th>\n",
       "      <th></th>\n",
       "      <th></th>\n",
       "      <th></th>\n",
       "      <th></th>\n",
       "    </tr>\n",
       "  </thead>\n",
       "  <tbody>\n",
       "    <tr>\n",
       "      <th>census_0</th>\n",
       "      <td>female</td>\n",
       "      <td>work</td>\n",
       "      <td>white</td>\n",
       "      <td>low</td>\n",
       "    </tr>\n",
       "    <tr>\n",
       "      <th>census_1</th>\n",
       "      <td>female</td>\n",
       "      <td>work</td>\n",
       "      <td>white</td>\n",
       "      <td>low</td>\n",
       "    </tr>\n",
       "    <tr>\n",
       "      <th>census_2</th>\n",
       "      <td>male</td>\n",
       "      <td>work</td>\n",
       "      <td>blue</td>\n",
       "      <td>high</td>\n",
       "    </tr>\n",
       "    <tr>\n",
       "      <th>census_3</th>\n",
       "      <td>male</td>\n",
       "      <td>work</td>\n",
       "      <td>blue</td>\n",
       "      <td>low</td>\n",
       "    </tr>\n",
       "    <tr>\n",
       "      <th>census_4</th>\n",
       "      <td>male</td>\n",
       "      <td>work</td>\n",
       "      <td>blue</td>\n",
       "      <td>medium</td>\n",
       "    </tr>\n",
       "  </tbody>\n",
       "</table>\n",
       "</div>"
      ],
      "text/plain": [
       "          gender   job    occ     inc\n",
       "pid                                  \n",
       "census_0  female  work  white     low\n",
       "census_1  female  work  white     low\n",
       "census_2    male  work   blue    high\n",
       "census_3    male  work   blue     low\n",
       "census_4    male  work   blue  medium"
      ]
     },
     "execution_count": 3,
     "metadata": {},
     "output_type": "execute_result"
    }
   ],
   "source": [
    "attributes.head()"
   ]
  },
  {
   "cell_type": "code",
   "execution_count": 4,
   "metadata": {
    "ExecuteTime": {
     "end_time": "2020-05-18T14:44:51.836916Z",
     "start_time": "2020-05-18T14:44:51.802201Z"
    }
   },
   "outputs": [
    {
     "data": {
      "text/html": [
       "<div>\n",
       "<style scoped>\n",
       "    .dataframe tbody tr th:only-of-type {\n",
       "        vertical-align: middle;\n",
       "    }\n",
       "\n",
       "    .dataframe tbody tr th {\n",
       "        vertical-align: top;\n",
       "    }\n",
       "\n",
       "    .dataframe thead th {\n",
       "        text-align: right;\n",
       "    }\n",
       "</style>\n",
       "<table border=\"1\" class=\"dataframe\">\n",
       "  <thead>\n",
       "    <tr style=\"text-align: right;\">\n",
       "      <th></th>\n",
       "      <th>uid</th>\n",
       "      <th>pid</th>\n",
       "      <th>hid</th>\n",
       "      <th>seq</th>\n",
       "      <th>hzone</th>\n",
       "      <th>ozone</th>\n",
       "      <th>dzone</th>\n",
       "      <th>purp</th>\n",
       "      <th>mode</th>\n",
       "      <th>tst</th>\n",
       "      <th>tet</th>\n",
       "      <th>freq</th>\n",
       "    </tr>\n",
       "  </thead>\n",
       "  <tbody>\n",
       "    <tr>\n",
       "      <th>0</th>\n",
       "      <td>0</td>\n",
       "      <td>census_0</td>\n",
       "      <td>census_0</td>\n",
       "      <td>0</td>\n",
       "      <td>Harrow</td>\n",
       "      <td>Harrow</td>\n",
       "      <td>Camden</td>\n",
       "      <td>work</td>\n",
       "      <td>pt</td>\n",
       "      <td>444</td>\n",
       "      <td>473</td>\n",
       "      <td>1000</td>\n",
       "    </tr>\n",
       "    <tr>\n",
       "      <th>1</th>\n",
       "      <td>1</td>\n",
       "      <td>census_0</td>\n",
       "      <td>census_0</td>\n",
       "      <td>1</td>\n",
       "      <td>Harrow</td>\n",
       "      <td>Camden</td>\n",
       "      <td>Harrow</td>\n",
       "      <td>work</td>\n",
       "      <td>pt</td>\n",
       "      <td>890</td>\n",
       "      <td>919</td>\n",
       "      <td>1000</td>\n",
       "    </tr>\n",
       "    <tr>\n",
       "      <th>2</th>\n",
       "      <td>2</td>\n",
       "      <td>census_1</td>\n",
       "      <td>census_1</td>\n",
       "      <td>0</td>\n",
       "      <td>Greenwich</td>\n",
       "      <td>Greenwich</td>\n",
       "      <td>Tower Hamlets</td>\n",
       "      <td>work</td>\n",
       "      <td>pt</td>\n",
       "      <td>507</td>\n",
       "      <td>528</td>\n",
       "      <td>1000</td>\n",
       "    </tr>\n",
       "    <tr>\n",
       "      <th>3</th>\n",
       "      <td>3</td>\n",
       "      <td>census_1</td>\n",
       "      <td>census_1</td>\n",
       "      <td>1</td>\n",
       "      <td>Greenwich</td>\n",
       "      <td>Tower Hamlets</td>\n",
       "      <td>Greenwich</td>\n",
       "      <td>work</td>\n",
       "      <td>pt</td>\n",
       "      <td>1065</td>\n",
       "      <td>1086</td>\n",
       "      <td>1000</td>\n",
       "    </tr>\n",
       "    <tr>\n",
       "      <th>4</th>\n",
       "      <td>4</td>\n",
       "      <td>census_2</td>\n",
       "      <td>census_2</td>\n",
       "      <td>0</td>\n",
       "      <td>Croydon</td>\n",
       "      <td>Croydon</td>\n",
       "      <td>Croydon</td>\n",
       "      <td>work</td>\n",
       "      <td>pt</td>\n",
       "      <td>422</td>\n",
       "      <td>425</td>\n",
       "      <td>1000</td>\n",
       "    </tr>\n",
       "  </tbody>\n",
       "</table>\n",
       "</div>"
      ],
      "text/plain": [
       "   uid       pid       hid  seq      hzone          ozone          dzone  \\\n",
       "0    0  census_0  census_0    0     Harrow         Harrow         Camden   \n",
       "1    1  census_0  census_0    1     Harrow         Camden         Harrow   \n",
       "2    2  census_1  census_1    0  Greenwich      Greenwich  Tower Hamlets   \n",
       "3    3  census_1  census_1    1  Greenwich  Tower Hamlets      Greenwich   \n",
       "4    4  census_2  census_2    0    Croydon        Croydon        Croydon   \n",
       "\n",
       "   purp mode   tst   tet  freq  \n",
       "0  work   pt   444   473  1000  \n",
       "1  work   pt   890   919  1000  \n",
       "2  work   pt   507   528  1000  \n",
       "3  work   pt  1065  1086  1000  \n",
       "4  work   pt   422   425  1000  "
      ]
     },
     "execution_count": 4,
     "metadata": {},
     "output_type": "execute_result"
    }
   ],
   "source": [
    "trips.head()"
   ]
  },
  {
   "cell_type": "code",
   "execution_count": 5,
   "metadata": {
    "ExecuteTime": {
     "end_time": "2020-05-18T14:44:51.859726Z",
     "start_time": "2020-05-18T14:44:51.843782Z"
    }
   },
   "outputs": [
    {
     "data": {
      "text/plain": [
       "(array(['work', 'education'], dtype=object),\n",
       " array(['pt', 'car'], dtype=object))"
      ]
     },
     "execution_count": 5,
     "metadata": {},
     "output_type": "execute_result"
    }
   ],
   "source": [
    "trips['purp'].unique(), trips['mode'].unique()"
   ]
  },
  {
   "cell_type": "markdown",
   "metadata": {},
   "source": [
    "## Imagine we had better data...\n",
    "\n",
    "Conjure up additional data to aid demonstration.\n",
    "\n",
    "We add:\n",
    "- `age` to person attributes\n",
    "- activities: \n",
    "    - `leisure`\n",
    "    - `health`\n",
    "    - `shopping`\n",
    "    - `escort`\n",
    "\n",
    "and we put people in shared households based on shared hzone (originally it's one person per household)\n",
    "\n",
    "**Randomly.**"
   ]
  },
  {
   "cell_type": "code",
   "execution_count": 6,
   "metadata": {
    "ExecuteTime": {
     "end_time": "2020-05-18T14:44:51.876738Z",
     "start_time": "2020-05-18T14:44:51.862168Z"
    }
   },
   "outputs": [],
   "source": [
    "import numpy as np\n",
    "\n",
    "# add age column to attributes\n",
    "attributes['age'] = [int(a) for a in np.random.normal(40.5, 10, len(attributes))]"
   ]
  },
  {
   "cell_type": "code",
   "execution_count": 7,
   "metadata": {
    "ExecuteTime": {
     "end_time": "2020-05-18T14:45:49.406759Z",
     "start_time": "2020-05-18T14:44:51.881472Z"
    }
   },
   "outputs": [],
   "source": [
    "# add some extra activities to trips\n",
    "zones = list(set(trips['hzone'].unique()) | set(trips['ozone'].unique()) | set(trips['dzone'].unique()))\n",
    "purp = ['leisure', 'health', 'shopping', 'escort']\n",
    "mode = ['pt', 'car', 'walk', 'bike']\n",
    "\n",
    "def enrich_activities(group):\n",
    "    new_group = pd.DataFrame(columns=group.columns)\n",
    "    for idx in group.index:\n",
    "        trip = group.loc[idx, :]\n",
    "        try:\n",
    "            next_start = group.loc[idx+1, :]['tst']\n",
    "        except KeyError:\n",
    "            next_start = 1439\n",
    "        new_group = new_group.append(trip)\n",
    "        # append a random activity\n",
    "        activity_loc = random.choice(zones)\n",
    "        activity_purp = random.choice(purp)\n",
    "        activity_mode = random.choice(mode)\n",
    "\n",
    "        act_times = [random.randint(trip['tet']+1, next_start-1) for i in range(4)]\n",
    "        act_times.sort()\n",
    "\n",
    "        new_group = new_group.append(pd.DataFrame(\n",
    "            {'uid': ['{}_act_to'.format(trip['uid']), '{}_act_from'.format(trip['uid'])], \n",
    "             'pid': [trip['pid'], trip['pid']], 'hid': [trip['hid'], trip['hid']], \n",
    "             'seq': [0, 0], 'hzone': [trip['hzone'], trip['hzone']], 'ozone': [trip['dzone'], activity_loc], \n",
    "             'dzone': [activity_loc, trip['ozone']], 'purp': [activity_purp, activity_purp], \n",
    "             'mode': [activity_mode, activity_mode], 'tst': [act_times[0], act_times[2]], \n",
    "             'tet': [act_times[1], act_times[3]], 'freq': [trip['freq'], trip['freq']]}))\n",
    "    new_group = new_group.reset_index(drop=True)\n",
    "    new_group = new_group.drop(['seq'], axis=1)\n",
    "    new_group = new_group.rename_axis('seq').reset_index()\n",
    "    return new_group\n",
    "\n",
    "new_trips = trips.groupby('pid').apply(enrich_activities).reset_index(drop=True)"
   ]
  },
  {
   "cell_type": "code",
   "execution_count": 8,
   "metadata": {
    "ExecuteTime": {
     "end_time": "2020-05-18T14:45:49.419778Z",
     "start_time": "2020-05-18T14:45:49.410666Z"
    }
   },
   "outputs": [],
   "source": [
    "# generate some households (as opposed one person to a household)\n",
    "# bunch up people who share the same hzone\n",
    "import uuid\n",
    "\n",
    "def bunch_up_people(group):\n",
    "    group['pid'].unique()\n",
    "    households = []\n",
    "    i = 1\n",
    "    household= []\n",
    "    h_size = random.randint(1,5)\n",
    "    for p in group['pid'].unique():\n",
    "        household.append(p)\n",
    "        i += 1\n",
    "\n",
    "        if i>h_size:\n",
    "            households.append(household)\n",
    "            h_size = random.randint(1,5)\n",
    "            household= []\n",
    "            i = 1\n",
    "\n",
    "    return dict(zip([str(uuid.uuid4()) for i in range(len(households))], households))"
   ]
  },
  {
   "cell_type": "code",
   "execution_count": 9,
   "metadata": {
    "ExecuteTime": {
     "end_time": "2020-05-18T14:45:49.473977Z",
     "start_time": "2020-05-18T14:45:49.423288Z"
    }
   },
   "outputs": [],
   "source": [
    "households_map = {}\n",
    "households_per_zone = new_trips.groupby('hzone').apply(bunch_up_people)\n",
    "for idx in households_per_zone.index:\n",
    "    households_map = {**households_map, **households_per_zone[idx]}"
   ]
  },
  {
   "cell_type": "code",
   "execution_count": 10,
   "metadata": {
    "ExecuteTime": {
     "end_time": "2020-05-18T14:45:49.482719Z",
     "start_time": "2020-05-18T14:45:49.475829Z"
    }
   },
   "outputs": [],
   "source": [
    "# ze old switcheroo person to household id\n",
    "new_keys = []\n",
    "new_values = []\n",
    "for key, value in households_map.items():\n",
    "    for item in value:\n",
    "        new_keys.append(item)\n",
    "        new_values.append(key.lower())\n",
    "person_to_household_map = dict(zip(new_keys, new_values))"
   ]
  },
  {
   "cell_type": "code",
   "execution_count": 11,
   "metadata": {
    "ExecuteTime": {
     "end_time": "2020-05-18T14:45:49.492220Z",
     "start_time": "2020-05-18T14:45:49.485504Z"
    }
   },
   "outputs": [
    {
     "data": {
      "text/plain": [
       "{'census_1016': '3a4525c6-33ca-4466-a8fd-d9518801dee0',\n",
       " 'census_1043': '3a4525c6-33ca-4466-a8fd-d9518801dee0',\n",
       " 'census_1197': '3a4525c6-33ca-4466-a8fd-d9518801dee0',\n",
       " 'census_1247': '3a4525c6-33ca-4466-a8fd-d9518801dee0',\n",
       " 'census_1272': '37206b39-a15d-40e8-85b6-2844748f7629',\n",
       " 'census_128': '57422cd8-a66c-4cc7-8dfb-cb6df01ec309',\n",
       " 'census_1281': '57422cd8-a66c-4cc7-8dfb-cb6df01ec309',\n",
       " 'census_1287': '57422cd8-a66c-4cc7-8dfb-cb6df01ec309',\n",
       " 'census_1375': '57422cd8-a66c-4cc7-8dfb-cb6df01ec309',\n",
       " 'census_1418': '57422cd8-a66c-4cc7-8dfb-cb6df01ec309',\n",
       " 'census_1420': '04e5e3e7-8883-409d-a73c-9a0cdb2a955d',\n",
       " 'census_1536': '04e5e3e7-8883-409d-a73c-9a0cdb2a955d',\n",
       " 'census_1665': 'e198228e-8745-442a-8885-9540a864ff62',\n",
       " 'census_1670': '1d84451c-5c51-4fc4-9c1a-284eae1c0124',\n",
       " 'census_1690': '1d84451c-5c51-4fc4-9c1a-284eae1c0124'}"
      ]
     },
     "execution_count": 11,
     "metadata": {},
     "output_type": "execute_result"
    }
   ],
   "source": [
    "dict(list(person_to_household_map.items())[0:15])"
   ]
  },
  {
   "cell_type": "code",
   "execution_count": 12,
   "metadata": {
    "ExecuteTime": {
     "end_time": "2020-05-18T14:45:49.512421Z",
     "start_time": "2020-05-18T14:45:49.501535Z"
    }
   },
   "outputs": [],
   "source": [
    "new_trips['hid'] = new_trips['pid'].map(person_to_household_map)"
   ]
  },
  {
   "cell_type": "markdown",
   "metadata": {},
   "source": [
    "## Input data after changes "
   ]
  },
  {
   "cell_type": "code",
   "execution_count": 13,
   "metadata": {
    "ExecuteTime": {
     "end_time": "2020-05-18T14:45:49.528397Z",
     "start_time": "2020-05-18T14:45:49.515872Z"
    }
   },
   "outputs": [
    {
     "data": {
      "text/html": [
       "<div>\n",
       "<style scoped>\n",
       "    .dataframe tbody tr th:only-of-type {\n",
       "        vertical-align: middle;\n",
       "    }\n",
       "\n",
       "    .dataframe tbody tr th {\n",
       "        vertical-align: top;\n",
       "    }\n",
       "\n",
       "    .dataframe thead th {\n",
       "        text-align: right;\n",
       "    }\n",
       "</style>\n",
       "<table border=\"1\" class=\"dataframe\">\n",
       "  <thead>\n",
       "    <tr style=\"text-align: right;\">\n",
       "      <th></th>\n",
       "      <th>gender</th>\n",
       "      <th>job</th>\n",
       "      <th>occ</th>\n",
       "      <th>inc</th>\n",
       "      <th>age</th>\n",
       "    </tr>\n",
       "    <tr>\n",
       "      <th>pid</th>\n",
       "      <th></th>\n",
       "      <th></th>\n",
       "      <th></th>\n",
       "      <th></th>\n",
       "      <th></th>\n",
       "    </tr>\n",
       "  </thead>\n",
       "  <tbody>\n",
       "    <tr>\n",
       "      <th>census_0</th>\n",
       "      <td>female</td>\n",
       "      <td>work</td>\n",
       "      <td>white</td>\n",
       "      <td>low</td>\n",
       "      <td>45</td>\n",
       "    </tr>\n",
       "    <tr>\n",
       "      <th>census_1</th>\n",
       "      <td>female</td>\n",
       "      <td>work</td>\n",
       "      <td>white</td>\n",
       "      <td>low</td>\n",
       "      <td>24</td>\n",
       "    </tr>\n",
       "    <tr>\n",
       "      <th>census_2</th>\n",
       "      <td>male</td>\n",
       "      <td>work</td>\n",
       "      <td>blue</td>\n",
       "      <td>high</td>\n",
       "      <td>63</td>\n",
       "    </tr>\n",
       "    <tr>\n",
       "      <th>census_3</th>\n",
       "      <td>male</td>\n",
       "      <td>work</td>\n",
       "      <td>blue</td>\n",
       "      <td>low</td>\n",
       "      <td>28</td>\n",
       "    </tr>\n",
       "    <tr>\n",
       "      <th>census_4</th>\n",
       "      <td>male</td>\n",
       "      <td>work</td>\n",
       "      <td>blue</td>\n",
       "      <td>medium</td>\n",
       "      <td>26</td>\n",
       "    </tr>\n",
       "  </tbody>\n",
       "</table>\n",
       "</div>"
      ],
      "text/plain": [
       "          gender   job    occ     inc  age\n",
       "pid                                       \n",
       "census_0  female  work  white     low   45\n",
       "census_1  female  work  white     low   24\n",
       "census_2    male  work   blue    high   63\n",
       "census_3    male  work   blue     low   28\n",
       "census_4    male  work   blue  medium   26"
      ]
     },
     "execution_count": 13,
     "metadata": {},
     "output_type": "execute_result"
    }
   ],
   "source": [
    "attributes.head()"
   ]
  },
  {
   "cell_type": "code",
   "execution_count": 14,
   "metadata": {
    "ExecuteTime": {
     "end_time": "2020-05-18T14:45:49.564355Z",
     "start_time": "2020-05-18T14:45:49.530945Z"
    }
   },
   "outputs": [
    {
     "data": {
      "text/html": [
       "<div>\n",
       "<style scoped>\n",
       "    .dataframe tbody tr th:only-of-type {\n",
       "        vertical-align: middle;\n",
       "    }\n",
       "\n",
       "    .dataframe tbody tr th {\n",
       "        vertical-align: top;\n",
       "    }\n",
       "\n",
       "    .dataframe thead th {\n",
       "        text-align: right;\n",
       "    }\n",
       "</style>\n",
       "<table border=\"1\" class=\"dataframe\">\n",
       "  <thead>\n",
       "    <tr style=\"text-align: right;\">\n",
       "      <th></th>\n",
       "      <th>seq</th>\n",
       "      <th>uid</th>\n",
       "      <th>pid</th>\n",
       "      <th>hid</th>\n",
       "      <th>hzone</th>\n",
       "      <th>ozone</th>\n",
       "      <th>dzone</th>\n",
       "      <th>purp</th>\n",
       "      <th>mode</th>\n",
       "      <th>tst</th>\n",
       "      <th>tet</th>\n",
       "      <th>freq</th>\n",
       "    </tr>\n",
       "  </thead>\n",
       "  <tbody>\n",
       "    <tr>\n",
       "      <th>0</th>\n",
       "      <td>0</td>\n",
       "      <td>0</td>\n",
       "      <td>census_0</td>\n",
       "      <td>db69c57d-6250-4799-ad93-240b8276638b</td>\n",
       "      <td>Harrow</td>\n",
       "      <td>Harrow</td>\n",
       "      <td>Camden</td>\n",
       "      <td>work</td>\n",
       "      <td>pt</td>\n",
       "      <td>444</td>\n",
       "      <td>473</td>\n",
       "      <td>1000</td>\n",
       "    </tr>\n",
       "    <tr>\n",
       "      <th>1</th>\n",
       "      <td>1</td>\n",
       "      <td>0_act_to</td>\n",
       "      <td>census_0</td>\n",
       "      <td>db69c57d-6250-4799-ad93-240b8276638b</td>\n",
       "      <td>Harrow</td>\n",
       "      <td>Camden</td>\n",
       "      <td>Hounslow</td>\n",
       "      <td>shopping</td>\n",
       "      <td>bike</td>\n",
       "      <td>499</td>\n",
       "      <td>519</td>\n",
       "      <td>1000</td>\n",
       "    </tr>\n",
       "    <tr>\n",
       "      <th>2</th>\n",
       "      <td>2</td>\n",
       "      <td>0_act_from</td>\n",
       "      <td>census_0</td>\n",
       "      <td>db69c57d-6250-4799-ad93-240b8276638b</td>\n",
       "      <td>Harrow</td>\n",
       "      <td>Hounslow</td>\n",
       "      <td>Harrow</td>\n",
       "      <td>shopping</td>\n",
       "      <td>bike</td>\n",
       "      <td>533</td>\n",
       "      <td>801</td>\n",
       "      <td>1000</td>\n",
       "    </tr>\n",
       "    <tr>\n",
       "      <th>3</th>\n",
       "      <td>3</td>\n",
       "      <td>1</td>\n",
       "      <td>census_0</td>\n",
       "      <td>db69c57d-6250-4799-ad93-240b8276638b</td>\n",
       "      <td>Harrow</td>\n",
       "      <td>Camden</td>\n",
       "      <td>Harrow</td>\n",
       "      <td>work</td>\n",
       "      <td>pt</td>\n",
       "      <td>890</td>\n",
       "      <td>919</td>\n",
       "      <td>1000</td>\n",
       "    </tr>\n",
       "    <tr>\n",
       "      <th>4</th>\n",
       "      <td>4</td>\n",
       "      <td>1_act_to</td>\n",
       "      <td>census_0</td>\n",
       "      <td>db69c57d-6250-4799-ad93-240b8276638b</td>\n",
       "      <td>Harrow</td>\n",
       "      <td>Harrow</td>\n",
       "      <td>Kensington and Chelsea</td>\n",
       "      <td>shopping</td>\n",
       "      <td>bike</td>\n",
       "      <td>996</td>\n",
       "      <td>1166</td>\n",
       "      <td>1000</td>\n",
       "    </tr>\n",
       "    <tr>\n",
       "      <th>5</th>\n",
       "      <td>5</td>\n",
       "      <td>1_act_from</td>\n",
       "      <td>census_0</td>\n",
       "      <td>db69c57d-6250-4799-ad93-240b8276638b</td>\n",
       "      <td>Harrow</td>\n",
       "      <td>Kensington and Chelsea</td>\n",
       "      <td>Camden</td>\n",
       "      <td>shopping</td>\n",
       "      <td>bike</td>\n",
       "      <td>1247</td>\n",
       "      <td>1326</td>\n",
       "      <td>1000</td>\n",
       "    </tr>\n",
       "    <tr>\n",
       "      <th>6</th>\n",
       "      <td>0</td>\n",
       "      <td>2</td>\n",
       "      <td>census_1</td>\n",
       "      <td>d6bcd841-4127-4ab9-a8c3-46153924480e</td>\n",
       "      <td>Greenwich</td>\n",
       "      <td>Greenwich</td>\n",
       "      <td>Tower Hamlets</td>\n",
       "      <td>work</td>\n",
       "      <td>pt</td>\n",
       "      <td>507</td>\n",
       "      <td>528</td>\n",
       "      <td>1000</td>\n",
       "    </tr>\n",
       "    <tr>\n",
       "      <th>7</th>\n",
       "      <td>1</td>\n",
       "      <td>2_act_to</td>\n",
       "      <td>census_1</td>\n",
       "      <td>d6bcd841-4127-4ab9-a8c3-46153924480e</td>\n",
       "      <td>Greenwich</td>\n",
       "      <td>Tower Hamlets</td>\n",
       "      <td>Waltham Forest</td>\n",
       "      <td>health</td>\n",
       "      <td>car</td>\n",
       "      <td>543</td>\n",
       "      <td>663</td>\n",
       "      <td>1000</td>\n",
       "    </tr>\n",
       "    <tr>\n",
       "      <th>8</th>\n",
       "      <td>2</td>\n",
       "      <td>2_act_from</td>\n",
       "      <td>census_1</td>\n",
       "      <td>d6bcd841-4127-4ab9-a8c3-46153924480e</td>\n",
       "      <td>Greenwich</td>\n",
       "      <td>Waltham Forest</td>\n",
       "      <td>Greenwich</td>\n",
       "      <td>health</td>\n",
       "      <td>car</td>\n",
       "      <td>939</td>\n",
       "      <td>942</td>\n",
       "      <td>1000</td>\n",
       "    </tr>\n",
       "    <tr>\n",
       "      <th>9</th>\n",
       "      <td>3</td>\n",
       "      <td>3</td>\n",
       "      <td>census_1</td>\n",
       "      <td>d6bcd841-4127-4ab9-a8c3-46153924480e</td>\n",
       "      <td>Greenwich</td>\n",
       "      <td>Tower Hamlets</td>\n",
       "      <td>Greenwich</td>\n",
       "      <td>work</td>\n",
       "      <td>pt</td>\n",
       "      <td>1065</td>\n",
       "      <td>1086</td>\n",
       "      <td>1000</td>\n",
       "    </tr>\n",
       "  </tbody>\n",
       "</table>\n",
       "</div>"
      ],
      "text/plain": [
       "   seq         uid       pid                                   hid      hzone  \\\n",
       "0    0           0  census_0  db69c57d-6250-4799-ad93-240b8276638b     Harrow   \n",
       "1    1    0_act_to  census_0  db69c57d-6250-4799-ad93-240b8276638b     Harrow   \n",
       "2    2  0_act_from  census_0  db69c57d-6250-4799-ad93-240b8276638b     Harrow   \n",
       "3    3           1  census_0  db69c57d-6250-4799-ad93-240b8276638b     Harrow   \n",
       "4    4    1_act_to  census_0  db69c57d-6250-4799-ad93-240b8276638b     Harrow   \n",
       "5    5  1_act_from  census_0  db69c57d-6250-4799-ad93-240b8276638b     Harrow   \n",
       "6    0           2  census_1  d6bcd841-4127-4ab9-a8c3-46153924480e  Greenwich   \n",
       "7    1    2_act_to  census_1  d6bcd841-4127-4ab9-a8c3-46153924480e  Greenwich   \n",
       "8    2  2_act_from  census_1  d6bcd841-4127-4ab9-a8c3-46153924480e  Greenwich   \n",
       "9    3           3  census_1  d6bcd841-4127-4ab9-a8c3-46153924480e  Greenwich   \n",
       "\n",
       "                    ozone                   dzone      purp  mode   tst   tet  \\\n",
       "0                  Harrow                  Camden      work    pt   444   473   \n",
       "1                  Camden                Hounslow  shopping  bike   499   519   \n",
       "2                Hounslow                  Harrow  shopping  bike   533   801   \n",
       "3                  Camden                  Harrow      work    pt   890   919   \n",
       "4                  Harrow  Kensington and Chelsea  shopping  bike   996  1166   \n",
       "5  Kensington and Chelsea                  Camden  shopping  bike  1247  1326   \n",
       "6               Greenwich           Tower Hamlets      work    pt   507   528   \n",
       "7           Tower Hamlets          Waltham Forest    health   car   543   663   \n",
       "8          Waltham Forest               Greenwich    health   car   939   942   \n",
       "9           Tower Hamlets               Greenwich      work    pt  1065  1086   \n",
       "\n",
       "   freq  \n",
       "0  1000  \n",
       "1  1000  \n",
       "2  1000  \n",
       "3  1000  \n",
       "4  1000  \n",
       "5  1000  \n",
       "6  1000  \n",
       "7  1000  \n",
       "8  1000  \n",
       "9  1000  "
      ]
     },
     "execution_count": 14,
     "metadata": {},
     "output_type": "execute_result"
    }
   ],
   "source": [
    "new_trips.head(10)"
   ]
  },
  {
   "cell_type": "code",
   "execution_count": 15,
   "metadata": {
    "ExecuteTime": {
     "end_time": "2020-05-18T14:45:49.593833Z",
     "start_time": "2020-05-18T14:45:49.567393Z"
    }
   },
   "outputs": [
    {
     "name": "stdout",
     "output_type": "stream",
     "text": [
      "<class 'pandas.core.frame.DataFrame'>\n",
      "RangeIndex: 17556 entries, 0 to 17555\n",
      "Data columns (total 12 columns):\n",
      " #   Column  Non-Null Count  Dtype \n",
      "---  ------  --------------  ----- \n",
      " 0   seq     17556 non-null  int64 \n",
      " 1   uid     17556 non-null  object\n",
      " 2   pid     17556 non-null  object\n",
      " 3   hid     17244 non-null  object\n",
      " 4   hzone   17556 non-null  object\n",
      " 5   ozone   17556 non-null  object\n",
      " 6   dzone   17556 non-null  object\n",
      " 7   purp    17556 non-null  object\n",
      " 8   mode    17556 non-null  object\n",
      " 9   tst     17556 non-null  object\n",
      " 10  tet     17556 non-null  object\n",
      " 11  freq    17556 non-null  object\n",
      "dtypes: int64(1), object(11)\n",
      "memory usage: 1.6+ MB\n"
     ]
    }
   ],
   "source": [
    "new_trips.info()"
   ]
  },
  {
   "cell_type": "code",
   "execution_count": 16,
   "metadata": {
    "ExecuteTime": {
     "end_time": "2020-05-18T14:45:49.605073Z",
     "start_time": "2020-05-18T14:45:49.596734Z"
    }
   },
   "outputs": [
    {
     "data": {
      "text/plain": [
       "(array(['work', 'shopping', 'health', 'escort', 'education', 'leisure'],\n",
       "       dtype=object),\n",
       " array(['pt', 'bike', 'car', 'walk'], dtype=object))"
      ]
     },
     "execution_count": 16,
     "metadata": {},
     "output_type": "execute_result"
    }
   ],
   "source": [
    "new_trips['purp'].unique(), new_trips['mode'].unique()"
   ]
  },
  {
   "cell_type": "code",
   "execution_count": 17,
   "metadata": {
    "ExecuteTime": {
     "end_time": "2020-05-18T14:45:49.618245Z",
     "start_time": "2020-05-18T14:45:49.607956Z"
    }
   },
   "outputs": [],
   "source": [
    "def print_simple_stats(population):\n",
    "    \"\"\"\n",
    "    Print some simple population statistics.\n",
    "    \"\"\"\n",
    "    time_at_home = 0\n",
    "    travel_time = 0 \n",
    "    low_income_central_trips = 0\n",
    "    high_income_central_trips = 0\n",
    "    \n",
    "    for hid, hh in population.households.items():\n",
    "        for pid, person in hh.people.items():\n",
    "            freq = person.freq\n",
    "            \n",
    "            for p in person.plan:\n",
    "                if p.act == 'travel':\n",
    "                    duration = p.duration.seconds * freq / 3600\n",
    "                    travel_time += duration\n",
    "                    \n",
    "                    if p.end_location.area == \"Westminster,City of London\":\n",
    "                        if person.attributes['inc'] == \"low\":\n",
    "                            low_income_central_trips += freq\n",
    "                            \n",
    "                        elif person.attributes['inc'] == \"high\":\n",
    "                            high_income_central_trips += freq\n",
    "                    \n",
    "                else:  # activity\n",
    "                    if p.act == 'home':\n",
    "                        duration = p.duration.seconds * freq / 3600\n",
    "                        time_at_home += duration\n",
    "                        \n",
    "    print(f\"Population total time at home: {time_at_home/1000000:.2f} million hours\")\n",
    "    print(f\"Population total travel time: {travel_time/1000000:.2f} million hours\")\n",
    "    print(f\"Low income trips to Central London: {low_income_central_trips} trips\")\n",
    "    print(f\"High income trips to Central London: {high_income_central_trips} trips\")"
   ]
  },
  {
   "cell_type": "markdown",
   "metadata": {},
   "source": [
    "## Create the population"
   ]
  },
  {
   "cell_type": "code",
   "execution_count": 18,
   "metadata": {
    "ExecuteTime": {
     "end_time": "2020-05-18T14:45:57.916352Z",
     "start_time": "2020-05-18T14:45:49.620607Z"
    }
   },
   "outputs": [],
   "source": [
    "population = read.load_travel_diary(new_trips, attributes)"
   ]
  },
  {
   "cell_type": "code",
   "execution_count": 19,
   "metadata": {
    "ExecuteTime": {
     "end_time": "2020-05-18T14:45:57.925270Z",
     "start_time": "2020-05-18T14:45:57.918470Z"
    }
   },
   "outputs": [],
   "source": [
    "rando_hh_id = list(households_map.keys())[0]\n",
    "rando_pid_in_hh = list(population.households[rando_hh_id].people)[0]"
   ]
  },
  {
   "cell_type": "code",
   "execution_count": 20,
   "metadata": {
    "ExecuteTime": {
     "end_time": "2020-05-18T14:45:57.948524Z",
     "start_time": "2020-05-18T14:45:57.927887Z"
    }
   },
   "outputs": [
    {
     "data": {
      "text/plain": [
       "{'census_1016': <pam.core.Person at 0x11c9a8150>,\n",
       " 'census_1043': <pam.core.Person at 0x11c9a8050>,\n",
       " 'census_1197': <pam.core.Person at 0x11c9aa510>,\n",
       " 'census_1247': <pam.core.Person at 0x11c9aa4d0>}"
      ]
     },
     "execution_count": 20,
     "metadata": {},
     "output_type": "execute_result"
    }
   ],
   "source": [
    "population.households[rando_hh_id].people"
   ]
  },
  {
   "cell_type": "code",
   "execution_count": 21,
   "metadata": {
    "ExecuteTime": {
     "end_time": "2020-05-18T14:45:57.959982Z",
     "start_time": "2020-05-18T14:45:57.952529Z"
    }
   },
   "outputs": [
    {
     "name": "stdout",
     "output_type": "stream",
     "text": [
      "0:\tActivity(0 act:home, location:Barking and Dagenham, time:00:00:00 --> 07:21:00, duration:7:21:00)\n",
      "1:\tLeg(0 mode:car, area:Barking and Dagenham --> Barking and Dagenham, time:07:21:00 --> 07:30:00, duration:0:09:00)\n",
      "2:\tActivity(1 act:work, location:Barking and Dagenham, time:07:30:00 --> 12:56:00, duration:5:26:00)\n",
      "3:\tLeg(1 mode:pt, area:Barking and Dagenham --> Wandsworth, time:12:56:00 --> 14:07:00, duration:1:11:00)\n",
      "4:\tActivity(2 act:health, location:Wandsworth, time:14:07:00 --> 14:09:00, duration:0:02:00)\n",
      "5:\tLeg(2 mode:pt, area:Wandsworth --> Barking and Dagenham, time:14:09:00 --> 15:48:00, duration:1:39:00)\n",
      "6:\tActivity(3 act:work, location:Barking and Dagenham, time:15:48:00 --> 16:02:00, duration:0:14:00)\n",
      "7:\tLeg(3 mode:car, area:Barking and Dagenham --> Barking and Dagenham, time:16:02:00 --> 16:11:00, duration:0:09:00)\n",
      "8:\tActivity(4 act:home, location:Barking and Dagenham, time:16:11:00 --> 17:35:00, duration:1:24:00)\n",
      "9:\tLeg(4 mode:car, area:Barking and Dagenham --> Barnet, time:17:35:00 --> 21:06:00, duration:3:31:00)\n",
      "10:\tActivity(5 act:shopping, location:Barnet, time:21:06:00 --> 21:12:00, duration:0:06:00)\n",
      "11:\tLeg(5 mode:car, area:Barnet --> Barking and Dagenham, time:21:12:00 --> 22:49:00, duration:1:37:00)\n",
      "12:\tActivity(6 act:home, location:Barking and Dagenham, time:22:49:00 --> 00:00:00, duration:1:11:00)\n"
     ]
    }
   ],
   "source": [
    "population.households[rando_hh_id].people[rando_pid_in_hh].plan.print()"
   ]
  },
  {
   "cell_type": "code",
   "execution_count": 22,
   "metadata": {
    "ExecuteTime": {
     "end_time": "2020-05-18T14:45:57.969698Z",
     "start_time": "2020-05-18T14:45:57.961930Z"
    }
   },
   "outputs": [],
   "source": [
    "person = population.households[rando_hh_id].people[rando_pid_in_hh]"
   ]
  },
  {
   "cell_type": "code",
   "execution_count": 23,
   "metadata": {
    "ExecuteTime": {
     "end_time": "2020-05-18T14:45:57.979635Z",
     "start_time": "2020-05-18T14:45:57.974866Z"
    }
   },
   "outputs": [
    {
     "data": {
      "text/plain": [
       "7"
      ]
     },
     "execution_count": 23,
     "metadata": {},
     "output_type": "execute_result"
    }
   ],
   "source": [
    "len(list(person.activities))"
   ]
  },
  {
   "cell_type": "code",
   "execution_count": 24,
   "metadata": {
    "ExecuteTime": {
     "end_time": "2020-05-18T14:45:58.011045Z",
     "start_time": "2020-05-18T14:45:58.000633Z"
    }
   },
   "outputs": [
    {
     "data": {
      "text/plain": [
       "{'gender': 'other', 'job': 'work', 'occ': 'white', 'inc': 'low', 'age': 50}"
      ]
     },
     "execution_count": 24,
     "metadata": {},
     "output_type": "execute_result"
    }
   ],
   "source": [
    "population.households[rando_hh_id].people[rando_pid_in_hh].attributes"
   ]
  },
  {
   "cell_type": "code",
   "execution_count": 25,
   "metadata": {
    "ExecuteTime": {
     "end_time": "2020-05-18T14:45:58.066465Z",
     "start_time": "2020-05-18T14:45:58.017299Z"
    }
   },
   "outputs": [
    {
     "name": "stdout",
     "output_type": "stream",
     "text": [
      "Population total time at home: 32.69 million hours\n",
      "Population total travel time: 19.27 million hours\n",
      "Low income trips to Central London: 522000 trips\n",
      "High income trips to Central London: 540000 trips\n"
     ]
    }
   ],
   "source": [
    "print_simple_stats(population)"
   ]
  },
  {
   "cell_type": "markdown",
   "metadata": {},
   "source": [
    "# PAM Simple Policies\n",
    "\n",
    "Based on [link](https://docs.google.com/spreadsheets/d/1FQMa7dLe2cv1NEZnbu5cZo3v07tKXINwvOaLQYoEp-M/edit#gid=0)"
   ]
  },
  {
   "cell_type": "code",
   "execution_count": 26,
   "metadata": {
    "ExecuteTime": {
     "end_time": "2020-05-18T14:45:58.082861Z",
     "start_time": "2020-05-18T14:45:58.072770Z"
    }
   },
   "outputs": [],
   "source": [
    "from pam.policy import *"
   ]
  },
  {
   "cell_type": "markdown",
   "metadata": {},
   "source": [
    "## Household Quarantine\n",
    "\n",
    "Probabilistically apply quarantine to a household (remove all activities - stay at home) "
   ]
  },
  {
   "cell_type": "markdown",
   "metadata": {},
   "source": [
    "### Household-based\n",
    "\n",
    "If you have a probability of a household having to be quarantined"
   ]
  },
  {
   "cell_type": "code",
   "execution_count": 27,
   "metadata": {
    "ExecuteTime": {
     "end_time": "2020-05-18T14:45:58.092877Z",
     "start_time": "2020-05-18T14:45:58.085186Z"
    }
   },
   "outputs": [],
   "source": [
    "policy_household_quarantine_per_household = \\\n",
    "    HouseholdQuarantined(\n",
    "        HouseholdProbability(0.01)\n",
    "    )"
   ]
  },
  {
   "cell_type": "code",
   "execution_count": 28,
   "metadata": {
    "ExecuteTime": {
     "end_time": "2020-05-18T14:45:59.796798Z",
     "start_time": "2020-05-18T14:45:58.097782Z"
    }
   },
   "outputs": [
    {
     "name": "stdout",
     "output_type": "stream",
     "text": [
      "Population total time at home: 32.53 million hours\n",
      "Population total travel time: 19.17 million hours\n",
      "Low income trips to Central London: 518000 trips\n",
      "High income trips to Central London: 536000 trips\n"
     ]
    }
   ],
   "source": [
    "print_simple_stats(apply_policies(population, [policy_household_quarantine_per_household]))"
   ]
  },
  {
   "cell_type": "markdown",
   "metadata": {},
   "source": [
    "### Person-based\n",
    "\n",
    "If you have a probability of any one person living in the household having to be quarantined.\n",
    "\n",
    "The probability of the household being quarantined is then $1 - (1-P)^n$, where $P$ is the probability any one person being quarantined and $n$ is the number of people in the household; $(1-P)^n$ is the probability of no one having to be quarantined."
   ]
  },
  {
   "cell_type": "code",
   "execution_count": 29,
   "metadata": {
    "ExecuteTime": {
     "end_time": "2020-05-18T14:45:59.803502Z",
     "start_time": "2020-05-18T14:45:59.798534Z"
    }
   },
   "outputs": [],
   "source": [
    "policy_household_quarantine_per_person = \\\n",
    "    HouseholdQuarantined(\n",
    "        PersonProbability(0.01)\n",
    "    )"
   ]
  },
  {
   "cell_type": "code",
   "execution_count": 30,
   "metadata": {
    "ExecuteTime": {
     "end_time": "2020-05-18T14:46:01.417525Z",
     "start_time": "2020-05-18T14:45:59.805561Z"
    }
   },
   "outputs": [
    {
     "name": "stdout",
     "output_type": "stream",
     "text": [
      "Population total time at home: 31.16 million hours\n",
      "Population total travel time: 18.35 million hours\n",
      "Low income trips to Central London: 503000 trips\n",
      "High income trips to Central London: 513000 trips\n"
     ]
    }
   ],
   "source": [
    "print_simple_stats(apply_policies(population, [policy_household_quarantine_per_person]))"
   ]
  },
  {
   "cell_type": "markdown",
   "metadata": {},
   "source": [
    "(Should be equivalent to `RemoveActivity` removing all non-home activities with `policy_type='household'`, and `probability_level='person'`)"
   ]
  },
  {
   "cell_type": "code",
   "execution_count": 31,
   "metadata": {
    "ExecuteTime": {
     "end_time": "2020-05-18T14:46:02.998391Z",
     "start_time": "2020-05-18T14:46:01.419232Z"
    }
   },
   "outputs": [
    {
     "name": "stdout",
     "output_type": "stream",
     "text": [
      "Population total time at home: 31.58 million hours\n",
      "Population total travel time: 18.67 million hours\n",
      "Low income trips to Central London: 502000 trips\n",
      "High income trips to Central London: 524000 trips\n"
     ]
    }
   ],
   "source": [
    "policy_remove_any_education = \\\n",
    "    RemoveHouseholdActivities(\n",
    "        ['work', 'leisure', 'shopping', 'health', 'education', 'escort'], \n",
    "        PersonProbability(0.01)\n",
    ")\n",
    "\n",
    "print_simple_stats(apply_policies(population, [policy_household_quarantine_per_person]))"
   ]
  },
  {
   "cell_type": "markdown",
   "metadata": {},
   "source": [
    "## Remove Higher Education\n",
    "\n",
    "Remove all education activity for persons over age of 17"
   ]
  },
  {
   "cell_type": "code",
   "execution_count": 32,
   "metadata": {
    "ExecuteTime": {
     "end_time": "2020-05-18T14:46:03.005926Z",
     "start_time": "2020-05-18T14:46:03.000419Z"
    }
   },
   "outputs": [],
   "source": [
    "def age_condition_over_17(attribute_value):\n",
    "    return attribute_value > 17\n",
    "\n",
    "policy_remove_higher_education = \\\n",
    "    RemovePersonActivities(\n",
    "        ['education'],\n",
    "        1,\n",
    "        PersonAttributeFilter({'age': age_condition_over_17}, how='all')\n",
    ")"
   ]
  },
  {
   "cell_type": "code",
   "execution_count": 33,
   "metadata": {
    "ExecuteTime": {
     "end_time": "2020-05-18T14:46:04.562948Z",
     "start_time": "2020-05-18T14:46:03.007781Z"
    }
   },
   "outputs": [
    {
     "name": "stdout",
     "output_type": "stream",
     "text": [
      "Population total time at home: 34.99 million hours\n",
      "Population total travel time: 18.10 million hours\n",
      "Low income trips to Central London: 491000 trips\n",
      "High income trips to Central London: 497000 trips\n"
     ]
    }
   ],
   "source": [
    "print_simple_stats(apply_policies(population, [policy_remove_higher_education]))"
   ]
  },
  {
   "cell_type": "markdown",
   "metadata": {},
   "source": [
    "## Remove Education\n",
    "\n",
    "Probabilistically remove education activities from a person"
   ]
  },
  {
   "cell_type": "code",
   "execution_count": 34,
   "metadata": {
    "ExecuteTime": {
     "end_time": "2020-05-18T14:46:04.569668Z",
     "start_time": "2020-05-18T14:46:04.564685Z"
    }
   },
   "outputs": [],
   "source": [
    "policy_remove_any_education = \\\n",
    "    RemoveHouseholdActivities(\n",
    "        ['education', 'escort'], \n",
    "        PersonProbability(0.95)\n",
    ")"
   ]
  },
  {
   "cell_type": "code",
   "execution_count": 35,
   "metadata": {
    "ExecuteTime": {
     "end_time": "2020-05-18T14:46:06.287954Z",
     "start_time": "2020-05-18T14:46:04.571505Z"
    }
   },
   "outputs": [
    {
     "name": "stdout",
     "output_type": "stream",
     "text": [
      "Population total time at home: 40.43 million hours\n",
      "Population total travel time: 14.84 million hours\n",
      "Low income trips to Central London: 418000 trips\n",
      "High income trips to Central London: 426000 trips\n"
     ]
    }
   ],
   "source": [
    "print_simple_stats(apply_policies(population, [policy_remove_any_education]))"
   ]
  },
  {
   "cell_type": "markdown",
   "metadata": {},
   "source": [
    "#### Affecting different activities\n",
    "\n",
    "You can choose to remove different activities to the ones that carry a probability. Here, education activities affect removal of both education and escort on a household level."
   ]
  },
  {
   "cell_type": "code",
   "execution_count": 36,
   "metadata": {
    "ExecuteTime": {
     "end_time": "2020-05-18T14:46:06.293800Z",
     "start_time": "2020-05-18T14:46:06.289963Z"
    }
   },
   "outputs": [],
   "source": [
    "policy_remove_any_education = \\\n",
    "    RemoveHouseholdActivities(\n",
    "        ['education', 'escort'], \n",
    "        ActivityProbability(['education'], 0.95)\n",
    ")"
   ]
  },
  {
   "cell_type": "code",
   "execution_count": 37,
   "metadata": {
    "ExecuteTime": {
     "end_time": "2020-05-18T14:46:07.959684Z",
     "start_time": "2020-05-18T14:46:06.296770Z"
    }
   },
   "outputs": [
    {
     "name": "stdout",
     "output_type": "stream",
     "text": [
      "Population total time at home: 37.73 million hours\n",
      "Population total travel time: 16.48 million hours\n",
      "Low income trips to Central London: 454000 trips\n",
      "High income trips to Central London: 459000 trips\n"
     ]
    }
   ],
   "source": [
    "print_simple_stats(apply_policies(population, [policy_remove_any_education]))"
   ]
  },
  {
   "cell_type": "markdown",
   "metadata": {},
   "source": [
    "## Remove Leisure Activities\n",
    "\n",
    "Remove all leisure activities"
   ]
  },
  {
   "cell_type": "code",
   "execution_count": 38,
   "metadata": {
    "ExecuteTime": {
     "end_time": "2020-05-18T14:46:07.965866Z",
     "start_time": "2020-05-18T14:46:07.961850Z"
    }
   },
   "outputs": [],
   "source": [
    "policy_remove_leisure = \\\n",
    "    RemovePersonActivities(\n",
    "        ['leisure'], \n",
    "        1\n",
    ")"
   ]
  },
  {
   "cell_type": "code",
   "execution_count": 39,
   "metadata": {
    "ExecuteTime": {
     "end_time": "2020-05-18T14:46:09.528068Z",
     "start_time": "2020-05-18T14:46:07.967913Z"
    }
   },
   "outputs": [
    {
     "name": "stdout",
     "output_type": "stream",
     "text": [
      "Population total time at home: 38.50 million hours\n",
      "Population total travel time: 15.85 million hours\n",
      "Low income trips to Central London: 453000 trips\n",
      "High income trips to Central London: 475000 trips\n"
     ]
    }
   ],
   "source": [
    "print_simple_stats(apply_policies(population, [policy_remove_leisure]))"
   ]
  },
  {
   "cell_type": "markdown",
   "metadata": {},
   "source": [
    "## Remove Health Activities\n",
    "\n",
    "Probabilistically remove **individual** health activities from a person"
   ]
  },
  {
   "cell_type": "code",
   "execution_count": 40,
   "metadata": {
    "ExecuteTime": {
     "end_time": "2020-05-18T14:46:09.534504Z",
     "start_time": "2020-05-18T14:46:09.530358Z"
    }
   },
   "outputs": [],
   "source": [
    "policy_remove_health = \\\n",
    "    RemoveIndividualActivities(\n",
    "        ['health'], \n",
    "        0.5\n",
    ")"
   ]
  },
  {
   "cell_type": "code",
   "execution_count": 41,
   "metadata": {
    "ExecuteTime": {
     "end_time": "2020-05-18T14:46:11.255637Z",
     "start_time": "2020-05-18T14:46:09.536407Z"
    }
   },
   "outputs": [
    {
     "name": "stdout",
     "output_type": "stream",
     "text": [
      "Population total time at home: 34.84 million hours\n",
      "Population total travel time: 17.82 million hours\n",
      "Low income trips to Central London: 499000 trips\n",
      "High income trips to Central London: 513000 trips\n"
     ]
    }
   ],
   "source": [
    "print_simple_stats(apply_policies(population, [policy_remove_health]))"
   ]
  },
  {
   "cell_type": "markdown",
   "metadata": {},
   "source": [
    "## Unemployment/Furlough\n",
    "\n",
    "Probabilistically remove all work activities from a person"
   ]
  },
  {
   "cell_type": "code",
   "execution_count": 42,
   "metadata": {
    "ExecuteTime": {
     "end_time": "2020-05-18T14:46:11.264364Z",
     "start_time": "2020-05-18T14:46:11.258207Z"
    }
   },
   "outputs": [],
   "source": [
    "policy_unemployment_and_furlough = \\\n",
    "    RemovePersonActivities(\n",
    "        ['work'], \n",
    "        0.1\n",
    ")"
   ]
  },
  {
   "cell_type": "code",
   "execution_count": 43,
   "metadata": {
    "ExecuteTime": {
     "end_time": "2020-05-18T14:46:12.888790Z",
     "start_time": "2020-05-18T14:46:11.266303Z"
    }
   },
   "outputs": [
    {
     "name": "stdout",
     "output_type": "stream",
     "text": [
      "Population total time at home: 33.57 million hours\n",
      "Population total travel time: 18.85 million hours\n",
      "Low income trips to Central London: 507000 trips\n",
      "High income trips to Central London: 519000 trips\n"
     ]
    }
   ],
   "source": [
    "print_simple_stats(apply_policies(population, [policy_unemployment_and_furlough]))"
   ]
  },
  {
   "cell_type": "markdown",
   "metadata": {},
   "source": [
    "## Work from Home\n",
    "\n",
    "Probabilistically remove all work activities from a person"
   ]
  },
  {
   "cell_type": "code",
   "execution_count": 44,
   "metadata": {
    "ExecuteTime": {
     "end_time": "2020-05-18T14:46:12.895796Z",
     "start_time": "2020-05-18T14:46:12.891419Z"
    }
   },
   "outputs": [],
   "source": [
    "policy_work_from_home = \\\n",
    "    RemovePersonActivities(\n",
    "        ['work'], \n",
    "        0.5\n",
    ")"
   ]
  },
  {
   "cell_type": "code",
   "execution_count": 45,
   "metadata": {
    "ExecuteTime": {
     "end_time": "2020-05-18T14:46:14.551728Z",
     "start_time": "2020-05-18T14:46:12.898282Z"
    }
   },
   "outputs": [
    {
     "name": "stdout",
     "output_type": "stream",
     "text": [
      "Population total time at home: 37.20 million hours\n",
      "Population total travel time: 16.98 million hours\n",
      "Low income trips to Central London: 430000 trips\n",
      "High income trips to Central London: 449000 trips\n"
     ]
    }
   ],
   "source": [
    "print_simple_stats(apply_policies(population, [policy_work_from_home]))"
   ]
  },
  {
   "cell_type": "markdown",
   "metadata": {},
   "source": [
    "## Reduced Work Activity\n",
    "\n",
    "Probabilistically remove **individual** work activities from a person"
   ]
  },
  {
   "cell_type": "code",
   "execution_count": 46,
   "metadata": {
    "ExecuteTime": {
     "end_time": "2020-05-18T14:46:14.561135Z",
     "start_time": "2020-05-18T14:46:14.554837Z"
    }
   },
   "outputs": [],
   "source": [
    "policy_reduced_work_activity = \\\n",
    "    RemovePersonActivities(\n",
    "        ['work'], \n",
    "        ActivityProbability(['work'], 0.2)\n",
    ")"
   ]
  },
  {
   "cell_type": "code",
   "execution_count": 47,
   "metadata": {
    "ExecuteTime": {
     "end_time": "2020-05-18T14:46:16.211509Z",
     "start_time": "2020-05-18T14:46:14.563335Z"
    }
   },
   "outputs": [
    {
     "name": "stdout",
     "output_type": "stream",
     "text": [
      "Population total time at home: 34.99 million hours\n",
      "Population total travel time: 18.10 million hours\n",
      "Low income trips to Central London: 492000 trips\n",
      "High income trips to Central London: 490000 trips\n"
     ]
    }
   ],
   "source": [
    "print_simple_stats(apply_policies(population, [policy_reduced_work_activity]))"
   ]
  },
  {
   "cell_type": "markdown",
   "metadata": {},
   "source": [
    "## Remove Shopping \n",
    "\n",
    "Probabilistically remove **individual** shopping activities from a person"
   ]
  },
  {
   "cell_type": "code",
   "execution_count": 48,
   "metadata": {
    "ExecuteTime": {
     "end_time": "2020-05-18T14:46:16.217033Z",
     "start_time": "2020-05-18T14:46:16.213214Z"
    }
   },
   "outputs": [],
   "source": [
    "policy_remove_shopping = \\\n",
    "    RemoveIndividualActivities(\n",
    "        ['shop'], \n",
    "        0.5\n",
    ")"
   ]
  },
  {
   "cell_type": "code",
   "execution_count": 49,
   "metadata": {
    "ExecuteTime": {
     "end_time": "2020-05-18T14:46:17.761133Z",
     "start_time": "2020-05-18T14:46:16.219695Z"
    }
   },
   "outputs": [
    {
     "name": "stdout",
     "output_type": "stream",
     "text": [
      "Population total time at home: 32.69 million hours\n",
      "Population total travel time: 19.27 million hours\n",
      "Low income trips to Central London: 522000 trips\n",
      "High income trips to Central London: 540000 trips\n"
     ]
    }
   ],
   "source": [
    "print_simple_stats(apply_policies(population, [policy_remove_shopping]))"
   ]
  },
  {
   "cell_type": "markdown",
   "metadata": {},
   "source": [
    "## Move Shopping to home location\n",
    "\n",
    "Probabilistically move shopping activity tours to person's home location"
   ]
  },
  {
   "cell_type": "code",
   "execution_count": 50,
   "metadata": {
    "ExecuteTime": {
     "end_time": "2020-05-18T14:46:17.769200Z",
     "start_time": "2020-05-18T14:46:17.763258Z"
    }
   },
   "outputs": [],
   "source": [
    "policy_move_shopping = \\\n",
    "    MovePersonActivitiesToHome(\n",
    "        ['shop'], \n",
    "        0.5\n",
    ")"
   ]
  },
  {
   "cell_type": "code",
   "execution_count": 51,
   "metadata": {
    "ExecuteTime": {
     "end_time": "2020-05-18T14:46:19.440139Z",
     "start_time": "2020-05-18T14:46:17.772293Z"
    }
   },
   "outputs": [
    {
     "name": "stdout",
     "output_type": "stream",
     "text": [
      "Population total time at home: 32.69 million hours\n",
      "Population total travel time: 19.27 million hours\n",
      "Low income trips to Central London: 522000 trips\n",
      "High income trips to Central London: 540000 trips\n"
     ]
    }
   ],
   "source": [
    "print_simple_stats(apply_policies(population, [policy_move_shopping]))"
   ]
  },
  {
   "cell_type": "markdown",
   "metadata": {},
   "source": [
    "## Reduce Shopping activities\n",
    "\n",
    "Probabilistically shopping activities from all but one (randomly chosen) person in household"
   ]
  },
  {
   "cell_type": "code",
   "execution_count": 52,
   "metadata": {
    "ExecuteTime": {
     "end_time": "2020-05-18T14:46:19.449832Z",
     "start_time": "2020-05-18T14:46:19.445627Z"
    }
   },
   "outputs": [],
   "source": [
    "policy_reduce_shopping = \\\n",
    "    ReduceSharedHouseholdActivities(\n",
    "        ['shop'], \n",
    "        0.5\n",
    ")"
   ]
  },
  {
   "cell_type": "code",
   "execution_count": 53,
   "metadata": {
    "ExecuteTime": {
     "end_time": "2020-05-18T14:46:21.163334Z",
     "start_time": "2020-05-18T14:46:19.452063Z"
    }
   },
   "outputs": [
    {
     "name": "stdout",
     "output_type": "stream",
     "text": [
      "Population total time at home: 32.69 million hours\n",
      "Population total travel time: 19.27 million hours\n",
      "Low income trips to Central London: 522000 trips\n",
      "High income trips to Central London: 540000 trips\n"
     ]
    }
   ],
   "source": [
    "print_simple_stats(apply_policies(population, [policy_reduce_shopping]))"
   ]
  },
  {
   "cell_type": "markdown",
   "metadata": {},
   "source": [
    "## All together now!"
   ]
  },
  {
   "cell_type": "code",
   "execution_count": 54,
   "metadata": {
    "ExecuteTime": {
     "end_time": "2020-05-18T14:46:23.359319Z",
     "start_time": "2020-05-18T14:46:21.165900Z"
    }
   },
   "outputs": [
    {
     "name": "stdout",
     "output_type": "stream",
     "text": [
      "Population total time at home: 46.18 million hours\n",
      "Population total travel time: 9.96 million hours\n",
      "Low income trips to Central London: 268000 trips\n",
      "High income trips to Central London: 265000 trips\n"
     ]
    }
   ],
   "source": [
    "all_together_pop = apply_policies(\n",
    "    population, \n",
    "    [policy_household_quarantine_per_person, \n",
    "     policy_reduce_shopping,\n",
    "     policy_move_shopping,\n",
    "     policy_remove_higher_education, \n",
    "     policy_remove_any_education, \n",
    "     policy_remove_leisure, \n",
    "     policy_remove_health, \n",
    "     policy_unemployment_and_furlough, \n",
    "     policy_work_from_home, \n",
    "     policy_reduced_work_activity, \n",
    "     policy_remove_shopping])\n",
    "\n",
    "print_simple_stats(all_together_pop)"
   ]
  },
  {
   "cell_type": "code",
   "execution_count": null,
   "metadata": {},
   "outputs": [],
   "source": []
  },
  {
   "cell_type": "code",
   "execution_count": null,
   "metadata": {},
   "outputs": [],
   "source": []
  }
 ],
 "metadata": {
  "kernelspec": {
   "display_name": "Python (pam)",
   "language": "python",
   "name": "pam"
  },
  "language_info": {
   "codemirror_mode": {
    "name": "ipython",
    "version": 3
   },
   "file_extension": ".py",
   "mimetype": "text/x-python",
   "name": "python",
   "nbconvert_exporter": "python",
   "pygments_lexer": "ipython3",
   "version": "3.7.5"
  },
  "latex_envs": {
   "LaTeX_envs_menu_present": true,
   "autoclose": true,
   "autocomplete": true,
   "bibliofile": "biblio.bib",
   "cite_by": "apalike",
   "current_citInitial": 1,
   "eqLabelWithNumbers": true,
   "eqNumInitial": 1,
   "hotkeys": {
    "equation": "Ctrl-E",
    "itemize": "Ctrl-I"
   },
   "labels_anchors": false,
   "latex_user_defs": false,
   "report_style_numbering": false,
   "user_envs_cfg": false
  },
  "toc": {
   "base_numbering": 1,
   "nav_menu": {},
   "number_sections": true,
   "sideBar": true,
   "skip_h1_title": false,
   "title_cell": "Table of Contents",
   "title_sidebar": "Contents",
   "toc_cell": false,
   "toc_position": {},
   "toc_section_display": true,
   "toc_window_display": false
  },
  "varInspector": {
   "cols": {
    "lenName": 16,
    "lenType": 16,
    "lenVar": 40
   },
   "kernels_config": {
    "python": {
     "delete_cmd_postfix": "",
     "delete_cmd_prefix": "del ",
     "library": "var_list.py",
     "varRefreshCmd": "print(var_dic_list())"
    },
    "r": {
     "delete_cmd_postfix": ") ",
     "delete_cmd_prefix": "rm(",
     "library": "var_list.r",
     "varRefreshCmd": "cat(var_dic_list()) "
    }
   },
   "types_to_exclude": [
    "module",
    "function",
    "builtin_function_or_method",
    "instance",
    "_Feature"
   ],
   "window_display": false
  }
 },
 "nbformat": 4,
 "nbformat_minor": 4
}
