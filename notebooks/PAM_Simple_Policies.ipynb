{
 "cells": [
  {
   "cell_type": "code",
   "execution_count": 30,
   "metadata": {},
   "outputs": [],
   "source": [
    "import os\n",
    "import pandas as pd\n",
    "from copy import deepcopy\n",
    "from collections import defaultdict\n",
    "import geopandas as gp\n",
    "from matplotlib import pyplot as plt\n",
    "from pam import parse\n",
    "\n",
    "path_to_repo = '/Users/.../PythonProjects/pam'"
   ]
  },
  {
   "cell_type": "markdown",
   "metadata": {},
   "source": [
    "## Load Data\n",
    "Here we load simple travel diary data of London commuters. This is a very simple 0.1% sample of data about work and education commutes from the 2011 census. Because we're sharing this date - we've aggregated locations to borough level and randomized personal attributes - so don't get too excited about the results.\n",
    "\n",
    "The data is available in `pam/example_data`."
   ]
  },
  {
   "cell_type": "code",
   "execution_count": 2,
   "metadata": {},
   "outputs": [],
   "source": [
    "trips = pd.read_csv(os.path.join(path_to_repo, 'example_data', 'example_travel_diaries.csv'))\n",
    "attributes = pd.read_csv(os.path.join(path_to_repo, 'example_data' , 'example_attributes.csv'))\n",
    "attributes.set_index('pid', inplace=True)"
   ]
  },
  {
   "cell_type": "code",
   "execution_count": 3,
   "metadata": {},
   "outputs": [
    {
     "data": {
      "text/html": [
       "<div>\n",
       "<style scoped>\n",
       "    .dataframe tbody tr th:only-of-type {\n",
       "        vertical-align: middle;\n",
       "    }\n",
       "\n",
       "    .dataframe tbody tr th {\n",
       "        vertical-align: top;\n",
       "    }\n",
       "\n",
       "    .dataframe thead th {\n",
       "        text-align: right;\n",
       "    }\n",
       "</style>\n",
       "<table border=\"1\" class=\"dataframe\">\n",
       "  <thead>\n",
       "    <tr style=\"text-align: right;\">\n",
       "      <th></th>\n",
       "      <th>gender</th>\n",
       "      <th>job</th>\n",
       "      <th>occ</th>\n",
       "      <th>inc</th>\n",
       "    </tr>\n",
       "    <tr>\n",
       "      <th>pid</th>\n",
       "      <th></th>\n",
       "      <th></th>\n",
       "      <th></th>\n",
       "      <th></th>\n",
       "    </tr>\n",
       "  </thead>\n",
       "  <tbody>\n",
       "    <tr>\n",
       "      <th>census_0</th>\n",
       "      <td>female</td>\n",
       "      <td>work</td>\n",
       "      <td>white</td>\n",
       "      <td>low</td>\n",
       "    </tr>\n",
       "    <tr>\n",
       "      <th>census_1</th>\n",
       "      <td>female</td>\n",
       "      <td>work</td>\n",
       "      <td>white</td>\n",
       "      <td>low</td>\n",
       "    </tr>\n",
       "    <tr>\n",
       "      <th>census_2</th>\n",
       "      <td>male</td>\n",
       "      <td>work</td>\n",
       "      <td>blue</td>\n",
       "      <td>high</td>\n",
       "    </tr>\n",
       "    <tr>\n",
       "      <th>census_3</th>\n",
       "      <td>male</td>\n",
       "      <td>work</td>\n",
       "      <td>blue</td>\n",
       "      <td>low</td>\n",
       "    </tr>\n",
       "    <tr>\n",
       "      <th>census_4</th>\n",
       "      <td>male</td>\n",
       "      <td>work</td>\n",
       "      <td>blue</td>\n",
       "      <td>medium</td>\n",
       "    </tr>\n",
       "  </tbody>\n",
       "</table>\n",
       "</div>"
      ],
      "text/plain": [
       "          gender   job    occ     inc\n",
       "pid                                  \n",
       "census_0  female  work  white     low\n",
       "census_1  female  work  white     low\n",
       "census_2    male  work   blue    high\n",
       "census_3    male  work   blue     low\n",
       "census_4    male  work   blue  medium"
      ]
     },
     "execution_count": 3,
     "metadata": {},
     "output_type": "execute_result"
    }
   ],
   "source": [
    "attributes.head()"
   ]
  },
  {
   "cell_type": "code",
   "execution_count": 4,
   "metadata": {},
   "outputs": [
    {
     "data": {
      "text/html": [
       "<div>\n",
       "<style scoped>\n",
       "    .dataframe tbody tr th:only-of-type {\n",
       "        vertical-align: middle;\n",
       "    }\n",
       "\n",
       "    .dataframe tbody tr th {\n",
       "        vertical-align: top;\n",
       "    }\n",
       "\n",
       "    .dataframe thead th {\n",
       "        text-align: right;\n",
       "    }\n",
       "</style>\n",
       "<table border=\"1\" class=\"dataframe\">\n",
       "  <thead>\n",
       "    <tr style=\"text-align: right;\">\n",
       "      <th></th>\n",
       "      <th>uid</th>\n",
       "      <th>pid</th>\n",
       "      <th>hid</th>\n",
       "      <th>seq</th>\n",
       "      <th>hzone</th>\n",
       "      <th>ozone</th>\n",
       "      <th>dzone</th>\n",
       "      <th>purp</th>\n",
       "      <th>mode</th>\n",
       "      <th>tst</th>\n",
       "      <th>tet</th>\n",
       "      <th>freq</th>\n",
       "    </tr>\n",
       "  </thead>\n",
       "  <tbody>\n",
       "    <tr>\n",
       "      <th>0</th>\n",
       "      <td>0</td>\n",
       "      <td>census_0</td>\n",
       "      <td>census_0</td>\n",
       "      <td>0</td>\n",
       "      <td>Harrow</td>\n",
       "      <td>Harrow</td>\n",
       "      <td>Camden</td>\n",
       "      <td>work</td>\n",
       "      <td>pt</td>\n",
       "      <td>444</td>\n",
       "      <td>473</td>\n",
       "      <td>1000</td>\n",
       "    </tr>\n",
       "    <tr>\n",
       "      <th>1</th>\n",
       "      <td>1</td>\n",
       "      <td>census_0</td>\n",
       "      <td>census_0</td>\n",
       "      <td>1</td>\n",
       "      <td>Harrow</td>\n",
       "      <td>Camden</td>\n",
       "      <td>Harrow</td>\n",
       "      <td>work</td>\n",
       "      <td>pt</td>\n",
       "      <td>890</td>\n",
       "      <td>919</td>\n",
       "      <td>1000</td>\n",
       "    </tr>\n",
       "    <tr>\n",
       "      <th>2</th>\n",
       "      <td>2</td>\n",
       "      <td>census_1</td>\n",
       "      <td>census_1</td>\n",
       "      <td>0</td>\n",
       "      <td>Greenwich</td>\n",
       "      <td>Greenwich</td>\n",
       "      <td>Tower Hamlets</td>\n",
       "      <td>work</td>\n",
       "      <td>pt</td>\n",
       "      <td>507</td>\n",
       "      <td>528</td>\n",
       "      <td>1000</td>\n",
       "    </tr>\n",
       "    <tr>\n",
       "      <th>3</th>\n",
       "      <td>3</td>\n",
       "      <td>census_1</td>\n",
       "      <td>census_1</td>\n",
       "      <td>1</td>\n",
       "      <td>Greenwich</td>\n",
       "      <td>Tower Hamlets</td>\n",
       "      <td>Greenwich</td>\n",
       "      <td>work</td>\n",
       "      <td>pt</td>\n",
       "      <td>1065</td>\n",
       "      <td>1086</td>\n",
       "      <td>1000</td>\n",
       "    </tr>\n",
       "    <tr>\n",
       "      <th>4</th>\n",
       "      <td>4</td>\n",
       "      <td>census_2</td>\n",
       "      <td>census_2</td>\n",
       "      <td>0</td>\n",
       "      <td>Croydon</td>\n",
       "      <td>Croydon</td>\n",
       "      <td>Croydon</td>\n",
       "      <td>work</td>\n",
       "      <td>pt</td>\n",
       "      <td>422</td>\n",
       "      <td>425</td>\n",
       "      <td>1000</td>\n",
       "    </tr>\n",
       "  </tbody>\n",
       "</table>\n",
       "</div>"
      ],
      "text/plain": [
       "   uid       pid       hid  seq      hzone          ozone          dzone  \\\n",
       "0    0  census_0  census_0    0     Harrow         Harrow         Camden   \n",
       "1    1  census_0  census_0    1     Harrow         Camden         Harrow   \n",
       "2    2  census_1  census_1    0  Greenwich      Greenwich  Tower Hamlets   \n",
       "3    3  census_1  census_1    1  Greenwich  Tower Hamlets      Greenwich   \n",
       "4    4  census_2  census_2    0    Croydon        Croydon        Croydon   \n",
       "\n",
       "   purp mode   tst   tet  freq  \n",
       "0  work   pt   444   473  1000  \n",
       "1  work   pt   890   919  1000  \n",
       "2  work   pt   507   528  1000  \n",
       "3  work   pt  1065  1086  1000  \n",
       "4  work   pt   422   425  1000  "
      ]
     },
     "execution_count": 4,
     "metadata": {},
     "output_type": "execute_result"
    }
   ],
   "source": [
    "trips.head()"
   ]
  },
  {
   "cell_type": "code",
   "execution_count": 5,
   "metadata": {},
   "outputs": [
    {
     "data": {
      "text/plain": [
       "(array(['work', 'education'], dtype=object),\n",
       " array(['pt', 'car'], dtype=object))"
      ]
     },
     "execution_count": 5,
     "metadata": {},
     "output_type": "execute_result"
    }
   ],
   "source": [
    "trips['purp'].unique(), trips['mode'].unique()"
   ]
  },
  {
   "cell_type": "markdown",
   "metadata": {},
   "source": [
    "## Imagine we had better data\n",
    "\n",
    "Conjure up additional data to aid demonstration.\n",
    "\n",
    "We add:\n",
    "- `age` to person attributes\n",
    "- activities: \n",
    "    - `leisure`\n",
    "    - `health`\n",
    "    - `shopping`\n",
    "\n",
    "**Randomly.**"
   ]
  },
  {
   "cell_type": "code",
   "execution_count": 6,
   "metadata": {},
   "outputs": [],
   "source": [
    "import numpy as np"
   ]
  },
  {
   "cell_type": "code",
   "execution_count": 7,
   "metadata": {},
   "outputs": [],
   "source": [
    "attributes['age'] = [int(a) for a in np.random.normal(40.5, 10, len(attributes))]"
   ]
  },
  {
   "cell_type": "code",
   "execution_count": null,
   "metadata": {},
   "outputs": [],
   "source": []
  },
  {
   "cell_type": "code",
   "execution_count": 17,
   "metadata": {},
   "outputs": [],
   "source": [
    "def print_simple_stats(population):\n",
    "    \"\"\"\n",
    "    Print some simple population statistics.\n",
    "    \"\"\"\n",
    "    time_at_home = 0\n",
    "    travel_time = 0 \n",
    "    low_income_central_trips = 0\n",
    "    high_income_central_trips = 0\n",
    "    \n",
    "    for hid, hh in population.households.items():\n",
    "        for pid, person in hh.people.items():\n",
    "            freq = person.freq\n",
    "            \n",
    "            for p in person.plan:\n",
    "                if p.act == 'travel':\n",
    "                    duration = p.duration.seconds * freq / 3600\n",
    "                    travel_time += duration\n",
    "                    \n",
    "                    if p.end_location.area == \"Westminster,City of London\":\n",
    "                        if person.attributes['inc'] == \"low\":\n",
    "                            low_income_central_trips += freq\n",
    "                            \n",
    "                        elif person.attributes['inc'] == \"high\":\n",
    "                            high_income_central_trips += freq\n",
    "                    \n",
    "                else:  # activity\n",
    "                    if p.act == 'home':\n",
    "                        duration = p.duration.seconds * freq / 3600\n",
    "                        time_at_home += duration\n",
    "                        \n",
    "    print(f\"Population total time at home: {time_at_home/1000000:.2f} million hours\")\n",
    "    print(f\"Population total travel time: {travel_time/1000000:.2f} million hours\")\n",
    "    print(f\"Low income trips to Central London: {low_income_central_trips} trips\")\n",
    "    print(f\"High income trips to Central London: {high_income_central_trips} trips\")"
   ]
  },
  {
   "cell_type": "markdown",
   "metadata": {},
   "source": [
    "## Create the population"
   ]
  },
  {
   "cell_type": "code",
   "execution_count": 8,
   "metadata": {},
   "outputs": [],
   "source": [
    "population = parse.load_travel_diary(trips, attributes)"
   ]
  },
  {
   "cell_type": "code",
   "execution_count": 9,
   "metadata": {},
   "outputs": [
    {
     "name": "stdout",
     "output_type": "stream",
     "text": [
      "0:\tActivity(0 act:home, location:Harrow, time:00:00:00 --> 07:24:00, duration:7:24:00)\n",
      "1:\tLeg(0 mode:pt, area:Harrow --> Camden, time:07:24:00 --> 07:53:00, duration:0:29:00)\n",
      "2:\tActivity(1 act:work, location:Camden, time:07:53:00 --> 14:50:00, duration:6:57:00)\n",
      "3:\tLeg(1 mode:pt, area:Camden --> Harrow, time:14:50:00 --> 15:19:00, duration:0:29:00)\n",
      "4:\tActivity(2 act:home, location:Harrow, time:15:19:00 --> 23:59:00, duration:8:40:00)\n"
     ]
    }
   ],
   "source": [
    "population.households['census_0'].people['census_0'].plan.print()"
   ]
  },
  {
   "cell_type": "code",
   "execution_count": 25,
   "metadata": {},
   "outputs": [
    {
     "data": {
      "text/plain": [
       "{'gender': 'female', 'job': 'work', 'occ': 'white', 'inc': 'low', 'age': 41}"
      ]
     },
     "execution_count": 25,
     "metadata": {},
     "output_type": "execute_result"
    }
   ],
   "source": [
    "population.households['census_0'].people['census_0'].attributes"
   ]
  },
  {
   "cell_type": "code",
   "execution_count": 26,
   "metadata": {},
   "outputs": [
    {
     "name": "stdout",
     "output_type": "stream",
     "text": [
      "Population total time at home: 49.46 million hours\n",
      "Population total travel time: 1.58 million hours\n",
      "Low income trips to Central London: 229000 trips\n",
      "High income trips to Central London: 246000 trips\n"
     ]
    }
   ],
   "source": [
    "print_simple_stats(population)"
   ]
  },
  {
   "cell_type": "markdown",
   "metadata": {},
   "source": [
    "# PAM Simple Policies"
   ]
  },
  {
   "cell_type": "code",
   "execution_count": 19,
   "metadata": {},
   "outputs": [],
   "source": [
    "from pam import modify\n",
    "\n",
    "def apply_policies(population, policies: list):\n",
    "\n",
    "    new_population = deepcopy(population) \n",
    "    for hid, household in new_population.households.items():\n",
    "        for policy in policies:\n",
    "            policy.apply_to(household)\n",
    "    return new_population"
   ]
  },
  {
   "cell_type": "markdown",
   "metadata": {},
   "source": [
    "## Household Quarantine\n",
    "\n",
    "Probabilistically apply quarantine to a household (remove all activities - stay at home) \n",
    "\n",
    "- if probability per person\n",
    "- if probability per household"
   ]
  },
  {
   "cell_type": "code",
   "execution_count": 12,
   "metadata": {},
   "outputs": [],
   "source": [
    "policy_household_quarantine_per_household = modify.HouseholdQuarantined(probability=0.01, person_based=False)"
   ]
  },
  {
   "cell_type": "code",
   "execution_count": 21,
   "metadata": {},
   "outputs": [
    {
     "name": "stdout",
     "output_type": "stream",
     "text": [
      "Population total time at home: 49.69 million hours\n",
      "Population total travel time: 1.56 million hours\n",
      "Low income trips to Central London: 228000 trips\n",
      "High income trips to Central London: 244000 trips\n"
     ]
    }
   ],
   "source": [
    "print_simple_stats(apply_policies(population, [policy_household_quarantine_per_household]))"
   ]
  },
  {
   "cell_type": "code",
   "execution_count": 16,
   "metadata": {},
   "outputs": [],
   "source": [
    "policy_household_quarantine_per_person = modify.HouseholdQuarantined(probability=0.01, person_based=True)"
   ]
  },
  {
   "cell_type": "code",
   "execution_count": 22,
   "metadata": {},
   "outputs": [
    {
     "name": "stdout",
     "output_type": "stream",
     "text": [
      "Population total time at home: 49.60 million hours\n",
      "Population total travel time: 1.57 million hours\n",
      "Low income trips to Central London: 228000 trips\n",
      "High income trips to Central London: 246000 trips\n"
     ]
    }
   ],
   "source": [
    "print_simple_stats(apply_policies(population, [policy_household_quarantine_per_person]))"
   ]
  },
  {
   "cell_type": "markdown",
   "metadata": {},
   "source": [
    "## Remove Higher Education\n",
    "\n",
    "Remove all education activity for persons over age of 17"
   ]
  },
  {
   "cell_type": "code",
   "execution_count": 13,
   "metadata": {},
   "outputs": [],
   "source": [
    "policy_remove_higher_education = modify.RemoveActivity(['education'], probability=0.95)"
   ]
  },
  {
   "cell_type": "markdown",
   "metadata": {},
   "source": [
    "## Remove Education\n",
    "\n",
    "Probabilistically remove education activities from a person"
   ]
  },
  {
   "cell_type": "code",
   "execution_count": 14,
   "metadata": {},
   "outputs": [],
   "source": [
    "policy_remove_education = modify.RemoveActivity(['education'], probability=0.95)"
   ]
  },
  {
   "cell_type": "markdown",
   "metadata": {},
   "source": [
    "## Remove Leisure Activities\n",
    "\n",
    "Remove all leisure activities"
   ]
  },
  {
   "cell_type": "code",
   "execution_count": null,
   "metadata": {},
   "outputs": [],
   "source": []
  },
  {
   "cell_type": "markdown",
   "metadata": {},
   "source": [
    "## Remove Health Activities\n",
    "\n",
    "Probabilistically remove individual health activities from a person"
   ]
  },
  {
   "cell_type": "code",
   "execution_count": null,
   "metadata": {},
   "outputs": [],
   "source": []
  },
  {
   "cell_type": "markdown",
   "metadata": {},
   "source": [
    "## Unemployment/Furlough\n",
    "\n",
    "Probabilistically remove all work activities from a person"
   ]
  },
  {
   "cell_type": "code",
   "execution_count": null,
   "metadata": {},
   "outputs": [],
   "source": []
  },
  {
   "cell_type": "markdown",
   "metadata": {},
   "source": [
    "## Work from Home\n",
    "\n",
    "Probabilistically remove all work activities from a person"
   ]
  },
  {
   "cell_type": "code",
   "execution_count": null,
   "metadata": {},
   "outputs": [],
   "source": []
  },
  {
   "cell_type": "markdown",
   "metadata": {},
   "source": [
    "## Reduced Work Activity\n",
    "\n",
    "Probabilistically remove individual work activities from a person"
   ]
  },
  {
   "cell_type": "code",
   "execution_count": null,
   "metadata": {},
   "outputs": [],
   "source": []
  },
  {
   "cell_type": "markdown",
   "metadata": {},
   "source": [
    "## Remove Shopping \n",
    "\n",
    "Probabilistically remove individual shopping activities from a person"
   ]
  },
  {
   "cell_type": "code",
   "execution_count": null,
   "metadata": {},
   "outputs": [],
   "source": []
  },
  {
   "cell_type": "code",
   "execution_count": 15,
   "metadata": {},
   "outputs": [],
   "source": [
    "policy2 = modify.PersonStayAtHome(probability=0.1)\n",
    "policy4 = modify.RemoveActivity(['education', 'work'], probability=0.9)"
   ]
  }
 ],
 "metadata": {
  "kernelspec": {
   "display_name": "Python (pam)",
   "language": "python",
   "name": "pam"
  },
  "language_info": {
   "codemirror_mode": {
    "name": "ipython",
    "version": 3
   },
   "file_extension": ".py",
   "mimetype": "text/x-python",
   "name": "python",
   "nbconvert_exporter": "python",
   "pygments_lexer": "ipython3",
   "version": "3.7.5"
  }
 },
 "nbformat": 4,
 "nbformat_minor": 4
}
