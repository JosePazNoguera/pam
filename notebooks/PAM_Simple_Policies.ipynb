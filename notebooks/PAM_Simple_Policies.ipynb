{
 "cells": [
  {
   "cell_type": "code",
   "execution_count": null,
   "metadata": {},
   "outputs": [],
   "source": [
    "import os\n",
    "import pandas as pd\n",
    "import random\n",
    "from copy import deepcopy\n",
    "from collections import defaultdict\n",
    "import geopandas as gp\n",
    "from matplotlib import pyplot as plt\n",
    "from pam import parse\n",
    "\n",
    "path_to_repo = '/Users/.../PythonProjects/pam'"
   ]
  },
  {
   "cell_type": "markdown",
   "metadata": {},
   "source": [
    "## Load Data\n",
    "Here we load simple travel diary data of London commuters. This is a very simple 0.1% sample of data about work and education commutes from the 2011 census. Because we're sharing this date - we've aggregated locations to borough level and randomized personal attributes - so don't get too excited about the results.\n",
    "\n",
    "The data is available in `pam/example_data`."
   ]
  },
  {
   "cell_type": "code",
   "execution_count": 2,
   "metadata": {},
   "outputs": [],
   "source": [
    "trips = pd.read_csv(os.path.join(path_to_repo, 'example_data', 'example_travel_diaries.csv'))\n",
    "attributes = pd.read_csv(os.path.join(path_to_repo, 'example_data' , 'example_attributes.csv'))\n",
    "attributes.set_index('pid', inplace=True)"
   ]
  },
  {
   "cell_type": "code",
   "execution_count": 3,
   "metadata": {},
   "outputs": [
    {
     "data": {
      "text/html": [
       "<div>\n",
       "<style scoped>\n",
       "    .dataframe tbody tr th:only-of-type {\n",
       "        vertical-align: middle;\n",
       "    }\n",
       "\n",
       "    .dataframe tbody tr th {\n",
       "        vertical-align: top;\n",
       "    }\n",
       "\n",
       "    .dataframe thead th {\n",
       "        text-align: right;\n",
       "    }\n",
       "</style>\n",
       "<table border=\"1\" class=\"dataframe\">\n",
       "  <thead>\n",
       "    <tr style=\"text-align: right;\">\n",
       "      <th></th>\n",
       "      <th>gender</th>\n",
       "      <th>job</th>\n",
       "      <th>occ</th>\n",
       "      <th>inc</th>\n",
       "    </tr>\n",
       "    <tr>\n",
       "      <th>pid</th>\n",
       "      <th></th>\n",
       "      <th></th>\n",
       "      <th></th>\n",
       "      <th></th>\n",
       "    </tr>\n",
       "  </thead>\n",
       "  <tbody>\n",
       "    <tr>\n",
       "      <th>census_0</th>\n",
       "      <td>female</td>\n",
       "      <td>work</td>\n",
       "      <td>white</td>\n",
       "      <td>low</td>\n",
       "    </tr>\n",
       "    <tr>\n",
       "      <th>census_1</th>\n",
       "      <td>female</td>\n",
       "      <td>work</td>\n",
       "      <td>white</td>\n",
       "      <td>low</td>\n",
       "    </tr>\n",
       "    <tr>\n",
       "      <th>census_2</th>\n",
       "      <td>male</td>\n",
       "      <td>work</td>\n",
       "      <td>blue</td>\n",
       "      <td>high</td>\n",
       "    </tr>\n",
       "    <tr>\n",
       "      <th>census_3</th>\n",
       "      <td>male</td>\n",
       "      <td>work</td>\n",
       "      <td>blue</td>\n",
       "      <td>low</td>\n",
       "    </tr>\n",
       "    <tr>\n",
       "      <th>census_4</th>\n",
       "      <td>male</td>\n",
       "      <td>work</td>\n",
       "      <td>blue</td>\n",
       "      <td>medium</td>\n",
       "    </tr>\n",
       "  </tbody>\n",
       "</table>\n",
       "</div>"
      ],
      "text/plain": [
       "          gender   job    occ     inc\n",
       "pid                                  \n",
       "census_0  female  work  white     low\n",
       "census_1  female  work  white     low\n",
       "census_2    male  work   blue    high\n",
       "census_3    male  work   blue     low\n",
       "census_4    male  work   blue  medium"
      ]
     },
     "execution_count": 3,
     "metadata": {},
     "output_type": "execute_result"
    }
   ],
   "source": [
    "attributes.head()"
   ]
  },
  {
   "cell_type": "code",
   "execution_count": 4,
   "metadata": {},
   "outputs": [
    {
     "data": {
      "text/html": [
       "<div>\n",
       "<style scoped>\n",
       "    .dataframe tbody tr th:only-of-type {\n",
       "        vertical-align: middle;\n",
       "    }\n",
       "\n",
       "    .dataframe tbody tr th {\n",
       "        vertical-align: top;\n",
       "    }\n",
       "\n",
       "    .dataframe thead th {\n",
       "        text-align: right;\n",
       "    }\n",
       "</style>\n",
       "<table border=\"1\" class=\"dataframe\">\n",
       "  <thead>\n",
       "    <tr style=\"text-align: right;\">\n",
       "      <th></th>\n",
       "      <th>uid</th>\n",
       "      <th>pid</th>\n",
       "      <th>hid</th>\n",
       "      <th>seq</th>\n",
       "      <th>hzone</th>\n",
       "      <th>ozone</th>\n",
       "      <th>dzone</th>\n",
       "      <th>purp</th>\n",
       "      <th>mode</th>\n",
       "      <th>tst</th>\n",
       "      <th>tet</th>\n",
       "      <th>freq</th>\n",
       "    </tr>\n",
       "  </thead>\n",
       "  <tbody>\n",
       "    <tr>\n",
       "      <th>0</th>\n",
       "      <td>0</td>\n",
       "      <td>census_0</td>\n",
       "      <td>census_0</td>\n",
       "      <td>0</td>\n",
       "      <td>Harrow</td>\n",
       "      <td>Harrow</td>\n",
       "      <td>Camden</td>\n",
       "      <td>work</td>\n",
       "      <td>pt</td>\n",
       "      <td>444</td>\n",
       "      <td>473</td>\n",
       "      <td>1000</td>\n",
       "    </tr>\n",
       "    <tr>\n",
       "      <th>1</th>\n",
       "      <td>1</td>\n",
       "      <td>census_0</td>\n",
       "      <td>census_0</td>\n",
       "      <td>1</td>\n",
       "      <td>Harrow</td>\n",
       "      <td>Camden</td>\n",
       "      <td>Harrow</td>\n",
       "      <td>work</td>\n",
       "      <td>pt</td>\n",
       "      <td>890</td>\n",
       "      <td>919</td>\n",
       "      <td>1000</td>\n",
       "    </tr>\n",
       "    <tr>\n",
       "      <th>2</th>\n",
       "      <td>2</td>\n",
       "      <td>census_1</td>\n",
       "      <td>census_1</td>\n",
       "      <td>0</td>\n",
       "      <td>Greenwich</td>\n",
       "      <td>Greenwich</td>\n",
       "      <td>Tower Hamlets</td>\n",
       "      <td>work</td>\n",
       "      <td>pt</td>\n",
       "      <td>507</td>\n",
       "      <td>528</td>\n",
       "      <td>1000</td>\n",
       "    </tr>\n",
       "    <tr>\n",
       "      <th>3</th>\n",
       "      <td>3</td>\n",
       "      <td>census_1</td>\n",
       "      <td>census_1</td>\n",
       "      <td>1</td>\n",
       "      <td>Greenwich</td>\n",
       "      <td>Tower Hamlets</td>\n",
       "      <td>Greenwich</td>\n",
       "      <td>work</td>\n",
       "      <td>pt</td>\n",
       "      <td>1065</td>\n",
       "      <td>1086</td>\n",
       "      <td>1000</td>\n",
       "    </tr>\n",
       "    <tr>\n",
       "      <th>4</th>\n",
       "      <td>4</td>\n",
       "      <td>census_2</td>\n",
       "      <td>census_2</td>\n",
       "      <td>0</td>\n",
       "      <td>Croydon</td>\n",
       "      <td>Croydon</td>\n",
       "      <td>Croydon</td>\n",
       "      <td>work</td>\n",
       "      <td>pt</td>\n",
       "      <td>422</td>\n",
       "      <td>425</td>\n",
       "      <td>1000</td>\n",
       "    </tr>\n",
       "  </tbody>\n",
       "</table>\n",
       "</div>"
      ],
      "text/plain": [
       "   uid       pid       hid  seq      hzone          ozone          dzone  \\\n",
       "0    0  census_0  census_0    0     Harrow         Harrow         Camden   \n",
       "1    1  census_0  census_0    1     Harrow         Camden         Harrow   \n",
       "2    2  census_1  census_1    0  Greenwich      Greenwich  Tower Hamlets   \n",
       "3    3  census_1  census_1    1  Greenwich  Tower Hamlets      Greenwich   \n",
       "4    4  census_2  census_2    0    Croydon        Croydon        Croydon   \n",
       "\n",
       "   purp mode   tst   tet  freq  \n",
       "0  work   pt   444   473  1000  \n",
       "1  work   pt   890   919  1000  \n",
       "2  work   pt   507   528  1000  \n",
       "3  work   pt  1065  1086  1000  \n",
       "4  work   pt   422   425  1000  "
      ]
     },
     "execution_count": 4,
     "metadata": {},
     "output_type": "execute_result"
    }
   ],
   "source": [
    "trips.head()"
   ]
  },
  {
   "cell_type": "code",
   "execution_count": 5,
   "metadata": {},
   "outputs": [
    {
     "data": {
      "text/plain": [
       "(array(['work', 'education'], dtype=object),\n",
       " array(['pt', 'car'], dtype=object))"
      ]
     },
     "execution_count": 5,
     "metadata": {},
     "output_type": "execute_result"
    }
   ],
   "source": [
    "trips['purp'].unique(), trips['mode'].unique()"
   ]
  },
  {
   "cell_type": "markdown",
   "metadata": {},
   "source": [
    "## Imagine we had better data...\n",
    "\n",
    "Conjure up additional data to aid demonstration.\n",
    "\n",
    "We add:\n",
    "- `age` to person attributes\n",
    "- activities: \n",
    "    - `leisure`\n",
    "    - `health`\n",
    "    - `shopping`\n",
    "    - `escort`\n",
    "\n",
    "and we put people in shared households based on shared hzone (originally it's one person per household)\n",
    "\n",
    "**Randomly.**"
   ]
  },
  {
   "cell_type": "code",
   "execution_count": 6,
   "metadata": {},
   "outputs": [],
   "source": [
    "import numpy as np\n",
    "\n",
    "# add age column to attributes\n",
    "attributes['age'] = [int(a) for a in np.random.normal(40.5, 10, len(attributes))]"
   ]
  },
  {
   "cell_type": "code",
   "execution_count": 7,
   "metadata": {},
   "outputs": [],
   "source": [
    "# add some extra activities to trips\n",
    "zones = list(set(trips['hzone'].unique()) | set(trips['ozone'].unique()) | set(trips['dzone'].unique()))\n",
    "purp = ['leisure', 'health', 'shopping', 'escort']\n",
    "mode = ['pt', 'car', 'walk', 'bike']\n",
    "\n",
    "def enrich_activities(group):\n",
    "    new_group = pd.DataFrame(columns=group.columns)\n",
    "    for idx in group.index:\n",
    "        trip = group.loc[idx, :]\n",
    "        try:\n",
    "            next_start = group.loc[idx+1, :]['tst']\n",
    "        except KeyError:\n",
    "            next_start = 1439\n",
    "        new_group = new_group.append(trip)\n",
    "        # append a random activity\n",
    "        activity_loc = random.choice(zones)\n",
    "        activity_purp = random.choice(purp)\n",
    "        activity_mode = random.choice(mode)\n",
    "\n",
    "        act_times = [random.randint(trip['tet']+1, next_start-1) for i in range(4)]\n",
    "        act_times.sort()\n",
    "\n",
    "        new_group = new_group.append(pd.DataFrame(\n",
    "            {'uid': ['{}_act_to'.format(trip['uid']), '{}_act_from'.format(trip['uid'])], \n",
    "             'pid': [trip['pid'], trip['pid']], 'hid': [trip['hid'], trip['hid']], \n",
    "             'seq': [0, 0], 'hzone': [trip['hzone'], trip['hzone']], 'ozone': [trip['dzone'], activity_loc], \n",
    "             'dzone': [activity_loc, trip['ozone']], 'purp': [activity_purp, activity_purp], \n",
    "             'mode': [activity_mode, activity_mode], 'tst': [act_times[0], act_times[2]], \n",
    "             'tet': [act_times[1], act_times[3]], 'freq': [trip['freq'], trip['freq']]}))\n",
    "    new_group = new_group.reset_index(drop=True)\n",
    "    new_group = new_group.drop(['seq'], axis=1)\n",
    "    new_group = new_group.rename_axis('seq').reset_index()\n",
    "    return new_group\n",
    "\n",
    "new_trips = trips.groupby('pid').apply(enrich_activities).reset_index(drop=True)"
   ]
  },
  {
   "cell_type": "code",
   "execution_count": 8,
   "metadata": {},
   "outputs": [],
   "source": [
    "# generate some households (as opposed one person to a household)\n",
    "# bunch up people who share the same hzone\n",
    "import uuid\n",
    "\n",
    "def bunch_up_people(group):\n",
    "    group['pid'].unique()\n",
    "    households = []\n",
    "    i = 1\n",
    "    household= []\n",
    "    h_size = random.randint(1,5)\n",
    "    for p in group['pid'].unique():\n",
    "        household.append(p)\n",
    "        i += 1\n",
    "\n",
    "        if i>h_size:\n",
    "            households.append(household)\n",
    "            h_size = random.randint(1,5)\n",
    "            household= []\n",
    "            i = 1\n",
    "\n",
    "    return dict(zip([str(uuid.uuid4()) for i in range(len(households))], households))"
   ]
  },
  {
   "cell_type": "code",
   "execution_count": 9,
   "metadata": {},
   "outputs": [],
   "source": [
    "households_map = {}\n",
    "households_per_zone = new_trips.groupby('hzone').apply(bunch_up_people)\n",
    "for idx in households_per_zone.index:\n",
    "    households_map = {**households_map, **households_per_zone[idx]}"
   ]
  },
  {
   "cell_type": "code",
   "execution_count": 10,
   "metadata": {},
   "outputs": [],
   "source": [
    "# ze old switcheroo person to household id\n",
    "new_keys = []\n",
    "new_values = []\n",
    "for key, value in households_map.items():\n",
    "    for item in value:\n",
    "        new_keys.append(item)\n",
    "        new_values.append(key.lower())\n",
    "person_to_household_map = dict(zip(new_keys, new_values))"
   ]
  },
  {
   "cell_type": "code",
   "execution_count": 11,
   "metadata": {},
   "outputs": [
    {
     "data": {
      "text/plain": [
       "{'census_1016': '29b5787a-fdd1-46c1-a4da-2be6051c5d95',\n",
       " 'census_1043': '29b5787a-fdd1-46c1-a4da-2be6051c5d95',\n",
       " 'census_1197': '29b5787a-fdd1-46c1-a4da-2be6051c5d95',\n",
       " 'census_1247': '29b5787a-fdd1-46c1-a4da-2be6051c5d95',\n",
       " 'census_1272': '29b5787a-fdd1-46c1-a4da-2be6051c5d95',\n",
       " 'census_128': '33f5e7cf-ef06-49bf-aa5d-fcd99188431e',\n",
       " 'census_1281': '33f5e7cf-ef06-49bf-aa5d-fcd99188431e',\n",
       " 'census_1287': '33f5e7cf-ef06-49bf-aa5d-fcd99188431e',\n",
       " 'census_1375': 'c595cac9-c751-4535-b61d-4d19ff115387',\n",
       " 'census_1418': 'c5a9ac8c-2b4d-43d6-a96e-6c70f95d0708',\n",
       " 'census_1420': 'c5a9ac8c-2b4d-43d6-a96e-6c70f95d0708',\n",
       " 'census_1536': 'c5a9ac8c-2b4d-43d6-a96e-6c70f95d0708',\n",
       " 'census_1665': 'c5a9ac8c-2b4d-43d6-a96e-6c70f95d0708',\n",
       " 'census_1670': 'fe8d6359-c888-444a-b205-41b48cea934b',\n",
       " 'census_1690': 'fe8d6359-c888-444a-b205-41b48cea934b'}"
      ]
     },
     "execution_count": 11,
     "metadata": {},
     "output_type": "execute_result"
    }
   ],
   "source": [
    "dict(list(person_to_household_map.items())[0:15])"
   ]
  },
  {
   "cell_type": "code",
   "execution_count": 12,
   "metadata": {},
   "outputs": [],
   "source": [
    "new_trips['hid'] = new_trips['pid'].map(person_to_household_map)"
   ]
  },
  {
   "cell_type": "markdown",
   "metadata": {},
   "source": [
    "## Input data after changes "
   ]
  },
  {
   "cell_type": "code",
   "execution_count": 13,
   "metadata": {},
   "outputs": [
    {
     "data": {
      "text/html": [
       "<div>\n",
       "<style scoped>\n",
       "    .dataframe tbody tr th:only-of-type {\n",
       "        vertical-align: middle;\n",
       "    }\n",
       "\n",
       "    .dataframe tbody tr th {\n",
       "        vertical-align: top;\n",
       "    }\n",
       "\n",
       "    .dataframe thead th {\n",
       "        text-align: right;\n",
       "    }\n",
       "</style>\n",
       "<table border=\"1\" class=\"dataframe\">\n",
       "  <thead>\n",
       "    <tr style=\"text-align: right;\">\n",
       "      <th></th>\n",
       "      <th>gender</th>\n",
       "      <th>job</th>\n",
       "      <th>occ</th>\n",
       "      <th>inc</th>\n",
       "      <th>age</th>\n",
       "    </tr>\n",
       "    <tr>\n",
       "      <th>pid</th>\n",
       "      <th></th>\n",
       "      <th></th>\n",
       "      <th></th>\n",
       "      <th></th>\n",
       "      <th></th>\n",
       "    </tr>\n",
       "  </thead>\n",
       "  <tbody>\n",
       "    <tr>\n",
       "      <th>census_0</th>\n",
       "      <td>female</td>\n",
       "      <td>work</td>\n",
       "      <td>white</td>\n",
       "      <td>low</td>\n",
       "      <td>67</td>\n",
       "    </tr>\n",
       "    <tr>\n",
       "      <th>census_1</th>\n",
       "      <td>female</td>\n",
       "      <td>work</td>\n",
       "      <td>white</td>\n",
       "      <td>low</td>\n",
       "      <td>46</td>\n",
       "    </tr>\n",
       "    <tr>\n",
       "      <th>census_2</th>\n",
       "      <td>male</td>\n",
       "      <td>work</td>\n",
       "      <td>blue</td>\n",
       "      <td>high</td>\n",
       "      <td>37</td>\n",
       "    </tr>\n",
       "    <tr>\n",
       "      <th>census_3</th>\n",
       "      <td>male</td>\n",
       "      <td>work</td>\n",
       "      <td>blue</td>\n",
       "      <td>low</td>\n",
       "      <td>18</td>\n",
       "    </tr>\n",
       "    <tr>\n",
       "      <th>census_4</th>\n",
       "      <td>male</td>\n",
       "      <td>work</td>\n",
       "      <td>blue</td>\n",
       "      <td>medium</td>\n",
       "      <td>36</td>\n",
       "    </tr>\n",
       "  </tbody>\n",
       "</table>\n",
       "</div>"
      ],
      "text/plain": [
       "          gender   job    occ     inc  age\n",
       "pid                                       \n",
       "census_0  female  work  white     low   67\n",
       "census_1  female  work  white     low   46\n",
       "census_2    male  work   blue    high   37\n",
       "census_3    male  work   blue     low   18\n",
       "census_4    male  work   blue  medium   36"
      ]
     },
     "execution_count": 13,
     "metadata": {},
     "output_type": "execute_result"
    }
   ],
   "source": [
    "attributes.head()"
   ]
  },
  {
   "cell_type": "code",
   "execution_count": 14,
   "metadata": {},
   "outputs": [
    {
     "data": {
      "text/html": [
       "<div>\n",
       "<style scoped>\n",
       "    .dataframe tbody tr th:only-of-type {\n",
       "        vertical-align: middle;\n",
       "    }\n",
       "\n",
       "    .dataframe tbody tr th {\n",
       "        vertical-align: top;\n",
       "    }\n",
       "\n",
       "    .dataframe thead th {\n",
       "        text-align: right;\n",
       "    }\n",
       "</style>\n",
       "<table border=\"1\" class=\"dataframe\">\n",
       "  <thead>\n",
       "    <tr style=\"text-align: right;\">\n",
       "      <th></th>\n",
       "      <th>seq</th>\n",
       "      <th>uid</th>\n",
       "      <th>pid</th>\n",
       "      <th>hid</th>\n",
       "      <th>hzone</th>\n",
       "      <th>ozone</th>\n",
       "      <th>dzone</th>\n",
       "      <th>purp</th>\n",
       "      <th>mode</th>\n",
       "      <th>tst</th>\n",
       "      <th>tet</th>\n",
       "      <th>freq</th>\n",
       "    </tr>\n",
       "  </thead>\n",
       "  <tbody>\n",
       "    <tr>\n",
       "      <th>0</th>\n",
       "      <td>0</td>\n",
       "      <td>0</td>\n",
       "      <td>census_0</td>\n",
       "      <td>ef2b3038-a959-40a0-af16-e474fc5f5044</td>\n",
       "      <td>Harrow</td>\n",
       "      <td>Harrow</td>\n",
       "      <td>Camden</td>\n",
       "      <td>work</td>\n",
       "      <td>pt</td>\n",
       "      <td>444</td>\n",
       "      <td>473</td>\n",
       "      <td>1000</td>\n",
       "    </tr>\n",
       "    <tr>\n",
       "      <th>1</th>\n",
       "      <td>1</td>\n",
       "      <td>0_act_to</td>\n",
       "      <td>census_0</td>\n",
       "      <td>ef2b3038-a959-40a0-af16-e474fc5f5044</td>\n",
       "      <td>Harrow</td>\n",
       "      <td>Camden</td>\n",
       "      <td>Harrow</td>\n",
       "      <td>escort</td>\n",
       "      <td>walk</td>\n",
       "      <td>527</td>\n",
       "      <td>572</td>\n",
       "      <td>1000</td>\n",
       "    </tr>\n",
       "    <tr>\n",
       "      <th>2</th>\n",
       "      <td>2</td>\n",
       "      <td>0_act_from</td>\n",
       "      <td>census_0</td>\n",
       "      <td>ef2b3038-a959-40a0-af16-e474fc5f5044</td>\n",
       "      <td>Harrow</td>\n",
       "      <td>Harrow</td>\n",
       "      <td>Harrow</td>\n",
       "      <td>escort</td>\n",
       "      <td>walk</td>\n",
       "      <td>577</td>\n",
       "      <td>832</td>\n",
       "      <td>1000</td>\n",
       "    </tr>\n",
       "    <tr>\n",
       "      <th>3</th>\n",
       "      <td>3</td>\n",
       "      <td>1</td>\n",
       "      <td>census_0</td>\n",
       "      <td>ef2b3038-a959-40a0-af16-e474fc5f5044</td>\n",
       "      <td>Harrow</td>\n",
       "      <td>Camden</td>\n",
       "      <td>Harrow</td>\n",
       "      <td>work</td>\n",
       "      <td>pt</td>\n",
       "      <td>890</td>\n",
       "      <td>919</td>\n",
       "      <td>1000</td>\n",
       "    </tr>\n",
       "    <tr>\n",
       "      <th>4</th>\n",
       "      <td>4</td>\n",
       "      <td>1_act_to</td>\n",
       "      <td>census_0</td>\n",
       "      <td>ef2b3038-a959-40a0-af16-e474fc5f5044</td>\n",
       "      <td>Harrow</td>\n",
       "      <td>Harrow</td>\n",
       "      <td>Hackney</td>\n",
       "      <td>health</td>\n",
       "      <td>walk</td>\n",
       "      <td>1308</td>\n",
       "      <td>1312</td>\n",
       "      <td>1000</td>\n",
       "    </tr>\n",
       "    <tr>\n",
       "      <th>5</th>\n",
       "      <td>5</td>\n",
       "      <td>1_act_from</td>\n",
       "      <td>census_0</td>\n",
       "      <td>ef2b3038-a959-40a0-af16-e474fc5f5044</td>\n",
       "      <td>Harrow</td>\n",
       "      <td>Hackney</td>\n",
       "      <td>Camden</td>\n",
       "      <td>health</td>\n",
       "      <td>walk</td>\n",
       "      <td>1381</td>\n",
       "      <td>1435</td>\n",
       "      <td>1000</td>\n",
       "    </tr>\n",
       "    <tr>\n",
       "      <th>6</th>\n",
       "      <td>0</td>\n",
       "      <td>2</td>\n",
       "      <td>census_1</td>\n",
       "      <td>97e2c3c0-01c1-4a1b-84d5-3aa45d2fa9ac</td>\n",
       "      <td>Greenwich</td>\n",
       "      <td>Greenwich</td>\n",
       "      <td>Tower Hamlets</td>\n",
       "      <td>work</td>\n",
       "      <td>pt</td>\n",
       "      <td>507</td>\n",
       "      <td>528</td>\n",
       "      <td>1000</td>\n",
       "    </tr>\n",
       "    <tr>\n",
       "      <th>7</th>\n",
       "      <td>1</td>\n",
       "      <td>2_act_to</td>\n",
       "      <td>census_1</td>\n",
       "      <td>97e2c3c0-01c1-4a1b-84d5-3aa45d2fa9ac</td>\n",
       "      <td>Greenwich</td>\n",
       "      <td>Tower Hamlets</td>\n",
       "      <td>Barnet</td>\n",
       "      <td>health</td>\n",
       "      <td>bike</td>\n",
       "      <td>567</td>\n",
       "      <td>577</td>\n",
       "      <td>1000</td>\n",
       "    </tr>\n",
       "    <tr>\n",
       "      <th>8</th>\n",
       "      <td>2</td>\n",
       "      <td>2_act_from</td>\n",
       "      <td>census_1</td>\n",
       "      <td>97e2c3c0-01c1-4a1b-84d5-3aa45d2fa9ac</td>\n",
       "      <td>Greenwich</td>\n",
       "      <td>Barnet</td>\n",
       "      <td>Greenwich</td>\n",
       "      <td>health</td>\n",
       "      <td>bike</td>\n",
       "      <td>598</td>\n",
       "      <td>1022</td>\n",
       "      <td>1000</td>\n",
       "    </tr>\n",
       "    <tr>\n",
       "      <th>9</th>\n",
       "      <td>3</td>\n",
       "      <td>3</td>\n",
       "      <td>census_1</td>\n",
       "      <td>97e2c3c0-01c1-4a1b-84d5-3aa45d2fa9ac</td>\n",
       "      <td>Greenwich</td>\n",
       "      <td>Tower Hamlets</td>\n",
       "      <td>Greenwich</td>\n",
       "      <td>work</td>\n",
       "      <td>pt</td>\n",
       "      <td>1065</td>\n",
       "      <td>1086</td>\n",
       "      <td>1000</td>\n",
       "    </tr>\n",
       "  </tbody>\n",
       "</table>\n",
       "</div>"
      ],
      "text/plain": [
       "   seq         uid       pid                                   hid      hzone  \\\n",
       "0    0           0  census_0  ef2b3038-a959-40a0-af16-e474fc5f5044     Harrow   \n",
       "1    1    0_act_to  census_0  ef2b3038-a959-40a0-af16-e474fc5f5044     Harrow   \n",
       "2    2  0_act_from  census_0  ef2b3038-a959-40a0-af16-e474fc5f5044     Harrow   \n",
       "3    3           1  census_0  ef2b3038-a959-40a0-af16-e474fc5f5044     Harrow   \n",
       "4    4    1_act_to  census_0  ef2b3038-a959-40a0-af16-e474fc5f5044     Harrow   \n",
       "5    5  1_act_from  census_0  ef2b3038-a959-40a0-af16-e474fc5f5044     Harrow   \n",
       "6    0           2  census_1  97e2c3c0-01c1-4a1b-84d5-3aa45d2fa9ac  Greenwich   \n",
       "7    1    2_act_to  census_1  97e2c3c0-01c1-4a1b-84d5-3aa45d2fa9ac  Greenwich   \n",
       "8    2  2_act_from  census_1  97e2c3c0-01c1-4a1b-84d5-3aa45d2fa9ac  Greenwich   \n",
       "9    3           3  census_1  97e2c3c0-01c1-4a1b-84d5-3aa45d2fa9ac  Greenwich   \n",
       "\n",
       "           ozone          dzone    purp  mode   tst   tet  freq  \n",
       "0         Harrow         Camden    work    pt   444   473  1000  \n",
       "1         Camden         Harrow  escort  walk   527   572  1000  \n",
       "2         Harrow         Harrow  escort  walk   577   832  1000  \n",
       "3         Camden         Harrow    work    pt   890   919  1000  \n",
       "4         Harrow        Hackney  health  walk  1308  1312  1000  \n",
       "5        Hackney         Camden  health  walk  1381  1435  1000  \n",
       "6      Greenwich  Tower Hamlets    work    pt   507   528  1000  \n",
       "7  Tower Hamlets         Barnet  health  bike   567   577  1000  \n",
       "8         Barnet      Greenwich  health  bike   598  1022  1000  \n",
       "9  Tower Hamlets      Greenwich    work    pt  1065  1086  1000  "
      ]
     },
     "execution_count": 14,
     "metadata": {},
     "output_type": "execute_result"
    }
   ],
   "source": [
    "new_trips.head(10)"
   ]
  },
  {
   "cell_type": "code",
   "execution_count": 15,
   "metadata": {},
   "outputs": [
    {
     "name": "stdout",
     "output_type": "stream",
     "text": [
      "<class 'pandas.core.frame.DataFrame'>\n",
      "RangeIndex: 17556 entries, 0 to 17555\n",
      "Data columns (total 12 columns):\n",
      " #   Column  Non-Null Count  Dtype \n",
      "---  ------  --------------  ----- \n",
      " 0   seq     17556 non-null  int64 \n",
      " 1   uid     17556 non-null  object\n",
      " 2   pid     17556 non-null  object\n",
      " 3   hid     17250 non-null  object\n",
      " 4   hzone   17556 non-null  object\n",
      " 5   ozone   17556 non-null  object\n",
      " 6   dzone   17556 non-null  object\n",
      " 7   purp    17556 non-null  object\n",
      " 8   mode    17556 non-null  object\n",
      " 9   tst     17556 non-null  object\n",
      " 10  tet     17556 non-null  object\n",
      " 11  freq    17556 non-null  object\n",
      "dtypes: int64(1), object(11)\n",
      "memory usage: 1.6+ MB\n"
     ]
    }
   ],
   "source": [
    "new_trips.info()"
   ]
  },
  {
   "cell_type": "code",
   "execution_count": 16,
   "metadata": {},
   "outputs": [
    {
     "data": {
      "text/plain": [
       "(array(['work', 'escort', 'health', 'leisure', 'education', 'shopping'],\n",
       "       dtype=object),\n",
       " array(['pt', 'walk', 'bike', 'car'], dtype=object))"
      ]
     },
     "execution_count": 16,
     "metadata": {},
     "output_type": "execute_result"
    }
   ],
   "source": [
    "new_trips['purp'].unique(), new_trips['mode'].unique()"
   ]
  },
  {
   "cell_type": "code",
   "execution_count": 17,
   "metadata": {},
   "outputs": [],
   "source": [
    "def print_simple_stats(population):\n",
    "    \"\"\"\n",
    "    Print some simple population statistics.\n",
    "    \"\"\"\n",
    "    time_at_home = 0\n",
    "    travel_time = 0 \n",
    "    low_income_central_trips = 0\n",
    "    high_income_central_trips = 0\n",
    "    \n",
    "    for hid, hh in population.households.items():\n",
    "        for pid, person in hh.people.items():\n",
    "            freq = person.freq\n",
    "            \n",
    "            for p in person.plan:\n",
    "                if p.act == 'travel':\n",
    "                    duration = p.duration.seconds * freq / 3600\n",
    "                    travel_time += duration\n",
    "                    \n",
    "                    if p.end_location.area == \"Westminster,City of London\":\n",
    "                        if person.attributes['inc'] == \"low\":\n",
    "                            low_income_central_trips += freq\n",
    "                            \n",
    "                        elif person.attributes['inc'] == \"high\":\n",
    "                            high_income_central_trips += freq\n",
    "                    \n",
    "                else:  # activity\n",
    "                    if p.act == 'home':\n",
    "                        duration = p.duration.seconds * freq / 3600\n",
    "                        time_at_home += duration\n",
    "                        \n",
    "    print(f\"Population total time at home: {time_at_home/1000000:.2f} million hours\")\n",
    "    print(f\"Population total travel time: {travel_time/1000000:.2f} million hours\")\n",
    "    print(f\"Low income trips to Central London: {low_income_central_trips} trips\")\n",
    "    print(f\"High income trips to Central London: {high_income_central_trips} trips\")"
   ]
  },
  {
   "cell_type": "markdown",
   "metadata": {},
   "source": [
    "## Create the population"
   ]
  },
  {
   "cell_type": "code",
   "execution_count": 18,
   "metadata": {},
   "outputs": [],
   "source": [
    "population = parse.load_travel_diary(new_trips, attributes)"
   ]
  },
  {
   "cell_type": "code",
   "execution_count": 19,
   "metadata": {},
   "outputs": [],
   "source": [
    "rando_hh_id = list(households_map.keys())[0]\n",
    "rando_pid_in_hh = list(population.households[rando_hh_id].people)[0]"
   ]
  },
  {
   "cell_type": "code",
   "execution_count": 20,
   "metadata": {},
   "outputs": [
    {
     "data": {
      "text/plain": [
       "{'census_1016': <pam.core.Person at 0x113ec0e10>,\n",
       " 'census_1043': <pam.core.Person at 0x113ec5890>,\n",
       " 'census_1197': <pam.core.Person at 0x113ec0f10>,\n",
       " 'census_1247': <pam.core.Person at 0x113ecd290>,\n",
       " 'census_1272': <pam.core.Person at 0x113ecda10>}"
      ]
     },
     "execution_count": 20,
     "metadata": {},
     "output_type": "execute_result"
    }
   ],
   "source": [
    "population.households[rando_hh_id].people"
   ]
  },
  {
   "cell_type": "code",
   "execution_count": 21,
   "metadata": {},
   "outputs": [
    {
     "name": "stdout",
     "output_type": "stream",
     "text": [
      "0:\tActivity(0 act:home, location:Barking and Dagenham, time:00:00:00 --> 07:21:00, duration:7:21:00)\n",
      "1:\tLeg(0 mode:car, area:Barking and Dagenham --> Barking and Dagenham, time:07:21:00 --> 07:30:00, duration:0:09:00)\n",
      "2:\tActivity(1 act:work, location:Barking and Dagenham, time:07:30:00 --> 08:29:00, duration:0:59:00)\n",
      "3:\tLeg(1 mode:walk, area:Barking and Dagenham --> Barking and Dagenham, time:08:29:00 --> 08:46:00, duration:0:17:00)\n",
      "4:\tActivity(2 act:shopping, location:Barking and Dagenham, time:08:46:00 --> 09:23:00, duration:0:37:00)\n",
      "5:\tLeg(2 mode:walk, area:Barking and Dagenham --> Barking and Dagenham, time:09:23:00 --> 11:25:00, duration:2:02:00)\n",
      "6:\tActivity(3 act:shopping, location:Barking and Dagenham, time:11:25:00 --> 16:02:00, duration:4:37:00)\n",
      "7:\tLeg(3 mode:car, area:Barking and Dagenham --> Barking and Dagenham, time:16:02:00 --> 16:11:00, duration:0:09:00)\n",
      "8:\tActivity(4 act:home, location:Barking and Dagenham, time:16:11:00 --> 21:57:00, duration:5:46:00)\n",
      "9:\tLeg(4 mode:walk, area:Barking and Dagenham --> Newham, time:21:57:00 --> 22:21:00, duration:0:24:00)\n",
      "10:\tActivity(5 act:escort, location:Newham, time:22:21:00 --> 22:32:00, duration:0:11:00)\n",
      "11:\tLeg(5 mode:walk, area:Newham --> Barking and Dagenham, time:22:32:00 --> 23:49:00, duration:1:17:00)\n",
      "12:\tActivity(6 act:home, location:Barking and Dagenham, time:23:49:00 --> 00:00:00, duration:0:11:00)\n"
     ]
    }
   ],
   "source": [
    "population.households[rando_hh_id].people[rando_pid_in_hh].plan.print()"
   ]
  },
  {
   "cell_type": "code",
   "execution_count": 22,
   "metadata": {},
   "outputs": [],
   "source": [
    "person = population.households[rando_hh_id].people[rando_pid_in_hh]"
   ]
  },
  {
   "cell_type": "code",
   "execution_count": 23,
   "metadata": {},
   "outputs": [
    {
     "data": {
      "text/plain": [
       "7"
      ]
     },
     "execution_count": 23,
     "metadata": {},
     "output_type": "execute_result"
    }
   ],
   "source": [
    "len(list(person.activities))"
   ]
  },
  {
   "cell_type": "code",
   "execution_count": 24,
   "metadata": {},
   "outputs": [
    {
     "data": {
      "text/plain": [
       "{'gender': 'other', 'job': 'work', 'occ': 'white', 'inc': 'low', 'age': 23}"
      ]
     },
     "execution_count": 24,
     "metadata": {},
     "output_type": "execute_result"
    }
   ],
   "source": [
    "population.households[rando_hh_id].people[rando_pid_in_hh].attributes"
   ]
  },
  {
   "cell_type": "code",
   "execution_count": 25,
   "metadata": {},
   "outputs": [
    {
     "name": "stdout",
     "output_type": "stream",
     "text": [
      "Population total time at home: 32.81 million hours\n",
      "Population total travel time: 19.04 million hours\n",
      "Low income trips to Central London: 505000 trips\n",
      "High income trips to Central London: 553000 trips\n"
     ]
    }
   ],
   "source": [
    "print_simple_stats(population)"
   ]
  },
  {
   "cell_type": "markdown",
   "metadata": {},
   "source": [
    "# PAM Simple Policies\n",
    "\n",
    "Based on [link](https://docs.google.com/spreadsheets/d/1FQMa7dLe2cv1NEZnbu5cZo3v07tKXINwvOaLQYoEp-M/edit#gid=0)"
   ]
  },
  {
   "cell_type": "code",
   "execution_count": 26,
   "metadata": {},
   "outputs": [],
   "source": [
    "from pam import modify\n",
    "\n",
    "def apply_policies(population, policies: list):\n",
    "\n",
    "    new_population = deepcopy(population) \n",
    "    for hid, household in new_population.households.items():\n",
    "        for policy in policies:\n",
    "            policy.apply_to(household)\n",
    "    return new_population"
   ]
  },
  {
   "cell_type": "markdown",
   "metadata": {},
   "source": [
    "## Household Quarantine\n",
    "\n",
    "Probabilistically apply quarantine to a household (remove all activities - stay at home) "
   ]
  },
  {
   "cell_type": "markdown",
   "metadata": {},
   "source": [
    "### Household-based\n",
    "\n",
    "If you have a probability of a household having to be quarantined"
   ]
  },
  {
   "cell_type": "code",
   "execution_count": 27,
   "metadata": {},
   "outputs": [],
   "source": [
    "policy_household_quarantine_per_household = \\\n",
    "    modify.HouseholdQuarantined(\n",
    "        modify.HouseholdProbability(0.01)\n",
    "    )"
   ]
  },
  {
   "cell_type": "code",
   "execution_count": 28,
   "metadata": {},
   "outputs": [
    {
     "name": "stdout",
     "output_type": "stream",
     "text": [
      "Population total time at home: 32.62 million hours\n",
      "Population total travel time: 18.93 million hours\n",
      "Low income trips to Central London: 503000 trips\n",
      "High income trips to Central London: 551000 trips\n"
     ]
    }
   ],
   "source": [
    "print_simple_stats(apply_policies(population, [policy_household_quarantine_per_household]))"
   ]
  },
  {
   "cell_type": "markdown",
   "metadata": {},
   "source": [
    "### Person-based\n",
    "\n",
    "If you have a probability of any one person living in the household having to be quarantined.\n",
    "\n",
    "The probability of the household being quarantined is then $1 - (1-P)^n$, where $P$ is the probability any one person being quarantined and $n$ is the number of people in the household; $(1-P)^n$ is the probability of no one having to be quarantined."
   ]
  },
  {
   "cell_type": "code",
   "execution_count": 29,
   "metadata": {},
   "outputs": [],
   "source": [
    "policy_household_quarantine_per_person = \\\n",
    "    modify.HouseholdQuarantined(\n",
    "        modify.PersonProbability(0.01)\n",
    "    )"
   ]
  },
  {
   "cell_type": "code",
   "execution_count": 30,
   "metadata": {},
   "outputs": [
    {
     "name": "stdout",
     "output_type": "stream",
     "text": [
      "Population total time at home: 31.21 million hours\n",
      "Population total travel time: 18.10 million hours\n",
      "Low income trips to Central London: 483000 trips\n",
      "High income trips to Central London: 528000 trips\n"
     ]
    }
   ],
   "source": [
    "print_simple_stats(apply_policies(population, [policy_household_quarantine_per_person]))"
   ]
  },
  {
   "cell_type": "markdown",
   "metadata": {},
   "source": [
    "(Should be equivalent to `RemoveActivity` removing all non-home activities with `policy_type='household'`, and `probability_level='person'`)"
   ]
  },
  {
   "cell_type": "code",
   "execution_count": null,
   "metadata": {},
   "outputs": [],
   "source": [
    "policy_remove_any_education = \\\n",
    "    modify.HouseholdPolicy(\n",
    "        modify.RemoveActivity(['work', 'leisure', 'shopping', 'health', 'education', 'escort']), \n",
    "        modify.PersonProbability(0.01)\n",
    ")\n",
    "\n",
    "print_simple_stats(apply_policies(population, [policy_household_quarantine_per_person]))"
   ]
  },
  {
   "cell_type": "markdown",
   "metadata": {},
   "source": [
    "## Remove Higher Education\n",
    "\n",
    "Remove all education activity for persons over age of 17"
   ]
  },
  {
   "cell_type": "code",
   "execution_count": null,
   "metadata": {},
   "outputs": [],
   "source": [
    "def age_condition_over_17(attribute_value):\n",
    "    return attribute_value > 17\n",
    "\n",
    "policy_remove_higher_education = \\\n",
    "    modify.PersonPolicy(\n",
    "        modify.RemoveActivity(['education']),\n",
    "        modify.PersonProbability(1),\n",
    "        modify.PersonAttributeFilter({'age': age_condition_over_17}, how='all')\n",
    ")"
   ]
  },
  {
   "cell_type": "code",
   "execution_count": null,
   "metadata": {},
   "outputs": [],
   "source": [
    "print_simple_stats(apply_policies(population, [policy_remove_higher_education]))"
   ]
  },
  {
   "cell_type": "markdown",
   "metadata": {},
   "source": [
    "## Remove Education\n",
    "\n",
    "Probabilistically remove education activities from a person"
   ]
  },
  {
   "cell_type": "code",
   "execution_count": null,
   "metadata": {},
   "outputs": [],
   "source": [
    "policy_remove_any_education = \\\n",
    "    modify.HouseholdPolicy(\n",
    "        modify.RemoveActivity(['education', 'escort']), \n",
    "        modify.PersonProbability(0.95)\n",
    ")"
   ]
  },
  {
   "cell_type": "code",
   "execution_count": null,
   "metadata": {},
   "outputs": [],
   "source": [
    "print_simple_stats(apply_policies(population, [policy_remove_any_education]))"
   ]
  },
  {
   "cell_type": "markdown",
   "metadata": {},
   "source": [
    "#### Affecting different activities\n",
    "\n",
    "You can choose to remove different activities to the ones that carry a probability. Here, education activities affect removal of both education and escort on a household level."
   ]
  },
  {
   "cell_type": "code",
   "execution_count": null,
   "metadata": {},
   "outputs": [],
   "source": [
    "policy_remove_any_education = \\\n",
    "    modify.HouseholdPolicy(\n",
    "        modify.RemoveActivity(['education', 'escort']), \n",
    "        modify.ActivityProbability(['education'], 0.95)\n",
    ")"
   ]
  },
  {
   "cell_type": "code",
   "execution_count": null,
   "metadata": {},
   "outputs": [],
   "source": [
    "print_simple_stats(apply_policies(population, [policy_remove_any_education]))"
   ]
  },
  {
   "cell_type": "markdown",
   "metadata": {},
   "source": [
    "## Remove Leisure Activities\n",
    "\n",
    "Remove all leisure activities"
   ]
  },
  {
   "cell_type": "code",
   "execution_count": null,
   "metadata": {},
   "outputs": [],
   "source": [
    "policy_remove_leisure = \\\n",
    "    modify.PersonPolicy(\n",
    "        modify.RemoveActivity(['leisure']), \n",
    "        modify.PersonProbability(1)\n",
    ")"
   ]
  },
  {
   "cell_type": "code",
   "execution_count": null,
   "metadata": {},
   "outputs": [],
   "source": [
    "print_simple_stats(apply_policies(population, [policy_remove_leisure]))"
   ]
  },
  {
   "cell_type": "markdown",
   "metadata": {},
   "source": [
    "## Remove Health Activities\n",
    "\n",
    "Probabilistically remove **individual** health activities from a person"
   ]
  },
  {
   "cell_type": "code",
   "execution_count": null,
   "metadata": {},
   "outputs": [],
   "source": [
    "policy_remove_health = \\\n",
    "    modify.ActivityPolicy(\n",
    "        modify.RemoveActivity(['health']), \n",
    "        modify.ActivityProbability(['health'], 0.5)\n",
    ")"
   ]
  },
  {
   "cell_type": "code",
   "execution_count": null,
   "metadata": {},
   "outputs": [],
   "source": [
    "print_simple_stats(apply_policies(population, [policy_remove_health]))"
   ]
  },
  {
   "cell_type": "markdown",
   "metadata": {},
   "source": [
    "## Unemployment/Furlough\n",
    "\n",
    "Probabilistically remove all work activities from a person"
   ]
  },
  {
   "cell_type": "code",
   "execution_count": null,
   "metadata": {},
   "outputs": [],
   "source": [
    "policy_unemployment_and_furlough = \\\n",
    "    modify.PersonPolicy(\n",
    "        modify.RemoveActivity(['work']), \n",
    "        modify.PersonProbability(0.1)\n",
    ")"
   ]
  },
  {
   "cell_type": "code",
   "execution_count": null,
   "metadata": {},
   "outputs": [],
   "source": [
    "print_simple_stats(apply_policies(population, [policy_unemployment_and_furlough]))"
   ]
  },
  {
   "cell_type": "markdown",
   "metadata": {},
   "source": [
    "## Work from Home\n",
    "\n",
    "Probabilistically remove all work activities from a person"
   ]
  },
  {
   "cell_type": "code",
   "execution_count": null,
   "metadata": {},
   "outputs": [],
   "source": [
    "policy_work_from_home = \\\n",
    "    modify.PersonPolicy(\n",
    "        modify.RemoveActivity(['work']), \n",
    "        modify.PersonProbability(0.5)\n",
    ")"
   ]
  },
  {
   "cell_type": "code",
   "execution_count": null,
   "metadata": {},
   "outputs": [],
   "source": [
    "print_simple_stats(apply_policies(population, [policy_work_from_home]))"
   ]
  },
  {
   "cell_type": "markdown",
   "metadata": {},
   "source": [
    "## Reduced Work Activity\n",
    "\n",
    "Probabilistically remove **individual** work activities from a person"
   ]
  },
  {
   "cell_type": "code",
   "execution_count": null,
   "metadata": {},
   "outputs": [],
   "source": [
    "policy_reduced_work_activity = \\\n",
    "    modify.ActivityPolicy(\n",
    "        modify.RemoveActivity(['work']), \n",
    "        modify.ActivityProbability(['work'], 0.2)\n",
    ")"
   ]
  },
  {
   "cell_type": "code",
   "execution_count": null,
   "metadata": {},
   "outputs": [],
   "source": [
    "print_simple_stats(apply_policies(population, [policy_reduced_work_activity]))"
   ]
  },
  {
   "cell_type": "markdown",
   "metadata": {},
   "source": [
    "## Remove Shopping \n",
    "\n",
    "Probabilistically remove **individual** shopping activities from a person"
   ]
  },
  {
   "cell_type": "code",
   "execution_count": null,
   "metadata": {},
   "outputs": [],
   "source": [
    "policy_remove_shopping = \\\n",
    "    modify.ActivityPolicy(\n",
    "        modify.RemoveActivity(['shop']), \n",
    "        modify.ActivityProbability(['shop'], 0.5)\n",
    ")"
   ]
  },
  {
   "cell_type": "code",
   "execution_count": null,
   "metadata": {},
   "outputs": [],
   "source": [
    "print_simple_stats(apply_policies(population, [policy_remove_shopping]))"
   ]
  },
  {
   "cell_type": "markdown",
   "metadata": {},
   "source": [
    "## All together now!"
   ]
  },
  {
   "cell_type": "code",
   "execution_count": null,
   "metadata": {},
   "outputs": [],
   "source": [
    "all_together_pop = apply_policies(\n",
    "    population, \n",
    "    [policy_household_quarantine_per_person, \n",
    "     policy_remove_higher_education, \n",
    "     policy_remove_any_education, \n",
    "     policy_remove_leisure, \n",
    "     policy_remove_health, \n",
    "     policy_unemployment_and_furlough, \n",
    "     policy_work_from_home, \n",
    "     policy_reduced_work_activity, \n",
    "     policy_remove_shopping])\n",
    "\n",
    "print_simple_stats(all_together_pop)"
   ]
  },
  {
   "cell_type": "code",
   "execution_count": null,
   "metadata": {},
   "outputs": [],
   "source": []
  },
  {
   "cell_type": "code",
   "execution_count": null,
   "metadata": {},
   "outputs": [],
   "source": []
  }
 ],
 "metadata": {
  "kernelspec": {
   "display_name": "Python (pam)",
   "language": "python",
   "name": "pam"
  },
  "language_info": {
   "codemirror_mode": {
    "name": "ipython",
    "version": 3
   },
   "file_extension": ".py",
   "mimetype": "text/x-python",
   "name": "python",
   "nbconvert_exporter": "python",
   "pygments_lexer": "ipython3",
   "version": "3.7.5"
  }
 },
 "nbformat": 4,
 "nbformat_minor": 4
}
