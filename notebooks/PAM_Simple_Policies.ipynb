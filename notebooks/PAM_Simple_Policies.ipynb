{
 "cells": [
  {
   "cell_type": "code",
   "execution_count": null,
   "metadata": {
    "ExecuteTime": {
     "end_time": "2020-05-07T09:37:23.505739Z",
     "start_time": "2020-05-07T09:37:23.478541Z"
    }
   },
   "outputs": [],
   "source": [
    "import os\n",
    "import pandas as pd\n",
    "import random\n",
    "from copy import deepcopy\n",
    "from collections import defaultdict\n",
    "import geopandas as gp\n",
    "from matplotlib import pyplot as plt\n",
    "from pam import parse\n",
    "\n",
    "path_to_repo = '/Users/.../PythonProjects/pam'"
   ]
  },
  {
   "cell_type": "markdown",
   "metadata": {},
   "source": [
    "## Load Data\n",
    "Here we load simple travel diary data of London commuters. This is a very simple 0.1% sample of data about work and education commutes from the 2011 census. Because we're sharing this date - we've aggregated locations to borough level and randomized personal attributes - so don't get too excited about the results.\n",
    "\n",
    "The data is available in `pam/example_data`."
   ]
  },
  {
   "cell_type": "code",
   "execution_count": null,
   "metadata": {},
   "outputs": [],
   "source": [
    "trips = pd.read_csv(os.path.join(path_to_repo, 'example_data', 'example_travel_diaries.csv'))\n",
    "attributes = pd.read_csv(os.path.join(path_to_repo, 'example_data' , 'example_attributes.csv'))\n",
    "attributes.set_index('pid', inplace=True)"
   ]
  },
  {
   "cell_type": "code",
   "execution_count": null,
   "metadata": {},
   "outputs": [],
   "source": [
    "attributes.head()"
   ]
  },
  {
   "cell_type": "code",
   "execution_count": null,
   "metadata": {},
   "outputs": [],
   "source": [
    "trips.head()"
   ]
  },
  {
   "cell_type": "code",
   "execution_count": null,
   "metadata": {},
   "outputs": [],
   "source": [
    "trips['purp'].unique(), trips['mode'].unique()"
   ]
  },
  {
   "cell_type": "markdown",
   "metadata": {},
   "source": [
    "## Imagine we had better data...\n",
    "\n",
    "Conjure up additional data to aid demonstration.\n",
    "\n",
    "We add:\n",
    "- `age` to person attributes\n",
    "- activities: \n",
    "    - `leisure`\n",
    "    - `health`\n",
    "    - `shopping`\n",
    "    - `escort`\n",
    "\n",
    "and we put people in shared households based on shared hzone (originally it's one person per household)\n",
    "\n",
    "**Randomly.**"
   ]
  },
  {
   "cell_type": "code",
   "execution_count": null,
   "metadata": {},
   "outputs": [],
   "source": [
    "import numpy as np\n",
    "\n",
    "# add age column to attributes\n",
    "attributes['age'] = [int(a) for a in np.random.normal(40.5, 10, len(attributes))]"
   ]
  },
  {
   "cell_type": "code",
   "execution_count": null,
   "metadata": {},
   "outputs": [],
   "source": [
    "# add some extra activities to trips\n",
    "zones = list(set(trips['hzone'].unique()) | set(trips['ozone'].unique()) | set(trips['dzone'].unique()))\n",
    "purp = ['leisure', 'health', 'shopping', 'escort']\n",
    "mode = ['pt', 'car', 'walk', 'bike']\n",
    "\n",
    "def enrich_activities(group):\n",
    "    new_group = pd.DataFrame(columns=group.columns)\n",
    "    for idx in group.index:\n",
    "        trip = group.loc[idx, :]\n",
    "        try:\n",
    "            next_start = group.loc[idx+1, :]['tst']\n",
    "        except KeyError:\n",
    "            next_start = 1439\n",
    "        new_group = new_group.append(trip)\n",
    "        # append a random activity\n",
    "        activity_loc = random.choice(zones)\n",
    "        activity_purp = random.choice(purp)\n",
    "        activity_mode = random.choice(mode)\n",
    "\n",
    "        act_times = [random.randint(trip['tet']+1, next_start-1) for i in range(4)]\n",
    "        act_times.sort()\n",
    "\n",
    "        new_group = new_group.append(pd.DataFrame(\n",
    "            {'uid': ['{}_act_to'.format(trip['uid']), '{}_act_from'.format(trip['uid'])], \n",
    "             'pid': [trip['pid'], trip['pid']], 'hid': [trip['hid'], trip['hid']], \n",
    "             'seq': [0, 0], 'hzone': [trip['hzone'], trip['hzone']], 'ozone': [trip['dzone'], activity_loc], \n",
    "             'dzone': [activity_loc, trip['ozone']], 'purp': [activity_purp, activity_purp], \n",
    "             'mode': [activity_mode, activity_mode], 'tst': [act_times[0], act_times[2]], \n",
    "             'tet': [act_times[1], act_times[3]], 'freq': [trip['freq'], trip['freq']]}))\n",
    "    new_group = new_group.reset_index(drop=True)\n",
    "    new_group = new_group.drop(['seq'], axis=1)\n",
    "    new_group = new_group.rename_axis('seq').reset_index()\n",
    "    return new_group\n",
    "\n",
    "new_trips = trips.groupby('pid').apply(enrich_activities).reset_index(drop=True)"
   ]
  },
  {
   "cell_type": "code",
   "execution_count": null,
   "metadata": {},
   "outputs": [],
   "source": [
    "# generate some households (as opposed one person to a household)\n",
    "# bunch up people who share the same hzone\n",
    "import uuid\n",
    "\n",
    "def bunch_up_people(group):\n",
    "    group['pid'].unique()\n",
    "    households = []\n",
    "    i = 1\n",
    "    household= []\n",
    "    h_size = random.randint(1,5)\n",
    "    for p in group['pid'].unique():\n",
    "        household.append(p)\n",
    "        i += 1\n",
    "\n",
    "        if i>h_size:\n",
    "            households.append(household)\n",
    "            h_size = random.randint(1,5)\n",
    "            household= []\n",
    "            i = 1\n",
    "\n",
    "    return dict(zip([str(uuid.uuid4()) for i in range(len(households))], households))"
   ]
  },
  {
   "cell_type": "code",
   "execution_count": null,
   "metadata": {},
   "outputs": [],
   "source": [
    "households_map = {}\n",
    "households_per_zone = new_trips.groupby('hzone').apply(bunch_up_people)\n",
    "for idx in households_per_zone.index:\n",
    "    households_map = {**households_map, **households_per_zone[idx]}"
   ]
  },
  {
   "cell_type": "code",
   "execution_count": null,
   "metadata": {},
   "outputs": [],
   "source": [
    "# ze old switcheroo person to household id\n",
    "new_keys = []\n",
    "new_values = []\n",
    "for key, value in households_map.items():\n",
    "    for item in value:\n",
    "        new_keys.append(item)\n",
    "        new_values.append(key.lower())\n",
    "person_to_household_map = dict(zip(new_keys, new_values))"
   ]
  },
  {
   "cell_type": "code",
   "execution_count": null,
   "metadata": {},
   "outputs": [],
   "source": [
    "dict(list(person_to_household_map.items())[0:15])"
   ]
  },
  {
   "cell_type": "code",
   "execution_count": null,
   "metadata": {},
   "outputs": [],
   "source": [
    "new_trips['hid'] = new_trips['pid'].map(person_to_household_map)"
   ]
  },
  {
   "cell_type": "markdown",
   "metadata": {},
   "source": [
    "## Input data after changes "
   ]
  },
  {
   "cell_type": "code",
   "execution_count": null,
   "metadata": {},
   "outputs": [],
   "source": [
    "attributes.head()"
   ]
  },
  {
   "cell_type": "code",
   "execution_count": null,
   "metadata": {},
   "outputs": [],
   "source": [
    "new_trips.head(10)"
   ]
  },
  {
   "cell_type": "code",
   "execution_count": null,
   "metadata": {},
   "outputs": [],
   "source": [
    "new_trips.info()"
   ]
  },
  {
   "cell_type": "code",
   "execution_count": null,
   "metadata": {},
   "outputs": [],
   "source": [
    "new_trips['purp'].unique(), new_trips['mode'].unique()"
   ]
  },
  {
   "cell_type": "code",
   "execution_count": null,
   "metadata": {},
   "outputs": [],
   "source": [
    "def print_simple_stats(population):\n",
    "    \"\"\"\n",
    "    Print some simple population statistics.\n",
    "    \"\"\"\n",
    "    time_at_home = 0\n",
    "    travel_time = 0 \n",
    "    low_income_central_trips = 0\n",
    "    high_income_central_trips = 0\n",
    "    \n",
    "    for hid, hh in population.households.items():\n",
    "        for pid, person in hh.people.items():\n",
    "            freq = person.freq\n",
    "            \n",
    "            for p in person.plan:\n",
    "                if p.act == 'travel':\n",
    "                    duration = p.duration.seconds * freq / 3600\n",
    "                    travel_time += duration\n",
    "                    \n",
    "                    if p.end_location.area == \"Westminster,City of London\":\n",
    "                        if person.attributes['inc'] == \"low\":\n",
    "                            low_income_central_trips += freq\n",
    "                            \n",
    "                        elif person.attributes['inc'] == \"high\":\n",
    "                            high_income_central_trips += freq\n",
    "                    \n",
    "                else:  # activity\n",
    "                    if p.act == 'home':\n",
    "                        duration = p.duration.seconds * freq / 3600\n",
    "                        time_at_home += duration\n",
    "                        \n",
    "    print(f\"Population total time at home: {time_at_home/1000000:.2f} million hours\")\n",
    "    print(f\"Population total travel time: {travel_time/1000000:.2f} million hours\")\n",
    "    print(f\"Low income trips to Central London: {low_income_central_trips} trips\")\n",
    "    print(f\"High income trips to Central London: {high_income_central_trips} trips\")"
   ]
  },
  {
   "cell_type": "markdown",
   "metadata": {},
   "source": [
    "## Create the population"
   ]
  },
  {
   "cell_type": "code",
   "execution_count": null,
   "metadata": {},
   "outputs": [],
   "source": [
    "population = parse.load_travel_diary(new_trips, attributes)"
   ]
  },
  {
   "cell_type": "code",
   "execution_count": null,
   "metadata": {},
   "outputs": [],
   "source": [
    "rando_hh_id = list(households_map.keys())[0]\n",
    "rando_pid_in_hh = list(population.households[rando_hh_id].people)[0]"
   ]
  },
  {
   "cell_type": "code",
   "execution_count": null,
   "metadata": {},
   "outputs": [],
   "source": [
    "population.households[rando_hh_id].people"
   ]
  },
  {
   "cell_type": "code",
   "execution_count": null,
   "metadata": {},
   "outputs": [],
   "source": [
    "population.households[rando_hh_id].people[rando_pid_in_hh].plan.print()"
   ]
  },
  {
   "cell_type": "code",
   "execution_count": null,
   "metadata": {},
   "outputs": [],
   "source": [
    "person = population.households[rando_hh_id].people[rando_pid_in_hh]"
   ]
  },
  {
   "cell_type": "code",
   "execution_count": null,
   "metadata": {},
   "outputs": [],
   "source": [
    "len(list(person.activities))"
   ]
  },
  {
   "cell_type": "code",
   "execution_count": null,
   "metadata": {},
   "outputs": [],
   "source": [
    "population.households[rando_hh_id].people[rando_pid_in_hh].attributes"
   ]
  },
  {
   "cell_type": "code",
   "execution_count": null,
   "metadata": {},
   "outputs": [],
   "source": [
    "print_simple_stats(population)"
   ]
  },
  {
   "cell_type": "markdown",
   "metadata": {},
   "source": [
    "# PAM Simple Policies\n",
    "\n",
    "Based on [link](https://docs.google.com/spreadsheets/d/1FQMa7dLe2cv1NEZnbu5cZo3v07tKXINwvOaLQYoEp-M/edit#gid=0)"
   ]
  },
  {
   "cell_type": "code",
   "execution_count": null,
   "metadata": {},
   "outputs": [],
   "source": [
    "from pam import modify\n",
    "\n",
    "def apply_policies(population, policies: list):\n",
    "\n",
    "    new_population = deepcopy(population) \n",
    "    for hid, household in new_population.households.items():\n",
    "        for policy in policies:\n",
    "            policy.apply_to(household)\n",
    "    return new_population"
   ]
  },
  {
   "cell_type": "markdown",
   "metadata": {},
   "source": [
    "## Household Quarantine\n",
    "\n",
    "Probabilistically apply quarantine to a household (remove all activities - stay at home) "
   ]
  },
  {
   "cell_type": "markdown",
   "metadata": {},
   "source": [
    "### Household-based\n",
    "\n",
    "If you have a probability of a household having to be quarantined"
   ]
  },
  {
   "cell_type": "code",
   "execution_count": null,
   "metadata": {},
   "outputs": [],
   "source": [
    "policy_household_quarantine_per_household = \\\n",
    "    modify.HouseholdQuarantined(\n",
    "        modify.HouseholdProbability(0.01)\n",
    "    )"
   ]
  },
  {
   "cell_type": "code",
   "execution_count": null,
   "metadata": {},
   "outputs": [],
   "source": [
    "print_simple_stats(apply_policies(population, [policy_household_quarantine_per_household]))"
   ]
  },
  {
   "cell_type": "markdown",
   "metadata": {},
   "source": [
    "### Person-based\n",
    "\n",
    "If you have a probability of any one person living in the household having to be quarantined.\n",
    "\n",
    "The probability of the household being quarantined is then $1 - (1-P)^n$, where $P$ is the probability any one person being quarantined and $n$ is the number of people in the household; $(1-P)^n$ is the probability of no one having to be quarantined."
   ]
  },
  {
   "cell_type": "code",
   "execution_count": null,
   "metadata": {},
   "outputs": [],
   "source": [
    "policy_household_quarantine_per_person = \\\n",
    "    modify.HouseholdQuarantined(\n",
    "        modify.PersonProbability(0.01)\n",
    "    )"
   ]
  },
  {
   "cell_type": "code",
   "execution_count": null,
   "metadata": {},
   "outputs": [],
   "source": [
    "print_simple_stats(apply_policies(population, [policy_household_quarantine_per_person]))"
   ]
  },
  {
   "cell_type": "markdown",
   "metadata": {},
   "source": [
    "(Should be equivalent to `RemoveActivity` removing all non-home activities with `policy_type='household'`, and `probability_level='person'`)"
   ]
  },
  {
   "cell_type": "code",
   "execution_count": null,
   "metadata": {},
   "outputs": [],
   "source": [
    "policy_remove_any_education = \\\n",
    "    modify.HouseholdPolicy(\n",
    "        modify.RemoveActivity(['work', 'leisure', 'shopping', 'health', 'education', 'escort']), \n",
    "        modify.PersonProbability(0.01)\n",
    ")\n",
    "\n",
    "print_simple_stats(apply_policies(population, [policy_household_quarantine_per_person]))"
   ]
  },
  {
   "cell_type": "markdown",
   "metadata": {},
   "source": [
    "## Remove Higher Education\n",
    "\n",
    "Remove all education activity for persons over age of 17"
   ]
  },
  {
   "cell_type": "code",
   "execution_count": null,
   "metadata": {},
   "outputs": [],
   "source": [
    "def age_condition_over_17(attribute_value):\n",
    "    return attribute_value > 17\n",
    "\n",
    "policy_remove_higher_education = \\\n",
    "    modify.PersonPolicy(\n",
    "        modify.RemoveActivity(['education']),\n",
    "        modify.PersonProbability(1),\n",
    "        modify.PersonAttributeFilter({'age': age_condition_over_17}, how='all')\n",
    ")"
   ]
  },
  {
   "cell_type": "code",
   "execution_count": null,
   "metadata": {},
   "outputs": [],
   "source": [
    "print_simple_stats(apply_policies(population, [policy_remove_higher_education]))"
   ]
  },
  {
   "cell_type": "markdown",
   "metadata": {},
   "source": [
    "## Remove Education\n",
    "\n",
    "Probabilistically remove education activities from a person"
   ]
  },
  {
   "cell_type": "code",
   "execution_count": null,
   "metadata": {},
   "outputs": [],
   "source": [
    "policy_remove_any_education = \\\n",
    "    modify.HouseholdPolicy(\n",
    "        modify.RemoveActivity(['education', 'escort']), \n",
    "        modify.PersonProbability(0.95)\n",
    ")"
   ]
  },
  {
   "cell_type": "code",
   "execution_count": null,
   "metadata": {},
   "outputs": [],
   "source": [
    "print_simple_stats(apply_policies(population, [policy_remove_any_education]))"
   ]
  },
  {
   "cell_type": "markdown",
   "metadata": {},
   "source": [
    "#### Affecting different activities\n",
    "\n",
    "You can choose to remove different activities to the ones that carry a probability. Here, education activities affect removal of both education and escort on a household level."
   ]
  },
  {
   "cell_type": "code",
   "execution_count": null,
   "metadata": {},
   "outputs": [],
   "source": [
    "policy_remove_any_education = \\\n",
    "    modify.HouseholdPolicy(\n",
    "        modify.RemoveActivity(['education', 'escort']), \n",
    "        modify.ActivityProbability(['education'], 0.95)\n",
    ")"
   ]
  },
  {
   "cell_type": "code",
   "execution_count": null,
   "metadata": {},
   "outputs": [],
   "source": [
    "print_simple_stats(apply_policies(population, [policy_remove_any_education]))"
   ]
  },
  {
   "cell_type": "markdown",
   "metadata": {},
   "source": [
    "## Remove Leisure Activities\n",
    "\n",
    "Remove all leisure activities"
   ]
  },
  {
   "cell_type": "code",
   "execution_count": null,
   "metadata": {},
   "outputs": [],
   "source": [
    "policy_remove_leisure = \\\n",
    "    modify.PersonPolicy(\n",
    "        modify.RemoveActivity(['leisure']), \n",
    "        modify.PersonProbability(1)\n",
    ")"
   ]
  },
  {
   "cell_type": "code",
   "execution_count": null,
   "metadata": {},
   "outputs": [],
   "source": [
    "print_simple_stats(apply_policies(population, [policy_remove_leisure]))"
   ]
  },
  {
   "cell_type": "markdown",
   "metadata": {},
   "source": [
    "## Remove Health Activities\n",
    "\n",
    "Probabilistically remove **individual** health activities from a person"
   ]
  },
  {
   "cell_type": "code",
   "execution_count": null,
   "metadata": {},
   "outputs": [],
   "source": [
    "policy_remove_health = \\\n",
    "    modify.ActivityPolicy(\n",
    "        modify.RemoveActivity(['health']), \n",
    "        modify.ActivityProbability(['health'], 0.5)\n",
    ")"
   ]
  },
  {
   "cell_type": "code",
   "execution_count": null,
   "metadata": {},
   "outputs": [],
   "source": [
    "print_simple_stats(apply_policies(population, [policy_remove_health]))"
   ]
  },
  {
   "cell_type": "markdown",
   "metadata": {},
   "source": [
    "## Unemployment/Furlough\n",
    "\n",
    "Probabilistically remove all work activities from a person"
   ]
  },
  {
   "cell_type": "code",
   "execution_count": null,
   "metadata": {},
   "outputs": [],
   "source": [
    "policy_unemployment_and_furlough = \\\n",
    "    modify.PersonPolicy(\n",
    "        modify.RemoveActivity(['work']), \n",
    "        modify.PersonProbability(0.1)\n",
    ")"
   ]
  },
  {
   "cell_type": "code",
   "execution_count": null,
   "metadata": {},
   "outputs": [],
   "source": [
    "print_simple_stats(apply_policies(population, [policy_unemployment_and_furlough]))"
   ]
  },
  {
   "cell_type": "markdown",
   "metadata": {},
   "source": [
    "## Work from Home\n",
    "\n",
    "Probabilistically remove all work activities from a person"
   ]
  },
  {
   "cell_type": "code",
   "execution_count": null,
   "metadata": {},
   "outputs": [],
   "source": [
    "policy_work_from_home = \\\n",
    "    modify.PersonPolicy(\n",
    "        modify.RemoveActivity(['work']), \n",
    "        modify.PersonProbability(0.5)\n",
    ")"
   ]
  },
  {
   "cell_type": "code",
   "execution_count": null,
   "metadata": {},
   "outputs": [],
   "source": [
    "print_simple_stats(apply_policies(population, [policy_work_from_home]))"
   ]
  },
  {
   "cell_type": "markdown",
   "metadata": {},
   "source": [
    "## Reduced Work Activity\n",
    "\n",
    "Probabilistically remove **individual** work activities from a person"
   ]
  },
  {
   "cell_type": "code",
   "execution_count": null,
   "metadata": {},
   "outputs": [],
   "source": [
    "policy_reduced_work_activity = \\\n",
    "    modify.ActivityPolicy(\n",
    "        modify.RemoveActivity(['work']), \n",
    "        modify.ActivityProbability(['work'], 0.2)\n",
    ")"
   ]
  },
  {
   "cell_type": "code",
   "execution_count": null,
   "metadata": {},
   "outputs": [],
   "source": [
    "print_simple_stats(apply_policies(population, [policy_reduced_work_activity]))"
   ]
  },
  {
   "cell_type": "markdown",
   "metadata": {},
   "source": [
    "## Remove Shopping \n",
    "\n",
    "Probabilistically remove **individual** shopping activities from a person"
   ]
  },
  {
   "cell_type": "code",
   "execution_count": null,
   "metadata": {},
   "outputs": [],
   "source": [
    "policy_remove_shopping = \\\n",
    "    modify.ActivityPolicy(\n",
    "        modify.RemoveActivity(['shop']), \n",
    "        modify.ActivityProbability(['shop'], 0.5)\n",
    ")"
   ]
  },
  {
   "cell_type": "code",
   "execution_count": null,
   "metadata": {},
   "outputs": [],
   "source": [
    "print_simple_stats(apply_policies(population, [policy_remove_shopping]))"
   ]
  },
  {
   "cell_type": "markdown",
   "metadata": {},
   "source": [
    "## All together now!"
   ]
  },
  {
   "cell_type": "code",
   "execution_count": null,
   "metadata": {},
   "outputs": [],
   "source": [
    "all_together_pop = apply_policies(\n",
    "    population, \n",
    "    [policy_household_quarantine_per_person, \n",
    "     policy_remove_higher_education, \n",
    "     policy_remove_any_education, \n",
    "     policy_remove_leisure, \n",
    "     policy_remove_health, \n",
    "     policy_unemployment_and_furlough, \n",
    "     policy_work_from_home, \n",
    "     policy_reduced_work_activity, \n",
    "     policy_remove_shopping])\n",
    "\n",
    "print_simple_stats(all_together_pop)"
   ]
  },
  {
   "cell_type": "code",
   "execution_count": null,
   "metadata": {},
   "outputs": [],
   "source": []
  },
  {
   "cell_type": "code",
   "execution_count": null,
   "metadata": {},
   "outputs": [],
   "source": []
  }
 ],
 "metadata": {
  "kernelspec": {
   "display_name": "Python 3.7.3 64-bit ('3.7.3': pyenv)",
   "language": "python",
   "name": "python37364bit373pyenve4f55e1c90f74740a9da8a10ea80341d"
  },
  "language_info": {
   "codemirror_mode": {
    "name": "ipython",
    "version": 3
   },
   "file_extension": ".py",
   "mimetype": "text/x-python",
   "name": "python",
   "nbconvert_exporter": "python",
   "pygments_lexer": "ipython3",
   "version": "3.7.3"
  },
  "toc": {
   "base_numbering": 1,
   "nav_menu": {},
   "number_sections": true,
   "sideBar": true,
   "skip_h1_title": false,
   "title_cell": "Table of Contents",
   "title_sidebar": "Contents",
   "toc_cell": false,
   "toc_position": {},
   "toc_section_display": true,
   "toc_window_display": false
  }
 },
 "nbformat": 4,
 "nbformat_minor": 4
}
