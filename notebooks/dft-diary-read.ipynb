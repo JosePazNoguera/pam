{
 "cells": [
  {
   "cell_type": "code",
   "execution_count": null,
   "metadata": {
    "ExecuteTime": {
     "start_time": "2020-08-04T17:57:34.510Z"
    }
   },
   "outputs": [],
   "source": [
    "import pandas as pd\n",
    "import numpy as np\n",
    "import geopandas as gp"
   ]
  },
  {
   "cell_type": "code",
   "execution_count": null,
   "metadata": {
    "ExecuteTime": {
     "start_time": "2020-08-04T17:56:59.478Z"
    }
   },
   "outputs": [],
   "source": [
    "households_csv = '~/Data/UKDA-5340-tab/tab/householdeul2017.tab'\n",
    "individuals_csv = '~/Data/UKDA-5340-tab/tab/individualeul2017.tab'\n",
    "trips_csv ='~/Data/UKDA-5340-tab/tab/tripeul2017.tab'\n",
    "\"https://geoportal.statistics.gov.uk/datasets/counties-and-unitary-authorities-december-2017-full-extent-boundaries-in-uk-wgs84?geometry=-1.922%2C50.793%2C2.379%2C51.397&page=2\"\n",
    "areas_shp = '~/Data/UKDA-5340-tab/Counties_and_Unitary_Authorities__December_2017__Boundaries_in_the_UK__WGS84'"
   ]
  },
  {
   "cell_type": "markdown",
   "metadata": {
    "ExecuteTime": {
     "end_time": "2020-08-03T17:13:00.123065Z",
     "start_time": "2020-08-03T17:13:00.093023Z"
    }
   },
   "source": [
    "## Load households data"
   ]
  },
  {
   "cell_type": "code",
   "execution_count": 3,
   "metadata": {
    "ExecuteTime": {
     "end_time": "2020-08-04T17:07:25.506625Z",
     "start_time": "2020-08-04T17:07:24.318408Z"
    }
   },
   "outputs": [
    {
     "name": "stderr",
     "output_type": "stream",
     "text": [
      "/Users/fred.shone/.pyenv/versions/jupyter3/lib/python3.7/site-packages/IPython/core/interactiveshell.py:3063: DtypeWarning: Columns (23,35,38,40,41,42,43,159) have mixed types.Specify dtype option on import or set low_memory=False.\n",
      "  interactivity=interactivity, compiler=compiler, result=result)\n"
     ]
    },
    {
     "data": {
      "text/html": [
       "<div>\n",
       "<style scoped>\n",
       "    .dataframe tbody tr th:only-of-type {\n",
       "        vertical-align: middle;\n",
       "    }\n",
       "\n",
       "    .dataframe tbody tr th {\n",
       "        vertical-align: top;\n",
       "    }\n",
       "\n",
       "    .dataframe thead th {\n",
       "        text-align: right;\n",
       "    }\n",
       "</style>\n",
       "<table border=\"1\" class=\"dataframe\">\n",
       "  <thead>\n",
       "    <tr style=\"text-align: right;\">\n",
       "      <th></th>\n",
       "      <th>HouseholdID</th>\n",
       "      <th>SurveyYear</th>\n",
       "      <th>PSUID</th>\n",
       "      <th>W2</th>\n",
       "      <th>OutCom_B02ID</th>\n",
       "      <th>HHIncome2002_B02ID</th>\n",
       "      <th>AddressType_B01ID</th>\n",
       "      <th>Ten1_B02ID</th>\n",
       "      <th>Landlord_B01ID</th>\n",
       "      <th>ResLength_B01ID</th>\n",
       "      <th>...</th>\n",
       "      <th>NumCarVan</th>\n",
       "      <th>WalkBus_B01ID</th>\n",
       "      <th>Getbus_B01ID</th>\n",
       "      <th>WalkRail_B01ID</th>\n",
       "      <th>WalkRailAlt_B01ID</th>\n",
       "      <th>HRPWorkStat_B02ID</th>\n",
       "      <th>HRPSEGWorkStat_B01ID</th>\n",
       "      <th>HHoldOAClass2011_B03ID</th>\n",
       "      <th>Settlement2011EW_B03ID</th>\n",
       "      <th>Settlement2011EW_B04ID</th>\n",
       "    </tr>\n",
       "  </thead>\n",
       "  <tbody>\n",
       "    <tr>\n",
       "      <th>0</th>\n",
       "      <td>2002000001</td>\n",
       "      <td>2002</td>\n",
       "      <td>2002000001</td>\n",
       "      <td>0.987670</td>\n",
       "      <td>-10</td>\n",
       "      <td>2.0</td>\n",
       "      <td>3</td>\n",
       "      <td>1</td>\n",
       "      <td>-10</td>\n",
       "      <td>3</td>\n",
       "      <td>...</td>\n",
       "      <td>2.0</td>\n",
       "      <td>1</td>\n",
       "      <td>5</td>\n",
       "      <td>1</td>\n",
       "      <td>-9</td>\n",
       "      <td>1</td>\n",
       "      <td>3</td>\n",
       "      <td>-10</td>\n",
       "      <td>1</td>\n",
       "      <td>1.0</td>\n",
       "    </tr>\n",
       "    <tr>\n",
       "      <th>1</th>\n",
       "      <td>2002000002</td>\n",
       "      <td>2002</td>\n",
       "      <td>2002000001</td>\n",
       "      <td>1.013688</td>\n",
       "      <td>-10</td>\n",
       "      <td>1.0</td>\n",
       "      <td>3</td>\n",
       "      <td>1</td>\n",
       "      <td>-10</td>\n",
       "      <td>8</td>\n",
       "      <td>...</td>\n",
       "      <td>0.0</td>\n",
       "      <td>1</td>\n",
       "      <td>5</td>\n",
       "      <td>2</td>\n",
       "      <td>-9</td>\n",
       "      <td>3</td>\n",
       "      <td>5</td>\n",
       "      <td>-10</td>\n",
       "      <td>1</td>\n",
       "      <td>1.0</td>\n",
       "    </tr>\n",
       "    <tr>\n",
       "      <th>2</th>\n",
       "      <td>2002000003</td>\n",
       "      <td>2002</td>\n",
       "      <td>2002000001</td>\n",
       "      <td>1.254002</td>\n",
       "      <td>-10</td>\n",
       "      <td>3.0</td>\n",
       "      <td>3</td>\n",
       "      <td>1</td>\n",
       "      <td>-10</td>\n",
       "      <td>8</td>\n",
       "      <td>...</td>\n",
       "      <td>2.0</td>\n",
       "      <td>1</td>\n",
       "      <td>4</td>\n",
       "      <td>3</td>\n",
       "      <td>-9</td>\n",
       "      <td>1</td>\n",
       "      <td>3</td>\n",
       "      <td>-10</td>\n",
       "      <td>1</td>\n",
       "      <td>1.0</td>\n",
       "    </tr>\n",
       "    <tr>\n",
       "      <th>3</th>\n",
       "      <td>2002000004</td>\n",
       "      <td>2002</td>\n",
       "      <td>2002000001</td>\n",
       "      <td>1.098194</td>\n",
       "      <td>-10</td>\n",
       "      <td>3.0</td>\n",
       "      <td>3</td>\n",
       "      <td>1</td>\n",
       "      <td>-10</td>\n",
       "      <td>3</td>\n",
       "      <td>...</td>\n",
       "      <td>2.0</td>\n",
       "      <td>1</td>\n",
       "      <td>4</td>\n",
       "      <td>3</td>\n",
       "      <td>-9</td>\n",
       "      <td>1</td>\n",
       "      <td>3</td>\n",
       "      <td>-10</td>\n",
       "      <td>1</td>\n",
       "      <td>1.0</td>\n",
       "    </tr>\n",
       "    <tr>\n",
       "      <th>4</th>\n",
       "      <td>2002000005</td>\n",
       "      <td>2002</td>\n",
       "      <td>2002000001</td>\n",
       "      <td>0.911825</td>\n",
       "      <td>-10</td>\n",
       "      <td>3.0</td>\n",
       "      <td>2</td>\n",
       "      <td>1</td>\n",
       "      <td>-10</td>\n",
       "      <td>1</td>\n",
       "      <td>...</td>\n",
       "      <td>3.0</td>\n",
       "      <td>1</td>\n",
       "      <td>5</td>\n",
       "      <td>1</td>\n",
       "      <td>-9</td>\n",
       "      <td>1</td>\n",
       "      <td>1</td>\n",
       "      <td>-10</td>\n",
       "      <td>1</td>\n",
       "      <td>1.0</td>\n",
       "    </tr>\n",
       "  </tbody>\n",
       "</table>\n",
       "<p>5 rows × 33 columns</p>\n",
       "</div>"
      ],
      "text/plain": [
       "   HouseholdID  SurveyYear       PSUID        W2  OutCom_B02ID  \\\n",
       "0   2002000001        2002  2002000001  0.987670           -10   \n",
       "1   2002000002        2002  2002000001  1.013688           -10   \n",
       "2   2002000003        2002  2002000001  1.254002           -10   \n",
       "3   2002000004        2002  2002000001  1.098194           -10   \n",
       "4   2002000005        2002  2002000001  0.911825           -10   \n",
       "\n",
       "   HHIncome2002_B02ID  AddressType_B01ID  Ten1_B02ID  Landlord_B01ID  \\\n",
       "0                 2.0                  3           1             -10   \n",
       "1                 1.0                  3           1             -10   \n",
       "2                 3.0                  3           1             -10   \n",
       "3                 3.0                  3           1             -10   \n",
       "4                 3.0                  2           1             -10   \n",
       "\n",
       "   ResLength_B01ID  ...  NumCarVan  WalkBus_B01ID  Getbus_B01ID  \\\n",
       "0                3  ...        2.0              1             5   \n",
       "1                8  ...        0.0              1             5   \n",
       "2                8  ...        2.0              1             4   \n",
       "3                3  ...        2.0              1             4   \n",
       "4                1  ...        3.0              1             5   \n",
       "\n",
       "   WalkRail_B01ID  WalkRailAlt_B01ID  HRPWorkStat_B02ID  HRPSEGWorkStat_B01ID  \\\n",
       "0               1                 -9                  1                     3   \n",
       "1               2                 -9                  3                     5   \n",
       "2               3                 -9                  1                     3   \n",
       "3               3                 -9                  1                     3   \n",
       "4               1                 -9                  1                     1   \n",
       "\n",
       "   HHoldOAClass2011_B03ID  Settlement2011EW_B03ID  Settlement2011EW_B04ID  \n",
       "0                     -10                       1                     1.0  \n",
       "1                     -10                       1                     1.0  \n",
       "2                     -10                       1                     1.0  \n",
       "3                     -10                       1                     1.0  \n",
       "4                     -10                       1                     1.0  \n",
       "\n",
       "[5 rows x 33 columns]"
      ]
     },
     "execution_count": 3,
     "metadata": {},
     "output_type": "execute_result"
    }
   ],
   "source": [
    "hh_in = pd.read_csv(\n",
    "    households_csv,\n",
    "    sep='\\t',\n",
    "    usecols=['HouseholdID', 'SurveyYear', 'PSUID', 'W2', 'OutCom_B02ID',\n",
    "       'HHIncome2002_B02ID', 'AddressType_B01ID', 'Ten1_B02ID',\n",
    "       'Landlord_B01ID', 'ResLength_B01ID', 'HHoldCountry_B01ID',\n",
    "       'HHoldGOR_B02ID', 'HHoldNumAdults', 'HHoldNumChildren',\n",
    "       'HHoldNumPeople', 'HHoldStruct_B02ID', 'NumLicHolders',\n",
    "       'HHoldEmploy_B01ID', 'NumVehicles', 'NumBike', 'NumCar', 'NumMCycle',\n",
    "       'NumVanLorry', 'NumCarVan', 'WalkBus_B01ID', 'Getbus_B01ID',\n",
    "       'WalkRail_B01ID', 'WalkRailAlt_B01ID',\n",
    "       'HRPWorkStat_B02ID', 'HRPSEGWorkStat_B01ID', 'HHoldOAClass2011_B03ID',\n",
    "       'Settlement2011EW_B03ID', 'Settlement2011EW_B04ID'],\n",
    ")\n",
    "\n",
    "hh_in.HHIncome2002_B02ID = pd.to_numeric(hh_in.HHIncome2002_B02ID, errors='coerce')\n",
    "hh_in.NumLicHolders = pd.to_numeric(hh_in.NumLicHolders, errors='coerce')\n",
    "hh_in.NumVehicles = pd.to_numeric(hh_in.NumVehicles, errors='coerce')\n",
    "hh_in.NumCar = pd.to_numeric(hh_in.NumCar, errors='coerce')\n",
    "hh_in.NumMCycle = pd.to_numeric(hh_in.NumMCycle, errors='coerce')\n",
    "hh_in.NumVanLorry = pd.to_numeric(hh_in.NumVanLorry, errors='coerce')\n",
    "hh_in.NumCarVan = pd.to_numeric(hh_in.NumCarVan, errors='coerce')\n",
    "hh_in.Settlement2011EW_B04ID = pd.to_numeric(hh_in.Settlement2011EW_B04ID, errors='coerce')\n",
    "\n",
    "hh_in.head()"
   ]
  },
  {
   "cell_type": "code",
   "execution_count": 4,
   "metadata": {
    "ExecuteTime": {
     "end_time": "2020-08-04T17:07:26.520916Z",
     "start_time": "2020-08-04T17:07:26.429479Z"
    }
   },
   "outputs": [],
   "source": [
    "participation_mapping = dict(zip(hh_in.HouseholdID, hh_in.OutCom_B02ID))\n",
    "weight_mapping = dict(zip(hh_in.HouseholdID, hh_in.W2))"
   ]
  },
  {
   "cell_type": "markdown",
   "metadata": {
    "ExecuteTime": {
     "end_time": "2020-08-04T10:49:47.862682Z",
     "start_time": "2020-08-04T10:49:47.799479Z"
    }
   },
   "source": [
    "## Load person data"
   ]
  },
  {
   "cell_type": "code",
   "execution_count": 5,
   "metadata": {
    "ExecuteTime": {
     "end_time": "2020-08-04T17:07:30.916783Z",
     "start_time": "2020-08-04T17:07:27.812961Z"
    }
   },
   "outputs": [
    {
     "data": {
      "text/html": [
       "<div>\n",
       "<style scoped>\n",
       "    .dataframe tbody tr th:only-of-type {\n",
       "        vertical-align: middle;\n",
       "    }\n",
       "\n",
       "    .dataframe tbody tr th {\n",
       "        vertical-align: top;\n",
       "    }\n",
       "\n",
       "    .dataframe thead th {\n",
       "        text-align: right;\n",
       "    }\n",
       "</style>\n",
       "<table border=\"1\" class=\"dataframe\">\n",
       "  <thead>\n",
       "    <tr style=\"text-align: right;\">\n",
       "      <th></th>\n",
       "      <th>SurveyYear</th>\n",
       "      <th>IndividualID</th>\n",
       "      <th>HouseholdID</th>\n",
       "      <th>PSUID</th>\n",
       "      <th>VehicleID</th>\n",
       "      <th>PersNo</th>\n",
       "      <th>Age_B01ID</th>\n",
       "      <th>OfPenAge_B01ID</th>\n",
       "      <th>Sex_B01ID</th>\n",
       "      <th>EdAttn1_B01ID</th>\n",
       "      <th>...</th>\n",
       "      <th>CarAccess_B01ID</th>\n",
       "      <th>DrivDisable_B01ID</th>\n",
       "      <th>WkPlace_B01ID</th>\n",
       "      <th>ES2000_B01ID</th>\n",
       "      <th>NSSec_B03ID</th>\n",
       "      <th>SC_B01ID</th>\n",
       "      <th>Stat_B01ID</th>\n",
       "      <th>SVise_B01ID</th>\n",
       "      <th>EcoStat_B02ID</th>\n",
       "      <th>PossHom_B01ID</th>\n",
       "    </tr>\n",
       "  </thead>\n",
       "  <tbody>\n",
       "    <tr>\n",
       "      <th>0</th>\n",
       "      <td>2002</td>\n",
       "      <td>2002000001</td>\n",
       "      <td>2002000001</td>\n",
       "      <td>2002000001</td>\n",
       "      <td>2002000001</td>\n",
       "      <td>1</td>\n",
       "      <td>13</td>\n",
       "      <td>2</td>\n",
       "      <td>2</td>\n",
       "      <td>-10</td>\n",
       "      <td>...</td>\n",
       "      <td>2</td>\n",
       "      <td>-9</td>\n",
       "      <td>1</td>\n",
       "      <td>7</td>\n",
       "      <td>2</td>\n",
       "      <td>3</td>\n",
       "      <td>1</td>\n",
       "      <td>2</td>\n",
       "      <td>2</td>\n",
       "      <td>2</td>\n",
       "    </tr>\n",
       "    <tr>\n",
       "      <th>1</th>\n",
       "      <td>2002</td>\n",
       "      <td>2002000002</td>\n",
       "      <td>2002000001</td>\n",
       "      <td>2002000001</td>\n",
       "      <td>2002000002</td>\n",
       "      <td>2</td>\n",
       "      <td>13</td>\n",
       "      <td>2</td>\n",
       "      <td>1</td>\n",
       "      <td>-10</td>\n",
       "      <td>...</td>\n",
       "      <td>2</td>\n",
       "      <td>-9</td>\n",
       "      <td>1</td>\n",
       "      <td>7</td>\n",
       "      <td>3</td>\n",
       "      <td>4</td>\n",
       "      <td>1</td>\n",
       "      <td>2</td>\n",
       "      <td>1</td>\n",
       "      <td>2</td>\n",
       "    </tr>\n",
       "    <tr>\n",
       "      <th>2</th>\n",
       "      <td>2002</td>\n",
       "      <td>2002000003</td>\n",
       "      <td>2002000001</td>\n",
       "      <td>2002000001</td>\n",
       "      <td></td>\n",
       "      <td>3</td>\n",
       "      <td>4</td>\n",
       "      <td>2</td>\n",
       "      <td>1</td>\n",
       "      <td>-10</td>\n",
       "      <td>...</td>\n",
       "      <td>4</td>\n",
       "      <td>-9</td>\n",
       "      <td>-9</td>\n",
       "      <td>-9</td>\n",
       "      <td>-9</td>\n",
       "      <td>-9</td>\n",
       "      <td>-9</td>\n",
       "      <td>-9</td>\n",
       "      <td>-9</td>\n",
       "      <td>-9</td>\n",
       "    </tr>\n",
       "    <tr>\n",
       "      <th>3</th>\n",
       "      <td>2002</td>\n",
       "      <td>2002000004</td>\n",
       "      <td>2002000001</td>\n",
       "      <td>2002000001</td>\n",
       "      <td></td>\n",
       "      <td>4</td>\n",
       "      <td>2</td>\n",
       "      <td>2</td>\n",
       "      <td>2</td>\n",
       "      <td>-10</td>\n",
       "      <td>...</td>\n",
       "      <td>4</td>\n",
       "      <td>-9</td>\n",
       "      <td>-9</td>\n",
       "      <td>-9</td>\n",
       "      <td>-9</td>\n",
       "      <td>-9</td>\n",
       "      <td>-9</td>\n",
       "      <td>-9</td>\n",
       "      <td>-9</td>\n",
       "      <td>-9</td>\n",
       "    </tr>\n",
       "    <tr>\n",
       "      <th>4</th>\n",
       "      <td>2002</td>\n",
       "      <td>2002000005</td>\n",
       "      <td>2002000002</td>\n",
       "      <td>2002000001</td>\n",
       "      <td></td>\n",
       "      <td>1</td>\n",
       "      <td>18</td>\n",
       "      <td>1</td>\n",
       "      <td>2</td>\n",
       "      <td>-10</td>\n",
       "      <td>...</td>\n",
       "      <td>6</td>\n",
       "      <td>2</td>\n",
       "      <td>-9</td>\n",
       "      <td>6</td>\n",
       "      <td>1</td>\n",
       "      <td>3</td>\n",
       "      <td>1</td>\n",
       "      <td>1</td>\n",
       "      <td>4</td>\n",
       "      <td>-9</td>\n",
       "    </tr>\n",
       "  </tbody>\n",
       "</table>\n",
       "<p>5 rows × 23 columns</p>\n",
       "</div>"
      ],
      "text/plain": [
       "   SurveyYear  IndividualID  HouseholdID       PSUID   VehicleID  PersNo  \\\n",
       "0        2002    2002000001   2002000001  2002000001  2002000001       1   \n",
       "1        2002    2002000002   2002000001  2002000001  2002000002       2   \n",
       "2        2002    2002000003   2002000001  2002000001                   3   \n",
       "3        2002    2002000004   2002000001  2002000001                   4   \n",
       "4        2002    2002000005   2002000002  2002000001                   1   \n",
       "\n",
       "   Age_B01ID  OfPenAge_B01ID  Sex_B01ID  EdAttn1_B01ID  ...  CarAccess_B01ID  \\\n",
       "0         13               2          2            -10  ...                2   \n",
       "1         13               2          1            -10  ...                2   \n",
       "2          4               2          1            -10  ...                4   \n",
       "3          2               2          2            -10  ...                4   \n",
       "4         18               1          2            -10  ...                6   \n",
       "\n",
       "   DrivDisable_B01ID  WkPlace_B01ID  ES2000_B01ID  NSSec_B03ID  SC_B01ID  \\\n",
       "0                 -9              1             7            2         3   \n",
       "1                 -9              1             7            3         4   \n",
       "2                 -9             -9            -9           -9        -9   \n",
       "3                 -9             -9            -9           -9        -9   \n",
       "4                  2             -9             6            1         3   \n",
       "\n",
       "   Stat_B01ID  SVise_B01ID  EcoStat_B02ID  PossHom_B01ID  \n",
       "0           1            2              2              2  \n",
       "1           1            2              1              2  \n",
       "2          -9           -9             -9             -9  \n",
       "3          -9           -9             -9             -9  \n",
       "4           1            1              4             -9  \n",
       "\n",
       "[5 rows x 23 columns]"
      ]
     },
     "execution_count": 5,
     "metadata": {},
     "output_type": "execute_result"
    }
   ],
   "source": [
    "persons_in = pd.read_csv(\n",
    "    individuals_csv,\n",
    "    sep='\\t',\n",
    "    usecols=['SurveyYear', 'IndividualID', 'HouseholdID', 'PSUID', 'VehicleID',\n",
    "       'PersNo', 'Age_B01ID', 'OfPenAge_B01ID', 'Sex_B01ID', 'EdAttn1_B01ID',\n",
    "       'EdAttn2_B01ID', 'EdAttn3_B01ID', 'DrivLic_B02ID', 'CarAccess_B01ID',\n",
    "       'DrivDisable_B01ID', 'WkPlace_B01ID', 'ES2000_B01ID', 'NSSec_B03ID',\n",
    "       'SC_B01ID', 'Stat_B01ID', 'SVise_B01ID', 'EcoStat_B02ID',\n",
    "       'PossHom_B01ID']\n",
    ")\n",
    "persons_in.head()"
   ]
  },
  {
   "cell_type": "markdown",
   "metadata": {},
   "source": [
    "## load trip data\n",
    "Pos. = 1\tVariable = TripID\tVariable label = Trip unique ID - Created in SQL\n",
    "This variable is  numeric, the SPSS measurement level is SCALE\n",
    "\tValue label information for TripID\n",
    "\n",
    "Pos. = 2\tVariable = SurveyYear\tVariable label = Survey year - actual year\n",
    "This variable is  numeric, the SPSS measurement level is SCALE\n",
    "\tValue label information for SurveyYear\n",
    "\n",
    "Pos. = 3\tVariable = DayID\tVariable label = ID given to all trips made by an individual on a given travel day - Created in SQL\n",
    "This variable is  numeric, the SPSS measurement level is SCALE\n",
    "\tValue label information for DayID\n",
    "\n",
    "Pos. = 4\tVariable = IndividualID\tVariable label = Individual unique ID - Created in SQL\n",
    "This variable is  numeric, the SPSS measurement level is SCALE\n",
    "\tValue label information for IndividualID\n",
    "\n",
    "Pos. = 5\tVariable = HouseholdID\tVariable label = Household unique ID - Created in SQL\n",
    "This variable is  numeric, the SPSS measurement level is SCALE\n",
    "\tValue label information for HouseholdID\n",
    "\n",
    "Pos. = 6\tVariable = PSUID\tVariable label = PSU unique ID - Created in SQL\n",
    "This variable is  numeric, the SPSS measurement level is SCALE\n",
    "\tValue label information for PSUID\n",
    "\n",
    "Pos. = 7\tVariable = PersNo\tVariable label = Person number within the household\n",
    "This variable is  numeric, the SPSS measurement level is SCALE\n",
    "\tValue label information for PersNo\n",
    "\n",
    "Pos. = 8\tVariable = TravDay\tVariable label = Day of the travel week (1-7)\n",
    "This variable is  numeric, the SPSS measurement level is SCALE\n",
    "\tValue label information for TravDay\n",
    "\n",
    "Pos. = 9\tVariable = JourSeq\tVariable label = Journey number on a given travel day\n",
    "This variable is  numeric, the SPSS measurement level is SCALE\n",
    "\tValue label information for JourSeq\n"
   ]
  },
  {
   "cell_type": "code",
   "execution_count": 6,
   "metadata": {
    "ExecuteTime": {
     "end_time": "2020-08-04T17:07:40.670680Z",
     "start_time": "2020-08-04T17:07:30.920061Z"
    }
   },
   "outputs": [
    {
     "data": {
      "text/html": [
       "<div>\n",
       "<style scoped>\n",
       "    .dataframe tbody tr th:only-of-type {\n",
       "        vertical-align: middle;\n",
       "    }\n",
       "\n",
       "    .dataframe tbody tr th {\n",
       "        vertical-align: top;\n",
       "    }\n",
       "\n",
       "    .dataframe thead th {\n",
       "        text-align: right;\n",
       "    }\n",
       "</style>\n",
       "<table border=\"1\" class=\"dataframe\">\n",
       "  <thead>\n",
       "    <tr style=\"text-align: right;\">\n",
       "      <th></th>\n",
       "      <th>TripID</th>\n",
       "      <th>SurveyYear</th>\n",
       "      <th>DayID</th>\n",
       "      <th>IndividualID</th>\n",
       "      <th>HouseholdID</th>\n",
       "      <th>PSUID</th>\n",
       "      <th>PersNo</th>\n",
       "      <th>TravDay</th>\n",
       "      <th>JourSeq</th>\n",
       "      <th>ShortWalkTrip_B01ID</th>\n",
       "      <th>NumStages</th>\n",
       "      <th>MainMode_B04ID</th>\n",
       "      <th>TripPurpose_B04ID</th>\n",
       "      <th>TripPurpFrom_B01ID</th>\n",
       "      <th>TripPurpTo_B01ID</th>\n",
       "      <th>TripStart</th>\n",
       "      <th>TripEnd</th>\n",
       "      <th>TripOrigUA2009_B01ID</th>\n",
       "      <th>TripDestUA2009_B01ID</th>\n",
       "    </tr>\n",
       "  </thead>\n",
       "  <tbody>\n",
       "    <tr>\n",
       "      <th>0</th>\n",
       "      <td>2002000001</td>\n",
       "      <td>2002</td>\n",
       "      <td>2002000002</td>\n",
       "      <td>2002000001</td>\n",
       "      <td>2002000001</td>\n",
       "      <td>2002000001</td>\n",
       "      <td>1</td>\n",
       "      <td>2</td>\n",
       "      <td>1</td>\n",
       "      <td>2</td>\n",
       "      <td>1</td>\n",
       "      <td>4</td>\n",
       "      <td>7</td>\n",
       "      <td>23</td>\n",
       "      <td>10</td>\n",
       "      <td>675</td>\n",
       "      <td>683</td>\n",
       "      <td>-10</td>\n",
       "      <td>-10</td>\n",
       "    </tr>\n",
       "    <tr>\n",
       "      <th>1</th>\n",
       "      <td>2002000002</td>\n",
       "      <td>2002</td>\n",
       "      <td>2002000002</td>\n",
       "      <td>2002000001</td>\n",
       "      <td>2002000001</td>\n",
       "      <td>2002000001</td>\n",
       "      <td>1</td>\n",
       "      <td>2</td>\n",
       "      <td>2</td>\n",
       "      <td>2</td>\n",
       "      <td>1</td>\n",
       "      <td>4</td>\n",
       "      <td>6</td>\n",
       "      <td>10</td>\n",
       "      <td>8</td>\n",
       "      <td>720</td>\n",
       "      <td>735</td>\n",
       "      <td>-10</td>\n",
       "      <td>-10</td>\n",
       "    </tr>\n",
       "    <tr>\n",
       "      <th>2</th>\n",
       "      <td>2002000003</td>\n",
       "      <td>2002</td>\n",
       "      <td>2002000002</td>\n",
       "      <td>2002000001</td>\n",
       "      <td>2002000001</td>\n",
       "      <td>2002000001</td>\n",
       "      <td>1</td>\n",
       "      <td>2</td>\n",
       "      <td>3</td>\n",
       "      <td>2</td>\n",
       "      <td>1</td>\n",
       "      <td>4</td>\n",
       "      <td>7</td>\n",
       "      <td>8</td>\n",
       "      <td>10</td>\n",
       "      <td>770</td>\n",
       "      <td>780</td>\n",
       "      <td>-10</td>\n",
       "      <td>-10</td>\n",
       "    </tr>\n",
       "    <tr>\n",
       "      <th>3</th>\n",
       "      <td>2002000004</td>\n",
       "      <td>2002</td>\n",
       "      <td>2002000002</td>\n",
       "      <td>2002000001</td>\n",
       "      <td>2002000001</td>\n",
       "      <td>2002000001</td>\n",
       "      <td>1</td>\n",
       "      <td>2</td>\n",
       "      <td>4</td>\n",
       "      <td>2</td>\n",
       "      <td>1</td>\n",
       "      <td>12</td>\n",
       "      <td>7</td>\n",
       "      <td>10</td>\n",
       "      <td>23</td>\n",
       "      <td>1110</td>\n",
       "      <td>1130</td>\n",
       "      <td>-10</td>\n",
       "      <td>-10</td>\n",
       "    </tr>\n",
       "    <tr>\n",
       "      <th>4</th>\n",
       "      <td>2002000005</td>\n",
       "      <td>2002</td>\n",
       "      <td>2002000003</td>\n",
       "      <td>2002000001</td>\n",
       "      <td>2002000001</td>\n",
       "      <td>2002000001</td>\n",
       "      <td>1</td>\n",
       "      <td>3</td>\n",
       "      <td>1</td>\n",
       "      <td>2</td>\n",
       "      <td>1</td>\n",
       "      <td>4</td>\n",
       "      <td>7</td>\n",
       "      <td>23</td>\n",
       "      <td>10</td>\n",
       "      <td>760</td>\n",
       "      <td>770</td>\n",
       "      <td>-10</td>\n",
       "      <td>-10</td>\n",
       "    </tr>\n",
       "  </tbody>\n",
       "</table>\n",
       "</div>"
      ],
      "text/plain": [
       "       TripID  SurveyYear       DayID  IndividualID  HouseholdID       PSUID  \\\n",
       "0  2002000001        2002  2002000002    2002000001   2002000001  2002000001   \n",
       "1  2002000002        2002  2002000002    2002000001   2002000001  2002000001   \n",
       "2  2002000003        2002  2002000002    2002000001   2002000001  2002000001   \n",
       "3  2002000004        2002  2002000002    2002000001   2002000001  2002000001   \n",
       "4  2002000005        2002  2002000003    2002000001   2002000001  2002000001   \n",
       "\n",
       "   PersNo  TravDay  JourSeq  ShortWalkTrip_B01ID  NumStages  MainMode_B04ID  \\\n",
       "0       1        2        1                    2          1               4   \n",
       "1       1        2        2                    2          1               4   \n",
       "2       1        2        3                    2          1               4   \n",
       "3       1        2        4                    2          1              12   \n",
       "4       1        3        1                    2          1               4   \n",
       "\n",
       "   TripPurpose_B04ID  TripPurpFrom_B01ID  TripPurpTo_B01ID TripStart TripEnd  \\\n",
       "0                  7                  23                10       675     683   \n",
       "1                  6                  10                 8       720     735   \n",
       "2                  7                   8                10       770     780   \n",
       "3                  7                  10                23      1110    1130   \n",
       "4                  7                  23                10       760     770   \n",
       "\n",
       "   TripOrigUA2009_B01ID  TripDestUA2009_B01ID  \n",
       "0                   -10                   -10  \n",
       "1                   -10                   -10  \n",
       "2                   -10                   -10  \n",
       "3                   -10                   -10  \n",
       "4                   -10                   -10  "
      ]
     },
     "execution_count": 6,
     "metadata": {},
     "output_type": "execute_result"
    }
   ],
   "source": [
    "travel_diaries_in = pd.read_csv(\n",
    "    trips_csv,\n",
    "    sep='\\t',\n",
    "    usecols=['TripID', 'SurveyYear', 'DayID', 'IndividualID', 'HouseholdID', 'PSUID',\n",
    "       'PersNo', 'TravDay', 'JourSeq', 'ShortWalkTrip_B01ID', 'NumStages',\n",
    "       'MainMode_B04ID', 'TripPurpFrom_B01ID',\n",
    "        'TripPurpTo_B01ID', 'TripPurpose_B04ID',\n",
    "       'TripStart', 'TripEnd', 'TripOrigUA2009_B01ID', 'TripDestUA2009_B01ID'],\n",
    "#     dtype={\"W5\": np.float64,}\n",
    ")\n",
    "\n",
    "# travel_diaries_in.W5 = pd.to_numeric(travel_diaries_in.W5, errors='coerce')\n",
    "\n",
    "travel_diaries_in.head()"
   ]
  },
  {
   "cell_type": "code",
   "execution_count": 7,
   "metadata": {
    "ExecuteTime": {
     "end_time": "2020-08-04T17:07:41.073021Z",
     "start_time": "2020-08-04T17:07:40.675544Z"
    }
   },
   "outputs": [],
   "source": [
    "travel_diaries_in['participation'] = travel_diaries_in.HouseholdID.map(participation_mapping)\n",
    "travel_diaries_in['hh_weight'] = travel_diaries_in.HouseholdID.map(weight_mapping)"
   ]
  },
  {
   "cell_type": "code",
   "execution_count": 8,
   "metadata": {
    "ExecuteTime": {
     "end_time": "2020-08-04T17:07:41.803705Z",
     "start_time": "2020-08-04T17:07:41.075475Z"
    }
   },
   "outputs": [],
   "source": [
    "travel_diaries = travel_diaries_in.loc[travel_diaries_in.participation.isin([1,2])]"
   ]
  },
  {
   "cell_type": "markdown",
   "metadata": {},
   "source": [
    "## PAM schema\n",
    "    pid - person ID\n",
    "    hid - household ID\n",
    "    seq - trip sequence number\n",
    "    hzone - household zone\n",
    "    ozone - trip origin zone\n",
    "    dzone - trip destination zone\n",
    "    purp - trip purpose\n",
    "    mode - trip mode\n",
    "    tst - trip start time (minutes)\n",
    "    tet - trip end time (minutes)\n",
    "    freq - weighting for representative population"
   ]
  },
  {
   "cell_type": "code",
   "execution_count": 9,
   "metadata": {
    "ExecuteTime": {
     "end_time": "2020-08-04T17:07:41.889522Z",
     "start_time": "2020-08-04T17:07:41.806120Z"
    }
   },
   "outputs": [
    {
     "name": "stderr",
     "output_type": "stream",
     "text": [
      "/Users/fred.shone/.pyenv/versions/jupyter3/lib/python3.7/site-packages/pandas/core/frame.py:4133: SettingWithCopyWarning: \n",
      "A value is trying to be set on a copy of a slice from a DataFrame\n",
      "\n",
      "See the caveats in the documentation: https://pandas.pydata.org/pandas-docs/stable/user_guide/indexing.html#returning-a-view-versus-a-copy\n",
      "  errors=errors,\n"
     ]
    },
    {
     "data": {
      "text/html": [
       "<div>\n",
       "<style scoped>\n",
       "    .dataframe tbody tr th:only-of-type {\n",
       "        vertical-align: middle;\n",
       "    }\n",
       "\n",
       "    .dataframe tbody tr th {\n",
       "        vertical-align: top;\n",
       "    }\n",
       "\n",
       "    .dataframe thead th {\n",
       "        text-align: right;\n",
       "    }\n",
       "</style>\n",
       "<table border=\"1\" class=\"dataframe\">\n",
       "  <thead>\n",
       "    <tr style=\"text-align: right;\">\n",
       "      <th></th>\n",
       "      <th>TripID</th>\n",
       "      <th>SurveyYear</th>\n",
       "      <th>DayID</th>\n",
       "      <th>IndividualID</th>\n",
       "      <th>HouseholdID</th>\n",
       "      <th>PSUID</th>\n",
       "      <th>PersNo</th>\n",
       "      <th>TravDay</th>\n",
       "      <th>seq</th>\n",
       "      <th>ShortWalkTrip_B01ID</th>\n",
       "      <th>...</th>\n",
       "      <th>mode</th>\n",
       "      <th>TripPurpose_B04ID</th>\n",
       "      <th>opurp</th>\n",
       "      <th>dpurp</th>\n",
       "      <th>TripStart</th>\n",
       "      <th>TripEnd</th>\n",
       "      <th>ozone</th>\n",
       "      <th>dzone</th>\n",
       "      <th>participation</th>\n",
       "      <th>hh_weight</th>\n",
       "    </tr>\n",
       "  </thead>\n",
       "  <tbody>\n",
       "    <tr>\n",
       "      <th>4006199</th>\n",
       "      <td>2016000001</td>\n",
       "      <td>2016</td>\n",
       "      <td>2016000001</td>\n",
       "      <td>2016000001</td>\n",
       "      <td>2016000001</td>\n",
       "      <td>2016000001</td>\n",
       "      <td>1</td>\n",
       "      <td>1</td>\n",
       "      <td>1</td>\n",
       "      <td>2</td>\n",
       "      <td>...</td>\n",
       "      <td>1</td>\n",
       "      <td>1</td>\n",
       "      <td>23</td>\n",
       "      <td>1</td>\n",
       "      <td>460</td>\n",
       "      <td>480</td>\n",
       "      <td>260</td>\n",
       "      <td>260</td>\n",
       "      <td>1</td>\n",
       "      <td>1.454712</td>\n",
       "    </tr>\n",
       "    <tr>\n",
       "      <th>4006200</th>\n",
       "      <td>2016000002</td>\n",
       "      <td>2016</td>\n",
       "      <td>2016000001</td>\n",
       "      <td>2016000001</td>\n",
       "      <td>2016000001</td>\n",
       "      <td>2016000001</td>\n",
       "      <td>1</td>\n",
       "      <td>1</td>\n",
       "      <td>2</td>\n",
       "      <td>2</td>\n",
       "      <td>...</td>\n",
       "      <td>1</td>\n",
       "      <td>1</td>\n",
       "      <td>1</td>\n",
       "      <td>23</td>\n",
       "      <td>1020</td>\n",
       "      <td>1040</td>\n",
       "      <td>260</td>\n",
       "      <td>260</td>\n",
       "      <td>1</td>\n",
       "      <td>1.454712</td>\n",
       "    </tr>\n",
       "    <tr>\n",
       "      <th>4006201</th>\n",
       "      <td>2016000003</td>\n",
       "      <td>2016</td>\n",
       "      <td>2016000002</td>\n",
       "      <td>2016000001</td>\n",
       "      <td>2016000001</td>\n",
       "      <td>2016000001</td>\n",
       "      <td>1</td>\n",
       "      <td>2</td>\n",
       "      <td>1</td>\n",
       "      <td>2</td>\n",
       "      <td>...</td>\n",
       "      <td>1</td>\n",
       "      <td>1</td>\n",
       "      <td>23</td>\n",
       "      <td>1</td>\n",
       "      <td>460</td>\n",
       "      <td>480</td>\n",
       "      <td>260</td>\n",
       "      <td>260</td>\n",
       "      <td>1</td>\n",
       "      <td>1.454712</td>\n",
       "    </tr>\n",
       "    <tr>\n",
       "      <th>4006202</th>\n",
       "      <td>2016000004</td>\n",
       "      <td>2016</td>\n",
       "      <td>2016000002</td>\n",
       "      <td>2016000001</td>\n",
       "      <td>2016000001</td>\n",
       "      <td>2016000001</td>\n",
       "      <td>1</td>\n",
       "      <td>2</td>\n",
       "      <td>2</td>\n",
       "      <td>2</td>\n",
       "      <td>...</td>\n",
       "      <td>1</td>\n",
       "      <td>1</td>\n",
       "      <td>1</td>\n",
       "      <td>23</td>\n",
       "      <td>1020</td>\n",
       "      <td>1040</td>\n",
       "      <td>260</td>\n",
       "      <td>260</td>\n",
       "      <td>1</td>\n",
       "      <td>1.454712</td>\n",
       "    </tr>\n",
       "    <tr>\n",
       "      <th>4006203</th>\n",
       "      <td>2016000005</td>\n",
       "      <td>2016</td>\n",
       "      <td>2016000003</td>\n",
       "      <td>2016000001</td>\n",
       "      <td>2016000001</td>\n",
       "      <td>2016000001</td>\n",
       "      <td>1</td>\n",
       "      <td>3</td>\n",
       "      <td>1</td>\n",
       "      <td>2</td>\n",
       "      <td>...</td>\n",
       "      <td>1</td>\n",
       "      <td>1</td>\n",
       "      <td>23</td>\n",
       "      <td>1</td>\n",
       "      <td>460</td>\n",
       "      <td>480</td>\n",
       "      <td>260</td>\n",
       "      <td>260</td>\n",
       "      <td>1</td>\n",
       "      <td>1.454712</td>\n",
       "    </tr>\n",
       "  </tbody>\n",
       "</table>\n",
       "<p>5 rows × 21 columns</p>\n",
       "</div>"
      ],
      "text/plain": [
       "             TripID  SurveyYear       DayID  IndividualID  HouseholdID  \\\n",
       "4006199  2016000001        2016  2016000001    2016000001   2016000001   \n",
       "4006200  2016000002        2016  2016000001    2016000001   2016000001   \n",
       "4006201  2016000003        2016  2016000002    2016000001   2016000001   \n",
       "4006202  2016000004        2016  2016000002    2016000001   2016000001   \n",
       "4006203  2016000005        2016  2016000003    2016000001   2016000001   \n",
       "\n",
       "              PSUID  PersNo  TravDay  seq  ShortWalkTrip_B01ID  ...  mode  \\\n",
       "4006199  2016000001       1        1    1                    2  ...     1   \n",
       "4006200  2016000001       1        1    2                    2  ...     1   \n",
       "4006201  2016000001       1        2    1                    2  ...     1   \n",
       "4006202  2016000001       1        2    2                    2  ...     1   \n",
       "4006203  2016000001       1        3    1                    2  ...     1   \n",
       "\n",
       "         TripPurpose_B04ID  opurp  dpurp  TripStart TripEnd ozone  dzone  \\\n",
       "4006199                  1     23      1        460     480   260    260   \n",
       "4006200                  1      1     23       1020    1040   260    260   \n",
       "4006201                  1     23      1        460     480   260    260   \n",
       "4006202                  1      1     23       1020    1040   260    260   \n",
       "4006203                  1     23      1        460     480   260    260   \n",
       "\n",
       "         participation  hh_weight  \n",
       "4006199              1   1.454712  \n",
       "4006200              1   1.454712  \n",
       "4006201              1   1.454712  \n",
       "4006202              1   1.454712  \n",
       "4006203              1   1.454712  \n",
       "\n",
       "[5 rows x 21 columns]"
      ]
     },
     "execution_count": 9,
     "metadata": {},
     "output_type": "execute_result"
    }
   ],
   "source": [
    "travel_diaries.rename(\n",
    "    columns={  # rename data\n",
    "        'JourSeq': 'seq',\n",
    "        'TripOrigUA2009_B01ID': 'ozone',\n",
    "        'TripDestUA2009_B01ID': 'dzone',\n",
    "        'TripPurpFrom_B01ID': 'opurp',\n",
    "        'TripPurpTo_B01ID': 'dpurp',\n",
    "        'MainMode_B04ID': 'mode',\n",
    "        'tst': 'TripStart',\n",
    "        'tet': 'TripEnd',\n",
    "    },\n",
    "                inplace=True)\n",
    "\n",
    "travel_diaries.head()"
   ]
  },
  {
   "cell_type": "code",
   "execution_count": 10,
   "metadata": {
    "ExecuteTime": {
     "end_time": "2020-08-04T17:07:41.926311Z",
     "start_time": "2020-08-04T17:07:41.892762Z"
    }
   },
   "outputs": [
    {
     "data": {
      "text/plain": [
       "TripID                   int64\n",
       "SurveyYear               int64\n",
       "DayID                    int64\n",
       "IndividualID             int64\n",
       "HouseholdID              int64\n",
       "PSUID                    int64\n",
       "PersNo                   int64\n",
       "TravDay                  int64\n",
       "seq                      int64\n",
       "ShortWalkTrip_B01ID      int64\n",
       "NumStages                int64\n",
       "mode                     int64\n",
       "TripPurpose_B04ID        int64\n",
       "opurp                    int64\n",
       "dpurp                    int64\n",
       "TripStart               object\n",
       "TripEnd                 object\n",
       "ozone                    int64\n",
       "dzone                    int64\n",
       "participation            int64\n",
       "hh_weight              float64\n",
       "dtype: object"
      ]
     },
     "execution_count": 10,
     "metadata": {},
     "output_type": "execute_result"
    }
   ],
   "source": [
    "travel_diaries.dtypes"
   ]
  },
  {
   "cell_type": "code",
   "execution_count": 11,
   "metadata": {
    "ExecuteTime": {
     "end_time": "2020-08-04T17:07:41.955755Z",
     "start_time": "2020-08-04T17:07:41.928285Z"
    }
   },
   "outputs": [],
   "source": [
    "def check_uniques(df):\n",
    "    for c in df.columns:\n",
    "        print(c)\n",
    "        n = df[c].nunique()\n",
    "        if n < 1000:\n",
    "            print(df[c].unique())"
   ]
  },
  {
   "cell_type": "code",
   "execution_count": 12,
   "metadata": {
    "ExecuteTime": {
     "end_time": "2020-08-04T17:07:42.139832Z",
     "start_time": "2020-08-04T17:07:41.960883Z"
    }
   },
   "outputs": [
    {
     "name": "stdout",
     "output_type": "stream",
     "text": [
      "TripID\n",
      "SurveyYear\n",
      "[2016 2017]\n",
      "DayID\n",
      "IndividualID\n",
      "HouseholdID\n",
      "PSUID\n",
      "PersNo\n",
      "[ 1  2  3  4  5  6  7  8  9 10]\n",
      "TravDay\n",
      "[1 2 3 4 5 7 6]\n",
      "seq\n",
      "[ 1  2  3  4  5  6  7  8  9 10 11 12 13 14 15 16 17 18 19 20 21]\n",
      "ShortWalkTrip_B01ID\n",
      "[2 1]\n",
      "NumStages\n",
      "[1 3 2 4 5 6 7 8]\n",
      "mode\n",
      "[ 1 11  4  8  9  6  3 12 13  2 10  7  5]\n",
      "TripPurpose_B04ID\n",
      "[1 4 7 6 2 8 5 3]\n",
      "opurp\n",
      "[23  1  4 10  8  2 14 11 15 22  9  5 13  3  6 12 20 21 17 18 16  7 19]\n",
      "dpurp\n",
      "[ 1 23  4 10  8  2 14 11 15 22  9  5 13  3  6 12 20 21 17 18 16  7 19]\n",
      "TripStart\n",
      "TripEnd\n",
      "ozone\n",
      "[260 151 540 153 331 520 480 400 131 530 370 800 112 500 231 840 230 360\n",
      " 320 820 130 290 125 390 111 420 421 380 550 163 162 152 340 341 190 450\n",
      " 342 470 350 154 210 460 560 101 164 161 510 220 221 180 113 270 490 440\n",
      " 140 304 481 191 451 301 330 280 123 410 170 830 241 250 102 121 615 104\n",
      " 810 271 561 124 430 431 303 240 212 714 242 103 126 122 211 272 620 302\n",
      " 616 200 332 321 281 141 202 201 609 610 613 603 715 604 602 605 607 612\n",
      " 622 601 716 720 701 702 608 310 606 618 611 705 708 718  -8 731 721 703\n",
      " 709 621 704 717 726 619 614 723 707 730 712 725 722]\n",
      "dzone\n",
      "[260 151 540 153 331 520 480 400 131 530 370 800 112 500 231 840 230 360\n",
      " 320 820 130 290 125 390 111 420 421 380 550 163 162 152 340 341 190 450\n",
      " 342 470 350 154 430 210 460 560 101 164 161 510 220 221 180 113 270 490\n",
      " 440 140 304 481 191 451 301 330 280 123 410 170 830 241 250 102 615 104\n",
      " 810 271 561 124 431 303 240 212 714 242 103 126 122 121 211 272 620 302\n",
      " 200 616 332 321 281 141 202 201 609 610 613 603 715 604 602 605 607 612\n",
      " 622 717 601 716 720 702 701 608 310 606 618 611 705 708 621 718  -8 721\n",
      " 703 709 619 704 726 614 723 617 707 731 730 712 725 722]\n",
      "participation\n",
      "[1 2]\n",
      "hh_weight\n"
     ]
    }
   ],
   "source": [
    "check_uniques(travel_diaries)"
   ]
  },
  {
   "cell_type": "code",
   "execution_count": null,
   "metadata": {},
   "outputs": [],
   "source": []
  },
  {
   "cell_type": "code",
   "execution_count": null,
   "metadata": {},
   "outputs": [],
   "source": []
  },
  {
   "cell_type": "code",
   "execution_count": null,
   "metadata": {},
   "outputs": [],
   "source": []
  },
  {
   "cell_type": "code",
   "execution_count": null,
   "metadata": {},
   "outputs": [],
   "source": []
  },
  {
   "cell_type": "code",
   "execution_count": null,
   "metadata": {},
   "outputs": [],
   "source": []
  },
  {
   "cell_type": "markdown",
   "metadata": {},
   "source": [
    "## Clean out incomplete plans"
   ]
  },
  {
   "cell_type": "code",
   "execution_count": 13,
   "metadata": {
    "ExecuteTime": {
     "end_time": "2020-08-04T17:07:42.168807Z",
     "start_time": "2020-08-04T17:07:42.142788Z"
    }
   },
   "outputs": [],
   "source": [
    "def remove_broken_plans(plan):\n",
    "    if plan.isnull().values.any():\n",
    "        return None\n",
    "    for col in ['ozone', 'dzone']:\n",
    "        if -8 in list(plan[col]):\n",
    "            return None\n",
    "    return plan"
   ]
  },
  {
   "cell_type": "code",
   "execution_count": 14,
   "metadata": {
    "ExecuteTime": {
     "end_time": "2020-08-04T17:10:28.656591Z",
     "start_time": "2020-08-04T17:07:42.171444Z"
    }
   },
   "outputs": [],
   "source": [
    "clean_travel_diaries = travel_diaries.groupby(\n",
    "    ['IndividualID', 'TravDay']\n",
    ").apply(\n",
    "    remove_broken_plans\n",
    ").reset_index(drop=True)"
   ]
  },
  {
   "cell_type": "code",
   "execution_count": 15,
   "metadata": {
    "ExecuteTime": {
     "end_time": "2020-08-04T17:10:28.696643Z",
     "start_time": "2020-08-04T17:10:28.658799Z"
    }
   },
   "outputs": [
    {
     "data": {
      "text/html": [
       "<div>\n",
       "<style scoped>\n",
       "    .dataframe tbody tr th:only-of-type {\n",
       "        vertical-align: middle;\n",
       "    }\n",
       "\n",
       "    .dataframe tbody tr th {\n",
       "        vertical-align: top;\n",
       "    }\n",
       "\n",
       "    .dataframe thead th {\n",
       "        text-align: right;\n",
       "    }\n",
       "</style>\n",
       "<table border=\"1\" class=\"dataframe\">\n",
       "  <thead>\n",
       "    <tr style=\"text-align: right;\">\n",
       "      <th></th>\n",
       "      <th>TripID</th>\n",
       "      <th>SurveyYear</th>\n",
       "      <th>DayID</th>\n",
       "      <th>IndividualID</th>\n",
       "      <th>HouseholdID</th>\n",
       "      <th>PSUID</th>\n",
       "      <th>PersNo</th>\n",
       "      <th>TravDay</th>\n",
       "      <th>seq</th>\n",
       "      <th>ShortWalkTrip_B01ID</th>\n",
       "      <th>...</th>\n",
       "      <th>mode</th>\n",
       "      <th>TripPurpose_B04ID</th>\n",
       "      <th>opurp</th>\n",
       "      <th>dpurp</th>\n",
       "      <th>TripStart</th>\n",
       "      <th>TripEnd</th>\n",
       "      <th>ozone</th>\n",
       "      <th>dzone</th>\n",
       "      <th>participation</th>\n",
       "      <th>hh_weight</th>\n",
       "    </tr>\n",
       "  </thead>\n",
       "  <tbody>\n",
       "    <tr>\n",
       "      <th>0</th>\n",
       "      <td>2016000001</td>\n",
       "      <td>2016</td>\n",
       "      <td>2016000001</td>\n",
       "      <td>2016000001</td>\n",
       "      <td>2016000001</td>\n",
       "      <td>2016000001</td>\n",
       "      <td>1</td>\n",
       "      <td>1</td>\n",
       "      <td>1</td>\n",
       "      <td>2</td>\n",
       "      <td>...</td>\n",
       "      <td>1</td>\n",
       "      <td>1</td>\n",
       "      <td>23</td>\n",
       "      <td>1</td>\n",
       "      <td>460</td>\n",
       "      <td>480</td>\n",
       "      <td>260</td>\n",
       "      <td>260</td>\n",
       "      <td>1</td>\n",
       "      <td>1.454712</td>\n",
       "    </tr>\n",
       "    <tr>\n",
       "      <th>1</th>\n",
       "      <td>2016000002</td>\n",
       "      <td>2016</td>\n",
       "      <td>2016000001</td>\n",
       "      <td>2016000001</td>\n",
       "      <td>2016000001</td>\n",
       "      <td>2016000001</td>\n",
       "      <td>1</td>\n",
       "      <td>1</td>\n",
       "      <td>2</td>\n",
       "      <td>2</td>\n",
       "      <td>...</td>\n",
       "      <td>1</td>\n",
       "      <td>1</td>\n",
       "      <td>1</td>\n",
       "      <td>23</td>\n",
       "      <td>1020</td>\n",
       "      <td>1040</td>\n",
       "      <td>260</td>\n",
       "      <td>260</td>\n",
       "      <td>1</td>\n",
       "      <td>1.454712</td>\n",
       "    </tr>\n",
       "    <tr>\n",
       "      <th>2</th>\n",
       "      <td>2016000003</td>\n",
       "      <td>2016</td>\n",
       "      <td>2016000002</td>\n",
       "      <td>2016000001</td>\n",
       "      <td>2016000001</td>\n",
       "      <td>2016000001</td>\n",
       "      <td>1</td>\n",
       "      <td>2</td>\n",
       "      <td>1</td>\n",
       "      <td>2</td>\n",
       "      <td>...</td>\n",
       "      <td>1</td>\n",
       "      <td>1</td>\n",
       "      <td>23</td>\n",
       "      <td>1</td>\n",
       "      <td>460</td>\n",
       "      <td>480</td>\n",
       "      <td>260</td>\n",
       "      <td>260</td>\n",
       "      <td>1</td>\n",
       "      <td>1.454712</td>\n",
       "    </tr>\n",
       "    <tr>\n",
       "      <th>3</th>\n",
       "      <td>2016000004</td>\n",
       "      <td>2016</td>\n",
       "      <td>2016000002</td>\n",
       "      <td>2016000001</td>\n",
       "      <td>2016000001</td>\n",
       "      <td>2016000001</td>\n",
       "      <td>1</td>\n",
       "      <td>2</td>\n",
       "      <td>2</td>\n",
       "      <td>2</td>\n",
       "      <td>...</td>\n",
       "      <td>1</td>\n",
       "      <td>1</td>\n",
       "      <td>1</td>\n",
       "      <td>23</td>\n",
       "      <td>1020</td>\n",
       "      <td>1040</td>\n",
       "      <td>260</td>\n",
       "      <td>260</td>\n",
       "      <td>1</td>\n",
       "      <td>1.454712</td>\n",
       "    </tr>\n",
       "    <tr>\n",
       "      <th>4</th>\n",
       "      <td>2016000005</td>\n",
       "      <td>2016</td>\n",
       "      <td>2016000003</td>\n",
       "      <td>2016000001</td>\n",
       "      <td>2016000001</td>\n",
       "      <td>2016000001</td>\n",
       "      <td>1</td>\n",
       "      <td>3</td>\n",
       "      <td>1</td>\n",
       "      <td>2</td>\n",
       "      <td>...</td>\n",
       "      <td>1</td>\n",
       "      <td>1</td>\n",
       "      <td>23</td>\n",
       "      <td>1</td>\n",
       "      <td>460</td>\n",
       "      <td>480</td>\n",
       "      <td>260</td>\n",
       "      <td>260</td>\n",
       "      <td>1</td>\n",
       "      <td>1.454712</td>\n",
       "    </tr>\n",
       "  </tbody>\n",
       "</table>\n",
       "<p>5 rows × 21 columns</p>\n",
       "</div>"
      ],
      "text/plain": [
       "       TripID  SurveyYear       DayID  IndividualID  HouseholdID       PSUID  \\\n",
       "0  2016000001        2016  2016000001    2016000001   2016000001  2016000001   \n",
       "1  2016000002        2016  2016000001    2016000001   2016000001  2016000001   \n",
       "2  2016000003        2016  2016000002    2016000001   2016000001  2016000001   \n",
       "3  2016000004        2016  2016000002    2016000001   2016000001  2016000001   \n",
       "4  2016000005        2016  2016000003    2016000001   2016000001  2016000001   \n",
       "\n",
       "   PersNo  TravDay  seq  ShortWalkTrip_B01ID  ...  mode  TripPurpose_B04ID  \\\n",
       "0       1        1    1                    2  ...     1                  1   \n",
       "1       1        1    2                    2  ...     1                  1   \n",
       "2       1        2    1                    2  ...     1                  1   \n",
       "3       1        2    2                    2  ...     1                  1   \n",
       "4       1        3    1                    2  ...     1                  1   \n",
       "\n",
       "   opurp  dpurp  TripStart TripEnd ozone  dzone  participation  hh_weight  \n",
       "0     23      1        460     480   260    260              1   1.454712  \n",
       "1      1     23       1020    1040   260    260              1   1.454712  \n",
       "2     23      1        460     480   260    260              1   1.454712  \n",
       "3      1     23       1020    1040   260    260              1   1.454712  \n",
       "4     23      1        460     480   260    260              1   1.454712  \n",
       "\n",
       "[5 rows x 21 columns]"
      ]
     },
     "execution_count": 15,
     "metadata": {},
     "output_type": "execute_result"
    }
   ],
   "source": [
    "clean_travel_diaries.head()"
   ]
  },
  {
   "cell_type": "code",
   "execution_count": 16,
   "metadata": {
    "ExecuteTime": {
     "end_time": "2020-08-04T17:10:28.727706Z",
     "start_time": "2020-08-04T17:10:28.703593Z"
    }
   },
   "outputs": [
    {
     "name": "stdout",
     "output_type": "stream",
     "text": [
      "442964\n",
      "442917\n"
     ]
    }
   ],
   "source": [
    "print(len(travel_diaries))\n",
    "print(len(clean_travel_diaries))"
   ]
  },
  {
   "cell_type": "markdown",
   "metadata": {},
   "source": [
    "## Reweight and Split Days"
   ]
  },
  {
   "cell_type": "code",
   "execution_count": 17,
   "metadata": {
    "ExecuteTime": {
     "end_time": "2020-08-04T17:11:16.820211Z",
     "start_time": "2020-08-04T17:10:28.733344Z"
    }
   },
   "outputs": [],
   "source": [
    "# reweight and split ids for unique days\n",
    "\n",
    "def reweight(group):\n",
    "    \"\"\"\n",
    "    Reweight based on multiple diary days, ie if an agent has two diary days, we will treat these as\n",
    "    two unique agents, so we half the original weighting\n",
    "    \"\"\"\n",
    "    group['freq'] = group.hh_weight / group.DayID.nunique()\n",
    "    return group\n",
    "\n",
    "trips = clean_travel_diaries.groupby('IndividualID').apply(reweight)\n",
    "trips['pid'] = [f\"{p}_{d}\" for p, d in zip(trips.IndividualID, trips.TravDay)]\n",
    "trips['hid'] = [f\"{h}_{d}\" for h, d in zip(trips.HouseholdID, trips.TravDay)]"
   ]
  },
  {
   "cell_type": "code",
   "execution_count": 18,
   "metadata": {
    "ExecuteTime": {
     "end_time": "2020-08-04T17:11:16.875435Z",
     "start_time": "2020-08-04T17:11:16.822915Z"
    }
   },
   "outputs": [
    {
     "data": {
      "text/html": [
       "<div>\n",
       "<style scoped>\n",
       "    .dataframe tbody tr th:only-of-type {\n",
       "        vertical-align: middle;\n",
       "    }\n",
       "\n",
       "    .dataframe tbody tr th {\n",
       "        vertical-align: top;\n",
       "    }\n",
       "\n",
       "    .dataframe thead th {\n",
       "        text-align: right;\n",
       "    }\n",
       "</style>\n",
       "<table border=\"1\" class=\"dataframe\">\n",
       "  <thead>\n",
       "    <tr style=\"text-align: right;\">\n",
       "      <th></th>\n",
       "      <th>TripID</th>\n",
       "      <th>SurveyYear</th>\n",
       "      <th>DayID</th>\n",
       "      <th>IndividualID</th>\n",
       "      <th>HouseholdID</th>\n",
       "      <th>PSUID</th>\n",
       "      <th>PersNo</th>\n",
       "      <th>TravDay</th>\n",
       "      <th>seq</th>\n",
       "      <th>ShortWalkTrip_B01ID</th>\n",
       "      <th>...</th>\n",
       "      <th>dpurp</th>\n",
       "      <th>TripStart</th>\n",
       "      <th>TripEnd</th>\n",
       "      <th>ozone</th>\n",
       "      <th>dzone</th>\n",
       "      <th>participation</th>\n",
       "      <th>hh_weight</th>\n",
       "      <th>freq</th>\n",
       "      <th>pid</th>\n",
       "      <th>hid</th>\n",
       "    </tr>\n",
       "  </thead>\n",
       "  <tbody>\n",
       "    <tr>\n",
       "      <th>0</th>\n",
       "      <td>2016000001</td>\n",
       "      <td>2016</td>\n",
       "      <td>2016000001</td>\n",
       "      <td>2016000001</td>\n",
       "      <td>2016000001</td>\n",
       "      <td>2016000001</td>\n",
       "      <td>1</td>\n",
       "      <td>1</td>\n",
       "      <td>1</td>\n",
       "      <td>2</td>\n",
       "      <td>...</td>\n",
       "      <td>1</td>\n",
       "      <td>460</td>\n",
       "      <td>480</td>\n",
       "      <td>260</td>\n",
       "      <td>260</td>\n",
       "      <td>1</td>\n",
       "      <td>1.454712</td>\n",
       "      <td>0.242452</td>\n",
       "      <td>2016000001_1</td>\n",
       "      <td>2016000001_1</td>\n",
       "    </tr>\n",
       "    <tr>\n",
       "      <th>1</th>\n",
       "      <td>2016000002</td>\n",
       "      <td>2016</td>\n",
       "      <td>2016000001</td>\n",
       "      <td>2016000001</td>\n",
       "      <td>2016000001</td>\n",
       "      <td>2016000001</td>\n",
       "      <td>1</td>\n",
       "      <td>1</td>\n",
       "      <td>2</td>\n",
       "      <td>2</td>\n",
       "      <td>...</td>\n",
       "      <td>23</td>\n",
       "      <td>1020</td>\n",
       "      <td>1040</td>\n",
       "      <td>260</td>\n",
       "      <td>260</td>\n",
       "      <td>1</td>\n",
       "      <td>1.454712</td>\n",
       "      <td>0.242452</td>\n",
       "      <td>2016000001_1</td>\n",
       "      <td>2016000001_1</td>\n",
       "    </tr>\n",
       "    <tr>\n",
       "      <th>2</th>\n",
       "      <td>2016000003</td>\n",
       "      <td>2016</td>\n",
       "      <td>2016000002</td>\n",
       "      <td>2016000001</td>\n",
       "      <td>2016000001</td>\n",
       "      <td>2016000001</td>\n",
       "      <td>1</td>\n",
       "      <td>2</td>\n",
       "      <td>1</td>\n",
       "      <td>2</td>\n",
       "      <td>...</td>\n",
       "      <td>1</td>\n",
       "      <td>460</td>\n",
       "      <td>480</td>\n",
       "      <td>260</td>\n",
       "      <td>260</td>\n",
       "      <td>1</td>\n",
       "      <td>1.454712</td>\n",
       "      <td>0.242452</td>\n",
       "      <td>2016000001_2</td>\n",
       "      <td>2016000001_2</td>\n",
       "    </tr>\n",
       "    <tr>\n",
       "      <th>3</th>\n",
       "      <td>2016000004</td>\n",
       "      <td>2016</td>\n",
       "      <td>2016000002</td>\n",
       "      <td>2016000001</td>\n",
       "      <td>2016000001</td>\n",
       "      <td>2016000001</td>\n",
       "      <td>1</td>\n",
       "      <td>2</td>\n",
       "      <td>2</td>\n",
       "      <td>2</td>\n",
       "      <td>...</td>\n",
       "      <td>23</td>\n",
       "      <td>1020</td>\n",
       "      <td>1040</td>\n",
       "      <td>260</td>\n",
       "      <td>260</td>\n",
       "      <td>1</td>\n",
       "      <td>1.454712</td>\n",
       "      <td>0.242452</td>\n",
       "      <td>2016000001_2</td>\n",
       "      <td>2016000001_2</td>\n",
       "    </tr>\n",
       "    <tr>\n",
       "      <th>4</th>\n",
       "      <td>2016000005</td>\n",
       "      <td>2016</td>\n",
       "      <td>2016000003</td>\n",
       "      <td>2016000001</td>\n",
       "      <td>2016000001</td>\n",
       "      <td>2016000001</td>\n",
       "      <td>1</td>\n",
       "      <td>3</td>\n",
       "      <td>1</td>\n",
       "      <td>2</td>\n",
       "      <td>...</td>\n",
       "      <td>1</td>\n",
       "      <td>460</td>\n",
       "      <td>480</td>\n",
       "      <td>260</td>\n",
       "      <td>260</td>\n",
       "      <td>1</td>\n",
       "      <td>1.454712</td>\n",
       "      <td>0.242452</td>\n",
       "      <td>2016000001_3</td>\n",
       "      <td>2016000001_3</td>\n",
       "    </tr>\n",
       "  </tbody>\n",
       "</table>\n",
       "<p>5 rows × 24 columns</p>\n",
       "</div>"
      ],
      "text/plain": [
       "       TripID  SurveyYear       DayID  IndividualID  HouseholdID       PSUID  \\\n",
       "0  2016000001        2016  2016000001    2016000001   2016000001  2016000001   \n",
       "1  2016000002        2016  2016000001    2016000001   2016000001  2016000001   \n",
       "2  2016000003        2016  2016000002    2016000001   2016000001  2016000001   \n",
       "3  2016000004        2016  2016000002    2016000001   2016000001  2016000001   \n",
       "4  2016000005        2016  2016000003    2016000001   2016000001  2016000001   \n",
       "\n",
       "   PersNo  TravDay  seq  ShortWalkTrip_B01ID  ...  dpurp  TripStart  TripEnd  \\\n",
       "0       1        1    1                    2  ...      1        460      480   \n",
       "1       1        1    2                    2  ...     23       1020     1040   \n",
       "2       1        2    1                    2  ...      1        460      480   \n",
       "3       1        2    2                    2  ...     23       1020     1040   \n",
       "4       1        3    1                    2  ...      1        460      480   \n",
       "\n",
       "   ozone  dzone participation hh_weight      freq           pid           hid  \n",
       "0    260    260             1  1.454712  0.242452  2016000001_1  2016000001_1  \n",
       "1    260    260             1  1.454712  0.242452  2016000001_1  2016000001_1  \n",
       "2    260    260             1  1.454712  0.242452  2016000001_2  2016000001_2  \n",
       "3    260    260             1  1.454712  0.242452  2016000001_2  2016000001_2  \n",
       "4    260    260             1  1.454712  0.242452  2016000001_3  2016000001_3  \n",
       "\n",
       "[5 rows x 24 columns]"
      ]
     },
     "execution_count": 18,
     "metadata": {},
     "output_type": "execute_result"
    }
   ],
   "source": [
    "trips.head()"
   ]
  },
  {
   "cell_type": "code",
   "execution_count": null,
   "metadata": {},
   "outputs": [],
   "source": []
  },
  {
   "cell_type": "code",
   "execution_count": null,
   "metadata": {},
   "outputs": [],
   "source": []
  },
  {
   "cell_type": "code",
   "execution_count": null,
   "metadata": {},
   "outputs": [],
   "source": []
  },
  {
   "cell_type": "code",
   "execution_count": 21,
   "metadata": {
    "ExecuteTime": {
     "end_time": "2020-08-04T17:18:32.401987Z",
     "start_time": "2020-08-04T17:18:32.372455Z"
    }
   },
   "outputs": [],
   "source": [
    "def expand_days(\n",
    "    trips,\n",
    "    target,\n",
    "    trips_on='Diary_number',\n",
    "    target_on='Diary_number',\n",
    "    new_id='pid',\n",
    "    trim=True\n",
    "):\n",
    "    \"\"\"\n",
    "    Expand target df based on mapping between trips traget_on and new_id.\n",
    "    Set index to new_id.\n",
    "    \"\"\"\n",
    "    print(\"Building mapping.\")\n",
    "    mapping = {}\n",
    "    for i, person in trips.groupby(target_on):\n",
    "        mapping[i] = list(set(person[new_id]))\n",
    "    n = len(mapping)\n",
    "    \n",
    "    if trim:\n",
    "        print(\"Trimming target.\")\n",
    "        selection = set(trips[trips_on])\n",
    "        target = target.loc[target[target_on].isin(selection)]\n",
    "    \n",
    "    expanded = pd.DataFrame()\n",
    "    for p, (i, ids) in enumerate(mapping.items()):\n",
    "        if not p % 10:\n",
    "            print(f\"Building expanded data {p}/{n}\", end='\\r', flush=True)\n",
    "        for idx in ids:\n",
    "            split = target.loc[target[target_on] == i]\n",
    "            split[new_id] = idx\n",
    "            expanded = expanded.append(split)\n",
    "    expanded.set_index(new_id, inplace=True)\n",
    "    print(f\"Done\")\n",
    "    return expanded"
   ]
  },
  {
   "cell_type": "code",
   "execution_count": 22,
   "metadata": {
    "ExecuteTime": {
     "end_time": "2020-08-04T17:35:57.407375Z",
     "start_time": "2020-08-04T17:18:32.988001Z"
    }
   },
   "outputs": [
    {
     "name": "stdout",
     "output_type": "stream",
     "text": [
      "Building mapping.\n",
      "Trimming target.\n",
      "Building expanded data 0/12424\r"
     ]
    },
    {
     "name": "stderr",
     "output_type": "stream",
     "text": [
      "/Users/fred.shone/.pyenv/versions/jupyter3/lib/python3.7/site-packages/ipykernel_launcher.py:30: SettingWithCopyWarning: \n",
      "A value is trying to be set on a copy of a slice from a DataFrame.\n",
      "Try using .loc[row_indexer,col_indexer] = value instead\n",
      "\n",
      "See the caveats in the documentation: https://pandas.pydata.org/pandas-docs/stable/user_guide/indexing.html#returning-a-view-versus-a-copy\n"
     ]
    },
    {
     "name": "stdout",
     "output_type": "stream",
     "text": [
      "Building expanded data 12420/12424\r"
     ]
    }
   ],
   "source": [
    "hhs = expand_days(\n",
    "    trips,\n",
    "    hh_in,\n",
    "    trips_on='HouseholdID',\n",
    "    target_on='HouseholdID',\n",
    "    new_id='hid'\n",
    ")"
   ]
  },
  {
   "cell_type": "code",
   "execution_count": 23,
   "metadata": {
    "ExecuteTime": {
     "end_time": "2020-08-04T17:35:57.452396Z",
     "start_time": "2020-08-04T17:35:57.409642Z"
    }
   },
   "outputs": [
    {
     "data": {
      "text/html": [
       "<div>\n",
       "<style scoped>\n",
       "    .dataframe tbody tr th:only-of-type {\n",
       "        vertical-align: middle;\n",
       "    }\n",
       "\n",
       "    .dataframe tbody tr th {\n",
       "        vertical-align: top;\n",
       "    }\n",
       "\n",
       "    .dataframe thead th {\n",
       "        text-align: right;\n",
       "    }\n",
       "</style>\n",
       "<table border=\"1\" class=\"dataframe\">\n",
       "  <thead>\n",
       "    <tr style=\"text-align: right;\">\n",
       "      <th></th>\n",
       "      <th>HouseholdID</th>\n",
       "      <th>SurveyYear</th>\n",
       "      <th>PSUID</th>\n",
       "      <th>W2</th>\n",
       "      <th>OutCom_B02ID</th>\n",
       "      <th>HHIncome2002_B02ID</th>\n",
       "      <th>AddressType_B01ID</th>\n",
       "      <th>Ten1_B02ID</th>\n",
       "      <th>Landlord_B01ID</th>\n",
       "      <th>ResLength_B01ID</th>\n",
       "      <th>...</th>\n",
       "      <th>NumCarVan</th>\n",
       "      <th>WalkBus_B01ID</th>\n",
       "      <th>Getbus_B01ID</th>\n",
       "      <th>WalkRail_B01ID</th>\n",
       "      <th>WalkRailAlt_B01ID</th>\n",
       "      <th>HRPWorkStat_B02ID</th>\n",
       "      <th>HRPSEGWorkStat_B01ID</th>\n",
       "      <th>HHoldOAClass2011_B03ID</th>\n",
       "      <th>Settlement2011EW_B03ID</th>\n",
       "      <th>Settlement2011EW_B04ID</th>\n",
       "    </tr>\n",
       "    <tr>\n",
       "      <th>hid</th>\n",
       "      <th></th>\n",
       "      <th></th>\n",
       "      <th></th>\n",
       "      <th></th>\n",
       "      <th></th>\n",
       "      <th></th>\n",
       "      <th></th>\n",
       "      <th></th>\n",
       "      <th></th>\n",
       "      <th></th>\n",
       "      <th></th>\n",
       "      <th></th>\n",
       "      <th></th>\n",
       "      <th></th>\n",
       "      <th></th>\n",
       "      <th></th>\n",
       "      <th></th>\n",
       "      <th></th>\n",
       "      <th></th>\n",
       "      <th></th>\n",
       "      <th></th>\n",
       "    </tr>\n",
       "  </thead>\n",
       "  <tbody>\n",
       "    <tr>\n",
       "      <th>2016000001_2</th>\n",
       "      <td>2016000001</td>\n",
       "      <td>2016</td>\n",
       "      <td>2016000001</td>\n",
       "      <td>1.454712</td>\n",
       "      <td>1</td>\n",
       "      <td>1.0</td>\n",
       "      <td>3</td>\n",
       "      <td>1</td>\n",
       "      <td>-10</td>\n",
       "      <td>7</td>\n",
       "      <td>...</td>\n",
       "      <td>1.0</td>\n",
       "      <td>-10</td>\n",
       "      <td>-10</td>\n",
       "      <td>-10</td>\n",
       "      <td>-10</td>\n",
       "      <td>1</td>\n",
       "      <td>2</td>\n",
       "      <td>3</td>\n",
       "      <td>1</td>\n",
       "      <td>NaN</td>\n",
       "    </tr>\n",
       "    <tr>\n",
       "      <th>2016000001_1</th>\n",
       "      <td>2016000001</td>\n",
       "      <td>2016</td>\n",
       "      <td>2016000001</td>\n",
       "      <td>1.454712</td>\n",
       "      <td>1</td>\n",
       "      <td>1.0</td>\n",
       "      <td>3</td>\n",
       "      <td>1</td>\n",
       "      <td>-10</td>\n",
       "      <td>7</td>\n",
       "      <td>...</td>\n",
       "      <td>1.0</td>\n",
       "      <td>-10</td>\n",
       "      <td>-10</td>\n",
       "      <td>-10</td>\n",
       "      <td>-10</td>\n",
       "      <td>1</td>\n",
       "      <td>2</td>\n",
       "      <td>3</td>\n",
       "      <td>1</td>\n",
       "      <td>NaN</td>\n",
       "    </tr>\n",
       "    <tr>\n",
       "      <th>2016000001_4</th>\n",
       "      <td>2016000001</td>\n",
       "      <td>2016</td>\n",
       "      <td>2016000001</td>\n",
       "      <td>1.454712</td>\n",
       "      <td>1</td>\n",
       "      <td>1.0</td>\n",
       "      <td>3</td>\n",
       "      <td>1</td>\n",
       "      <td>-10</td>\n",
       "      <td>7</td>\n",
       "      <td>...</td>\n",
       "      <td>1.0</td>\n",
       "      <td>-10</td>\n",
       "      <td>-10</td>\n",
       "      <td>-10</td>\n",
       "      <td>-10</td>\n",
       "      <td>1</td>\n",
       "      <td>2</td>\n",
       "      <td>3</td>\n",
       "      <td>1</td>\n",
       "      <td>NaN</td>\n",
       "    </tr>\n",
       "    <tr>\n",
       "      <th>2016000001_7</th>\n",
       "      <td>2016000001</td>\n",
       "      <td>2016</td>\n",
       "      <td>2016000001</td>\n",
       "      <td>1.454712</td>\n",
       "      <td>1</td>\n",
       "      <td>1.0</td>\n",
       "      <td>3</td>\n",
       "      <td>1</td>\n",
       "      <td>-10</td>\n",
       "      <td>7</td>\n",
       "      <td>...</td>\n",
       "      <td>1.0</td>\n",
       "      <td>-10</td>\n",
       "      <td>-10</td>\n",
       "      <td>-10</td>\n",
       "      <td>-10</td>\n",
       "      <td>1</td>\n",
       "      <td>2</td>\n",
       "      <td>3</td>\n",
       "      <td>1</td>\n",
       "      <td>NaN</td>\n",
       "    </tr>\n",
       "    <tr>\n",
       "      <th>2016000001_5</th>\n",
       "      <td>2016000001</td>\n",
       "      <td>2016</td>\n",
       "      <td>2016000001</td>\n",
       "      <td>1.454712</td>\n",
       "      <td>1</td>\n",
       "      <td>1.0</td>\n",
       "      <td>3</td>\n",
       "      <td>1</td>\n",
       "      <td>-10</td>\n",
       "      <td>7</td>\n",
       "      <td>...</td>\n",
       "      <td>1.0</td>\n",
       "      <td>-10</td>\n",
       "      <td>-10</td>\n",
       "      <td>-10</td>\n",
       "      <td>-10</td>\n",
       "      <td>1</td>\n",
       "      <td>2</td>\n",
       "      <td>3</td>\n",
       "      <td>1</td>\n",
       "      <td>NaN</td>\n",
       "    </tr>\n",
       "  </tbody>\n",
       "</table>\n",
       "<p>5 rows × 33 columns</p>\n",
       "</div>"
      ],
      "text/plain": [
       "              HouseholdID  SurveyYear       PSUID        W2  OutCom_B02ID  \\\n",
       "hid                                                                         \n",
       "2016000001_2   2016000001        2016  2016000001  1.454712             1   \n",
       "2016000001_1   2016000001        2016  2016000001  1.454712             1   \n",
       "2016000001_4   2016000001        2016  2016000001  1.454712             1   \n",
       "2016000001_7   2016000001        2016  2016000001  1.454712             1   \n",
       "2016000001_5   2016000001        2016  2016000001  1.454712             1   \n",
       "\n",
       "              HHIncome2002_B02ID  AddressType_B01ID  Ten1_B02ID  \\\n",
       "hid                                                               \n",
       "2016000001_2                 1.0                  3           1   \n",
       "2016000001_1                 1.0                  3           1   \n",
       "2016000001_4                 1.0                  3           1   \n",
       "2016000001_7                 1.0                  3           1   \n",
       "2016000001_5                 1.0                  3           1   \n",
       "\n",
       "              Landlord_B01ID  ResLength_B01ID  ...  NumCarVan  WalkBus_B01ID  \\\n",
       "hid                                            ...                             \n",
       "2016000001_2             -10                7  ...        1.0            -10   \n",
       "2016000001_1             -10                7  ...        1.0            -10   \n",
       "2016000001_4             -10                7  ...        1.0            -10   \n",
       "2016000001_7             -10                7  ...        1.0            -10   \n",
       "2016000001_5             -10                7  ...        1.0            -10   \n",
       "\n",
       "              Getbus_B01ID  WalkRail_B01ID  WalkRailAlt_B01ID  \\\n",
       "hid                                                             \n",
       "2016000001_2           -10             -10                -10   \n",
       "2016000001_1           -10             -10                -10   \n",
       "2016000001_4           -10             -10                -10   \n",
       "2016000001_7           -10             -10                -10   \n",
       "2016000001_5           -10             -10                -10   \n",
       "\n",
       "              HRPWorkStat_B02ID  HRPSEGWorkStat_B01ID  HHoldOAClass2011_B03ID  \\\n",
       "hid                                                                             \n",
       "2016000001_2                  1                     2                       3   \n",
       "2016000001_1                  1                     2                       3   \n",
       "2016000001_4                  1                     2                       3   \n",
       "2016000001_7                  1                     2                       3   \n",
       "2016000001_5                  1                     2                       3   \n",
       "\n",
       "              Settlement2011EW_B03ID  Settlement2011EW_B04ID  \n",
       "hid                                                           \n",
       "2016000001_2                       1                     NaN  \n",
       "2016000001_1                       1                     NaN  \n",
       "2016000001_4                       1                     NaN  \n",
       "2016000001_7                       1                     NaN  \n",
       "2016000001_5                       1                     NaN  \n",
       "\n",
       "[5 rows x 33 columns]"
      ]
     },
     "execution_count": 23,
     "metadata": {},
     "output_type": "execute_result"
    }
   ],
   "source": [
    "hhs.head()"
   ]
  },
  {
   "cell_type": "code",
   "execution_count": null,
   "metadata": {
    "ExecuteTime": {
     "start_time": "2020-08-04T17:18:35.817Z"
    }
   },
   "outputs": [
    {
     "name": "stdout",
     "output_type": "stream",
     "text": [
      "Building mapping.\n",
      "Trimming target.\n",
      "Building expanded data 10/28994\r"
     ]
    },
    {
     "name": "stderr",
     "output_type": "stream",
     "text": [
      "/Users/fred.shone/.pyenv/versions/jupyter3/lib/python3.7/site-packages/ipykernel_launcher.py:30: SettingWithCopyWarning: \n",
      "A value is trying to be set on a copy of a slice from a DataFrame.\n",
      "Try using .loc[row_indexer,col_indexer] = value instead\n",
      "\n",
      "See the caveats in the documentation: https://pandas.pydata.org/pandas-docs/stable/user_guide/indexing.html#returning-a-view-versus-a-copy\n"
     ]
    },
    {
     "name": "stdout",
     "output_type": "stream",
     "text": [
      "Building expanded data 19080/28994\r"
     ]
    }
   ],
   "source": [
    "people = expand_days(\n",
    "    trips,\n",
    "    persons_in,\n",
    "    trips_on='IndividualID',\n",
    "    target_on='IndividualID',\n",
    "    new_id='pid'\n",
    ")"
   ]
  },
  {
   "cell_type": "code",
   "execution_count": null,
   "metadata": {
    "ExecuteTime": {
     "start_time": "2020-08-04T17:18:35.973Z"
    }
   },
   "outputs": [],
   "source": [
    "people.head()"
   ]
  },
  {
   "cell_type": "markdown",
   "metadata": {},
   "source": [
    "## Build Mappings and apply to common fields"
   ]
  },
  {
   "cell_type": "code",
   "execution_count": null,
   "metadata": {
    "ExecuteTime": {
     "start_time": "2020-08-04T17:23:13.710Z"
    }
   },
   "outputs": [],
   "source": [
    "def string_to_dict(string):\n",
    "    \"\"\"used to build dicts from cut and paste rtf dictionaries\"\"\"\n",
    "    mapping = {}\n",
    "    for line in string.split(\"\\n\"):\n",
    "        _, v, l = line.split(\"\\t\")\n",
    "        v = v.split(\" = \")[1]\n",
    "        l = l.split(\" = \")[1]\n",
    "        mapping[float(v)] = str(l)\n",
    "    return mapping"
   ]
  },
  {
   "cell_type": "code",
   "execution_count": null,
   "metadata": {
    "ExecuteTime": {
     "start_time": "2020-08-04T17:23:15.375Z"
    }
   },
   "outputs": [],
   "source": [
    "mode_mapping = {\n",
    "    1.0: 'Walk',\n",
    "     2.0: 'Bicycle',\n",
    "     3.0: 'Car/van driver',\n",
    "     4.0: 'Car/van passenger',\n",
    "     5.0: 'Motorcycle',\n",
    "     6.0: 'Other private transport',\n",
    "     7.0: 'Bus', #Bus in London',\n",
    "     8.0: 'Bus', #'Other local bus',\n",
    "     9.0: 'Coach', #'Non-local bus',\n",
    "     10.0: 'London Underground',\n",
    "     11.0: 'Surface Rail',\n",
    "     12.0: 'Taxi/minicab',\n",
    "     13.0: 'Other public transport',\n",
    "     -10.0: 'DEAD',\n",
    "     -8.0: 'NA'\n",
    "}"
   ]
  },
  {
   "cell_type": "code",
   "execution_count": null,
   "metadata": {
    "ExecuteTime": {
     "start_time": "2020-08-04T17:48:04.073Z"
    }
   },
   "outputs": [],
   "source": [
    "purp_mapping = {\n",
    "    1.0: 'Work',\n",
    "     2.0: 'In course of work',\n",
    "     3.0: 'Education',\n",
    "     4.0: 'Food shopping',\n",
    "     5.0: 'Non food shopping',\n",
    "     6.0: 'Personal business medical',\n",
    "     7.0: 'Personal business eat/drink',\n",
    "     8.0: 'Personal business other',\n",
    "     9.0: 'Eat/drink with friends',\n",
    "     10.0: 'Visit friends',\n",
    "     11.0: 'Other social',\n",
    "     12.0: 'Entertain/ public activity',\n",
    "     13.0: 'Sport: participate',\n",
    "     14.0: 'Holiday: base',\n",
    "     15.0: 'Day trip/just walk',\n",
    "     16.0: 'Other non-escort',\n",
    "     17.0: 'Escort home',\n",
    "     18.0: 'Escort work',\n",
    "     19.0: 'Escort in course of work',\n",
    "     20.0: 'Escort education',\n",
    "     21.0: 'Escort shopping/personal business',\n",
    "     22.0: 'Other escort',\n",
    "     23.0: 'Home',\n",
    "     -10.0: 'DEAD',\n",
    "     -8.0: 'NA'\n",
    "}"
   ]
  },
  {
   "cell_type": "code",
   "execution_count": null,
   "metadata": {
    "ExecuteTime": {
     "start_time": "2020-08-04T17:48:07.444Z"
    }
   },
   "outputs": [],
   "source": [
    "area_mapping = {\n",
    "    520.0: 'Warwickshire',\n",
    "     530.0: 'West Midlands',\n",
    "     540.0: 'West Sussex',\n",
    "     191.0: 'Derby',\n",
    "     550.0: 'West Yorkshire',\n",
    "     560.0: 'Wiltshire',\n",
    "     561.0: 'Swindon',\n",
    "     601.0: 'Isle of Anglesey',\n",
    "     602.0: 'Gwynedd',\n",
    "     603.0: 'Conwy',\n",
    "     604.0: 'Denbighshire',\n",
    "     605.0: 'Flintshire',\n",
    "     606.0: 'Wrexham',\n",
    "     607.0: 'Powys',\n",
    "     608.0: 'Ceredigion',\n",
    "     609.0: 'Pembrokeshire',\n",
    "     610.0: 'Carmarthenshire',\n",
    "     611.0: 'Swansea',\n",
    "     612.0: 'Neath and Port Talbot',\n",
    "     101.0: 'Bath and N.E. Somerset',\n",
    "     614.0: 'Vale of Glamorgan',\n",
    "     103.0: 'North Somerset',\n",
    "     616.0: 'Rhondda, Cynon, Taff',\n",
    "     617.0: 'Merthyr Tydfil',\n",
    "     618.0: 'Caerphilly',\n",
    "     615.0: 'Cardiff',\n",
    "     620.0: 'Torfaen',\n",
    "     621.0: 'Monmouthshire',\n",
    "     622.0: 'Newport',\n",
    "     111.0: 'Luton',\n",
    "     112.0: 'Bedford',\n",
    "     104.0: 'South Gloucestershire',\n",
    "     190.0: 'Derbyshire',\n",
    "     121.0: 'Bracknell Forest',\n",
    "     122.0: 'Newbury',\n",
    "     123.0: 'Reading',\n",
    "     124.0: 'Slough',\n",
    "     125.0: 'Windsor & Maidenhead',\n",
    "     126.0: 'Wokingham',\n",
    "     130.0: 'Buckinghamshire',\n",
    "     131.0: 'Milton Keynes',\n",
    "     140.0: 'Cambridgeshire',\n",
    "     141.0: 'Peterborough',\n",
    "     151.0: 'Halton',\n",
    "     152.0: 'Warrington',\n",
    "     153.0: 'Cheshire East',\n",
    "     154.0: 'Cheshire West and Chester',\n",
    "     161.0: 'Hartlepool',\n",
    "     162.0: 'Middlesbrough',\n",
    "     163.0: 'Redcar & Cleveland',\n",
    "     164.0: 'Stockton-on-Tees',\n",
    "     113.0: 'Bedfordshire, Central',\n",
    "     170.0: 'Cornwall & Isles of Scilly',\n",
    "     200.0: 'Devon',\n",
    "     180.0: 'Cumbria',\n",
    "     201.0: 'Plymouth',\n",
    "     701.0: 'Aberdeen City',\n",
    "     702.0: 'Aberdeenshire',\n",
    "     703.0: 'Angus',\n",
    "     704.0: 'Argyll and Bute',\n",
    "     705.0: 'Scottish Borders',\n",
    "     706.0: 'Clackmannanshire',\n",
    "     707.0: 'West Dunbartonshire',\n",
    "     708.0: 'Dumfries and Galloway',\n",
    "     709.0: 'Dundee, City of',\n",
    "     710.0: 'East Ayrshire',\n",
    "     711.0: 'East Dunbartonshire',\n",
    "     712.0: 'East Lothian',\n",
    "     713.0: 'East Renfrewshire',\n",
    "     714.0: 'Edinburgh, City of',\n",
    "     715.0: 'Falkirk',\n",
    "     716.0: 'Fife',\n",
    "     717.0: 'Glasgow, City of',\n",
    "     718.0: 'Highland',\n",
    "     719.0: 'Inverclyde',\n",
    "     720.0: 'Midlothian',\n",
    "     721.0: 'Moray',\n",
    "     210.0: 'Dorset',\n",
    "     211.0: 'Bournemouth',\n",
    "     212.0: 'Poole',\n",
    "     725.0: 'Perth and Kinross',\n",
    "     726.0: 'Renfrewshire',\n",
    "     727.0: 'Shetland Islands',\n",
    "     728.0: 'South Ayrshire',\n",
    "     729.0: 'South Lanarkshire',\n",
    "     730.0: 'Stirling',\n",
    "     731.0: 'West Lothian',\n",
    "     732.0: 'Western Isles',\n",
    "     221.0: 'Darlington',\n",
    "     230.0: 'East Sussex',\n",
    "     231.0: 'Brighton and Hove',\n",
    "     722.0: 'North Ayrshire',\n",
    "     240.0: 'Essex - area outside M25',\n",
    "     241.0: 'Southend on Sea',\n",
    "     242.0: 'Thurrock',\n",
    "     723.0: 'North Lanarkshire',\n",
    "     724.0: 'Orkney Islands',\n",
    "     250.0: 'Gloucestershire',\n",
    "     202.0: 'Torbay',\n",
    "     260.0: 'Greater Manchester',\n",
    "     270.0: 'Hampshire',\n",
    "     271.0: 'Portsmouth',\n",
    "     272.0: 'Southampton',\n",
    "     280.0: 'Worcestershire',\n",
    "     281.0: 'Herefordshire',\n",
    "     800.0: 'Inner London - excluding Central London',\n",
    "     290.0: 'Hertfordshire - area outside M25',\n",
    "     220.0: 'Durham',\n",
    "     810.0: 'Essex - area within M25',\n",
    "     301.0: 'East Riding of Yorkshire',\n",
    "     302.0: 'Kingston upon Hull, City of',\n",
    "     303.0: 'North East Lincolnshire',\n",
    "     304.0: 'North Lincolnshire',\n",
    "     820.0: 'Hertfordshire - area within M25',\n",
    "     310.0: 'Isle of Wight',\n",
    "     830.0: 'Kent - area within M25',\n",
    "     320.0: 'Kent - area outside M25',\n",
    "     321.0: 'Medway Towns',\n",
    "     840.0: 'Surrey - area within M25',\n",
    "     330.0: 'Lancashire',\n",
    "     331.0: 'Blackburn with Darwen',\n",
    "     332.0: 'Blackpool',\n",
    "     340.0: 'Leicestershire',\n",
    "     341.0: 'Leicester',\n",
    "     342.0: 'Rutland',\n",
    "     350.0: 'Lincolnshire',\n",
    "     360.0: 'London Central',\n",
    "     370.0: 'Outer London',\n",
    "     380.0: 'Merseyside',\n",
    "     390.0: 'Norfolk',\n",
    "     400.0: 'Northamptonshire',\n",
    "     410.0: 'Northumberland',\n",
    "     420.0: 'North Yorkshire',\n",
    "     421.0: 'York',\n",
    "     430.0: 'Nottinghamshire',\n",
    "     431.0: 'Nottingham',\n",
    "     440.0: 'Oxfordshire',\n",
    "     450.0: 'Shropshire',\n",
    "     451.0: 'The Wrekin',\n",
    "     460.0: 'Somerset',\n",
    "     470.0: 'South Yorkshire',\n",
    "     480.0: 'Staffordshire',\n",
    "     481.0: 'Stoke-on-Trent',\n",
    "     490.0: 'Suffolk',\n",
    "     613.0: 'Bridgend',\n",
    "     619.0: 'Blaenau Gwent',\n",
    "     500.0: 'Surrey - area outside M25',\n",
    "     -10.0: 'DEAD',\n",
    "     -9.0: 'DNA',\n",
    "     -8.0: 'NA',\n",
    "     102.0: 'Bristol, City of',\n",
    "     510.0: 'Tyne and Wear'\n",
    "}"
   ]
  },
  {
   "cell_type": "code",
   "execution_count": null,
   "metadata": {},
   "outputs": [],
   "source": [
    "areas = gp."
   ]
  },
  {
   "cell_type": "code",
   "execution_count": null,
   "metadata": {},
   "outputs": [],
   "source": []
  },
  {
   "cell_type": "code",
   "execution_count": null,
   "metadata": {},
   "outputs": [],
   "source": []
  },
  {
   "cell_type": "code",
   "execution_count": null,
   "metadata": {},
   "outputs": [],
   "source": []
  },
  {
   "cell_type": "code",
   "execution_count": null,
   "metadata": {
    "ExecuteTime": {
     "start_time": "2020-08-04T17:49:05.361Z"
    }
   },
   "outputs": [],
   "source": [
    "trips.columns"
   ]
  },
  {
   "cell_type": "code",
   "execution_count": null,
   "metadata": {},
   "outputs": [],
   "source": [
    "trips['mode'] = trips['mode'].map(mode_mapping)\n",
    "trips['oact'] = trips['opurp'].map(purp_mapping)\n",
    "trips['dact'] = trips['dpurp'].map(purp_mapping)\n"
   ]
  },
  {
   "cell_type": "code",
   "execution_count": null,
   "metadata": {},
   "outputs": [],
   "source": []
  },
  {
   "cell_type": "code",
   "execution_count": null,
   "metadata": {},
   "outputs": [],
   "source": []
  },
  {
   "cell_type": "code",
   "execution_count": null,
   "metadata": {},
   "outputs": [],
   "source": []
  },
  {
   "cell_type": "code",
   "execution_count": null,
   "metadata": {},
   "outputs": [],
   "source": []
  },
  {
   "cell_type": "code",
   "execution_count": null,
   "metadata": {},
   "outputs": [],
   "source": []
  },
  {
   "cell_type": "code",
   "execution_count": null,
   "metadata": {},
   "outputs": [],
   "source": []
  },
  {
   "cell_type": "code",
   "execution_count": null,
   "metadata": {},
   "outputs": [],
   "source": []
  },
  {
   "cell_type": "code",
   "execution_count": null,
   "metadata": {
    "ExecuteTime": {
     "end_time": "2020-08-04T12:38:03.317423Z",
     "start_time": "2020-08-04T12:38:03.286091Z"
    }
   },
   "outputs": [],
   "source": [
    "def remove_broken_plans(plan):\n",
    "    if plan.isnull().values.any():\n",
    "        return None\n",
    "    for col in ['ozone', 'dzone', 'hzone']:\n",
    "        if 'NI' in list(plan[col]):\n",
    "            return None\n",
    "        if 'WRONG FORMAT' in list(plan[col]):\n",
    "            return None\n",
    "    return plan"
   ]
  },
  {
   "cell_type": "code",
   "execution_count": null,
   "metadata": {
    "ExecuteTime": {
     "end_time": "2020-08-04T10:21:51.751979Z",
     "start_time": "2020-08-04T10:21:51.248536Z"
    }
   },
   "outputs": [],
   "source": [
    "hh_ids = set(travel_diaries_in.HouseholdID)\n",
    "len(hh_ids)"
   ]
  },
  {
   "cell_type": "code",
   "execution_count": null,
   "metadata": {
    "ExecuteTime": {
     "end_time": "2020-08-04T10:30:31.752794Z",
     "start_time": "2020-08-04T10:30:31.720368Z"
    }
   },
   "outputs": [],
   "source": [
    "len(hh_ids - set(both_hh_ids))"
   ]
  },
  {
   "cell_type": "code",
   "execution_count": null,
   "metadata": {
    "ExecuteTime": {
     "end_time": "2020-08-04T10:34:46.899482Z",
     "start_time": "2020-08-04T10:34:46.830634Z"
    }
   },
   "outputs": [],
   "source": [
    "travel_diaries_in.loc[travel_diaries_in.HouseholdID == 2002000001]"
   ]
  },
  {
   "cell_type": "code",
   "execution_count": null,
   "metadata": {
    "ExecuteTime": {
     "end_time": "2020-08-04T10:53:33.220173Z",
     "start_time": "2020-08-04T10:53:33.046571Z"
    }
   },
   "outputs": [],
   "source": [
    "travel_diaries_in['participation'] = travel_diaries_in.HouseholdID.map(participation_mapping)"
   ]
  },
  {
   "cell_type": "code",
   "execution_count": null,
   "metadata": {
    "ExecuteTime": {
     "end_time": "2020-08-04T10:53:33.960511Z",
     "start_time": "2020-08-04T10:53:33.230844Z"
    }
   },
   "outputs": [],
   "source": [
    "travel_diaries = travel_diaries_in.loc[travel_diaries_in.participation.isin([1,2])]"
   ]
  },
  {
   "cell_type": "code",
   "execution_count": null,
   "metadata": {
    "ExecuteTime": {
     "end_time": "2020-08-04T10:56:25.145357Z",
     "start_time": "2020-08-04T10:56:25.105440Z"
    }
   },
   "outputs": [],
   "source": [
    "travel_diaries.head()"
   ]
  },
  {
   "cell_type": "code",
   "execution_count": null,
   "metadata": {
    "ExecuteTime": {
     "end_time": "2020-08-04T10:57:14.571948Z",
     "start_time": "2020-08-04T10:57:14.547438Z"
    }
   },
   "outputs": [],
   "source": [
    "len(travel_diaries)"
   ]
  },
  {
   "cell_type": "code",
   "execution_count": null,
   "metadata": {
    "ExecuteTime": {
     "end_time": "2020-08-04T10:57:47.939296Z",
     "start_time": "2020-08-04T10:57:47.896358Z"
    }
   },
   "outputs": [],
   "source": [
    "travel_diaries.loc[travel_diaries.participation == 2].head()"
   ]
  },
  {
   "cell_type": "code",
   "execution_count": null,
   "metadata": {
    "ExecuteTime": {
     "end_time": "2020-08-04T10:58:49.874158Z",
     "start_time": "2020-08-04T10:58:49.791921Z"
    }
   },
   "outputs": [],
   "source": [
    "set(travel_diaries.HouseholdID) - all_hh_ids"
   ]
  },
  {
   "cell_type": "code",
   "execution_count": null,
   "metadata": {},
   "outputs": [],
   "source": []
  },
  {
   "cell_type": "code",
   "execution_count": null,
   "metadata": {},
   "outputs": [],
   "source": []
  },
  {
   "cell_type": "code",
   "execution_count": null,
   "metadata": {
    "ExecuteTime": {
     "end_time": "2020-08-03T16:57:46.466969Z",
     "start_time": "2020-08-03T16:57:46.414727Z"
    }
   },
   "outputs": [],
   "source": [
    "travel_diaries_in.SurveyYear.unique()"
   ]
  },
  {
   "cell_type": "code",
   "execution_count": null,
   "metadata": {
    "ExecuteTime": {
     "end_time": "2020-08-03T17:07:01.583337Z",
     "start_time": "2020-08-03T17:07:01.525756Z"
    }
   },
   "outputs": [],
   "source": [
    "travel_diaries_in.head()"
   ]
  },
  {
   "cell_type": "code",
   "execution_count": null,
   "metadata": {
    "ExecuteTime": {
     "end_time": "2020-06-17T21:04:23.194631Z",
     "start_time": "2020-06-17T21:04:23.078346Z"
    }
   },
   "outputs": [],
   "source": [
    "tds_2017 = travel_diaries_in.loc[travel_diaries_in.SurveyYear == 2017, :]\n",
    "tds_2017.head()"
   ]
  },
  {
   "cell_type": "code",
   "execution_count": null,
   "metadata": {
    "ExecuteTime": {
     "end_time": "2020-06-17T21:04:23.958955Z",
     "start_time": "2020-06-17T21:04:23.786797Z"
    }
   },
   "outputs": [],
   "source": [
    "tds_2017['uid'] = [str(x) + '_' + str(y) for x, y in zip(tds_2017['IndividualID'], tds_2017['DayID'])]"
   ]
  },
  {
   "cell_type": "code",
   "execution_count": null,
   "metadata": {
    "ExecuteTime": {
     "end_time": "2020-06-17T21:04:25.729074Z",
     "start_time": "2020-06-17T21:04:25.682789Z"
    }
   },
   "outputs": [],
   "source": [
    "tds_2017.head(20)"
   ]
  },
  {
   "cell_type": "code",
   "execution_count": null,
   "metadata": {
    "ExecuteTime": {
     "end_time": "2020-06-17T20:10:32.529914Z",
     "start_time": "2020-06-17T20:10:29.333041Z"
    }
   },
   "outputs": [],
   "source": [
    "households_in = pd.read_csv(households_csv, sep='\\t')\n",
    "households_in.head()"
   ]
  },
  {
   "cell_type": "code",
   "execution_count": null,
   "metadata": {
    "ExecuteTime": {
     "end_time": "2020-06-17T20:11:00.124979Z",
     "start_time": "2020-06-17T20:10:42.181225Z"
    }
   },
   "outputs": [],
   "source": [
    "individuals_in = pd.read_csv(individuals_csv, sep='\\t')\n",
    "individuals_in.head()"
   ]
  },
  {
   "cell_type": "code",
   "execution_count": null,
   "metadata": {},
   "outputs": [],
   "source": [
    "travel_diaries_in"
   ]
  },
  {
   "cell_type": "code",
   "execution_count": null,
   "metadata": {
    "ExecuteTime": {
     "end_time": "2020-06-17T20:11:39.520452Z",
     "start_time": "2020-06-17T20:11:39.504004Z"
    }
   },
   "outputs": [],
   "source": [
    "travel_diaries_in.columns"
   ]
  },
  {
   "cell_type": "markdown",
   "metadata": {},
   "source": [
    "\n"
   ]
  },
  {
   "cell_type": "code",
   "execution_count": null,
   "metadata": {
    "ExecuteTime": {
     "end_time": "2020-06-17T21:10:46.038035Z",
     "start_time": "2020-06-17T21:10:45.932762Z"
    }
   },
   "outputs": [],
   "source": [
    "travel_diaries = tds_2017[\n",
    "    [\n",
    "        'uid',\n",
    "        'HouseholdID',\n",
    "        'JourSeq',\n",
    "        'TripPurpFrom_B01ID',\n",
    "        'TripOrigUA2009_B01ID',\n",
    "        'TripDestUA2009_B01ID',\n",
    "        'TripPurpose_B01ID',\n",
    "        'MainMode_B04ID',\n",
    "        'TripStart',\n",
    "        'TripEnd',\n",
    "        'W5'\n",
    "    ]\n",
    "]"
   ]
  },
  {
   "cell_type": "code",
   "execution_count": null,
   "metadata": {
    "ExecuteTime": {
     "end_time": "2020-06-17T21:10:55.426825Z",
     "start_time": "2020-06-17T21:10:55.390769Z"
    }
   },
   "outputs": [],
   "source": [
    "travel_diaries.head(20)"
   ]
  },
  {
   "cell_type": "code",
   "execution_count": null,
   "metadata": {},
   "outputs": [],
   "source": [
    "travel_diaries.groupby('uid')."
   ]
  },
  {
   "cell_type": "code",
   "execution_count": null,
   "metadata": {},
   "outputs": [],
   "source": []
  },
  {
   "cell_type": "code",
   "execution_count": null,
   "metadata": {},
   "outputs": [],
   "source": []
  },
  {
   "cell_type": "code",
   "execution_count": null,
   "metadata": {},
   "outputs": [],
   "source": [
    "travel_diaries.rename(columns={\n",
    "    'HouseholdID': 'hid',\n",
    "    'JourSeq': 'seq',\n",
    "    'HHoldGOR_B02ID' : 'hzone',\n",
    "    'TripPurpose_B02ID' : 'purp', \n",
    "    'MainMode_B03ID' : 'mode',\n",
    "    'TripStart' : 'tst',\n",
    "    'TripEnd' : 'tet'\n",
    "})"
   ]
  },
  {
   "cell_type": "code",
   "execution_count": null,
   "metadata": {},
   "outputs": [],
   "source": []
  },
  {
   "cell_type": "code",
   "execution_count": null,
   "metadata": {},
   "outputs": [],
   "source": []
  }
 ],
 "metadata": {
  "kernelspec": {
   "display_name": "Python 3",
   "language": "python",
   "name": "python3"
  },
  "language_info": {
   "codemirror_mode": {
    "name": "ipython",
    "version": 3
   },
   "file_extension": ".py",
   "mimetype": "text/x-python",
   "name": "python",
   "nbconvert_exporter": "python",
   "pygments_lexer": "ipython3",
   "version": "3.7.3"
  },
  "toc": {
   "base_numbering": 1,
   "nav_menu": {},
   "number_sections": true,
   "sideBar": true,
   "skip_h1_title": true,
   "title_cell": "Table of Contents",
   "title_sidebar": "Contents",
   "toc_cell": false,
   "toc_position": {},
   "toc_section_display": true,
   "toc_window_display": true
  }
 },
 "nbformat": 4,
 "nbformat_minor": 4
}
