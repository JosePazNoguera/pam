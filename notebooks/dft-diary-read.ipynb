{
 "cells": [
  {
   "cell_type": "code",
   "execution_count": null,
   "metadata": {
    "ExecuteTime": {
     "end_time": "2020-08-04T22:55:48.608847Z",
     "start_time": "2020-08-04T22:55:47.974683Z"
    }
   },
   "outputs": [],
   "source": [
    "import pandas as pd\n",
    "import numpy as np\n",
    "import geopandas as gp"
   ]
  },
  {
   "cell_type": "code",
   "execution_count": null,
   "metadata": {
    "ExecuteTime": {
     "end_time": "2020-08-04T22:55:48.631555Z",
     "start_time": "2020-08-04T22:55:48.611416Z"
    }
   },
   "outputs": [],
   "source": [
    "households_csv = '~/Data/UKDA-5340-tab/tab/householdeul2017.tab'\n",
    "individuals_csv = '~/Data/UKDA-5340-tab/tab/individualeul2017.tab'\n",
    "trips_csv ='~/Data/UKDA-5340-tab/tab/tripeul2017.tab'\n",
    "\"https://geoportal.statistics.gov.uk/datasets/counties-and-unitary-authorities-december-2017-full-extent-boundaries-in-uk-wgs84?geometry=-1.922%2C50.793%2C2.379%2C51.397&page=2\"\n",
    "areas_shp = '/Users/fred.shone/Data/UKDA-5340-tab/Counties_and_Unitary_Authorities__December_2017__Boundaries_in_the_UK__WGS84/'"
   ]
  },
  {
   "cell_type": "markdown",
   "metadata": {
    "ExecuteTime": {
     "end_time": "2020-08-03T17:13:00.123065Z",
     "start_time": "2020-08-03T17:13:00.093023Z"
    }
   },
   "source": [
    "## Load households data"
   ]
  },
  {
   "cell_type": "code",
   "execution_count": null,
   "metadata": {
    "ExecuteTime": {
     "end_time": "2020-08-04T22:55:50.550247Z",
     "start_time": "2020-08-04T22:55:49.384351Z"
    }
   },
   "outputs": [],
   "source": [
    "hh_in = pd.read_csv(\n",
    "    households_csv,\n",
    "    sep='\\t',\n",
    "    usecols=['HouseholdID', 'SurveyYear', 'PSUID', 'W2', 'OutCom_B02ID',\n",
    "       'HHIncome2002_B02ID', 'AddressType_B01ID', 'Ten1_B02ID',\n",
    "       'Landlord_B01ID', 'ResLength_B01ID', 'HHoldCountry_B01ID',\n",
    "       'HHoldGOR_B02ID', 'HHoldNumAdults', 'HHoldNumChildren',\n",
    "       'HHoldNumPeople', 'HHoldStruct_B02ID', 'NumLicHolders',\n",
    "       'HHoldEmploy_B01ID', 'NumVehicles', 'NumBike', 'NumCar', 'NumMCycle',\n",
    "       'NumVanLorry', 'NumCarVan', 'WalkBus_B01ID', 'Getbus_B01ID',\n",
    "       'WalkRail_B01ID', 'WalkRailAlt_B01ID',\n",
    "       'HRPWorkStat_B02ID', 'HRPSEGWorkStat_B01ID', 'HHoldOAClass2011_B03ID',\n",
    "       'Settlement2011EW_B03ID', 'Settlement2011EW_B04ID'],\n",
    ")\n",
    "\n",
    "hh_in.HHIncome2002_B02ID = pd.to_numeric(hh_in.HHIncome2002_B02ID, errors='coerce')\n",
    "hh_in.NumLicHolders = pd.to_numeric(hh_in.NumLicHolders, errors='coerce')\n",
    "hh_in.NumVehicles = pd.to_numeric(hh_in.NumVehicles, errors='coerce')\n",
    "hh_in.NumCar = pd.to_numeric(hh_in.NumCar, errors='coerce')\n",
    "hh_in.NumMCycle = pd.to_numeric(hh_in.NumMCycle, errors='coerce')\n",
    "hh_in.NumVanLorry = pd.to_numeric(hh_in.NumVanLorry, errors='coerce')\n",
    "hh_in.NumCarVan = pd.to_numeric(hh_in.NumCarVan, errors='coerce')\n",
    "hh_in.Settlement2011EW_B04ID = pd.to_numeric(hh_in.Settlement2011EW_B04ID, errors='coerce')\n",
    "\n",
    "hh_in.head()"
   ]
  },
  {
   "cell_type": "code",
   "execution_count": null,
   "metadata": {
    "ExecuteTime": {
     "end_time": "2020-08-04T22:55:57.187769Z",
     "start_time": "2020-08-04T22:55:57.097567Z"
    }
   },
   "outputs": [],
   "source": [
    "participation_mapping = dict(zip(hh_in.HouseholdID, hh_in.OutCom_B02ID))\n",
    "weight_mapping = dict(zip(hh_in.HouseholdID, hh_in.W2))"
   ]
  },
  {
   "cell_type": "markdown",
   "metadata": {
    "ExecuteTime": {
     "end_time": "2020-08-04T10:49:47.862682Z",
     "start_time": "2020-08-04T10:49:47.799479Z"
    }
   },
   "source": [
    "## Load person data"
   ]
  },
  {
   "cell_type": "code",
   "execution_count": null,
   "metadata": {
    "ExecuteTime": {
     "end_time": "2020-08-04T22:56:01.842922Z",
     "start_time": "2020-08-04T22:55:58.785783Z"
    }
   },
   "outputs": [],
   "source": [
    "persons_in = pd.read_csv(\n",
    "    individuals_csv,\n",
    "    sep='\\t',\n",
    "    usecols=['SurveyYear', 'IndividualID', 'HouseholdID', 'PSUID', 'VehicleID',\n",
    "       'PersNo', 'Age_B01ID', 'OfPenAge_B01ID', 'Sex_B01ID', 'EdAttn1_B01ID',\n",
    "       'EdAttn2_B01ID', 'EdAttn3_B01ID', 'DrivLic_B02ID', 'CarAccess_B01ID',\n",
    "       'DrivDisable_B01ID', 'WkPlace_B01ID', 'ES2000_B01ID', 'NSSec_B03ID',\n",
    "       'SC_B01ID', 'Stat_B01ID', 'SVise_B01ID', 'EcoStat_B02ID',\n",
    "       'PossHom_B01ID']\n",
    ")\n",
    "persons_in.head()"
   ]
  },
  {
   "cell_type": "markdown",
   "metadata": {},
   "source": [
    "## load trip data\n",
    "Pos. = 1\tVariable = TripID\tVariable label = Trip unique ID - Created in SQL\n",
    "This variable is  numeric, the SPSS measurement level is SCALE\n",
    "\tValue label information for TripID\n",
    "\n",
    "Pos. = 2\tVariable = SurveyYear\tVariable label = Survey year - actual year\n",
    "This variable is  numeric, the SPSS measurement level is SCALE\n",
    "\tValue label information for SurveyYear\n",
    "\n",
    "Pos. = 3\tVariable = DayID\tVariable label = ID given to all trips made by an individual on a given travel day - Created in SQL\n",
    "This variable is  numeric, the SPSS measurement level is SCALE\n",
    "\tValue label information for DayID\n",
    "\n",
    "Pos. = 4\tVariable = IndividualID\tVariable label = Individual unique ID - Created in SQL\n",
    "This variable is  numeric, the SPSS measurement level is SCALE\n",
    "\tValue label information for IndividualID\n",
    "\n",
    "Pos. = 5\tVariable = HouseholdID\tVariable label = Household unique ID - Created in SQL\n",
    "This variable is  numeric, the SPSS measurement level is SCALE\n",
    "\tValue label information for HouseholdID\n",
    "\n",
    "Pos. = 6\tVariable = PSUID\tVariable label = PSU unique ID - Created in SQL\n",
    "This variable is  numeric, the SPSS measurement level is SCALE\n",
    "\tValue label information for PSUID\n",
    "\n",
    "Pos. = 7\tVariable = PersNo\tVariable label = Person number within the household\n",
    "This variable is  numeric, the SPSS measurement level is SCALE\n",
    "\tValue label information for PersNo\n",
    "\n",
    "Pos. = 8\tVariable = TravDay\tVariable label = Day of the travel week (1-7)\n",
    "This variable is  numeric, the SPSS measurement level is SCALE\n",
    "\tValue label information for TravDay\n",
    "\n",
    "Pos. = 9\tVariable = JourSeq\tVariable label = Journey number on a given travel day\n",
    "This variable is  numeric, the SPSS measurement level is SCALE\n",
    "\tValue label information for JourSeq\n"
   ]
  },
  {
   "cell_type": "code",
   "execution_count": null,
   "metadata": {
    "ExecuteTime": {
     "end_time": "2020-08-04T22:58:36.993466Z",
     "start_time": "2020-08-04T22:58:24.750673Z"
    }
   },
   "outputs": [],
   "source": [
    "travel_diaries_in = pd.read_csv(\n",
    "    trips_csv,\n",
    "    sep='\\t',\n",
    "    usecols=['TripID', 'SurveyYear', 'DayID', 'IndividualID', 'HouseholdID', 'PSUID',\n",
    "       'PersNo', 'TravDay', 'JourSeq', 'ShortWalkTrip_B01ID', 'NumStages',\n",
    "       'MainMode_B04ID', 'TripPurpFrom_B01ID',\n",
    "        'TripPurpTo_B01ID', 'TripPurpose_B04ID',\n",
    "       'TripStart', 'TripEnd', 'TripOrigUA2009_B01ID', 'TripDestUA2009_B01ID'],\n",
    "#     dtype={\"W5\": np.float64,}\n",
    ")\n",
    "\n",
    "travel_diaries_in.TripStart = pd.to_numeric(travel_diaries_in.TripStart, errors='coerce')\n",
    "travel_diaries_in.TripEnd = pd.to_numeric(travel_diaries_in.TripEnd, errors='coerce')\n",
    "\n",
    "travel_diaries_in.head()"
   ]
  },
  {
   "cell_type": "code",
   "execution_count": null,
   "metadata": {
    "ExecuteTime": {
     "end_time": "2020-08-04T22:58:37.346730Z",
     "start_time": "2020-08-04T22:58:36.999322Z"
    }
   },
   "outputs": [],
   "source": [
    "travel_diaries_in['participation'] = travel_diaries_in.HouseholdID.map(participation_mapping)\n",
    "travel_diaries_in['hh_weight'] = travel_diaries_in.HouseholdID.map(weight_mapping)"
   ]
  },
  {
   "cell_type": "code",
   "execution_count": null,
   "metadata": {
    "ExecuteTime": {
     "end_time": "2020-08-04T22:58:38.267301Z",
     "start_time": "2020-08-04T22:58:37.350043Z"
    }
   },
   "outputs": [],
   "source": [
    "travel_diaries = travel_diaries_in.loc[travel_diaries_in.participation.isin([1,2])]"
   ]
  },
  {
   "cell_type": "markdown",
   "metadata": {},
   "source": [
    "## PAM schema\n",
    "    pid - person ID\n",
    "    hid - household ID\n",
    "    seq - trip sequence number\n",
    "    hzone - household zone\n",
    "    ozone - trip origin zone\n",
    "    dzone - trip destination zone\n",
    "    purp - trip purpose\n",
    "    mode - trip mode\n",
    "    tst - trip start time (minutes)\n",
    "    tet - trip end time (minutes)\n",
    "    freq - weighting for representative population"
   ]
  },
  {
   "cell_type": "code",
   "execution_count": null,
   "metadata": {
    "ExecuteTime": {
     "end_time": "2020-08-04T22:58:39.086099Z",
     "start_time": "2020-08-04T22:58:38.998315Z"
    }
   },
   "outputs": [],
   "source": [
    "travel_diaries.rename(\n",
    "    columns={  # rename data\n",
    "        'JourSeq': 'seq',\n",
    "        'TripOrigUA2009_B01ID': 'ozone',\n",
    "        'TripDestUA2009_B01ID': 'dzone',\n",
    "        'TripPurpFrom_B01ID': 'oact',\n",
    "        'TripPurpTo_B01ID': 'dact',\n",
    "        'MainMode_B04ID': 'mode',\n",
    "        'TripStart': 'tst',\n",
    "        'TripEnd': 'tet',\n",
    "    },\n",
    "                inplace=True)\n",
    "\n",
    "travel_diaries.head()"
   ]
  },
  {
   "cell_type": "code",
   "execution_count": null,
   "metadata": {
    "ExecuteTime": {
     "end_time": "2020-08-04T22:58:43.592618Z",
     "start_time": "2020-08-04T22:58:43.566729Z"
    }
   },
   "outputs": [],
   "source": [
    "travel_diaries.dtypes"
   ]
  },
  {
   "cell_type": "code",
   "execution_count": null,
   "metadata": {
    "ExecuteTime": {
     "end_time": "2020-08-04T22:58:44.712716Z",
     "start_time": "2020-08-04T22:58:44.689562Z"
    }
   },
   "outputs": [],
   "source": [
    "def check_uniques(df):\n",
    "    for c in df.columns:\n",
    "        print(c)\n",
    "        n = df[c].nunique()\n",
    "        if n < 1000:\n",
    "            print(df[c].unique())"
   ]
  },
  {
   "cell_type": "code",
   "execution_count": null,
   "metadata": {
    "ExecuteTime": {
     "end_time": "2020-08-04T22:58:47.526939Z",
     "start_time": "2020-08-04T22:58:47.394855Z"
    }
   },
   "outputs": [],
   "source": [
    "check_uniques(travel_diaries)"
   ]
  },
  {
   "cell_type": "code",
   "execution_count": null,
   "metadata": {},
   "outputs": [],
   "source": []
  },
  {
   "cell_type": "markdown",
   "metadata": {},
   "source": [
    "## Clean out incomplete plans"
   ]
  },
  {
   "cell_type": "code",
   "execution_count": null,
   "metadata": {
    "ExecuteTime": {
     "end_time": "2020-08-04T22:58:49.900489Z",
     "start_time": "2020-08-04T22:58:49.877660Z"
    }
   },
   "outputs": [],
   "source": [
    "def remove_broken_plans(plan):\n",
    "    if plan.isnull().values.any():\n",
    "        return None\n",
    "    for col in ['ozone', 'dzone']:\n",
    "        if -8 in list(plan[col]):\n",
    "            return None\n",
    "    return plan"
   ]
  },
  {
   "cell_type": "code",
   "execution_count": null,
   "metadata": {
    "ExecuteTime": {
     "end_time": "2020-08-04T23:01:40.228975Z",
     "start_time": "2020-08-04T22:58:50.405361Z"
    }
   },
   "outputs": [],
   "source": [
    "clean_travel_diaries = travel_diaries.groupby(\n",
    "    ['IndividualID', 'TravDay']\n",
    ").apply(\n",
    "    remove_broken_plans\n",
    ").reset_index(drop=True)"
   ]
  },
  {
   "cell_type": "code",
   "execution_count": null,
   "metadata": {
    "ExecuteTime": {
     "end_time": "2020-08-04T23:01:40.270520Z",
     "start_time": "2020-08-04T23:01:40.231586Z"
    }
   },
   "outputs": [],
   "source": [
    "clean_travel_diaries.head()"
   ]
  },
  {
   "cell_type": "code",
   "execution_count": null,
   "metadata": {
    "ExecuteTime": {
     "end_time": "2020-08-04T23:01:40.299470Z",
     "start_time": "2020-08-04T23:01:40.276487Z"
    }
   },
   "outputs": [],
   "source": [
    "print(len(travel_diaries))\n",
    "print(len(clean_travel_diaries))"
   ]
  },
  {
   "cell_type": "markdown",
   "metadata": {},
   "source": [
    "## Reweight and Split Days"
   ]
  },
  {
   "cell_type": "code",
   "execution_count": null,
   "metadata": {
    "ExecuteTime": {
     "end_time": "2020-08-04T23:02:27.808553Z",
     "start_time": "2020-08-04T23:01:40.303487Z"
    }
   },
   "outputs": [],
   "source": [
    "# reweight and split ids for unique days\n",
    "\n",
    "def reweight(group):\n",
    "    \"\"\"\n",
    "    Reweight based on multiple diary days, ie if an agent has two diary days, we will treat these as\n",
    "    two unique agents, so we half the original weighting\n",
    "    \"\"\"\n",
    "    group['freq'] = group.hh_weight / group.DayID.nunique()\n",
    "    return group\n",
    "\n",
    "trips = clean_travel_diaries.groupby('IndividualID').apply(reweight)\n",
    "trips['pid'] = [f\"{p}_{d}\" for p, d in zip(trips.IndividualID, trips.TravDay)]\n",
    "trips['hid'] = [f\"{h}_{d}\" for h, d in zip(trips.HouseholdID, trips.TravDay)]"
   ]
  },
  {
   "cell_type": "code",
   "execution_count": null,
   "metadata": {
    "ExecuteTime": {
     "end_time": "2020-08-04T23:02:27.852039Z",
     "start_time": "2020-08-04T23:02:27.810917Z"
    }
   },
   "outputs": [],
   "source": [
    "trips.head()"
   ]
  },
  {
   "cell_type": "code",
   "execution_count": null,
   "metadata": {
    "ExecuteTime": {
     "end_time": "2020-08-04T23:02:27.887543Z",
     "start_time": "2020-08-04T23:02:27.856406Z"
    }
   },
   "outputs": [],
   "source": [
    "def expand_days(\n",
    "    trips,\n",
    "    target,\n",
    "    trips_on='Diary_number',\n",
    "    target_on='Diary_number',\n",
    "    new_id='pid',\n",
    "    trim=True\n",
    "):\n",
    "    \"\"\"\n",
    "    Expand target df based on mapping between trips traget_on and new_id.\n",
    "    Set index to new_id.\n",
    "    \"\"\"\n",
    "    print(\"Building mapping.\")\n",
    "    mapping = {}\n",
    "    for i, person in trips.groupby(target_on):\n",
    "        mapping[i] = list(set(person[new_id]))\n",
    "    n = len(mapping)\n",
    "    \n",
    "    if trim:\n",
    "        print(\"Trimming target.\")\n",
    "        selection = set(trips[trips_on])\n",
    "        target = target.loc[target[target_on].isin(selection)]\n",
    "    \n",
    "    expanded = pd.DataFrame()\n",
    "    for p, (i, ids) in enumerate(mapping.items()):\n",
    "        if not p % 10:\n",
    "            print(f\"Building expanded data {p}/{n}\", end='\\r', flush=True)\n",
    "        for idx in ids:\n",
    "            split = target.loc[target[target_on] == i]\n",
    "            split[new_id] = idx\n",
    "            expanded = expanded.append(split)\n",
    "    expanded.set_index(new_id, inplace=True)\n",
    "    print(f\"Done\")\n",
    "    return expanded"
   ]
  },
  {
   "cell_type": "code",
   "execution_count": null,
   "metadata": {
    "ExecuteTime": {
     "end_time": "2020-08-04T23:17:16.939926Z",
     "start_time": "2020-08-04T23:02:27.889882Z"
    }
   },
   "outputs": [],
   "source": [
    "hhs = expand_days(\n",
    "    trips,\n",
    "    hh_in,\n",
    "    trips_on='HouseholdID',\n",
    "    target_on='HouseholdID',\n",
    "    new_id='hid'\n",
    ")"
   ]
  },
  {
   "cell_type": "code",
   "execution_count": null,
   "metadata": {
    "ExecuteTime": {
     "end_time": "2020-08-04T23:17:16.987199Z",
     "start_time": "2020-08-04T23:17:16.945506Z"
    }
   },
   "outputs": [],
   "source": [
    "hhs.head()"
   ]
  },
  {
   "cell_type": "code",
   "execution_count": null,
   "metadata": {
    "ExecuteTime": {
     "end_time": "2020-08-05T00:05:10.916338Z",
     "start_time": "2020-08-04T23:17:16.991982Z"
    }
   },
   "outputs": [],
   "source": [
    "people = expand_days(\n",
    "    trips,\n",
    "    persons_in,\n",
    "    trips_on='IndividualID',\n",
    "    target_on='IndividualID',\n",
    "    new_id='pid'\n",
    ")"
   ]
  },
  {
   "cell_type": "code",
   "execution_count": null,
   "metadata": {
    "ExecuteTime": {
     "end_time": "2020-08-05T00:05:10.952780Z",
     "start_time": "2020-08-05T00:05:10.918895Z"
    }
   },
   "outputs": [],
   "source": [
    "people.head()"
   ]
  },
  {
   "cell_type": "markdown",
   "metadata": {},
   "source": [
    "## Build Mappings and apply to common fields"
   ]
  },
  {
   "cell_type": "code",
   "execution_count": null,
   "metadata": {
    "ExecuteTime": {
     "end_time": "2020-08-05T00:05:10.978315Z",
     "start_time": "2020-08-05T00:05:10.956311Z"
    }
   },
   "outputs": [],
   "source": [
    "def string_to_dict(string):\n",
    "    \"\"\"used to build dicts from cut and paste rtf dictionaries\"\"\"\n",
    "    mapping = {}\n",
    "    for line in string.split(\"\\n\"):\n",
    "        _, v, l = line.split(\"\\t\")\n",
    "        v = v.split(\" = \")[1]\n",
    "        l = l.split(\" = \")[1]\n",
    "        mapping[float(v)] = str(l)\n",
    "    return mapping"
   ]
  },
  {
   "cell_type": "code",
   "execution_count": null,
   "metadata": {},
   "outputs": [],
   "source": []
  },
  {
   "cell_type": "code",
   "execution_count": null,
   "metadata": {
    "ExecuteTime": {
     "end_time": "2020-08-05T00:05:11.002214Z",
     "start_time": "2020-08-05T00:05:10.980896Z"
    }
   },
   "outputs": [],
   "source": [
    "mode_mapping = {\n",
    "    1: 'Walk',\n",
    "     2: 'Bicycle',\n",
    "     3: 'Car/van driver',\n",
    "     4: 'Car/van passenger',\n",
    "     5: 'Motorcycle',\n",
    "     6: 'Other private transport',\n",
    "     7: 'Bus', #Bus in London',\n",
    "     8: 'Bus', #'Other local bus',\n",
    "     9: 'Coach', #'Non-local bus',\n",
    "     10: 'London Underground',\n",
    "     11: 'Surface Rail',\n",
    "     12: 'Taxi/minicab',\n",
    "     13: 'Other public transport',\n",
    "     -10: 'DEAD',\n",
    "     -8: 'NA'\n",
    "}"
   ]
  },
  {
   "cell_type": "code",
   "execution_count": null,
   "metadata": {
    "ExecuteTime": {
     "end_time": "2020-08-05T00:05:11.028002Z",
     "start_time": "2020-08-05T00:05:11.004469Z"
    }
   },
   "outputs": [],
   "source": [
    "purp_mapping = {\n",
    "    1: 'Work',\n",
    "     2: 'In course of work',\n",
    "     3: 'Education',\n",
    "     4: 'Food shopping',\n",
    "     5: 'Non food shopping',\n",
    "     6: 'Personal business medical',\n",
    "     7: 'Personal business eat/drink',\n",
    "     8: 'Personal business other',\n",
    "     9: 'Eat/drink with friends',\n",
    "     10: 'Visit friends',\n",
    "     11: 'Other social',\n",
    "     12: 'Entertain/ public activity',\n",
    "     13: 'Sport: participate',\n",
    "     14: 'Holiday: base',\n",
    "     15: 'Day trip/just walk',\n",
    "     16: 'Other non-escort',\n",
    "     17: 'Escort home',\n",
    "     18: 'Escort work',\n",
    "     19: 'Escort in course of work',\n",
    "     20: 'Escort education',\n",
    "     21: 'Escort shopping/personal business',\n",
    "     22: 'Other escort',\n",
    "     23: 'Home',\n",
    "     -10: 'DEAD',\n",
    "     -8: 'NA'\n",
    "}"
   ]
  },
  {
   "cell_type": "code",
   "execution_count": null,
   "metadata": {
    "ExecuteTime": {
     "end_time": "2020-08-05T00:05:11.125593Z",
     "start_time": "2020-08-05T00:05:11.030231Z"
    }
   },
   "outputs": [],
   "source": [
    "trips['mode'] = trips['mode'].map(mode_mapping)\n",
    "trips['oact'] = trips['oact'].map(purp_mapping)\n",
    "trips['dact'] = trips['dact'].map(purp_mapping)"
   ]
  },
  {
   "cell_type": "markdown",
   "metadata": {},
   "source": [
    "## Area Mapping - NOT WORKING"
   ]
  },
  {
   "cell_type": "code",
   "execution_count": null,
   "metadata": {
    "ExecuteTime": {
     "end_time": "2020-08-05T00:05:11.157346Z",
     "start_time": "2020-08-05T00:05:11.127772Z"
    }
   },
   "outputs": [],
   "source": [
    "area_mapping = {\n",
    "    520.0: 'Warwickshire',\n",
    "     530.0: 'West Midlands',\n",
    "     540.0: 'West Sussex',\n",
    "     191.0: 'Derby',\n",
    "     550.0: 'West Yorkshire',\n",
    "     560.0: 'Wiltshire',\n",
    "     561.0: 'Swindon',\n",
    "     601.0: 'Isle of Anglesey',\n",
    "     602.0: 'Gwynedd',\n",
    "     603.0: 'Conwy',\n",
    "     604.0: 'Denbighshire',\n",
    "     605.0: 'Flintshire',\n",
    "     606.0: 'Wrexham',\n",
    "     607.0: 'Powys',\n",
    "     608.0: 'Ceredigion',\n",
    "     609.0: 'Pembrokeshire',\n",
    "     610.0: 'Carmarthenshire',\n",
    "     611.0: 'Swansea',\n",
    "     612.0: 'Neath and Port Talbot',\n",
    "     101.0: 'Bath and N.E. Somerset',\n",
    "     614.0: 'Vale of Glamorgan',\n",
    "     103.0: 'North Somerset',\n",
    "     616.0: 'Rhondda, Cynon, Taff',\n",
    "     617.0: 'Merthyr Tydfil',\n",
    "     618.0: 'Caerphilly',\n",
    "     615.0: 'Cardiff',\n",
    "     620.0: 'Torfaen',\n",
    "     621.0: 'Monmouthshire',\n",
    "     622.0: 'Newport',\n",
    "     111.0: 'Luton',\n",
    "     112.0: 'Bedford',\n",
    "     104.0: 'South Gloucestershire',\n",
    "     190.0: 'Derbyshire',\n",
    "     121.0: 'Bracknell Forest',\n",
    "     122.0: 'Newbury',\n",
    "     123.0: 'Reading',\n",
    "     124.0: 'Slough',\n",
    "     125.0: 'Windsor & Maidenhead',\n",
    "     126.0: 'Wokingham',\n",
    "     130.0: 'Buckinghamshire',\n",
    "     131.0: 'Milton Keynes',\n",
    "     140.0: 'Cambridgeshire',\n",
    "     141.0: 'Peterborough',\n",
    "     151.0: 'Halton',\n",
    "     152.0: 'Warrington',\n",
    "     153.0: 'Cheshire East',\n",
    "     154.0: 'Cheshire West and Chester',\n",
    "     161.0: 'Hartlepool',\n",
    "     162.0: 'Middlesbrough',\n",
    "     163.0: 'Redcar & Cleveland',\n",
    "     164.0: 'Stockton-on-Tees',\n",
    "     113.0: 'Bedfordshire, Central',\n",
    "     170.0: 'Cornwall & Isles of Scilly',\n",
    "     200.0: 'Devon',\n",
    "     180.0: 'Cumbria',\n",
    "     201.0: 'Plymouth',\n",
    "     701.0: 'Aberdeen City',\n",
    "     702.0: 'Aberdeenshire',\n",
    "     703.0: 'Angus',\n",
    "     704.0: 'Argyll and Bute',\n",
    "     705.0: 'Scottish Borders',\n",
    "     706.0: 'Clackmannanshire',\n",
    "     707.0: 'West Dunbartonshire',\n",
    "     708.0: 'Dumfries and Galloway',\n",
    "     709.0: 'Dundee, City of',\n",
    "     710.0: 'East Ayrshire',\n",
    "     711.0: 'East Dunbartonshire',\n",
    "     712.0: 'East Lothian',\n",
    "     713.0: 'East Renfrewshire',\n",
    "     714.0: 'Edinburgh, City of',\n",
    "     715.0: 'Falkirk',\n",
    "     716.0: 'Fife',\n",
    "     717.0: 'Glasgow, City of',\n",
    "     718.0: 'Highland',\n",
    "     719.0: 'Inverclyde',\n",
    "     720.0: 'Midlothian',\n",
    "     721.0: 'Moray',\n",
    "     210.0: 'Dorset',\n",
    "     211.0: 'Bournemouth',\n",
    "     212.0: 'Poole',\n",
    "     725.0: 'Perth and Kinross',\n",
    "     726.0: 'Renfrewshire',\n",
    "     727.0: 'Shetland Islands',\n",
    "     728.0: 'South Ayrshire',\n",
    "     729.0: 'South Lanarkshire',\n",
    "     730.0: 'Stirling',\n",
    "     731.0: 'West Lothian',\n",
    "     732.0: 'Western Isles',\n",
    "     221.0: 'Darlington',\n",
    "     230.0: 'East Sussex',\n",
    "     231.0: 'Brighton and Hove',\n",
    "     722.0: 'North Ayrshire',\n",
    "     240.0: 'Essex - area outside M25',\n",
    "     241.0: 'Southend on Sea',\n",
    "     242.0: 'Thurrock',\n",
    "     723.0: 'North Lanarkshire',\n",
    "     724.0: 'Orkney Islands',\n",
    "     250.0: 'Gloucestershire',\n",
    "     202.0: 'Torbay',\n",
    "     260.0: 'Greater Manchester',\n",
    "     270.0: 'Hampshire',\n",
    "     271.0: 'Portsmouth',\n",
    "     272.0: 'Southampton',\n",
    "     280.0: 'Worcestershire',\n",
    "     281.0: 'Herefordshire',\n",
    "     800.0: 'Inner London - excluding Central London',\n",
    "     290.0: 'Hertfordshire - area outside M25',\n",
    "     220.0: 'Durham',\n",
    "     810.0: 'Essex - area within M25',\n",
    "     301.0: 'East Riding of Yorkshire',\n",
    "     302.0: 'Kingston upon Hull, City of',\n",
    "     303.0: 'North East Lincolnshire',\n",
    "     304.0: 'North Lincolnshire',\n",
    "     820.0: 'Hertfordshire - area within M25',\n",
    "     310.0: 'Isle of Wight',\n",
    "     830.0: 'Kent - area within M25',\n",
    "     320.0: 'Kent - area outside M25',\n",
    "     321.0: 'Medway Towns',\n",
    "     840.0: 'Surrey - area within M25',\n",
    "     330.0: 'Lancashire',\n",
    "     331.0: 'Blackburn with Darwen',\n",
    "     332.0: 'Blackpool',\n",
    "     340.0: 'Leicestershire',\n",
    "     341.0: 'Leicester',\n",
    "     342.0: 'Rutland',\n",
    "     350.0: 'Lincolnshire',\n",
    "     360.0: 'London Central',\n",
    "     370.0: 'Outer London',\n",
    "     380.0: 'Merseyside',\n",
    "     390.0: 'Norfolk',\n",
    "     400.0: 'Northamptonshire',\n",
    "     410.0: 'Northumberland',\n",
    "     420.0: 'North Yorkshire',\n",
    "     421.0: 'York',\n",
    "     430.0: 'Nottinghamshire',\n",
    "     431.0: 'Nottingham',\n",
    "     440.0: 'Oxfordshire',\n",
    "     450.0: 'Shropshire',\n",
    "     451.0: 'The Wrekin',\n",
    "     460.0: 'Somerset',\n",
    "     470.0: 'South Yorkshire',\n",
    "     480.0: 'Staffordshire',\n",
    "     481.0: 'Stoke-on-Trent',\n",
    "     490.0: 'Suffolk',\n",
    "     613.0: 'Bridgend',\n",
    "     619.0: 'Blaenau Gwent',\n",
    "     500.0: 'Surrey - area outside M25',\n",
    "     -10.0: 'DEAD',\n",
    "     -9.0: 'DNA',\n",
    "     -8.0: 'NA',\n",
    "     102.0: 'Bristol, City of',\n",
    "     510.0: 'Tyne and Wear'\n",
    "}"
   ]
  },
  {
   "cell_type": "code",
   "execution_count": null,
   "metadata": {
    "ExecuteTime": {
     "end_time": "2020-08-05T00:05:11.177607Z",
     "start_time": "2020-08-05T00:05:11.159911Z"
    }
   },
   "outputs": [],
   "source": [
    "# areas = gp.read_file(areas_shp)\n",
    "# areas.head()"
   ]
  },
  {
   "cell_type": "code",
   "execution_count": null,
   "metadata": {
    "ExecuteTime": {
     "end_time": "2020-08-05T00:05:11.197370Z",
     "start_time": "2020-08-05T00:05:11.179912Z"
    }
   },
   "outputs": [],
   "source": [
    "# area_code_mapping = dict(zip(areas.ctyua17nm, areas.ctyua17cd))"
   ]
  },
  {
   "cell_type": "code",
   "execution_count": null,
   "metadata": {
    "ExecuteTime": {
     "end_time": "2020-08-05T00:05:11.218290Z",
     "start_time": "2020-08-05T00:05:11.200286Z"
    }
   },
   "outputs": [],
   "source": [
    "# code_mapping = {k: area_code_mapping[v] for k, v in area_mapping.items()}"
   ]
  },
  {
   "cell_type": "code",
   "execution_count": null,
   "metadata": {
    "ExecuteTime": {
     "end_time": "2020-08-05T00:05:11.238566Z",
     "start_time": "2020-08-05T00:05:11.220251Z"
    }
   },
   "outputs": [],
   "source": [
    "# trips.rename(columns={  # rename data\n",
    "#     'opurp': 'oact',\n",
    "#     'dpurp': 'dact',\n",
    "# },\n",
    "#             inplace=True)"
   ]
  },
  {
   "cell_type": "code",
   "execution_count": null,
   "metadata": {
    "ExecuteTime": {
     "end_time": "2020-08-04T21:14:43.963719Z",
     "start_time": "2020-08-04T21:14:43.859416Z"
    }
   },
   "outputs": [],
   "source": []
  },
  {
   "cell_type": "code",
   "execution_count": null,
   "metadata": {
    "ExecuteTime": {
     "end_time": "2020-08-05T00:05:11.274331Z",
     "start_time": "2020-08-05T00:05:11.240588Z"
    }
   },
   "outputs": [],
   "source": [
    "trips.head()"
   ]
  },
  {
   "cell_type": "code",
   "execution_count": null,
   "metadata": {
    "ExecuteTime": {
     "end_time": "2020-08-05T07:19:07.788716Z",
     "start_time": "2020-08-05T07:19:07.700073Z"
    }
   },
   "outputs": [],
   "source": [
    "trips.loc[trips.pid == '2016000001_1']"
   ]
  },
  {
   "cell_type": "code",
   "execution_count": null,
   "metadata": {},
   "outputs": [],
   "source": []
  },
  {
   "cell_type": "markdown",
   "metadata": {},
   "source": [
    "## Load into PAM"
   ]
  },
  {
   "cell_type": "code",
   "execution_count": null,
   "metadata": {
    "ExecuteTime": {
     "end_time": "2020-08-05T07:22:08.201645Z",
     "start_time": "2020-08-05T07:22:08.169750Z"
    }
   },
   "outputs": [],
   "source": [
    "from pam import write\n",
    "from pam import read"
   ]
  },
  {
   "cell_type": "code",
   "execution_count": null,
   "metadata": {
    "ExecuteTime": {
     "end_time": "2020-08-05T00:05:12.601759Z",
     "start_time": "2020-08-05T00:05:12.567261Z"
    }
   },
   "outputs": [],
   "source": [
    "trips.tst = trips.tst.astype(int)\n",
    "trips.tet = trips.tet.astype(int)"
   ]
  },
  {
   "cell_type": "code",
   "execution_count": null,
   "metadata": {
    "ExecuteTime": {
     "end_time": "2020-08-05T07:24:16.866973Z",
     "start_time": "2020-08-05T07:24:10.222051Z"
    },
    "scrolled": true
   },
   "outputs": [],
   "source": [
    "population = read.load_travel_diary_from_to(\n",
    "    trip_diary=trips,\n",
    "    person_attributes=people,\n",
    "    hh_attributes=hhs,\n",
    "    sample_perc=.01\n",
    ")"
   ]
  },
  {
   "cell_type": "code",
   "execution_count": null,
   "metadata": {
    "ExecuteTime": {
     "end_time": "2020-08-05T07:25:57.046186Z",
     "start_time": "2020-08-05T07:25:56.883441Z"
    }
   },
   "outputs": [],
   "source": [
    "population.fix_plans()"
   ]
  },
  {
   "cell_type": "code",
   "execution_count": null,
   "metadata": {
    "ExecuteTime": {
     "end_time": "2020-08-05T07:26:02.349163Z",
     "start_time": "2020-08-05T07:26:02.322340Z"
    }
   },
   "outputs": [],
   "source": [
    "population.size"
   ]
  },
  {
   "cell_type": "code",
   "execution_count": null,
   "metadata": {
    "ExecuteTime": {
     "end_time": "2020-08-05T07:26:03.192240Z",
     "start_time": "2020-08-05T07:26:03.154177Z"
    }
   },
   "outputs": [],
   "source": [
    "population.stats"
   ]
  },
  {
   "cell_type": "code",
   "execution_count": null,
   "metadata": {
    "ExecuteTime": {
     "end_time": "2020-08-05T07:26:08.118131Z",
     "start_time": "2020-08-05T07:26:08.092812Z"
    }
   },
   "outputs": [],
   "source": [
    "from pam.plot.stats import plot_activity_times, plot_leg_times"
   ]
  },
  {
   "cell_type": "code",
   "execution_count": null,
   "metadata": {
    "ExecuteTime": {
     "end_time": "2020-08-05T07:26:13.172340Z",
     "start_time": "2020-08-05T07:26:09.368323Z"
    },
    "scrolled": false
   },
   "outputs": [],
   "source": [
    "plot_activity_times(population)"
   ]
  },
  {
   "cell_type": "code",
   "execution_count": null,
   "metadata": {
    "ExecuteTime": {
     "end_time": "2020-08-05T07:26:15.242579Z",
     "start_time": "2020-08-05T07:26:13.375293Z"
    },
    "scrolled": false
   },
   "outputs": [],
   "source": [
    "plot_leg_times(population)"
   ]
  },
  {
   "cell_type": "code",
   "execution_count": null,
   "metadata": {
    "ExecuteTime": {
     "end_time": "2020-08-05T07:26:16.531243Z",
     "start_time": "2020-08-05T07:26:15.378347Z"
    }
   },
   "outputs": [],
   "source": [
    "population.to_csv(\"~/Data/prelimDfT\")"
   ]
  },
  {
   "cell_type": "code",
   "execution_count": null,
   "metadata": {
    "ExecuteTime": {
     "end_time": "2020-08-05T07:26:19.279745Z",
     "start_time": "2020-08-05T07:26:19.253202Z"
    }
   },
   "outputs": [],
   "source": [
    "population.random_household().print()"
   ]
  },
  {
   "cell_type": "code",
   "execution_count": null,
   "metadata": {
    "ExecuteTime": {
     "end_time": "2020-08-05T07:26:21.754497Z",
     "start_time": "2020-08-05T07:26:21.528461Z"
    }
   },
   "outputs": [],
   "source": [
    "population.random_household().plot()"
   ]
  },
  {
   "cell_type": "code",
   "execution_count": null,
   "metadata": {},
   "outputs": [],
   "source": []
  }
 ],
 "metadata": {
  "kernelspec": {
   "display_name": "Python 3",
   "language": "python",
   "name": "python3"
  },
  "language_info": {
   "codemirror_mode": {
    "name": "ipython",
    "version": 3
   },
   "file_extension": ".py",
   "mimetype": "text/x-python",
   "name": "python",
   "nbconvert_exporter": "python",
   "pygments_lexer": "ipython3",
   "version": "3.7.3"
  },
  "toc": {
   "base_numbering": 1,
   "nav_menu": {},
   "number_sections": true,
   "sideBar": true,
   "skip_h1_title": true,
   "title_cell": "Table of Contents",
   "title_sidebar": "Contents",
   "toc_cell": false,
   "toc_position": {},
   "toc_section_display": true,
   "toc_window_display": true
  }
 },
 "nbformat": 4,
 "nbformat_minor": 4
}
