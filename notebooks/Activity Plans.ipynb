{
 "cells": [
  {
   "cell_type": "code",
   "execution_count": 11,
   "metadata": {
    "ExecuteTime": {
     "end_time": "2020-05-15T19:30:59.516234Z",
     "start_time": "2020-05-15T19:30:58.935992Z"
    }
   },
   "outputs": [],
   "source": [
    "import pam\n",
    "import numpy as np\n",
    "import geopandas as gpd\n",
    "from shapely.geometry import Polygon"
   ]
  },
  {
   "cell_type": "code",
   "execution_count": 12,
   "metadata": {
    "ExecuteTime": {
     "end_time": "2020-05-15T19:30:59.554842Z",
     "start_time": "2020-05-15T19:30:59.522138Z"
    }
   },
   "outputs": [],
   "source": [
    "(xmin, ymin), (xmax, ymax) = [\n",
    "    [-0.2875757, 51.5025719],  # bottom left\n",
    "    [-0.2459907, 51.5114401],  # top right\n",
    "          ]"
   ]
  },
  {
   "cell_type": "code",
   "execution_count": 34,
   "metadata": {
    "ExecuteTime": {
     "end_time": "2020-05-15T19:45:39.092968Z",
     "start_time": "2020-05-15T19:45:39.056289Z"
    }
   },
   "outputs": [],
   "source": [
    "def add_grid(xpoints, ypoints, polygons=None):\n",
    "    if not polygons:\n",
    "        polygons = []\n",
    "    for c in range(len(xpoints) - 1):\n",
    "        for r in range(len(ypoints) - 1):\n",
    "            polygons.append(\n",
    "                Polygon(\n",
    "                    [\n",
    "                        (xpoints[c], ypoints[r]),\n",
    "                        (xpoints[c+1], ypoints[r]),\n",
    "                        (xpoints[c+1], ypoints[r+1]),\n",
    "                        (xpoints[c], ypoints[r+1])\n",
    "                    ]\n",
    "                )\n",
    "            )\n",
    "    return polygons\n",
    "\n",
    "mid = (ymax + ymin) / 2\n",
    "grid = add_grid(np.linspace(xmin, xmax, 5), np.linspace(ymax, mid, 2))\n",
    "grid = add_grid(np.linspace(xmin, xmax, 4), np.linspace(mid, ymin, 2), polygons=grid)\n",
    "\n",
    "grid_df = gpd.GeoDataFrame({'geometry':grid}, index=['A','B','C','D','E','F','G'])\n",
    "# grid.to_file(\"grid.shp\")"
   ]
  },
  {
   "cell_type": "code",
   "execution_count": 35,
   "metadata": {
    "ExecuteTime": {
     "end_time": "2020-05-15T19:45:39.849946Z",
     "start_time": "2020-05-15T19:45:39.687745Z"
    }
   },
   "outputs": [
    {
     "data": {
      "text/plain": [
       "<matplotlib.axes._subplots.AxesSubplot at 0x122b58860>"
      ]
     },
     "execution_count": 35,
     "metadata": {},
     "output_type": "execute_result"
    },
    {
     "data": {
      "image/png": "[encoded data removed]",
      "text/plain": [
       "<Figure size 432x288 with 1 Axes>"
      ]
     },
     "metadata": {
      "needs_background": "light"
     },
     "output_type": "display_data"
    }
   ],
   "source": [
    "grid_df.plot()"
   ]
  },
  {
   "cell_type": "code",
   "execution_count": 36,
   "metadata": {
    "ExecuteTime": {
     "end_time": "2020-05-15T19:45:45.413669Z",
     "start_time": "2020-05-15T19:45:45.372190Z"
    }
   },
   "outputs": [
    {
     "data": {
      "text/html": [
       "<div>\n",
       "<style scoped>\n",
       "    .dataframe tbody tr th:only-of-type {\n",
       "        vertical-align: middle;\n",
       "    }\n",
       "\n",
       "    .dataframe tbody tr th {\n",
       "        vertical-align: top;\n",
       "    }\n",
       "\n",
       "    .dataframe thead th {\n",
       "        text-align: right;\n",
       "    }\n",
       "</style>\n",
       "<table border=\"1\" class=\"dataframe\">\n",
       "  <thead>\n",
       "    <tr style=\"text-align: right;\">\n",
       "      <th></th>\n",
       "      <th>geometry</th>\n",
       "    </tr>\n",
       "  </thead>\n",
       "  <tbody>\n",
       "    <tr>\n",
       "      <th>A</th>\n",
       "      <td>POLYGON ((-0.28758 51.51144, -0.27718 51.51144...</td>\n",
       "    </tr>\n",
       "    <tr>\n",
       "      <th>B</th>\n",
       "      <td>POLYGON ((-0.27718 51.51144, -0.26678 51.51144...</td>\n",
       "    </tr>\n",
       "    <tr>\n",
       "      <th>C</th>\n",
       "      <td>POLYGON ((-0.26678 51.51144, -0.25639 51.51144...</td>\n",
       "    </tr>\n",
       "    <tr>\n",
       "      <th>D</th>\n",
       "      <td>POLYGON ((-0.25639 51.51144, -0.24599 51.51144...</td>\n",
       "    </tr>\n",
       "    <tr>\n",
       "      <th>E</th>\n",
       "      <td>POLYGON ((-0.28758 51.50701, -0.27371 51.50701...</td>\n",
       "    </tr>\n",
       "    <tr>\n",
       "      <th>F</th>\n",
       "      <td>POLYGON ((-0.27371 51.50701, -0.25985 51.50701...</td>\n",
       "    </tr>\n",
       "    <tr>\n",
       "      <th>G</th>\n",
       "      <td>POLYGON ((-0.25985 51.50701, -0.24599 51.50701...</td>\n",
       "    </tr>\n",
       "  </tbody>\n",
       "</table>\n",
       "</div>"
      ],
      "text/plain": [
       "                                            geometry\n",
       "A  POLYGON ((-0.28758 51.51144, -0.27718 51.51144...\n",
       "B  POLYGON ((-0.27718 51.51144, -0.26678 51.51144...\n",
       "C  POLYGON ((-0.26678 51.51144, -0.25639 51.51144...\n",
       "D  POLYGON ((-0.25639 51.51144, -0.24599 51.51144...\n",
       "E  POLYGON ((-0.28758 51.50701, -0.27371 51.50701...\n",
       "F  POLYGON ((-0.27371 51.50701, -0.25985 51.50701...\n",
       "G  POLYGON ((-0.25985 51.50701, -0.24599 51.50701..."
      ]
     },
     "execution_count": 36,
     "metadata": {},
     "output_type": "execute_result"
    }
   ],
   "source": [
    "grid_df"
   ]
  },
  {
   "cell_type": "code",
   "execution_count": 37,
   "metadata": {
    "ExecuteTime": {
     "end_time": "2020-05-15T20:18:36.655939Z",
     "start_time": "2020-05-15T20:18:36.605441Z"
    }
   },
   "outputs": [],
   "source": [
    "from pam.core import Population, Household, Person\n",
    "from pam.activity import Plan, Activity, Leg\n",
    "from pam.utils import minutes_to_datetime as mtdt\n",
    "from pam.variables import END_OF_DAY"
   ]
  },
  {
   "cell_type": "code",
   "execution_count": 61,
   "metadata": {
    "ExecuteTime": {
     "end_time": "2020-05-16T16:44:12.798958Z",
     "start_time": "2020-05-16T16:44:12.564505Z"
    }
   },
   "outputs": [
    {
     "data": {
      "image/png": "[encoded data removed]",
      "text/plain": [
       "<Figure size 1152x216 with 1 Axes>"
      ]
     },
     "metadata": {
      "needs_background": "light"
     },
     "output_type": "display_data"
    }
   ],
   "source": [
    "Billy = Person(\n",
    "  'Billy',\n",
    "  attributes={'age': 26, 'job': 'employed', 'gender': 'female', 'key_worker': False}\n",
    ")\n",
    "\n",
    "Billy.add(\n",
    "  Activity(\n",
    "    seq=1,\n",
    "    act='home',\n",
    "    area='A',\n",
    "    start_time=mtdt(0),\n",
    "    end_time=mtdt(8 * 60)\n",
    "  )\n",
    ")\n",
    "Billy.add(\n",
    "  Leg(\n",
    "    seq=1,\n",
    "    mode='car',\n",
    "    start_area='A',\n",
    "    end_area='G',\n",
    "    start_time=mtdt(8 * 60),\n",
    "    end_time=mtdt(8 * 60 + 20)\n",
    "  )\n",
    ")\n",
    "Billy.add(\n",
    "  Activity(\n",
    "    seq=2,\n",
    "    act='work',\n",
    "    area='G',\n",
    "    start_time=mtdt(8 * 60 + 20),\n",
    "    end_time=mtdt(17 * 60)\n",
    "  )\n",
    ")\n",
    "Billy.add(\n",
    "  Leg(\n",
    "    seq=2,\n",
    "    mode='car',\n",
    "    start_area='G',\n",
    "    end_area='A',\n",
    "    start_time=mtdt(17 * 60),\n",
    "    end_time=mtdt(17 * 60 + 25)\n",
    "  )\n",
    ")\n",
    "Billy.add(\n",
    "  Activity(\n",
    "    seq=3,\n",
    "    act='home',\n",
    "    area='A',\n",
    "    start_time=mtdt(17 * 60 + 25),\n",
    "    end_time=END_OF_DAY\n",
    "  )\n",
    ")\n",
    "\n",
    "Billy.plot()"
   ]
  },
  {
   "cell_type": "code",
   "execution_count": 62,
   "metadata": {
    "ExecuteTime": {
     "end_time": "2020-05-16T16:45:13.865691Z",
     "start_time": "2020-05-16T16:45:13.297354Z"
    }
   },
   "outputs": [
    {
     "data": {
      "image/png": "[encoded data removed]",
      "text/plain": [
       "<Figure size 1152x360 with 3 Axes>"
      ]
     },
     "metadata": {
      "needs_background": "light"
     },
     "output_type": "display_data"
    }
   ],
   "source": [
    "TheSmiths = Household('smith_household')\n",
    "TheSmiths.add(Billy)\n",
    "\n",
    "Bobby = Person(\n",
    "  'Bobby',\n",
    "  attributes={'age': 8, 'job': 'education', 'gender': 'male', 'key_worker': False}\n",
    ")\n",
    "\n",
    "Bobby.add(Activity(1, 'home', 'A', start_time=mtdt(0), end_time=mtdt(8 * 60)))\n",
    "Bobby.add(Leg(1, 'walk', 'A', 'E', start_time=mtdt(8 * 60), end_time=mtdt(8 * 60 + 20)))\n",
    "Bobby.add(Activity(2, 'education', 'E', start_time=mtdt(8 * 60 + 20), end_time=mtdt(16 * 60)))\n",
    "Bobby.add(Leg(2, 'walk', 'E', 'A', start_time=mtdt(16 * 60), end_time=mtdt(16 * 60 + 20)))\n",
    "Bobby.add(Activity(3, 'home', 'A', start_time=mtdt(16 * 60 + 20), end_time=mtdt(18 * 60)))\n",
    "Bobby.add(Leg(3, 'car', 'A', 'C', start_time=mtdt(18 * 60), end_time=mtdt(18 * 60 + 20)))\n",
    "Bobby.add(Activity(4, 'shop', 'B', start_time=mtdt(18 * 60 + 20), end_time=mtdt(18 * 60 + 50)))\n",
    "Bobby.add(Leg(4, 'car', 'B', 'B', start_time=mtdt(18 * 60 + 50), end_time=mtdt(19 * 60)))\n",
    "Bobby.add(Activity(5, 'shop_food', 'B', start_time=mtdt(19 * 60), end_time=mtdt(19 * 60 + 50)))\n",
    "Bobby.add(Leg(5, 'car', 'B', 'A', start_time=mtdt(19 * 60 + 50), end_time=mtdt(20 * 60 + 10)))\n",
    "Bobby.add(Activity(6, 'home', 'A', start_time=mtdt(20 * 60 + 10), end_time=END_OF_DAY))\n",
    "\n",
    "Bradly = Person('Bradly', attributes={'age': 37, 'job': 'work', 'gender': 'male', 'key_worker': True})\n",
    "\n",
    "Bradly.add(Activity(1, 'home', 'A', start_time=mtdt(0), end_time=mtdt(8 * 60)))\n",
    "Bradly.add(Leg(1, 'walk', 'A', 'E', start_time=mtdt(8 * 60), end_time=mtdt(8 * 60 + 20)))\n",
    "Bradly.add(Activity(2, 'escort', 'E', start_time=mtdt(8 * 60 + 20), end_time=mtdt(8 * 60 + 30)))\n",
    "Bradly.add(Leg(2, 'pt', 'E', 'C', start_time=mtdt(8 * 60 + 30), end_time=mtdt(9 * 60)))\n",
    "Bradly.add(Activity(3, 'work', 'C', start_time=mtdt(9 * 60), end_time=mtdt(14 * 60)))\n",
    "Bradly.add(Leg(3, 'walk', 'C', 'C', start_time=mtdt(14 * 60), end_time=mtdt(14 * 60 + 20)))\n",
    "Bradly.add(Activity(4, 'leisure', 'C', start_time=mtdt(14 * 60 + 20), end_time=mtdt(15 * 60 + 30)))\n",
    "Bradly.add(Leg(4, 'pt', 'C', 'E', start_time=mtdt(15 * 60 + 30), end_time=mtdt(16 * 60 - 10)))\n",
    "Bradly.add(Activity(5, 'escort', 'E', start_time=mtdt(16 * 60 - 10), end_time=mtdt(16 * 60)))\n",
    "Bradly.add(Leg(5, 'walk', 'E', 'A', start_time=mtdt(16 * 60), end_time=mtdt(16 * 60 + 20)))\n",
    "Bradly.add(Activity(6, 'home', 'A', start_time=mtdt(16 * 60 + 20), end_time=mtdt(18 * 60)))\n",
    "Bradly.add(Leg(6, 'car', 'A', 'B', start_time=mtdt(18 * 60), end_time=mtdt(18 * 60 + 20)))\n",
    "Bradly.add(Activity(7, 'shop', 'B', start_time=mtdt(18 * 60 + 20), end_time=mtdt(18 * 60 + 50)))\n",
    "Bradly.add(Leg(7, 'car', 'B', 'B', start_time=mtdt(18 * 60 + 50), end_time=mtdt(19 * 60)))\n",
    "Bradly.add(Activity(8, 'shop_food', 'C', start_time=mtdt(19 * 60), end_time=mtdt(19 * 60 + 50)))\n",
    "Bradly.add(Leg(8, 'car', 'B', 'A', start_time=mtdt(19 * 60 + 50), end_time=mtdt(20 * 60 + 10)))\n",
    "Bradly.add(Activity(9, 'home', 'A', start_time=mtdt(20 * 60 + 10), end_time=END_OF_DAY))\n",
    "\n",
    "for person in [Bobby, Bradly]:\n",
    "    TheSmiths.add(person)\n",
    "    \n",
    "TheSmiths.plot()"
   ]
  },
  {
   "cell_type": "code",
   "execution_count": null,
   "metadata": {},
   "outputs": [],
   "source": []
  }
 ],
 "metadata": {
  "kernelspec": {
   "display_name": "Python 3",
   "language": "python",
   "name": "python3"
  },
  "language_info": {
   "codemirror_mode": {
    "name": "ipython",
    "version": 3
   },
   "file_extension": ".py",
   "mimetype": "text/x-python",
   "name": "python",
   "nbconvert_exporter": "python",
   "pygments_lexer": "ipython3",
   "version": "3.7.3"
  },
  "toc": {
   "base_numbering": 1,
   "nav_menu": {},
   "number_sections": true,
   "sideBar": true,
   "skip_h1_title": false,
   "title_cell": "Table of Contents",
   "title_sidebar": "Contents",
   "toc_cell": false,
   "toc_position": {},
   "toc_section_display": true,
   "toc_window_display": false
  }
 },
 "nbformat": 4,
 "nbformat_minor": 4
}
